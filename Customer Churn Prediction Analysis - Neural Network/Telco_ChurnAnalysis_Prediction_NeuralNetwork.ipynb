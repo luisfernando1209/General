{
  "nbformat": 4,
  "nbformat_minor": 0,
  "metadata": {
    "colab": {
      "name": "h8dsft_Milestone1P2_Luis_Fernando.ipynb",
      "provenance": [],
      "collapsed_sections": []
    },
    "kernelspec": {
      "name": "python3",
      "display_name": "Python 3"
    },
    "language_info": {
      "name": "python"
    },
    "accelerator": "GPU"
  },
  "cells": [
    {
      "cell_type": "markdown",
      "source": [
        "# 1. Perkenalan\n",
        "\n",
        "Bab pengenalan harus diisi dengan identitas, gambaran besar dataset yang digunakan, dan objective yang ingin dicapai.\n",
        "\n",
        "Luis Fernando - FTDS010 - Milestone 1 Phase 2\n",
        "\n",
        "Objective yang ingin dicapai :\n",
        "- Mampu memahami konsep Artificial Neural Network.\n",
        "- Mampu mempersiapkan data untuk digunakan dalam model Artificial Neural - Network.\n",
        "- Mampu mengimplementasikan Artificial Neural Network dengan data yang diberikan.\n",
        "- Mampu menganalisis dan menjelaskan layer yang dibuat"
      ],
      "metadata": {
        "id": "u2Wnr5hrVPtJ"
      }
    },
    {
      "cell_type": "markdown",
      "source": [
        "# 2. Import Libraries\n",
        "\n",
        "Cell pertama pada notebook harus berisi dan hanya berisi semua library yang digunakan dalam project."
      ],
      "metadata": {
        "id": "v_iCYa5LWgST"
      }
    },
    {
      "cell_type": "code",
      "source": [
        "import pandas as pd\n",
        "import numpy as np\n",
        "from matplotlib import pyplot as plt\n",
        "import seaborn as sns\n",
        "from sklearn.preprocessing import StandardScaler,MinMaxScaler,OrdinalEncoder,LabelEncoder,OneHotEncoder\n",
        "from sklearn.impute import SimpleImputer\n",
        "from sklearn.compose import ColumnTransformer\n",
        "from sklearn.model_selection import train_test_split\n",
        "from sklearn.ensemble import RandomForestClassifier\n",
        "from tensorflow.keras.models import Sequential,Model\n",
        "from tensorflow.keras.layers import Dense,BatchNormalization,Dropout,Input\n",
        "from tensorflow.keras import initializers\n",
        "from sklearn.metrics import classification_report,roc_auc_score\n",
        "from tensorflow.keras import backend\n",
        "from tensorflow.keras.initializers import he_normal,he_uniform\n",
        "from imblearn.pipeline import Pipeline\n",
        "from tensorflow.keras import regularizers\n",
        "from tensorflow.data import Dataset\n",
        "from imblearn.over_sampling import SMOTENC"
      ],
      "metadata": {
        "id": "WTrfM9nZWlwo"
      },
      "execution_count": 3,
      "outputs": []
    },
    {
      "cell_type": "markdown",
      "source": [
        "# 3. Data Loading\n",
        "\n",
        "Bagian ini berisi proses penyiapan data sebelum dilakukan eksplorasi data lebih lanjut. Proses Data Loading dapat berupa memberi nama baru untuk setiap kolom, mengecek ukuran dataset, dll."
      ],
      "metadata": {
        "id": "6XNh2ngrXlvr"
      }
    },
    {
      "cell_type": "code",
      "source": [
        "df = pd.read_csv(\"WA_Fn-UseC_-Telco-Customer-Churn.csv\")"
      ],
      "metadata": {
        "id": "qOOkOJR_YwXG"
      },
      "execution_count": 4,
      "outputs": []
    },
    {
      "cell_type": "code",
      "source": [
        "df.head()"
      ],
      "metadata": {
        "colab": {
          "base_uri": "https://localhost:8080/",
          "height": 386
        },
        "id": "arp35N8BZAyn",
        "outputId": "b6af9241-16df-4eaf-d704-60ed6969628c"
      },
      "execution_count": 5,
      "outputs": [
        {
          "output_type": "execute_result",
          "data": {
            "text/plain": [
              "   customerID  gender  SeniorCitizen Partner Dependents  tenure PhoneService  \\\n",
              "0  7590-VHVEG  Female              0     Yes         No       1           No   \n",
              "1  5575-GNVDE    Male              0      No         No      34          Yes   \n",
              "2  3668-QPYBK    Male              0      No         No       2          Yes   \n",
              "3  7795-CFOCW    Male              0      No         No      45           No   \n",
              "4  9237-HQITU  Female              0      No         No       2          Yes   \n",
              "\n",
              "      MultipleLines InternetService OnlineSecurity  ... DeviceProtection  \\\n",
              "0  No phone service             DSL             No  ...               No   \n",
              "1                No             DSL            Yes  ...              Yes   \n",
              "2                No             DSL            Yes  ...               No   \n",
              "3  No phone service             DSL            Yes  ...              Yes   \n",
              "4                No     Fiber optic             No  ...               No   \n",
              "\n",
              "  TechSupport StreamingTV StreamingMovies        Contract PaperlessBilling  \\\n",
              "0          No          No              No  Month-to-month              Yes   \n",
              "1          No          No              No        One year               No   \n",
              "2          No          No              No  Month-to-month              Yes   \n",
              "3         Yes          No              No        One year               No   \n",
              "4          No          No              No  Month-to-month              Yes   \n",
              "\n",
              "               PaymentMethod MonthlyCharges  TotalCharges Churn  \n",
              "0           Electronic check          29.85         29.85    No  \n",
              "1               Mailed check          56.95        1889.5    No  \n",
              "2               Mailed check          53.85        108.15   Yes  \n",
              "3  Bank transfer (automatic)          42.30       1840.75    No  \n",
              "4           Electronic check          70.70        151.65   Yes  \n",
              "\n",
              "[5 rows x 21 columns]"
            ],
            "text/html": [
              "\n",
              "  <div id=\"df-1a2102c3-f047-4dba-8590-2cbd74ad7fe6\">\n",
              "    <div class=\"colab-df-container\">\n",
              "      <div>\n",
              "<style scoped>\n",
              "    .dataframe tbody tr th:only-of-type {\n",
              "        vertical-align: middle;\n",
              "    }\n",
              "\n",
              "    .dataframe tbody tr th {\n",
              "        vertical-align: top;\n",
              "    }\n",
              "\n",
              "    .dataframe thead th {\n",
              "        text-align: right;\n",
              "    }\n",
              "</style>\n",
              "<table border=\"1\" class=\"dataframe\">\n",
              "  <thead>\n",
              "    <tr style=\"text-align: right;\">\n",
              "      <th></th>\n",
              "      <th>customerID</th>\n",
              "      <th>gender</th>\n",
              "      <th>SeniorCitizen</th>\n",
              "      <th>Partner</th>\n",
              "      <th>Dependents</th>\n",
              "      <th>tenure</th>\n",
              "      <th>PhoneService</th>\n",
              "      <th>MultipleLines</th>\n",
              "      <th>InternetService</th>\n",
              "      <th>OnlineSecurity</th>\n",
              "      <th>...</th>\n",
              "      <th>DeviceProtection</th>\n",
              "      <th>TechSupport</th>\n",
              "      <th>StreamingTV</th>\n",
              "      <th>StreamingMovies</th>\n",
              "      <th>Contract</th>\n",
              "      <th>PaperlessBilling</th>\n",
              "      <th>PaymentMethod</th>\n",
              "      <th>MonthlyCharges</th>\n",
              "      <th>TotalCharges</th>\n",
              "      <th>Churn</th>\n",
              "    </tr>\n",
              "  </thead>\n",
              "  <tbody>\n",
              "    <tr>\n",
              "      <th>0</th>\n",
              "      <td>7590-VHVEG</td>\n",
              "      <td>Female</td>\n",
              "      <td>0</td>\n",
              "      <td>Yes</td>\n",
              "      <td>No</td>\n",
              "      <td>1</td>\n",
              "      <td>No</td>\n",
              "      <td>No phone service</td>\n",
              "      <td>DSL</td>\n",
              "      <td>No</td>\n",
              "      <td>...</td>\n",
              "      <td>No</td>\n",
              "      <td>No</td>\n",
              "      <td>No</td>\n",
              "      <td>No</td>\n",
              "      <td>Month-to-month</td>\n",
              "      <td>Yes</td>\n",
              "      <td>Electronic check</td>\n",
              "      <td>29.85</td>\n",
              "      <td>29.85</td>\n",
              "      <td>No</td>\n",
              "    </tr>\n",
              "    <tr>\n",
              "      <th>1</th>\n",
              "      <td>5575-GNVDE</td>\n",
              "      <td>Male</td>\n",
              "      <td>0</td>\n",
              "      <td>No</td>\n",
              "      <td>No</td>\n",
              "      <td>34</td>\n",
              "      <td>Yes</td>\n",
              "      <td>No</td>\n",
              "      <td>DSL</td>\n",
              "      <td>Yes</td>\n",
              "      <td>...</td>\n",
              "      <td>Yes</td>\n",
              "      <td>No</td>\n",
              "      <td>No</td>\n",
              "      <td>No</td>\n",
              "      <td>One year</td>\n",
              "      <td>No</td>\n",
              "      <td>Mailed check</td>\n",
              "      <td>56.95</td>\n",
              "      <td>1889.5</td>\n",
              "      <td>No</td>\n",
              "    </tr>\n",
              "    <tr>\n",
              "      <th>2</th>\n",
              "      <td>3668-QPYBK</td>\n",
              "      <td>Male</td>\n",
              "      <td>0</td>\n",
              "      <td>No</td>\n",
              "      <td>No</td>\n",
              "      <td>2</td>\n",
              "      <td>Yes</td>\n",
              "      <td>No</td>\n",
              "      <td>DSL</td>\n",
              "      <td>Yes</td>\n",
              "      <td>...</td>\n",
              "      <td>No</td>\n",
              "      <td>No</td>\n",
              "      <td>No</td>\n",
              "      <td>No</td>\n",
              "      <td>Month-to-month</td>\n",
              "      <td>Yes</td>\n",
              "      <td>Mailed check</td>\n",
              "      <td>53.85</td>\n",
              "      <td>108.15</td>\n",
              "      <td>Yes</td>\n",
              "    </tr>\n",
              "    <tr>\n",
              "      <th>3</th>\n",
              "      <td>7795-CFOCW</td>\n",
              "      <td>Male</td>\n",
              "      <td>0</td>\n",
              "      <td>No</td>\n",
              "      <td>No</td>\n",
              "      <td>45</td>\n",
              "      <td>No</td>\n",
              "      <td>No phone service</td>\n",
              "      <td>DSL</td>\n",
              "      <td>Yes</td>\n",
              "      <td>...</td>\n",
              "      <td>Yes</td>\n",
              "      <td>Yes</td>\n",
              "      <td>No</td>\n",
              "      <td>No</td>\n",
              "      <td>One year</td>\n",
              "      <td>No</td>\n",
              "      <td>Bank transfer (automatic)</td>\n",
              "      <td>42.30</td>\n",
              "      <td>1840.75</td>\n",
              "      <td>No</td>\n",
              "    </tr>\n",
              "    <tr>\n",
              "      <th>4</th>\n",
              "      <td>9237-HQITU</td>\n",
              "      <td>Female</td>\n",
              "      <td>0</td>\n",
              "      <td>No</td>\n",
              "      <td>No</td>\n",
              "      <td>2</td>\n",
              "      <td>Yes</td>\n",
              "      <td>No</td>\n",
              "      <td>Fiber optic</td>\n",
              "      <td>No</td>\n",
              "      <td>...</td>\n",
              "      <td>No</td>\n",
              "      <td>No</td>\n",
              "      <td>No</td>\n",
              "      <td>No</td>\n",
              "      <td>Month-to-month</td>\n",
              "      <td>Yes</td>\n",
              "      <td>Electronic check</td>\n",
              "      <td>70.70</td>\n",
              "      <td>151.65</td>\n",
              "      <td>Yes</td>\n",
              "    </tr>\n",
              "  </tbody>\n",
              "</table>\n",
              "<p>5 rows × 21 columns</p>\n",
              "</div>\n",
              "      <button class=\"colab-df-convert\" onclick=\"convertToInteractive('df-1a2102c3-f047-4dba-8590-2cbd74ad7fe6')\"\n",
              "              title=\"Convert this dataframe to an interactive table.\"\n",
              "              style=\"display:none;\">\n",
              "        \n",
              "  <svg xmlns=\"http://www.w3.org/2000/svg\" height=\"24px\"viewBox=\"0 0 24 24\"\n",
              "       width=\"24px\">\n",
              "    <path d=\"M0 0h24v24H0V0z\" fill=\"none\"/>\n",
              "    <path d=\"M18.56 5.44l.94 2.06.94-2.06 2.06-.94-2.06-.94-.94-2.06-.94 2.06-2.06.94zm-11 1L8.5 8.5l.94-2.06 2.06-.94-2.06-.94L8.5 2.5l-.94 2.06-2.06.94zm10 10l.94 2.06.94-2.06 2.06-.94-2.06-.94-.94-2.06-.94 2.06-2.06.94z\"/><path d=\"M17.41 7.96l-1.37-1.37c-.4-.4-.92-.59-1.43-.59-.52 0-1.04.2-1.43.59L10.3 9.45l-7.72 7.72c-.78.78-.78 2.05 0 2.83L4 21.41c.39.39.9.59 1.41.59.51 0 1.02-.2 1.41-.59l7.78-7.78 2.81-2.81c.8-.78.8-2.07 0-2.86zM5.41 20L4 18.59l7.72-7.72 1.47 1.35L5.41 20z\"/>\n",
              "  </svg>\n",
              "      </button>\n",
              "      \n",
              "  <style>\n",
              "    .colab-df-container {\n",
              "      display:flex;\n",
              "      flex-wrap:wrap;\n",
              "      gap: 12px;\n",
              "    }\n",
              "\n",
              "    .colab-df-convert {\n",
              "      background-color: #E8F0FE;\n",
              "      border: none;\n",
              "      border-radius: 50%;\n",
              "      cursor: pointer;\n",
              "      display: none;\n",
              "      fill: #1967D2;\n",
              "      height: 32px;\n",
              "      padding: 0 0 0 0;\n",
              "      width: 32px;\n",
              "    }\n",
              "\n",
              "    .colab-df-convert:hover {\n",
              "      background-color: #E2EBFA;\n",
              "      box-shadow: 0px 1px 2px rgba(60, 64, 67, 0.3), 0px 1px 3px 1px rgba(60, 64, 67, 0.15);\n",
              "      fill: #174EA6;\n",
              "    }\n",
              "\n",
              "    [theme=dark] .colab-df-convert {\n",
              "      background-color: #3B4455;\n",
              "      fill: #D2E3FC;\n",
              "    }\n",
              "\n",
              "    [theme=dark] .colab-df-convert:hover {\n",
              "      background-color: #434B5C;\n",
              "      box-shadow: 0px 1px 3px 1px rgba(0, 0, 0, 0.15);\n",
              "      filter: drop-shadow(0px 1px 2px rgba(0, 0, 0, 0.3));\n",
              "      fill: #FFFFFF;\n",
              "    }\n",
              "  </style>\n",
              "\n",
              "      <script>\n",
              "        const buttonEl =\n",
              "          document.querySelector('#df-1a2102c3-f047-4dba-8590-2cbd74ad7fe6 button.colab-df-convert');\n",
              "        buttonEl.style.display =\n",
              "          google.colab.kernel.accessAllowed ? 'block' : 'none';\n",
              "\n",
              "        async function convertToInteractive(key) {\n",
              "          const element = document.querySelector('#df-1a2102c3-f047-4dba-8590-2cbd74ad7fe6');\n",
              "          const dataTable =\n",
              "            await google.colab.kernel.invokeFunction('convertToInteractive',\n",
              "                                                     [key], {});\n",
              "          if (!dataTable) return;\n",
              "\n",
              "          const docLinkHtml = 'Like what you see? Visit the ' +\n",
              "            '<a target=\"_blank\" href=https://colab.research.google.com/notebooks/data_table.ipynb>data table notebook</a>'\n",
              "            + ' to learn more about interactive tables.';\n",
              "          element.innerHTML = '';\n",
              "          dataTable['output_type'] = 'display_data';\n",
              "          await google.colab.output.renderOutput(dataTable, element);\n",
              "          const docLink = document.createElement('div');\n",
              "          docLink.innerHTML = docLinkHtml;\n",
              "          element.appendChild(docLink);\n",
              "        }\n",
              "      </script>\n",
              "    </div>\n",
              "  </div>\n",
              "  "
            ]
          },
          "metadata": {},
          "execution_count": 5
        }
      ]
    },
    {
      "cell_type": "markdown",
      "source": [
        "Ada kolom customerID yang mungkin akan dieliminasi, karena terlihat bahwa korelasi customerID yang tidak ada dengan hasil / target column nya"
      ],
      "metadata": {
        "id": "jzGZek-iztq0"
      }
    },
    {
      "cell_type": "code",
      "source": [
        "df.info()"
      ],
      "metadata": {
        "colab": {
          "base_uri": "https://localhost:8080/"
        },
        "id": "CyIrHNcyZD8S",
        "outputId": "dd86fb26-bf29-47cd-bec3-413f90ab61a9"
      },
      "execution_count": 6,
      "outputs": [
        {
          "output_type": "stream",
          "name": "stdout",
          "text": [
            "<class 'pandas.core.frame.DataFrame'>\n",
            "RangeIndex: 7043 entries, 0 to 7042\n",
            "Data columns (total 21 columns):\n",
            " #   Column            Non-Null Count  Dtype  \n",
            "---  ------            --------------  -----  \n",
            " 0   customerID        7043 non-null   object \n",
            " 1   gender            7043 non-null   object \n",
            " 2   SeniorCitizen     7043 non-null   int64  \n",
            " 3   Partner           7043 non-null   object \n",
            " 4   Dependents        7043 non-null   object \n",
            " 5   tenure            7043 non-null   int64  \n",
            " 6   PhoneService      7043 non-null   object \n",
            " 7   MultipleLines     7043 non-null   object \n",
            " 8   InternetService   7043 non-null   object \n",
            " 9   OnlineSecurity    7043 non-null   object \n",
            " 10  OnlineBackup      7043 non-null   object \n",
            " 11  DeviceProtection  7043 non-null   object \n",
            " 12  TechSupport       7043 non-null   object \n",
            " 13  StreamingTV       7043 non-null   object \n",
            " 14  StreamingMovies   7043 non-null   object \n",
            " 15  Contract          7043 non-null   object \n",
            " 16  PaperlessBilling  7043 non-null   object \n",
            " 17  PaymentMethod     7043 non-null   object \n",
            " 18  MonthlyCharges    7043 non-null   float64\n",
            " 19  TotalCharges      7043 non-null   object \n",
            " 20  Churn             7043 non-null   object \n",
            "dtypes: float64(1), int64(2), object(18)\n",
            "memory usage: 1.1+ MB\n"
          ]
        }
      ]
    },
    {
      "cell_type": "markdown",
      "source": [
        "Pada tampilan di atas terlihat bahwa TotalCharges dianggap sebagai tipe data object, padahal secara tampilan seharusnya tipedatanya adalah float, sehingga akan kita convert terlebih dahulu untuk TotalCharges ke dari object ke float\n",
        "\n",
        "Namun , saat saya mencoba melihat kondisi data TotalCharges, ternyata ada 11 data yang TotalCharges nya berbentuk string ' '. Sehingga, pada kasus ini, akan Ada 2 cara yang dapat dilakukan : \n",
        "1. Mereplace string ' ' dengan menggunakan NaN, kemudian nanti dapat diimpute menggunakan simpleImputer(median atau mean)\n",
        "2. Menghapus data yang mengandung ' ' tersebut.\n",
        "\n",
        "Pada kasus ini, saya akan coba fill terlebih dahulu kekosongan pada data tersebut menggunakan NaN , kemudian baru akan saya impute sesuai dengan distribusi datanya, jika skew menggunakan median , jika normal menggunakan mean"
      ],
      "metadata": {
        "id": "LlsnEuk6NGUI"
      }
    },
    {
      "cell_type": "code",
      "source": [
        "df.loc[df['TotalCharges']==' ','TotalCharges'] = np.nan"
      ],
      "metadata": {
        "id": "T0_7YIo9NTM7"
      },
      "execution_count": 7,
      "outputs": []
    },
    {
      "cell_type": "markdown",
      "source": [
        "Setelah melakukan convert data dari yang sebelumnya mengandung string ' ' menjadi nan, sekarang dapat kita convert tipe data kolom TotalCharges menjadi float"
      ],
      "metadata": {
        "id": "jxVt4UqbQ2Iy"
      }
    },
    {
      "cell_type": "code",
      "source": [
        "df['TotalCharges'] = pd.to_numeric(df['TotalCharges'])"
      ],
      "metadata": {
        "id": "5ULAVOEqQ9uJ"
      },
      "execution_count": 8,
      "outputs": []
    },
    {
      "cell_type": "code",
      "source": [
        "df['TotalCharges'].dtypes"
      ],
      "metadata": {
        "colab": {
          "base_uri": "https://localhost:8080/"
        },
        "id": "vyq0B8uNRKV8",
        "outputId": "389ac191-7461-40f8-98c8-d1cbf23d8ad4"
      },
      "execution_count": 9,
      "outputs": [
        {
          "output_type": "execute_result",
          "data": {
            "text/plain": [
              "dtype('float64')"
            ]
          },
          "metadata": {},
          "execution_count": 9
        }
      ]
    },
    {
      "cell_type": "markdown",
      "source": [
        "Sekarang, untuk 'TotalCharges' telah berubah tipe data dari object menjadi float. Kita bisa lanjut ke tahapan selanjutnya"
      ],
      "metadata": {
        "id": "he2LtHZBRMw1"
      }
    },
    {
      "cell_type": "code",
      "source": [
        "df.info()"
      ],
      "metadata": {
        "colab": {
          "base_uri": "https://localhost:8080/"
        },
        "id": "FWtwqjotcEGN",
        "outputId": "14bedc43-812b-41ea-e9b7-5c261f9bdfa7"
      },
      "execution_count": 10,
      "outputs": [
        {
          "output_type": "stream",
          "name": "stdout",
          "text": [
            "<class 'pandas.core.frame.DataFrame'>\n",
            "RangeIndex: 7043 entries, 0 to 7042\n",
            "Data columns (total 21 columns):\n",
            " #   Column            Non-Null Count  Dtype  \n",
            "---  ------            --------------  -----  \n",
            " 0   customerID        7043 non-null   object \n",
            " 1   gender            7043 non-null   object \n",
            " 2   SeniorCitizen     7043 non-null   int64  \n",
            " 3   Partner           7043 non-null   object \n",
            " 4   Dependents        7043 non-null   object \n",
            " 5   tenure            7043 non-null   int64  \n",
            " 6   PhoneService      7043 non-null   object \n",
            " 7   MultipleLines     7043 non-null   object \n",
            " 8   InternetService   7043 non-null   object \n",
            " 9   OnlineSecurity    7043 non-null   object \n",
            " 10  OnlineBackup      7043 non-null   object \n",
            " 11  DeviceProtection  7043 non-null   object \n",
            " 12  TechSupport       7043 non-null   object \n",
            " 13  StreamingTV       7043 non-null   object \n",
            " 14  StreamingMovies   7043 non-null   object \n",
            " 15  Contract          7043 non-null   object \n",
            " 16  PaperlessBilling  7043 non-null   object \n",
            " 17  PaymentMethod     7043 non-null   object \n",
            " 18  MonthlyCharges    7043 non-null   float64\n",
            " 19  TotalCharges      7032 non-null   float64\n",
            " 20  Churn             7043 non-null   object \n",
            "dtypes: float64(2), int64(2), object(17)\n",
            "memory usage: 1.1+ MB\n"
          ]
        }
      ]
    },
    {
      "cell_type": "markdown",
      "source": [
        "Dari data di atas dapat dilihat bahwa kebanyakan data adalah bertipe data object, kemudian juga ada data null pada TotalCharges sejumlah 11. Sehingga, pada data yang nan ini akan kita lakukan imputing, besar kemungkinan menggunakan simpleimputer dengan strategy mean / median.\n",
        "\n",
        "Selanjutnya kita lihat apa saja nilai unique masing - masing kolom untuk dapat melihat secara sekilas apakah data tersebut bertipe data kategorik atau numerik"
      ],
      "metadata": {
        "id": "Vo2HL0OdBji6"
      }
    },
    {
      "cell_type": "code",
      "source": [
        "for cat_col in df.select_dtypes(include=object).columns.tolist():\n",
        "  print(cat_col)\n",
        "  print(df[cat_col].unique())"
      ],
      "metadata": {
        "colab": {
          "base_uri": "https://localhost:8080/"
        },
        "id": "qbxWNPpGzZVo",
        "outputId": "0c60a2a1-2a8e-41f1-dcd4-2354c496fd42"
      },
      "execution_count": 11,
      "outputs": [
        {
          "output_type": "stream",
          "name": "stdout",
          "text": [
            "customerID\n",
            "['7590-VHVEG' '5575-GNVDE' '3668-QPYBK' ... '4801-JZAZL' '8361-LTMKD'\n",
            " '3186-AJIEK']\n",
            "gender\n",
            "['Female' 'Male']\n",
            "Partner\n",
            "['Yes' 'No']\n",
            "Dependents\n",
            "['No' 'Yes']\n",
            "PhoneService\n",
            "['No' 'Yes']\n",
            "MultipleLines\n",
            "['No phone service' 'No' 'Yes']\n",
            "InternetService\n",
            "['DSL' 'Fiber optic' 'No']\n",
            "OnlineSecurity\n",
            "['No' 'Yes' 'No internet service']\n",
            "OnlineBackup\n",
            "['Yes' 'No' 'No internet service']\n",
            "DeviceProtection\n",
            "['No' 'Yes' 'No internet service']\n",
            "TechSupport\n",
            "['No' 'Yes' 'No internet service']\n",
            "StreamingTV\n",
            "['No' 'Yes' 'No internet service']\n",
            "StreamingMovies\n",
            "['No' 'Yes' 'No internet service']\n",
            "Contract\n",
            "['Month-to-month' 'One year' 'Two year']\n",
            "PaperlessBilling\n",
            "['Yes' 'No']\n",
            "PaymentMethod\n",
            "['Electronic check' 'Mailed check' 'Bank transfer (automatic)'\n",
            " 'Credit card (automatic)']\n",
            "Churn\n",
            "['No' 'Yes']\n"
          ]
        }
      ]
    },
    {
      "cell_type": "code",
      "source": [
        "df.describe()"
      ],
      "metadata": {
        "colab": {
          "base_uri": "https://localhost:8080/",
          "height": 300
        },
        "id": "WYmH5GKYZG04",
        "outputId": "62d859ef-53ae-40cb-ee17-528971d9876c"
      },
      "execution_count": 12,
      "outputs": [
        {
          "output_type": "execute_result",
          "data": {
            "text/plain": [
              "       SeniorCitizen       tenure  MonthlyCharges  TotalCharges\n",
              "count    7043.000000  7043.000000     7043.000000   7032.000000\n",
              "mean        0.162147    32.371149       64.761692   2283.300441\n",
              "std         0.368612    24.559481       30.090047   2266.771362\n",
              "min         0.000000     0.000000       18.250000     18.800000\n",
              "25%         0.000000     9.000000       35.500000    401.450000\n",
              "50%         0.000000    29.000000       70.350000   1397.475000\n",
              "75%         0.000000    55.000000       89.850000   3794.737500\n",
              "max         1.000000    72.000000      118.750000   8684.800000"
            ],
            "text/html": [
              "\n",
              "  <div id=\"df-48c2f2d7-e9d4-49b9-99a4-b0365504ca58\">\n",
              "    <div class=\"colab-df-container\">\n",
              "      <div>\n",
              "<style scoped>\n",
              "    .dataframe tbody tr th:only-of-type {\n",
              "        vertical-align: middle;\n",
              "    }\n",
              "\n",
              "    .dataframe tbody tr th {\n",
              "        vertical-align: top;\n",
              "    }\n",
              "\n",
              "    .dataframe thead th {\n",
              "        text-align: right;\n",
              "    }\n",
              "</style>\n",
              "<table border=\"1\" class=\"dataframe\">\n",
              "  <thead>\n",
              "    <tr style=\"text-align: right;\">\n",
              "      <th></th>\n",
              "      <th>SeniorCitizen</th>\n",
              "      <th>tenure</th>\n",
              "      <th>MonthlyCharges</th>\n",
              "      <th>TotalCharges</th>\n",
              "    </tr>\n",
              "  </thead>\n",
              "  <tbody>\n",
              "    <tr>\n",
              "      <th>count</th>\n",
              "      <td>7043.000000</td>\n",
              "      <td>7043.000000</td>\n",
              "      <td>7043.000000</td>\n",
              "      <td>7032.000000</td>\n",
              "    </tr>\n",
              "    <tr>\n",
              "      <th>mean</th>\n",
              "      <td>0.162147</td>\n",
              "      <td>32.371149</td>\n",
              "      <td>64.761692</td>\n",
              "      <td>2283.300441</td>\n",
              "    </tr>\n",
              "    <tr>\n",
              "      <th>std</th>\n",
              "      <td>0.368612</td>\n",
              "      <td>24.559481</td>\n",
              "      <td>30.090047</td>\n",
              "      <td>2266.771362</td>\n",
              "    </tr>\n",
              "    <tr>\n",
              "      <th>min</th>\n",
              "      <td>0.000000</td>\n",
              "      <td>0.000000</td>\n",
              "      <td>18.250000</td>\n",
              "      <td>18.800000</td>\n",
              "    </tr>\n",
              "    <tr>\n",
              "      <th>25%</th>\n",
              "      <td>0.000000</td>\n",
              "      <td>9.000000</td>\n",
              "      <td>35.500000</td>\n",
              "      <td>401.450000</td>\n",
              "    </tr>\n",
              "    <tr>\n",
              "      <th>50%</th>\n",
              "      <td>0.000000</td>\n",
              "      <td>29.000000</td>\n",
              "      <td>70.350000</td>\n",
              "      <td>1397.475000</td>\n",
              "    </tr>\n",
              "    <tr>\n",
              "      <th>75%</th>\n",
              "      <td>0.000000</td>\n",
              "      <td>55.000000</td>\n",
              "      <td>89.850000</td>\n",
              "      <td>3794.737500</td>\n",
              "    </tr>\n",
              "    <tr>\n",
              "      <th>max</th>\n",
              "      <td>1.000000</td>\n",
              "      <td>72.000000</td>\n",
              "      <td>118.750000</td>\n",
              "      <td>8684.800000</td>\n",
              "    </tr>\n",
              "  </tbody>\n",
              "</table>\n",
              "</div>\n",
              "      <button class=\"colab-df-convert\" onclick=\"convertToInteractive('df-48c2f2d7-e9d4-49b9-99a4-b0365504ca58')\"\n",
              "              title=\"Convert this dataframe to an interactive table.\"\n",
              "              style=\"display:none;\">\n",
              "        \n",
              "  <svg xmlns=\"http://www.w3.org/2000/svg\" height=\"24px\"viewBox=\"0 0 24 24\"\n",
              "       width=\"24px\">\n",
              "    <path d=\"M0 0h24v24H0V0z\" fill=\"none\"/>\n",
              "    <path d=\"M18.56 5.44l.94 2.06.94-2.06 2.06-.94-2.06-.94-.94-2.06-.94 2.06-2.06.94zm-11 1L8.5 8.5l.94-2.06 2.06-.94-2.06-.94L8.5 2.5l-.94 2.06-2.06.94zm10 10l.94 2.06.94-2.06 2.06-.94-2.06-.94-.94-2.06-.94 2.06-2.06.94z\"/><path d=\"M17.41 7.96l-1.37-1.37c-.4-.4-.92-.59-1.43-.59-.52 0-1.04.2-1.43.59L10.3 9.45l-7.72 7.72c-.78.78-.78 2.05 0 2.83L4 21.41c.39.39.9.59 1.41.59.51 0 1.02-.2 1.41-.59l7.78-7.78 2.81-2.81c.8-.78.8-2.07 0-2.86zM5.41 20L4 18.59l7.72-7.72 1.47 1.35L5.41 20z\"/>\n",
              "  </svg>\n",
              "      </button>\n",
              "      \n",
              "  <style>\n",
              "    .colab-df-container {\n",
              "      display:flex;\n",
              "      flex-wrap:wrap;\n",
              "      gap: 12px;\n",
              "    }\n",
              "\n",
              "    .colab-df-convert {\n",
              "      background-color: #E8F0FE;\n",
              "      border: none;\n",
              "      border-radius: 50%;\n",
              "      cursor: pointer;\n",
              "      display: none;\n",
              "      fill: #1967D2;\n",
              "      height: 32px;\n",
              "      padding: 0 0 0 0;\n",
              "      width: 32px;\n",
              "    }\n",
              "\n",
              "    .colab-df-convert:hover {\n",
              "      background-color: #E2EBFA;\n",
              "      box-shadow: 0px 1px 2px rgba(60, 64, 67, 0.3), 0px 1px 3px 1px rgba(60, 64, 67, 0.15);\n",
              "      fill: #174EA6;\n",
              "    }\n",
              "\n",
              "    [theme=dark] .colab-df-convert {\n",
              "      background-color: #3B4455;\n",
              "      fill: #D2E3FC;\n",
              "    }\n",
              "\n",
              "    [theme=dark] .colab-df-convert:hover {\n",
              "      background-color: #434B5C;\n",
              "      box-shadow: 0px 1px 3px 1px rgba(0, 0, 0, 0.15);\n",
              "      filter: drop-shadow(0px 1px 2px rgba(0, 0, 0, 0.3));\n",
              "      fill: #FFFFFF;\n",
              "    }\n",
              "  </style>\n",
              "\n",
              "      <script>\n",
              "        const buttonEl =\n",
              "          document.querySelector('#df-48c2f2d7-e9d4-49b9-99a4-b0365504ca58 button.colab-df-convert');\n",
              "        buttonEl.style.display =\n",
              "          google.colab.kernel.accessAllowed ? 'block' : 'none';\n",
              "\n",
              "        async function convertToInteractive(key) {\n",
              "          const element = document.querySelector('#df-48c2f2d7-e9d4-49b9-99a4-b0365504ca58');\n",
              "          const dataTable =\n",
              "            await google.colab.kernel.invokeFunction('convertToInteractive',\n",
              "                                                     [key], {});\n",
              "          if (!dataTable) return;\n",
              "\n",
              "          const docLinkHtml = 'Like what you see? Visit the ' +\n",
              "            '<a target=\"_blank\" href=https://colab.research.google.com/notebooks/data_table.ipynb>data table notebook</a>'\n",
              "            + ' to learn more about interactive tables.';\n",
              "          element.innerHTML = '';\n",
              "          dataTable['output_type'] = 'display_data';\n",
              "          await google.colab.output.renderOutput(dataTable, element);\n",
              "          const docLink = document.createElement('div');\n",
              "          docLink.innerHTML = docLinkHtml;\n",
              "          element.appendChild(docLink);\n",
              "        }\n",
              "      </script>\n",
              "    </div>\n",
              "  </div>\n",
              "  "
            ]
          },
          "metadata": {},
          "execution_count": 12
        }
      ]
    },
    {
      "cell_type": "markdown",
      "source": [
        "Dari bentuk di atas menunjukkan bahwa ada kategorik yang memiliki hasil yang serupa. Misalnya, ada 6 kolom kategorik yang sama - sama menyebutkan tentang 'No internet service' . Dan kemudian juga ada kolom InternetService yang juga memiliki value unique 'No' . Mungkin akan ada hubungan antara nantinya antara 6 kolom tsb dengan InternetService\n",
        "\n",
        "Kemudian , hal yang perlu diperhatikan, kolom SeniorCitizen adalah kolom yang bersifat kategorikal, sehingga pada kolom SeniorCitizen akan kita anggap sebagai cat columns, bukan num columns. Buktinya dapat dilihat saat kita melihat jumlah unique value pada masing\" kolom di tahapan selanjutna"
      ],
      "metadata": {
        "id": "kLm5OdHoy2zJ"
      }
    },
    {
      "cell_type": "code",
      "source": [
        "df.nunique()"
      ],
      "metadata": {
        "colab": {
          "base_uri": "https://localhost:8080/"
        },
        "id": "9thHgZ0DcIMy",
        "outputId": "b1bb532d-dcdf-4ccd-b112-306d735c7a87"
      },
      "execution_count": 13,
      "outputs": [
        {
          "output_type": "execute_result",
          "data": {
            "text/plain": [
              "customerID          7043\n",
              "gender                 2\n",
              "SeniorCitizen          2\n",
              "Partner                2\n",
              "Dependents             2\n",
              "tenure                73\n",
              "PhoneService           2\n",
              "MultipleLines          3\n",
              "InternetService        3\n",
              "OnlineSecurity         3\n",
              "OnlineBackup           3\n",
              "DeviceProtection       3\n",
              "TechSupport            3\n",
              "StreamingTV            3\n",
              "StreamingMovies        3\n",
              "Contract               3\n",
              "PaperlessBilling       2\n",
              "PaymentMethod          4\n",
              "MonthlyCharges      1585\n",
              "TotalCharges        6530\n",
              "Churn                  2\n",
              "dtype: int64"
            ]
          },
          "metadata": {},
          "execution_count": 13
        }
      ]
    },
    {
      "cell_type": "markdown",
      "source": [
        "Dari kolom di atas , menunjukkan bahwa yang termasuk data numerik hanya ada 3 , yaitu tenure, monthlycharges, dan totalcharges. Selanjutnya kita lanjut ke EDA"
      ],
      "metadata": {
        "id": "0l7dfKAKcN1t"
      }
    },
    {
      "cell_type": "markdown",
      "source": [
        "# 4. Exploratory Data Analysis (EDA)\n",
        "\n",
        "Bagian ini berisi explorasi data pada dataset diatas dengan menggunakan query, grouping, visualisasi sederhana, dan lain sebagainya."
      ],
      "metadata": {
        "id": "roIbLZfg0x6-"
      }
    },
    {
      "cell_type": "markdown",
      "source": [
        "### Melihat jumlah target column yang churn dengan yang tidak"
      ],
      "metadata": {
        "id": "b5RQBQv99N50"
      }
    },
    {
      "cell_type": "code",
      "source": [
        "print(df['Churn'].value_counts())\n",
        "sns.countplot(x=df.Churn)"
      ],
      "metadata": {
        "colab": {
          "base_uri": "https://localhost:8080/",
          "height": 348
        },
        "id": "aaaHtEim9T1D",
        "outputId": "e2c179eb-043f-4ea3-e17d-222de6ca0772"
      },
      "execution_count": 14,
      "outputs": [
        {
          "output_type": "stream",
          "name": "stdout",
          "text": [
            "No     5174\n",
            "Yes    1869\n",
            "Name: Churn, dtype: int64\n"
          ]
        },
        {
          "output_type": "execute_result",
          "data": {
            "text/plain": [
              "<matplotlib.axes._subplots.AxesSubplot at 0x7f771ad056d0>"
            ]
          },
          "metadata": {},
          "execution_count": 14
        },
        {
          "output_type": "display_data",
          "data": {
            "text/plain": [
              "<Figure size 432x288 with 1 Axes>"
            ],
            "image/png": "[encoded data removed]"
          },
          "metadata": {
            "needs_background": "light"
          }
        }
      ]
    },
    {
      "cell_type": "markdown",
      "source": [
        "Terlihat bahwa dari kondisi dataset yang diberikan, terdiri dari No yang berjumlah 5174 dan Yes yang berjumlah 1869. Dalam hal ini, sebenarnya saat data preprocessing, kita dapat melakukan handling imbalance atau juga tidak (saya memanfaatkan threshold 1:3 untuk mengasumsikan bahwa sebuah data tersebut dapat dianggap imbalance)"
      ],
      "metadata": {
        "id": "UKNg8s8u9ihd"
      }
    },
    {
      "cell_type": "markdown",
      "source": [
        "### Korelasi antara InternetService, dengan Online Security"
      ],
      "metadata": {
        "id": "8q73JaF_1Z5x"
      }
    },
    {
      "cell_type": "code",
      "source": [
        "summary_data = df.groupby(['InternetService','OnlineSecurity'])['customerID'].count()\n",
        "summary_data"
      ],
      "metadata": {
        "colab": {
          "base_uri": "https://localhost:8080/"
        },
        "id": "_PbSoOJX21FP",
        "outputId": "57fb879f-fc55-4d3e-d554-26a3aed614ba"
      },
      "execution_count": 15,
      "outputs": [
        {
          "output_type": "execute_result",
          "data": {
            "text/plain": [
              "InternetService  OnlineSecurity     \n",
              "DSL              No                     1241\n",
              "                 Yes                    1180\n",
              "Fiber optic      No                     2257\n",
              "                 Yes                     839\n",
              "No               No internet service    1526\n",
              "Name: customerID, dtype: int64"
            ]
          },
          "metadata": {},
          "execution_count": 15
        }
      ]
    },
    {
      "cell_type": "markdown",
      "source": [
        "Dapat dilihat, bahwa setiap InternetService nya No , OnlineSecurity nya juga ber-value \"No internet service\"."
      ],
      "metadata": {
        "id": "DBxp2f_d3akS"
      }
    },
    {
      "cell_type": "markdown",
      "source": [
        "### Korelasi antara InternetService, dengan OnlineBackup"
      ],
      "metadata": {
        "id": "cv30RMRJ3nvt"
      }
    },
    {
      "cell_type": "code",
      "source": [
        "summary_data = df.groupby(['InternetService','OnlineBackup'])['customerID'].count()\n",
        "summary_data"
      ],
      "metadata": {
        "colab": {
          "base_uri": "https://localhost:8080/"
        },
        "id": "6mT-thtp3mxn",
        "outputId": "02da9aa5-ee81-4487-ccd9-70044e448f9e"
      },
      "execution_count": 16,
      "outputs": [
        {
          "output_type": "execute_result",
          "data": {
            "text/plain": [
              "InternetService  OnlineBackup       \n",
              "DSL              No                     1335\n",
              "                 Yes                    1086\n",
              "Fiber optic      No                     1753\n",
              "                 Yes                    1343\n",
              "No               No internet service    1526\n",
              "Name: customerID, dtype: int64"
            ]
          },
          "metadata": {},
          "execution_count": 16
        }
      ]
    },
    {
      "cell_type": "markdown",
      "source": [
        "Dapat dilihat , bahwa setiap InternetService nya No , OnlineBackup nya juga ber-value \"No Internet service\""
      ],
      "metadata": {
        "id": "td7m9S5e32Jj"
      }
    },
    {
      "cell_type": "markdown",
      "source": [
        "### Korelasi antara InternetService, dengan DeviceProtection"
      ],
      "metadata": {
        "id": "q265Aafm3-WG"
      }
    },
    {
      "cell_type": "code",
      "source": [
        "summary_data = df.groupby(['InternetService','DeviceProtection'])['customerID'].count()\n",
        "summary_data"
      ],
      "metadata": {
        "colab": {
          "base_uri": "https://localhost:8080/"
        },
        "id": "oOLYZ8qL39mQ",
        "outputId": "f6c29186-5529-4f97-ebe6-a91b4d810cf4"
      },
      "execution_count": 17,
      "outputs": [
        {
          "output_type": "execute_result",
          "data": {
            "text/plain": [
              "InternetService  DeviceProtection   \n",
              "DSL              No                     1356\n",
              "                 Yes                    1065\n",
              "Fiber optic      No                     1739\n",
              "                 Yes                    1357\n",
              "No               No internet service    1526\n",
              "Name: customerID, dtype: int64"
            ]
          },
          "metadata": {},
          "execution_count": 17
        }
      ]
    },
    {
      "cell_type": "markdown",
      "source": [
        "Dapat dilihat, bahwa setiap InternetService nya No, DeviceProtection nya \"No internet service\""
      ],
      "metadata": {
        "id": "Mr1Hf6xk4M_E"
      }
    },
    {
      "cell_type": "markdown",
      "source": [
        "### Korelasi antara InternetService dengan TechSupport"
      ],
      "metadata": {
        "id": "ENIXsQhr4x2c"
      }
    },
    {
      "cell_type": "code",
      "source": [
        "summary_data = df.groupby(['InternetService','TechSupport'])['customerID'].count()\n",
        "summary_data"
      ],
      "metadata": {
        "colab": {
          "base_uri": "https://localhost:8080/"
        },
        "id": "nmv9n-_T48NF",
        "outputId": "3f9fb1e1-0408-4d05-9b02-15ad3f313972"
      },
      "execution_count": 18,
      "outputs": [
        {
          "output_type": "execute_result",
          "data": {
            "text/plain": [
              "InternetService  TechSupport        \n",
              "DSL              No                     1243\n",
              "                 Yes                    1178\n",
              "Fiber optic      No                     2230\n",
              "                 Yes                     866\n",
              "No               No internet service    1526\n",
              "Name: customerID, dtype: int64"
            ]
          },
          "metadata": {},
          "execution_count": 18
        }
      ]
    },
    {
      "cell_type": "markdown",
      "source": [
        "Dapat dilihat, bahwa setiap InternetService nya No, TechSupport nya \"No internet service\""
      ],
      "metadata": {
        "id": "5joaksAd5CES"
      }
    },
    {
      "cell_type": "markdown",
      "source": [
        "### Korelasi antara InternetService dengan StreamingTV"
      ],
      "metadata": {
        "id": "DHT6y_ol5Qjc"
      }
    },
    {
      "cell_type": "code",
      "source": [
        "summary_data = df.groupby(['InternetService','StreamingTV'])['customerID'].count()\n",
        "summary_data"
      ],
      "metadata": {
        "colab": {
          "base_uri": "https://localhost:8080/"
        },
        "id": "4kf962ZD5YgU",
        "outputId": "7471162e-12f4-4ea0-8f67-c76365484186"
      },
      "execution_count": 19,
      "outputs": [
        {
          "output_type": "execute_result",
          "data": {
            "text/plain": [
              "InternetService  StreamingTV        \n",
              "DSL              No                     1464\n",
              "                 Yes                     957\n",
              "Fiber optic      No                     1346\n",
              "                 Yes                    1750\n",
              "No               No internet service    1526\n",
              "Name: customerID, dtype: int64"
            ]
          },
          "metadata": {},
          "execution_count": 19
        }
      ]
    },
    {
      "cell_type": "markdown",
      "source": [
        "Dapat dilihat, bahwa setiap InternetService nya No , StreamingTV nya \"No internet service\""
      ],
      "metadata": {
        "id": "-HM61_2x5a9v"
      }
    },
    {
      "cell_type": "markdown",
      "source": [
        "### Korelasi antara InternetService dengan StreamingMovies"
      ],
      "metadata": {
        "id": "qYWPFWMH5gZu"
      }
    },
    {
      "cell_type": "code",
      "source": [
        "summary_data = df.groupby(['InternetService','StreamingMovies'])['customerID'].count()\n",
        "summary_data"
      ],
      "metadata": {
        "colab": {
          "base_uri": "https://localhost:8080/"
        },
        "id": "0Aby0Iol6ED_",
        "outputId": "4bae952b-fb4e-4e32-d9bf-24e65a6971f9"
      },
      "execution_count": 20,
      "outputs": [
        {
          "output_type": "execute_result",
          "data": {
            "text/plain": [
              "InternetService  StreamingMovies    \n",
              "DSL              No                     1440\n",
              "                 Yes                     981\n",
              "Fiber optic      No                     1345\n",
              "                 Yes                    1751\n",
              "No               No internet service    1526\n",
              "Name: customerID, dtype: int64"
            ]
          },
          "metadata": {},
          "execution_count": 20
        }
      ]
    },
    {
      "cell_type": "markdown",
      "source": [
        "Dapat dilihat, bahwa setiap InternetService nya No, StreamingMovies nya juga \"No internet service\""
      ],
      "metadata": {
        "id": "-ldbBrKrUlj9"
      }
    },
    {
      "cell_type": "markdown",
      "source": [
        "Dari EDA tentang InternetService, dapat dilihat bahwa ketika InternetService nya No , akan mempengaruhi hasil dari 6 kolom di atas"
      ],
      "metadata": {
        "id": "OBQ8GQW46e0P"
      }
    },
    {
      "cell_type": "markdown",
      "source": [
        "Selanjutnya, kita coba akan lihat, bagaimana kondisi data yang InternetService nya No"
      ],
      "metadata": {
        "id": "ZWYUIiIJ6pTI"
      }
    },
    {
      "cell_type": "code",
      "source": [
        "df_noInternet = df[df['InternetService']=='No']\n",
        "df_noInternet.head()"
      ],
      "metadata": {
        "colab": {
          "base_uri": "https://localhost:8080/",
          "height": 386
        },
        "id": "cbfHRlRL7xvG",
        "outputId": "bce04c0d-47e6-4a02-c6ec-bef9edfde365"
      },
      "execution_count": 21,
      "outputs": [
        {
          "output_type": "execute_result",
          "data": {
            "text/plain": [
              "    customerID  gender  SeniorCitizen Partner Dependents  tenure PhoneService  \\\n",
              "11  7469-LKBCI    Male              0      No         No      16          Yes   \n",
              "16  8191-XWSZG  Female              0      No         No      52          Yes   \n",
              "21  1680-VDCWW    Male              0     Yes         No      12          Yes   \n",
              "22  1066-JKSGK    Male              0      No         No       1          Yes   \n",
              "33  7310-EGVHZ    Male              0      No         No       1          Yes   \n",
              "\n",
              "   MultipleLines InternetService       OnlineSecurity  ...  \\\n",
              "11            No              No  No internet service  ...   \n",
              "16            No              No  No internet service  ...   \n",
              "21            No              No  No internet service  ...   \n",
              "22            No              No  No internet service  ...   \n",
              "33            No              No  No internet service  ...   \n",
              "\n",
              "       DeviceProtection          TechSupport          StreamingTV  \\\n",
              "11  No internet service  No internet service  No internet service   \n",
              "16  No internet service  No internet service  No internet service   \n",
              "21  No internet service  No internet service  No internet service   \n",
              "22  No internet service  No internet service  No internet service   \n",
              "33  No internet service  No internet service  No internet service   \n",
              "\n",
              "        StreamingMovies        Contract PaperlessBilling  \\\n",
              "11  No internet service        Two year               No   \n",
              "16  No internet service        One year               No   \n",
              "21  No internet service        One year               No   \n",
              "22  No internet service  Month-to-month               No   \n",
              "33  No internet service  Month-to-month               No   \n",
              "\n",
              "                PaymentMethod MonthlyCharges  TotalCharges  Churn  \n",
              "11    Credit card (automatic)          18.95        326.80     No  \n",
              "16               Mailed check          20.65       1022.95     No  \n",
              "21  Bank transfer (automatic)          19.80        202.25     No  \n",
              "22               Mailed check          20.15         20.15    Yes  \n",
              "33  Bank transfer (automatic)          20.20         20.20     No  \n",
              "\n",
              "[5 rows x 21 columns]"
            ],
            "text/html": [
              "\n",
              "  <div id=\"df-becf6e71-ebca-400b-bd0e-c418a7996717\">\n",
              "    <div class=\"colab-df-container\">\n",
              "      <div>\n",
              "<style scoped>\n",
              "    .dataframe tbody tr th:only-of-type {\n",
              "        vertical-align: middle;\n",
              "    }\n",
              "\n",
              "    .dataframe tbody tr th {\n",
              "        vertical-align: top;\n",
              "    }\n",
              "\n",
              "    .dataframe thead th {\n",
              "        text-align: right;\n",
              "    }\n",
              "</style>\n",
              "<table border=\"1\" class=\"dataframe\">\n",
              "  <thead>\n",
              "    <tr style=\"text-align: right;\">\n",
              "      <th></th>\n",
              "      <th>customerID</th>\n",
              "      <th>gender</th>\n",
              "      <th>SeniorCitizen</th>\n",
              "      <th>Partner</th>\n",
              "      <th>Dependents</th>\n",
              "      <th>tenure</th>\n",
              "      <th>PhoneService</th>\n",
              "      <th>MultipleLines</th>\n",
              "      <th>InternetService</th>\n",
              "      <th>OnlineSecurity</th>\n",
              "      <th>...</th>\n",
              "      <th>DeviceProtection</th>\n",
              "      <th>TechSupport</th>\n",
              "      <th>StreamingTV</th>\n",
              "      <th>StreamingMovies</th>\n",
              "      <th>Contract</th>\n",
              "      <th>PaperlessBilling</th>\n",
              "      <th>PaymentMethod</th>\n",
              "      <th>MonthlyCharges</th>\n",
              "      <th>TotalCharges</th>\n",
              "      <th>Churn</th>\n",
              "    </tr>\n",
              "  </thead>\n",
              "  <tbody>\n",
              "    <tr>\n",
              "      <th>11</th>\n",
              "      <td>7469-LKBCI</td>\n",
              "      <td>Male</td>\n",
              "      <td>0</td>\n",
              "      <td>No</td>\n",
              "      <td>No</td>\n",
              "      <td>16</td>\n",
              "      <td>Yes</td>\n",
              "      <td>No</td>\n",
              "      <td>No</td>\n",
              "      <td>No internet service</td>\n",
              "      <td>...</td>\n",
              "      <td>No internet service</td>\n",
              "      <td>No internet service</td>\n",
              "      <td>No internet service</td>\n",
              "      <td>No internet service</td>\n",
              "      <td>Two year</td>\n",
              "      <td>No</td>\n",
              "      <td>Credit card (automatic)</td>\n",
              "      <td>18.95</td>\n",
              "      <td>326.80</td>\n",
              "      <td>No</td>\n",
              "    </tr>\n",
              "    <tr>\n",
              "      <th>16</th>\n",
              "      <td>8191-XWSZG</td>\n",
              "      <td>Female</td>\n",
              "      <td>0</td>\n",
              "      <td>No</td>\n",
              "      <td>No</td>\n",
              "      <td>52</td>\n",
              "      <td>Yes</td>\n",
              "      <td>No</td>\n",
              "      <td>No</td>\n",
              "      <td>No internet service</td>\n",
              "      <td>...</td>\n",
              "      <td>No internet service</td>\n",
              "      <td>No internet service</td>\n",
              "      <td>No internet service</td>\n",
              "      <td>No internet service</td>\n",
              "      <td>One year</td>\n",
              "      <td>No</td>\n",
              "      <td>Mailed check</td>\n",
              "      <td>20.65</td>\n",
              "      <td>1022.95</td>\n",
              "      <td>No</td>\n",
              "    </tr>\n",
              "    <tr>\n",
              "      <th>21</th>\n",
              "      <td>1680-VDCWW</td>\n",
              "      <td>Male</td>\n",
              "      <td>0</td>\n",
              "      <td>Yes</td>\n",
              "      <td>No</td>\n",
              "      <td>12</td>\n",
              "      <td>Yes</td>\n",
              "      <td>No</td>\n",
              "      <td>No</td>\n",
              "      <td>No internet service</td>\n",
              "      <td>...</td>\n",
              "      <td>No internet service</td>\n",
              "      <td>No internet service</td>\n",
              "      <td>No internet service</td>\n",
              "      <td>No internet service</td>\n",
              "      <td>One year</td>\n",
              "      <td>No</td>\n",
              "      <td>Bank transfer (automatic)</td>\n",
              "      <td>19.80</td>\n",
              "      <td>202.25</td>\n",
              "      <td>No</td>\n",
              "    </tr>\n",
              "    <tr>\n",
              "      <th>22</th>\n",
              "      <td>1066-JKSGK</td>\n",
              "      <td>Male</td>\n",
              "      <td>0</td>\n",
              "      <td>No</td>\n",
              "      <td>No</td>\n",
              "      <td>1</td>\n",
              "      <td>Yes</td>\n",
              "      <td>No</td>\n",
              "      <td>No</td>\n",
              "      <td>No internet service</td>\n",
              "      <td>...</td>\n",
              "      <td>No internet service</td>\n",
              "      <td>No internet service</td>\n",
              "      <td>No internet service</td>\n",
              "      <td>No internet service</td>\n",
              "      <td>Month-to-month</td>\n",
              "      <td>No</td>\n",
              "      <td>Mailed check</td>\n",
              "      <td>20.15</td>\n",
              "      <td>20.15</td>\n",
              "      <td>Yes</td>\n",
              "    </tr>\n",
              "    <tr>\n",
              "      <th>33</th>\n",
              "      <td>7310-EGVHZ</td>\n",
              "      <td>Male</td>\n",
              "      <td>0</td>\n",
              "      <td>No</td>\n",
              "      <td>No</td>\n",
              "      <td>1</td>\n",
              "      <td>Yes</td>\n",
              "      <td>No</td>\n",
              "      <td>No</td>\n",
              "      <td>No internet service</td>\n",
              "      <td>...</td>\n",
              "      <td>No internet service</td>\n",
              "      <td>No internet service</td>\n",
              "      <td>No internet service</td>\n",
              "      <td>No internet service</td>\n",
              "      <td>Month-to-month</td>\n",
              "      <td>No</td>\n",
              "      <td>Bank transfer (automatic)</td>\n",
              "      <td>20.20</td>\n",
              "      <td>20.20</td>\n",
              "      <td>No</td>\n",
              "    </tr>\n",
              "  </tbody>\n",
              "</table>\n",
              "<p>5 rows × 21 columns</p>\n",
              "</div>\n",
              "      <button class=\"colab-df-convert\" onclick=\"convertToInteractive('df-becf6e71-ebca-400b-bd0e-c418a7996717')\"\n",
              "              title=\"Convert this dataframe to an interactive table.\"\n",
              "              style=\"display:none;\">\n",
              "        \n",
              "  <svg xmlns=\"http://www.w3.org/2000/svg\" height=\"24px\"viewBox=\"0 0 24 24\"\n",
              "       width=\"24px\">\n",
              "    <path d=\"M0 0h24v24H0V0z\" fill=\"none\"/>\n",
              "    <path d=\"M18.56 5.44l.94 2.06.94-2.06 2.06-.94-2.06-.94-.94-2.06-.94 2.06-2.06.94zm-11 1L8.5 8.5l.94-2.06 2.06-.94-2.06-.94L8.5 2.5l-.94 2.06-2.06.94zm10 10l.94 2.06.94-2.06 2.06-.94-2.06-.94-.94-2.06-.94 2.06-2.06.94z\"/><path d=\"M17.41 7.96l-1.37-1.37c-.4-.4-.92-.59-1.43-.59-.52 0-1.04.2-1.43.59L10.3 9.45l-7.72 7.72c-.78.78-.78 2.05 0 2.83L4 21.41c.39.39.9.59 1.41.59.51 0 1.02-.2 1.41-.59l7.78-7.78 2.81-2.81c.8-.78.8-2.07 0-2.86zM5.41 20L4 18.59l7.72-7.72 1.47 1.35L5.41 20z\"/>\n",
              "  </svg>\n",
              "      </button>\n",
              "      \n",
              "  <style>\n",
              "    .colab-df-container {\n",
              "      display:flex;\n",
              "      flex-wrap:wrap;\n",
              "      gap: 12px;\n",
              "    }\n",
              "\n",
              "    .colab-df-convert {\n",
              "      background-color: #E8F0FE;\n",
              "      border: none;\n",
              "      border-radius: 50%;\n",
              "      cursor: pointer;\n",
              "      display: none;\n",
              "      fill: #1967D2;\n",
              "      height: 32px;\n",
              "      padding: 0 0 0 0;\n",
              "      width: 32px;\n",
              "    }\n",
              "\n",
              "    .colab-df-convert:hover {\n",
              "      background-color: #E2EBFA;\n",
              "      box-shadow: 0px 1px 2px rgba(60, 64, 67, 0.3), 0px 1px 3px 1px rgba(60, 64, 67, 0.15);\n",
              "      fill: #174EA6;\n",
              "    }\n",
              "\n",
              "    [theme=dark] .colab-df-convert {\n",
              "      background-color: #3B4455;\n",
              "      fill: #D2E3FC;\n",
              "    }\n",
              "\n",
              "    [theme=dark] .colab-df-convert:hover {\n",
              "      background-color: #434B5C;\n",
              "      box-shadow: 0px 1px 3px 1px rgba(0, 0, 0, 0.15);\n",
              "      filter: drop-shadow(0px 1px 2px rgba(0, 0, 0, 0.3));\n",
              "      fill: #FFFFFF;\n",
              "    }\n",
              "  </style>\n",
              "\n",
              "      <script>\n",
              "        const buttonEl =\n",
              "          document.querySelector('#df-becf6e71-ebca-400b-bd0e-c418a7996717 button.colab-df-convert');\n",
              "        buttonEl.style.display =\n",
              "          google.colab.kernel.accessAllowed ? 'block' : 'none';\n",
              "\n",
              "        async function convertToInteractive(key) {\n",
              "          const element = document.querySelector('#df-becf6e71-ebca-400b-bd0e-c418a7996717');\n",
              "          const dataTable =\n",
              "            await google.colab.kernel.invokeFunction('convertToInteractive',\n",
              "                                                     [key], {});\n",
              "          if (!dataTable) return;\n",
              "\n",
              "          const docLinkHtml = 'Like what you see? Visit the ' +\n",
              "            '<a target=\"_blank\" href=https://colab.research.google.com/notebooks/data_table.ipynb>data table notebook</a>'\n",
              "            + ' to learn more about interactive tables.';\n",
              "          element.innerHTML = '';\n",
              "          dataTable['output_type'] = 'display_data';\n",
              "          await google.colab.output.renderOutput(dataTable, element);\n",
              "          const docLink = document.createElement('div');\n",
              "          docLink.innerHTML = docLinkHtml;\n",
              "          element.appendChild(docLink);\n",
              "        }\n",
              "      </script>\n",
              "    </div>\n",
              "  </div>\n",
              "  "
            ]
          },
          "metadata": {},
          "execution_count": 21
        }
      ]
    },
    {
      "cell_type": "markdown",
      "source": [
        "Dengan memanfaatkan df_noInternet, kita akan lihat bagaimana nilai unique masing - masing kolom"
      ],
      "metadata": {
        "id": "hCiQi6K_8ABY"
      }
    },
    {
      "cell_type": "code",
      "source": [
        "for cat_col in df_noInternet.select_dtypes(include=object).columns.tolist():\n",
        "  print(cat_col)\n",
        "  print(df_noInternet[cat_col].unique())"
      ],
      "metadata": {
        "colab": {
          "base_uri": "https://localhost:8080/"
        },
        "id": "CPX82LkI8FUg",
        "outputId": "80143c39-8484-4073-d95e-29afee52c4d9"
      },
      "execution_count": 22,
      "outputs": [
        {
          "output_type": "stream",
          "name": "stdout",
          "text": [
            "customerID\n",
            "['7469-LKBCI' '8191-XWSZG' '1680-VDCWW' ... '9837-FWLCH' '0871-OPBXW'\n",
            " '2569-WGERO']\n",
            "gender\n",
            "['Male' 'Female']\n",
            "Partner\n",
            "['No' 'Yes']\n",
            "Dependents\n",
            "['No' 'Yes']\n",
            "PhoneService\n",
            "['Yes']\n",
            "MultipleLines\n",
            "['No' 'Yes']\n",
            "InternetService\n",
            "['No']\n",
            "OnlineSecurity\n",
            "['No internet service']\n",
            "OnlineBackup\n",
            "['No internet service']\n",
            "DeviceProtection\n",
            "['No internet service']\n",
            "TechSupport\n",
            "['No internet service']\n",
            "StreamingTV\n",
            "['No internet service']\n",
            "StreamingMovies\n",
            "['No internet service']\n",
            "Contract\n",
            "['Two year' 'One year' 'Month-to-month']\n",
            "PaperlessBilling\n",
            "['No' 'Yes']\n",
            "PaymentMethod\n",
            "['Credit card (automatic)' 'Mailed check' 'Bank transfer (automatic)'\n",
            " 'Electronic check']\n",
            "Churn\n",
            "['No' 'Yes']\n"
          ]
        }
      ]
    },
    {
      "cell_type": "markdown",
      "source": [
        "### Melihat persebaran data pada kolom numerik"
      ],
      "metadata": {
        "id": "TX1HQsQ0Fr8-"
      }
    },
    {
      "cell_type": "code",
      "source": [
        "df.select_dtypes(exclude=object).columns.tolist()"
      ],
      "metadata": {
        "colab": {
          "base_uri": "https://localhost:8080/"
        },
        "id": "kTLHqUTSGJY1",
        "outputId": "e7578328-f10d-4b5b-8a90-cbc54423cdbd"
      },
      "execution_count": 23,
      "outputs": [
        {
          "output_type": "execute_result",
          "data": {
            "text/plain": [
              "['SeniorCitizen', 'tenure', 'MonthlyCharges', 'TotalCharges']"
            ]
          },
          "metadata": {},
          "execution_count": 23
        }
      ]
    },
    {
      "cell_type": "code",
      "source": [
        "sns.kdeplot(data=df,x='SeniorCitizen',fill=True)\n",
        "print(\"Skewness : \",df['SeniorCitizen'].skew())"
      ],
      "metadata": {
        "colab": {
          "base_uri": "https://localhost:8080/",
          "height": 296
        },
        "id": "jn9EnpCy84t-",
        "outputId": "b5028716-f13f-4602-81e3-32f563874612"
      },
      "execution_count": 24,
      "outputs": [
        {
          "output_type": "stream",
          "name": "stdout",
          "text": [
            "Skewness :  1.8336327440928564\n"
          ]
        },
        {
          "output_type": "display_data",
          "data": {
            "text/plain": [
              "<Figure size 432x288 with 1 Axes>"
            ],
            "image/png": "[encoded data removed]"
          },
          "metadata": {
            "needs_background": "light"
          }
        }
      ]
    },
    {
      "cell_type": "markdown",
      "source": [
        "Pada kolom SeniorCitizen ,terlihat bahwa ada 2 lembah yang terbentuk , dimana satu berinterval -0.2 hingga 0.2 , sedangka 1 lagi berinterval 0.8 hingga 1.2\n",
        "\n",
        "Kemudian , skewnessnya berada di angka 1.83, yang artinya kolom SeniorCitizen tersebut memiliki distribusi Skew"
      ],
      "metadata": {
        "id": "3fYX8ZX-HM2X"
      }
    },
    {
      "cell_type": "code",
      "source": [
        "sns.histplot(data=df,x='tenure',fill=True)\n",
        "print(\"Skewness : \",df['tenure'].skew())"
      ],
      "metadata": {
        "colab": {
          "base_uri": "https://localhost:8080/",
          "height": 296
        },
        "id": "E2Z_bj9MC5h5",
        "outputId": "6e344b1e-a178-4721-e0e3-b9b36da7d83e"
      },
      "execution_count": 25,
      "outputs": [
        {
          "output_type": "stream",
          "name": "stdout",
          "text": [
            "Skewness :  0.2395397495619829\n"
          ]
        },
        {
          "output_type": "display_data",
          "data": {
            "text/plain": [
              "<Figure size 432x288 with 1 Axes>"
            ],
            "image/png": "[encoded data removed]"
          },
          "metadata": {
            "needs_background": "light"
          }
        }
      ]
    },
    {
      "cell_type": "markdown",
      "source": [
        "Pada kolom tenure, terlihat bahwa tenure yang diambil customer beraneka ragam,mulai dari 0 hingga 70 , dengan tertinggi berada di 0 , yang mungkin diasumsikan tidak pernah mengambil / tidak sedang mengambil tenure\n",
        "\n",
        "Kemudian, skewnessnya berada di angka 0.23 , yang berarti kolom tenure memiliki distribusi normal"
      ],
      "metadata": {
        "id": "BWZOfnHDHaKr"
      }
    },
    {
      "cell_type": "code",
      "source": [
        "sns.kdeplot(data=df,x='MonthlyCharges',fill=True)\n",
        "print(\"Skewness : \",df['MonthlyCharges'].skew())"
      ],
      "metadata": {
        "colab": {
          "base_uri": "https://localhost:8080/",
          "height": 296
        },
        "id": "t6xqsyEmHG9F",
        "outputId": "42610608-3dfb-41e7-e1e9-653dd8a84f6f"
      },
      "execution_count": 26,
      "outputs": [
        {
          "output_type": "stream",
          "name": "stdout",
          "text": [
            "Skewness :  -0.22052443394398033\n"
          ]
        },
        {
          "output_type": "display_data",
          "data": {
            "text/plain": [
              "<Figure size 432x288 with 1 Axes>"
            ],
            "image/png": "[encoded data removed]"
          },
          "metadata": {
            "needs_background": "light"
          }
        }
      ]
    },
    {
      "cell_type": "markdown",
      "source": [
        "Dari grafik di atas, terlihat bahwa monthly charges tertinggi jumlahnya adalah di angka 20 , dan juga 80 hingga 100.\n",
        "\n",
        "Kemudian , skewnessnya berada di angka -0.2 ,yang berarti kolom MonthlyCharges memiliki distribusi normal"
      ],
      "metadata": {
        "id": "eGQQiqnHKCjP"
      }
    },
    {
      "cell_type": "code",
      "source": [
        "sns.histplot(data=df,x='TotalCharges',fill=True)\n",
        "print(\"Skewness : \",df['TotalCharges'].skew())"
      ],
      "metadata": {
        "colab": {
          "base_uri": "https://localhost:8080/",
          "height": 296
        },
        "id": "81bNjSE1Mv1P",
        "outputId": "155db2c6-7ef9-46f5-9466-ab513cb76258"
      },
      "execution_count": 27,
      "outputs": [
        {
          "output_type": "stream",
          "name": "stdout",
          "text": [
            "Skewness :  0.961642499724251\n"
          ]
        },
        {
          "output_type": "display_data",
          "data": {
            "text/plain": [
              "<Figure size 432x288 with 1 Axes>"
            ],
            "image/png": "[encoded data removed]"
          },
          "metadata": {
            "needs_background": "light"
          }
        }
      ]
    },
    {
      "cell_type": "markdown",
      "source": [
        "Dari grafik di atas, terlihat bahwa TotalCharges tertinggi jumlahnya adalah di sekitar 0 hingga 300 , kemudian semakin mengecil seperti anak tangga hingga terbesar adalah di 8000. \n",
        "\n",
        "Kemudian, skewnessnya berada di angka 0.96, yang berarti kolom TotalCharges memiliki distribusi skew"
      ],
      "metadata": {
        "id": "9kOICb61STne"
      }
    },
    {
      "cell_type": "markdown",
      "source": [
        "Dari melihat kondisi data di atas, terlihat bahwa tidak ada handling outlier yang perlu dilakukan. Mengapa ? Karena ,menurut saya, kondisi data numerik yang masih berada di kondisi yang masuk akal sesuai keadaan aslinya.  "
      ],
      "metadata": {
        "id": "c6OdJdpBKU4q"
      }
    },
    {
      "cell_type": "markdown",
      "source": [
        "Selanjutnya, kita lihat korelasi antara masing - masing kolom dengan kolom lainnya, menggunakan heatmap"
      ],
      "metadata": {
        "id": "FEzIsfSlKmui"
      }
    },
    {
      "cell_type": "code",
      "source": [
        "fig,ax = plt.subplots(figsize=(15,10),nrows=1,ncols=1)\n",
        "sns.heatmap(df.corr(),annot=True,cmap='RdYlBu',ax=ax)\n",
        "plt.show()"
      ],
      "metadata": {
        "colab": {
          "base_uri": "https://localhost:8080/",
          "height": 596
        },
        "id": "RUGWV-JGKsWo",
        "outputId": "f3d70dc3-9a4d-4215-aed2-a4c46514f4f9"
      },
      "execution_count": 28,
      "outputs": [
        {
          "output_type": "display_data",
          "data": {
            "text/plain": [
              "<Figure size 1080x720 with 2 Axes>"
            ],
            "image/png": "[encoded data removed]"
          },
          "metadata": {
            "needs_background": "light"
          }
        }
      ]
    },
    {
      "cell_type": "markdown",
      "source": [
        "Beradasarkan data numeriknya , dapat dilihat bahwa tidak ada korelasi yang kuat antara kolom satu dengan yang lainnya. Sehingga, untuk antar kolom numerik tidak perlu dilakukan eliminasi."
      ],
      "metadata": {
        "id": "zoAPhOSdK76N"
      }
    },
    {
      "cell_type": "markdown",
      "source": [
        "Sekarang, kita lihat bagaimana korelasi kolom yang bertipe objectnya, apakah memiliki korelasi dengan kolom lainnya , seperti internet di atas. \n",
        "\n",
        "Akan tetapi , kita perlu melakukan encoding terlebih dahulu pada kolom kategorik tersebut"
      ],
      "metadata": {
        "id": "zfuOWoYfLObb"
      }
    },
    {
      "cell_type": "code",
      "source": [
        "df_corr = df.copy()"
      ],
      "metadata": {
        "id": "IL22pQpaLdsd"
      },
      "execution_count": 29,
      "outputs": []
    },
    {
      "cell_type": "code",
      "source": [
        "cat_enc_corr = df_corr.select_dtypes(include=object).columns.tolist()\n",
        "num_enc_corr =  df_corr.select_dtypes(exclude=object).columns.tolist()\n",
        "cat_enc_corr"
      ],
      "metadata": {
        "colab": {
          "base_uri": "https://localhost:8080/"
        },
        "id": "9p1bnxVbRkHY",
        "outputId": "22af16e2-286c-4c88-c2f5-09102bd08e67"
      },
      "execution_count": 30,
      "outputs": [
        {
          "output_type": "execute_result",
          "data": {
            "text/plain": [
              "['customerID',\n",
              " 'gender',\n",
              " 'Partner',\n",
              " 'Dependents',\n",
              " 'PhoneService',\n",
              " 'MultipleLines',\n",
              " 'InternetService',\n",
              " 'OnlineSecurity',\n",
              " 'OnlineBackup',\n",
              " 'DeviceProtection',\n",
              " 'TechSupport',\n",
              " 'StreamingTV',\n",
              " 'StreamingMovies',\n",
              " 'Contract',\n",
              " 'PaperlessBilling',\n",
              " 'PaymentMethod',\n",
              " 'Churn']"
            ]
          },
          "metadata": {},
          "execution_count": 30
        }
      ]
    },
    {
      "cell_type": "code",
      "source": [
        "ct = ColumnTransformer(transformers=[\n",
        "                                     (\"cat_enc\",OrdinalEncoder(),cat_enc_corr),\n",
        "                                     (\"num_scale\",StandardScaler(),num_enc_corr)\n",
        "])\n",
        "\n",
        "ct.fit(df_corr)\n",
        "df_corr_enc = ct.transform(df_corr)"
      ],
      "metadata": {
        "id": "qbgGBWMvLgc2"
      },
      "execution_count": 31,
      "outputs": []
    },
    {
      "cell_type": "code",
      "source": [
        "df_corr_enc = pd.DataFrame(df_corr_enc,columns=cat_enc_corr+num_enc_corr)\n",
        "df_corr_enc"
      ],
      "metadata": {
        "colab": {
          "base_uri": "https://localhost:8080/",
          "height": 488
        },
        "id": "NEBngrCKR2jp",
        "outputId": "397821c1-0750-4353-e8db-fce7fcb5c603"
      },
      "execution_count": 32,
      "outputs": [
        {
          "output_type": "execute_result",
          "data": {
            "text/plain": [
              "      customerID  gender  Partner  Dependents  PhoneService  MultipleLines  \\\n",
              "0         5375.0     0.0      1.0         0.0           0.0            1.0   \n",
              "1         3962.0     1.0      0.0         0.0           1.0            0.0   \n",
              "2         2564.0     1.0      0.0         0.0           1.0            0.0   \n",
              "3         5535.0     1.0      0.0         0.0           0.0            1.0   \n",
              "4         6511.0     0.0      0.0         0.0           1.0            0.0   \n",
              "...          ...     ...      ...         ...           ...            ...   \n",
              "7038      4853.0     1.0      1.0         1.0           1.0            2.0   \n",
              "7039      1525.0     0.0      1.0         1.0           1.0            2.0   \n",
              "7040      3367.0     0.0      1.0         1.0           0.0            1.0   \n",
              "7041      5934.0     1.0      1.0         0.0           1.0            2.0   \n",
              "7042      2226.0     1.0      0.0         0.0           1.0            0.0   \n",
              "\n",
              "      InternetService  OnlineSecurity  OnlineBackup  DeviceProtection  ...  \\\n",
              "0                 0.0             0.0           2.0               0.0  ...   \n",
              "1                 0.0             2.0           0.0               2.0  ...   \n",
              "2                 0.0             2.0           2.0               0.0  ...   \n",
              "3                 0.0             2.0           0.0               2.0  ...   \n",
              "4                 1.0             0.0           0.0               0.0  ...   \n",
              "...               ...             ...           ...               ...  ...   \n",
              "7038              0.0             2.0           0.0               2.0  ...   \n",
              "7039              1.0             0.0           2.0               2.0  ...   \n",
              "7040              0.0             2.0           0.0               0.0  ...   \n",
              "7041              1.0             0.0           0.0               0.0  ...   \n",
              "7042              1.0             2.0           0.0               2.0  ...   \n",
              "\n",
              "      StreamingTV  StreamingMovies  Contract  PaperlessBilling  PaymentMethod  \\\n",
              "0             0.0              0.0       0.0               1.0            2.0   \n",
              "1             0.0              0.0       1.0               0.0            3.0   \n",
              "2             0.0              0.0       0.0               1.0            3.0   \n",
              "3             0.0              0.0       1.0               0.0            0.0   \n",
              "4             0.0              0.0       0.0               1.0            2.0   \n",
              "...           ...              ...       ...               ...            ...   \n",
              "7038          2.0              2.0       1.0               1.0            3.0   \n",
              "7039          2.0              2.0       1.0               1.0            1.0   \n",
              "7040          0.0              0.0       0.0               1.0            2.0   \n",
              "7041          0.0              0.0       0.0               1.0            3.0   \n",
              "7042          2.0              2.0       2.0               1.0            0.0   \n",
              "\n",
              "      Churn  SeniorCitizen    tenure  MonthlyCharges  TotalCharges  \n",
              "0       0.0      -0.439916 -1.277445       -1.160323     -0.994194  \n",
              "1       0.0      -0.439916  0.066327       -0.259629     -0.173740  \n",
              "2       1.0      -0.439916 -1.236724       -0.362660     -0.959649  \n",
              "3       0.0      -0.439916  0.514251       -0.746535     -0.195248  \n",
              "4       1.0      -0.439916 -1.236724        0.197365     -0.940457  \n",
              "...     ...            ...       ...             ...           ...  \n",
              "7038    0.0      -0.439916 -0.340876        0.665992     -0.129180  \n",
              "7039    0.0      -0.439916  1.613701        1.277533      2.241056  \n",
              "7040    0.0      -0.439916 -0.870241       -1.168632     -0.854514  \n",
              "7041    1.0       2.273159 -1.155283        0.320338     -0.872095  \n",
              "7042    0.0      -0.439916  1.369379        1.358961      2.012344  \n",
              "\n",
              "[7043 rows x 21 columns]"
            ],
            "text/html": [
              "\n",
              "  <div id=\"df-c152a767-b5e7-42c2-9878-7ea3dad9b323\">\n",
              "    <div class=\"colab-df-container\">\n",
              "      <div>\n",
              "<style scoped>\n",
              "    .dataframe tbody tr th:only-of-type {\n",
              "        vertical-align: middle;\n",
              "    }\n",
              "\n",
              "    .dataframe tbody tr th {\n",
              "        vertical-align: top;\n",
              "    }\n",
              "\n",
              "    .dataframe thead th {\n",
              "        text-align: right;\n",
              "    }\n",
              "</style>\n",
              "<table border=\"1\" class=\"dataframe\">\n",
              "  <thead>\n",
              "    <tr style=\"text-align: right;\">\n",
              "      <th></th>\n",
              "      <th>customerID</th>\n",
              "      <th>gender</th>\n",
              "      <th>Partner</th>\n",
              "      <th>Dependents</th>\n",
              "      <th>PhoneService</th>\n",
              "      <th>MultipleLines</th>\n",
              "      <th>InternetService</th>\n",
              "      <th>OnlineSecurity</th>\n",
              "      <th>OnlineBackup</th>\n",
              "      <th>DeviceProtection</th>\n",
              "      <th>...</th>\n",
              "      <th>StreamingTV</th>\n",
              "      <th>StreamingMovies</th>\n",
              "      <th>Contract</th>\n",
              "      <th>PaperlessBilling</th>\n",
              "      <th>PaymentMethod</th>\n",
              "      <th>Churn</th>\n",
              "      <th>SeniorCitizen</th>\n",
              "      <th>tenure</th>\n",
              "      <th>MonthlyCharges</th>\n",
              "      <th>TotalCharges</th>\n",
              "    </tr>\n",
              "  </thead>\n",
              "  <tbody>\n",
              "    <tr>\n",
              "      <th>0</th>\n",
              "      <td>5375.0</td>\n",
              "      <td>0.0</td>\n",
              "      <td>1.0</td>\n",
              "      <td>0.0</td>\n",
              "      <td>0.0</td>\n",
              "      <td>1.0</td>\n",
              "      <td>0.0</td>\n",
              "      <td>0.0</td>\n",
              "      <td>2.0</td>\n",
              "      <td>0.0</td>\n",
              "      <td>...</td>\n",
              "      <td>0.0</td>\n",
              "      <td>0.0</td>\n",
              "      <td>0.0</td>\n",
              "      <td>1.0</td>\n",
              "      <td>2.0</td>\n",
              "      <td>0.0</td>\n",
              "      <td>-0.439916</td>\n",
              "      <td>-1.277445</td>\n",
              "      <td>-1.160323</td>\n",
              "      <td>-0.994194</td>\n",
              "    </tr>\n",
              "    <tr>\n",
              "      <th>1</th>\n",
              "      <td>3962.0</td>\n",
              "      <td>1.0</td>\n",
              "      <td>0.0</td>\n",
              "      <td>0.0</td>\n",
              "      <td>1.0</td>\n",
              "      <td>0.0</td>\n",
              "      <td>0.0</td>\n",
              "      <td>2.0</td>\n",
              "      <td>0.0</td>\n",
              "      <td>2.0</td>\n",
              "      <td>...</td>\n",
              "      <td>0.0</td>\n",
              "      <td>0.0</td>\n",
              "      <td>1.0</td>\n",
              "      <td>0.0</td>\n",
              "      <td>3.0</td>\n",
              "      <td>0.0</td>\n",
              "      <td>-0.439916</td>\n",
              "      <td>0.066327</td>\n",
              "      <td>-0.259629</td>\n",
              "      <td>-0.173740</td>\n",
              "    </tr>\n",
              "    <tr>\n",
              "      <th>2</th>\n",
              "      <td>2564.0</td>\n",
              "      <td>1.0</td>\n",
              "      <td>0.0</td>\n",
              "      <td>0.0</td>\n",
              "      <td>1.0</td>\n",
              "      <td>0.0</td>\n",
              "      <td>0.0</td>\n",
              "      <td>2.0</td>\n",
              "      <td>2.0</td>\n",
              "      <td>0.0</td>\n",
              "      <td>...</td>\n",
              "      <td>0.0</td>\n",
              "      <td>0.0</td>\n",
              "      <td>0.0</td>\n",
              "      <td>1.0</td>\n",
              "      <td>3.0</td>\n",
              "      <td>1.0</td>\n",
              "      <td>-0.439916</td>\n",
              "      <td>-1.236724</td>\n",
              "      <td>-0.362660</td>\n",
              "      <td>-0.959649</td>\n",
              "    </tr>\n",
              "    <tr>\n",
              "      <th>3</th>\n",
              "      <td>5535.0</td>\n",
              "      <td>1.0</td>\n",
              "      <td>0.0</td>\n",
              "      <td>0.0</td>\n",
              "      <td>0.0</td>\n",
              "      <td>1.0</td>\n",
              "      <td>0.0</td>\n",
              "      <td>2.0</td>\n",
              "      <td>0.0</td>\n",
              "      <td>2.0</td>\n",
              "      <td>...</td>\n",
              "      <td>0.0</td>\n",
              "      <td>0.0</td>\n",
              "      <td>1.0</td>\n",
              "      <td>0.0</td>\n",
              "      <td>0.0</td>\n",
              "      <td>0.0</td>\n",
              "      <td>-0.439916</td>\n",
              "      <td>0.514251</td>\n",
              "      <td>-0.746535</td>\n",
              "      <td>-0.195248</td>\n",
              "    </tr>\n",
              "    <tr>\n",
              "      <th>4</th>\n",
              "      <td>6511.0</td>\n",
              "      <td>0.0</td>\n",
              "      <td>0.0</td>\n",
              "      <td>0.0</td>\n",
              "      <td>1.0</td>\n",
              "      <td>0.0</td>\n",
              "      <td>1.0</td>\n",
              "      <td>0.0</td>\n",
              "      <td>0.0</td>\n",
              "      <td>0.0</td>\n",
              "      <td>...</td>\n",
              "      <td>0.0</td>\n",
              "      <td>0.0</td>\n",
              "      <td>0.0</td>\n",
              "      <td>1.0</td>\n",
              "      <td>2.0</td>\n",
              "      <td>1.0</td>\n",
              "      <td>-0.439916</td>\n",
              "      <td>-1.236724</td>\n",
              "      <td>0.197365</td>\n",
              "      <td>-0.940457</td>\n",
              "    </tr>\n",
              "    <tr>\n",
              "      <th>...</th>\n",
              "      <td>...</td>\n",
              "      <td>...</td>\n",
              "      <td>...</td>\n",
              "      <td>...</td>\n",
              "      <td>...</td>\n",
              "      <td>...</td>\n",
              "      <td>...</td>\n",
              "      <td>...</td>\n",
              "      <td>...</td>\n",
              "      <td>...</td>\n",
              "      <td>...</td>\n",
              "      <td>...</td>\n",
              "      <td>...</td>\n",
              "      <td>...</td>\n",
              "      <td>...</td>\n",
              "      <td>...</td>\n",
              "      <td>...</td>\n",
              "      <td>...</td>\n",
              "      <td>...</td>\n",
              "      <td>...</td>\n",
              "      <td>...</td>\n",
              "    </tr>\n",
              "    <tr>\n",
              "      <th>7038</th>\n",
              "      <td>4853.0</td>\n",
              "      <td>1.0</td>\n",
              "      <td>1.0</td>\n",
              "      <td>1.0</td>\n",
              "      <td>1.0</td>\n",
              "      <td>2.0</td>\n",
              "      <td>0.0</td>\n",
              "      <td>2.0</td>\n",
              "      <td>0.0</td>\n",
              "      <td>2.0</td>\n",
              "      <td>...</td>\n",
              "      <td>2.0</td>\n",
              "      <td>2.0</td>\n",
              "      <td>1.0</td>\n",
              "      <td>1.0</td>\n",
              "      <td>3.0</td>\n",
              "      <td>0.0</td>\n",
              "      <td>-0.439916</td>\n",
              "      <td>-0.340876</td>\n",
              "      <td>0.665992</td>\n",
              "      <td>-0.129180</td>\n",
              "    </tr>\n",
              "    <tr>\n",
              "      <th>7039</th>\n",
              "      <td>1525.0</td>\n",
              "      <td>0.0</td>\n",
              "      <td>1.0</td>\n",
              "      <td>1.0</td>\n",
              "      <td>1.0</td>\n",
              "      <td>2.0</td>\n",
              "      <td>1.0</td>\n",
              "      <td>0.0</td>\n",
              "      <td>2.0</td>\n",
              "      <td>2.0</td>\n",
              "      <td>...</td>\n",
              "      <td>2.0</td>\n",
              "      <td>2.0</td>\n",
              "      <td>1.0</td>\n",
              "      <td>1.0</td>\n",
              "      <td>1.0</td>\n",
              "      <td>0.0</td>\n",
              "      <td>-0.439916</td>\n",
              "      <td>1.613701</td>\n",
              "      <td>1.277533</td>\n",
              "      <td>2.241056</td>\n",
              "    </tr>\n",
              "    <tr>\n",
              "      <th>7040</th>\n",
              "      <td>3367.0</td>\n",
              "      <td>0.0</td>\n",
              "      <td>1.0</td>\n",
              "      <td>1.0</td>\n",
              "      <td>0.0</td>\n",
              "      <td>1.0</td>\n",
              "      <td>0.0</td>\n",
              "      <td>2.0</td>\n",
              "      <td>0.0</td>\n",
              "      <td>0.0</td>\n",
              "      <td>...</td>\n",
              "      <td>0.0</td>\n",
              "      <td>0.0</td>\n",
              "      <td>0.0</td>\n",
              "      <td>1.0</td>\n",
              "      <td>2.0</td>\n",
              "      <td>0.0</td>\n",
              "      <td>-0.439916</td>\n",
              "      <td>-0.870241</td>\n",
              "      <td>-1.168632</td>\n",
              "      <td>-0.854514</td>\n",
              "    </tr>\n",
              "    <tr>\n",
              "      <th>7041</th>\n",
              "      <td>5934.0</td>\n",
              "      <td>1.0</td>\n",
              "      <td>1.0</td>\n",
              "      <td>0.0</td>\n",
              "      <td>1.0</td>\n",
              "      <td>2.0</td>\n",
              "      <td>1.0</td>\n",
              "      <td>0.0</td>\n",
              "      <td>0.0</td>\n",
              "      <td>0.0</td>\n",
              "      <td>...</td>\n",
              "      <td>0.0</td>\n",
              "      <td>0.0</td>\n",
              "      <td>0.0</td>\n",
              "      <td>1.0</td>\n",
              "      <td>3.0</td>\n",
              "      <td>1.0</td>\n",
              "      <td>2.273159</td>\n",
              "      <td>-1.155283</td>\n",
              "      <td>0.320338</td>\n",
              "      <td>-0.872095</td>\n",
              "    </tr>\n",
              "    <tr>\n",
              "      <th>7042</th>\n",
              "      <td>2226.0</td>\n",
              "      <td>1.0</td>\n",
              "      <td>0.0</td>\n",
              "      <td>0.0</td>\n",
              "      <td>1.0</td>\n",
              "      <td>0.0</td>\n",
              "      <td>1.0</td>\n",
              "      <td>2.0</td>\n",
              "      <td>0.0</td>\n",
              "      <td>2.0</td>\n",
              "      <td>...</td>\n",
              "      <td>2.0</td>\n",
              "      <td>2.0</td>\n",
              "      <td>2.0</td>\n",
              "      <td>1.0</td>\n",
              "      <td>0.0</td>\n",
              "      <td>0.0</td>\n",
              "      <td>-0.439916</td>\n",
              "      <td>1.369379</td>\n",
              "      <td>1.358961</td>\n",
              "      <td>2.012344</td>\n",
              "    </tr>\n",
              "  </tbody>\n",
              "</table>\n",
              "<p>7043 rows × 21 columns</p>\n",
              "</div>\n",
              "      <button class=\"colab-df-convert\" onclick=\"convertToInteractive('df-c152a767-b5e7-42c2-9878-7ea3dad9b323')\"\n",
              "              title=\"Convert this dataframe to an interactive table.\"\n",
              "              style=\"display:none;\">\n",
              "        \n",
              "  <svg xmlns=\"http://www.w3.org/2000/svg\" height=\"24px\"viewBox=\"0 0 24 24\"\n",
              "       width=\"24px\">\n",
              "    <path d=\"M0 0h24v24H0V0z\" fill=\"none\"/>\n",
              "    <path d=\"M18.56 5.44l.94 2.06.94-2.06 2.06-.94-2.06-.94-.94-2.06-.94 2.06-2.06.94zm-11 1L8.5 8.5l.94-2.06 2.06-.94-2.06-.94L8.5 2.5l-.94 2.06-2.06.94zm10 10l.94 2.06.94-2.06 2.06-.94-2.06-.94-.94-2.06-.94 2.06-2.06.94z\"/><path d=\"M17.41 7.96l-1.37-1.37c-.4-.4-.92-.59-1.43-.59-.52 0-1.04.2-1.43.59L10.3 9.45l-7.72 7.72c-.78.78-.78 2.05 0 2.83L4 21.41c.39.39.9.59 1.41.59.51 0 1.02-.2 1.41-.59l7.78-7.78 2.81-2.81c.8-.78.8-2.07 0-2.86zM5.41 20L4 18.59l7.72-7.72 1.47 1.35L5.41 20z\"/>\n",
              "  </svg>\n",
              "      </button>\n",
              "      \n",
              "  <style>\n",
              "    .colab-df-container {\n",
              "      display:flex;\n",
              "      flex-wrap:wrap;\n",
              "      gap: 12px;\n",
              "    }\n",
              "\n",
              "    .colab-df-convert {\n",
              "      background-color: #E8F0FE;\n",
              "      border: none;\n",
              "      border-radius: 50%;\n",
              "      cursor: pointer;\n",
              "      display: none;\n",
              "      fill: #1967D2;\n",
              "      height: 32px;\n",
              "      padding: 0 0 0 0;\n",
              "      width: 32px;\n",
              "    }\n",
              "\n",
              "    .colab-df-convert:hover {\n",
              "      background-color: #E2EBFA;\n",
              "      box-shadow: 0px 1px 2px rgba(60, 64, 67, 0.3), 0px 1px 3px 1px rgba(60, 64, 67, 0.15);\n",
              "      fill: #174EA6;\n",
              "    }\n",
              "\n",
              "    [theme=dark] .colab-df-convert {\n",
              "      background-color: #3B4455;\n",
              "      fill: #D2E3FC;\n",
              "    }\n",
              "\n",
              "    [theme=dark] .colab-df-convert:hover {\n",
              "      background-color: #434B5C;\n",
              "      box-shadow: 0px 1px 3px 1px rgba(0, 0, 0, 0.15);\n",
              "      filter: drop-shadow(0px 1px 2px rgba(0, 0, 0, 0.3));\n",
              "      fill: #FFFFFF;\n",
              "    }\n",
              "  </style>\n",
              "\n",
              "      <script>\n",
              "        const buttonEl =\n",
              "          document.querySelector('#df-c152a767-b5e7-42c2-9878-7ea3dad9b323 button.colab-df-convert');\n",
              "        buttonEl.style.display =\n",
              "          google.colab.kernel.accessAllowed ? 'block' : 'none';\n",
              "\n",
              "        async function convertToInteractive(key) {\n",
              "          const element = document.querySelector('#df-c152a767-b5e7-42c2-9878-7ea3dad9b323');\n",
              "          const dataTable =\n",
              "            await google.colab.kernel.invokeFunction('convertToInteractive',\n",
              "                                                     [key], {});\n",
              "          if (!dataTable) return;\n",
              "\n",
              "          const docLinkHtml = 'Like what you see? Visit the ' +\n",
              "            '<a target=\"_blank\" href=https://colab.research.google.com/notebooks/data_table.ipynb>data table notebook</a>'\n",
              "            + ' to learn more about interactive tables.';\n",
              "          element.innerHTML = '';\n",
              "          dataTable['output_type'] = 'display_data';\n",
              "          await google.colab.output.renderOutput(dataTable, element);\n",
              "          const docLink = document.createElement('div');\n",
              "          docLink.innerHTML = docLinkHtml;\n",
              "          element.appendChild(docLink);\n",
              "        }\n",
              "      </script>\n",
              "    </div>\n",
              "  </div>\n",
              "  "
            ]
          },
          "metadata": {},
          "execution_count": 32
        }
      ]
    },
    {
      "cell_type": "code",
      "source": [
        "fig,axes = plt.subplots(nrows=1,ncols=1,figsize=(15,10))\n",
        "sns.heatmap(df_corr_enc.corr(),annot=True,cmap='RdYlBu',ax=axes)"
      ],
      "metadata": {
        "colab": {
          "base_uri": "https://localhost:8080/",
          "height": 689
        },
        "id": "g27FJZJiTjzu",
        "outputId": "1adeca83-7bc3-4456-ced8-6b3dd1fdfbe3"
      },
      "execution_count": 33,
      "outputs": [
        {
          "output_type": "execute_result",
          "data": {
            "text/plain": [
              "<matplotlib.axes._subplots.AxesSubplot at 0x7f77184b78d0>"
            ]
          },
          "metadata": {},
          "execution_count": 33
        },
        {
          "output_type": "display_data",
          "data": {
            "text/plain": [
              "<Figure size 1080x720 with 2 Axes>"
            ],
            "image/png": "[encoded data removed]"
          },
          "metadata": {
            "needs_background": "light"
          }
        }
      ]
    },
    {
      "cell_type": "markdown",
      "source": [
        "Dengan memanfaatkan heatmap ,terlihat bahwa ternyata korelasi antara kolom dengan kolom lain ada yang berkorelasi cukup tinggi, yaitu korelasi antara tenure dengan TotalCharges . \n",
        "\n",
        "Selanjutnya, kita tidak dapat melakukan feature selection dari melihat kondisi heatmap nya, karena tidak ada yang berkorelasi secara penuh (>0.95) untuk antar fitur. Namun kita lihat terlebih dahulu secara visualisasi , bagaimana korelasi antara TotalCharges dengan Tenure"
      ],
      "metadata": {
        "id": "kgN8IyreUuua"
      }
    },
    {
      "cell_type": "code",
      "source": [
        "sns.scatterplot(data=df,x='tenure',y='TotalCharges')"
      ],
      "metadata": {
        "colab": {
          "base_uri": "https://localhost:8080/",
          "height": 296
        },
        "id": "TkzIV0drS8-8",
        "outputId": "fe1dd652-a3a2-4fed-967e-cc918876e4cd"
      },
      "execution_count": 34,
      "outputs": [
        {
          "output_type": "execute_result",
          "data": {
            "text/plain": [
              "<matplotlib.axes._subplots.AxesSubplot at 0x7f7715a06a90>"
            ]
          },
          "metadata": {},
          "execution_count": 34
        },
        {
          "output_type": "display_data",
          "data": {
            "text/plain": [
              "<Figure size 432x288 with 1 Axes>"
            ],
            "image/png": "[encoded data removed]"
          },
          "metadata": {
            "needs_background": "light"
          }
        }
      ]
    },
    {
      "cell_type": "markdown",
      "source": [
        "Terlihat secara visual bahwa hubungan tenure dengan TotalCharges seperti anak tangga, namun tidak begitu linear , sehingga akan kita skip saja mengenai keputusan eliminasi antara 2 kolom ini."
      ],
      "metadata": {
        "id": "aukG7By8TNmG"
      }
    },
    {
      "cell_type": "markdown",
      "source": [
        "# 5. Data Preprocessing\n",
        "\n",
        "Bagian ini berisi proses penyiapan data untuk proses pelatihan model, seperti pembagian data menjadi train-dev-test, transformasi data (normalisasi, encoding, dll.), dan proses-proses lain yang dibutuhkan.\n",
        "\n"
      ],
      "metadata": {
        "id": "5YlzlXdQXd6J"
      }
    },
    {
      "cell_type": "markdown",
      "source": [
        "Selanjutnya, kita lakukan data splitting terlebih dahulu untuk kemudian melakukan preprocessing data yang didasarkan dengan data trainingnya terlebih dahulu. Kemudian , tidak lupa kita lakukan label encoding terlebih dahulu pada kolom target, dimana jika Yes diganti 1 , dan No diganti 0"
      ],
      "metadata": {
        "id": "sHAiQJb9XkoB"
      }
    },
    {
      "cell_type": "code",
      "source": [
        "df['Churn'] = df['Churn'].map(dict(Yes=1,No=0))"
      ],
      "metadata": {
        "id": "iElCqMPccyyu"
      },
      "execution_count": 35,
      "outputs": []
    },
    {
      "cell_type": "code",
      "source": [
        "X = df.drop(columns='Churn',axis=1)\n",
        "y = df['Churn']"
      ],
      "metadata": {
        "id": "Gjpq9HMWZT6V"
      },
      "execution_count": 36,
      "outputs": []
    },
    {
      "cell_type": "code",
      "source": [
        "X_train,X_test,y_train,y_test = train_test_split(X,y,test_size=0.15,stratify=y,random_state=42)\n",
        "X_train,X_val,y_train,y_val = train_test_split(X_train,y_train,test_size=0.1,stratify=y_train,random_state=42)"
      ],
      "metadata": {
        "id": "iL2T2NwPXtUs"
      },
      "execution_count": 37,
      "outputs": []
    },
    {
      "cell_type": "code",
      "source": [
        "X_train.shape"
      ],
      "metadata": {
        "colab": {
          "base_uri": "https://localhost:8080/"
        },
        "id": "TTEaIFavapGn",
        "outputId": "fbb631cc-6abc-4947-b8b1-45de147d3388"
      },
      "execution_count": 38,
      "outputs": [
        {
          "output_type": "execute_result",
          "data": {
            "text/plain": [
              "(5387, 20)"
            ]
          },
          "metadata": {},
          "execution_count": 38
        }
      ]
    },
    {
      "cell_type": "code",
      "source": [
        "num_columns = X_train.select_dtypes(include=np.number).columns.tolist()\n",
        "cat_columns = X_train.select_dtypes(include=object).columns.tolist()\n",
        "num_columns,cat_columns"
      ],
      "metadata": {
        "colab": {
          "base_uri": "https://localhost:8080/"
        },
        "id": "JTFzfv6bKyvV",
        "outputId": "fc9f1e14-3e61-4562-ace1-952cbb30239b"
      },
      "execution_count": 39,
      "outputs": [
        {
          "output_type": "execute_result",
          "data": {
            "text/plain": [
              "(['SeniorCitizen', 'tenure', 'MonthlyCharges', 'TotalCharges'],\n",
              " ['customerID',\n",
              "  'gender',\n",
              "  'Partner',\n",
              "  'Dependents',\n",
              "  'PhoneService',\n",
              "  'MultipleLines',\n",
              "  'InternetService',\n",
              "  'OnlineSecurity',\n",
              "  'OnlineBackup',\n",
              "  'DeviceProtection',\n",
              "  'TechSupport',\n",
              "  'StreamingTV',\n",
              "  'StreamingMovies',\n",
              "  'Contract',\n",
              "  'PaperlessBilling',\n",
              "  'PaymentMethod'])"
            ]
          },
          "metadata": {},
          "execution_count": 39
        }
      ]
    },
    {
      "cell_type": "markdown",
      "source": [
        "Perlu kita ingat, bahwa SeniorCitizen bukan num_columns, sehingga tidak akan kita lakukan scaling pada data ini"
      ],
      "metadata": {
        "id": "bCrCvBVxTk1c"
      }
    },
    {
      "cell_type": "code",
      "source": [
        "num_columns.remove('SeniorCitizen')\n",
        "cat_columns.append('SeniorCitizen')"
      ],
      "metadata": {
        "id": "MEtlzWO5Tg8k"
      },
      "execution_count": 40,
      "outputs": []
    },
    {
      "cell_type": "code",
      "source": [
        "num_columns,cat_columns"
      ],
      "metadata": {
        "colab": {
          "base_uri": "https://localhost:8080/"
        },
        "id": "cKi5Gy5zT1CU",
        "outputId": "0bb64d01-32d6-49bf-fa45-0c388ea6704f"
      },
      "execution_count": 41,
      "outputs": [
        {
          "output_type": "execute_result",
          "data": {
            "text/plain": [
              "(['tenure', 'MonthlyCharges', 'TotalCharges'],\n",
              " ['customerID',\n",
              "  'gender',\n",
              "  'Partner',\n",
              "  'Dependents',\n",
              "  'PhoneService',\n",
              "  'MultipleLines',\n",
              "  'InternetService',\n",
              "  'OnlineSecurity',\n",
              "  'OnlineBackup',\n",
              "  'DeviceProtection',\n",
              "  'TechSupport',\n",
              "  'StreamingTV',\n",
              "  'StreamingMovies',\n",
              "  'Contract',\n",
              "  'PaperlessBilling',\n",
              "  'PaymentMethod',\n",
              "  'SeniorCitizen'])"
            ]
          },
          "metadata": {},
          "execution_count": 41
        }
      ]
    },
    {
      "cell_type": "markdown",
      "source": [
        "Setelah itau kita lakukan pemisahan antara data yang bersifat numerik dan kategorik untuk masing\" data train, test, dan validation"
      ],
      "metadata": {
        "id": "raLO3EOqT4-4"
      }
    },
    {
      "cell_type": "code",
      "source": [
        "X_train_num = X_train[num_columns]\n",
        "X_train_cat = X_train[cat_columns]\n",
        "\n",
        "X_test_num = X_test[num_columns]\n",
        "X_test_cat = X_test[cat_columns]\n",
        "\n",
        "X_val_num = X_val[num_columns]\n",
        "X_val_cat = X_val[cat_columns]"
      ],
      "metadata": {
        "id": "8_Wo6_3eT6ZI"
      },
      "execution_count": 42,
      "outputs": []
    },
    {
      "cell_type": "code",
      "source": [
        "X_train_num.head()"
      ],
      "metadata": {
        "colab": {
          "base_uri": "https://localhost:8080/",
          "height": 206
        },
        "id": "-Pzqc3u6Lbgy",
        "outputId": "743a25e7-fbd4-4373-e0a9-1751b2b76089"
      },
      "execution_count": 43,
      "outputs": [
        {
          "output_type": "execute_result",
          "data": {
            "text/plain": [
              "      tenure  MonthlyCharges  TotalCharges\n",
              "6000      52           19.65        928.40\n",
              "2669      19           95.15       1789.25\n",
              "167       72           89.05       6254.45\n",
              "670       53           19.85       1039.45\n",
              "6200      59           19.50       1222.65"
            ],
            "text/html": [
              "\n",
              "  <div id=\"df-8510d009-face-437d-b0d5-058644e4e250\">\n",
              "    <div class=\"colab-df-container\">\n",
              "      <div>\n",
              "<style scoped>\n",
              "    .dataframe tbody tr th:only-of-type {\n",
              "        vertical-align: middle;\n",
              "    }\n",
              "\n",
              "    .dataframe tbody tr th {\n",
              "        vertical-align: top;\n",
              "    }\n",
              "\n",
              "    .dataframe thead th {\n",
              "        text-align: right;\n",
              "    }\n",
              "</style>\n",
              "<table border=\"1\" class=\"dataframe\">\n",
              "  <thead>\n",
              "    <tr style=\"text-align: right;\">\n",
              "      <th></th>\n",
              "      <th>tenure</th>\n",
              "      <th>MonthlyCharges</th>\n",
              "      <th>TotalCharges</th>\n",
              "    </tr>\n",
              "  </thead>\n",
              "  <tbody>\n",
              "    <tr>\n",
              "      <th>6000</th>\n",
              "      <td>52</td>\n",
              "      <td>19.65</td>\n",
              "      <td>928.40</td>\n",
              "    </tr>\n",
              "    <tr>\n",
              "      <th>2669</th>\n",
              "      <td>19</td>\n",
              "      <td>95.15</td>\n",
              "      <td>1789.25</td>\n",
              "    </tr>\n",
              "    <tr>\n",
              "      <th>167</th>\n",
              "      <td>72</td>\n",
              "      <td>89.05</td>\n",
              "      <td>6254.45</td>\n",
              "    </tr>\n",
              "    <tr>\n",
              "      <th>670</th>\n",
              "      <td>53</td>\n",
              "      <td>19.85</td>\n",
              "      <td>1039.45</td>\n",
              "    </tr>\n",
              "    <tr>\n",
              "      <th>6200</th>\n",
              "      <td>59</td>\n",
              "      <td>19.50</td>\n",
              "      <td>1222.65</td>\n",
              "    </tr>\n",
              "  </tbody>\n",
              "</table>\n",
              "</div>\n",
              "      <button class=\"colab-df-convert\" onclick=\"convertToInteractive('df-8510d009-face-437d-b0d5-058644e4e250')\"\n",
              "              title=\"Convert this dataframe to an interactive table.\"\n",
              "              style=\"display:none;\">\n",
              "        \n",
              "  <svg xmlns=\"http://www.w3.org/2000/svg\" height=\"24px\"viewBox=\"0 0 24 24\"\n",
              "       width=\"24px\">\n",
              "    <path d=\"M0 0h24v24H0V0z\" fill=\"none\"/>\n",
              "    <path d=\"M18.56 5.44l.94 2.06.94-2.06 2.06-.94-2.06-.94-.94-2.06-.94 2.06-2.06.94zm-11 1L8.5 8.5l.94-2.06 2.06-.94-2.06-.94L8.5 2.5l-.94 2.06-2.06.94zm10 10l.94 2.06.94-2.06 2.06-.94-2.06-.94-.94-2.06-.94 2.06-2.06.94z\"/><path d=\"M17.41 7.96l-1.37-1.37c-.4-.4-.92-.59-1.43-.59-.52 0-1.04.2-1.43.59L10.3 9.45l-7.72 7.72c-.78.78-.78 2.05 0 2.83L4 21.41c.39.39.9.59 1.41.59.51 0 1.02-.2 1.41-.59l7.78-7.78 2.81-2.81c.8-.78.8-2.07 0-2.86zM5.41 20L4 18.59l7.72-7.72 1.47 1.35L5.41 20z\"/>\n",
              "  </svg>\n",
              "      </button>\n",
              "      \n",
              "  <style>\n",
              "    .colab-df-container {\n",
              "      display:flex;\n",
              "      flex-wrap:wrap;\n",
              "      gap: 12px;\n",
              "    }\n",
              "\n",
              "    .colab-df-convert {\n",
              "      background-color: #E8F0FE;\n",
              "      border: none;\n",
              "      border-radius: 50%;\n",
              "      cursor: pointer;\n",
              "      display: none;\n",
              "      fill: #1967D2;\n",
              "      height: 32px;\n",
              "      padding: 0 0 0 0;\n",
              "      width: 32px;\n",
              "    }\n",
              "\n",
              "    .colab-df-convert:hover {\n",
              "      background-color: #E2EBFA;\n",
              "      box-shadow: 0px 1px 2px rgba(60, 64, 67, 0.3), 0px 1px 3px 1px rgba(60, 64, 67, 0.15);\n",
              "      fill: #174EA6;\n",
              "    }\n",
              "\n",
              "    [theme=dark] .colab-df-convert {\n",
              "      background-color: #3B4455;\n",
              "      fill: #D2E3FC;\n",
              "    }\n",
              "\n",
              "    [theme=dark] .colab-df-convert:hover {\n",
              "      background-color: #434B5C;\n",
              "      box-shadow: 0px 1px 3px 1px rgba(0, 0, 0, 0.15);\n",
              "      filter: drop-shadow(0px 1px 2px rgba(0, 0, 0, 0.3));\n",
              "      fill: #FFFFFF;\n",
              "    }\n",
              "  </style>\n",
              "\n",
              "      <script>\n",
              "        const buttonEl =\n",
              "          document.querySelector('#df-8510d009-face-437d-b0d5-058644e4e250 button.colab-df-convert');\n",
              "        buttonEl.style.display =\n",
              "          google.colab.kernel.accessAllowed ? 'block' : 'none';\n",
              "\n",
              "        async function convertToInteractive(key) {\n",
              "          const element = document.querySelector('#df-8510d009-face-437d-b0d5-058644e4e250');\n",
              "          const dataTable =\n",
              "            await google.colab.kernel.invokeFunction('convertToInteractive',\n",
              "                                                     [key], {});\n",
              "          if (!dataTable) return;\n",
              "\n",
              "          const docLinkHtml = 'Like what you see? Visit the ' +\n",
              "            '<a target=\"_blank\" href=https://colab.research.google.com/notebooks/data_table.ipynb>data table notebook</a>'\n",
              "            + ' to learn more about interactive tables.';\n",
              "          element.innerHTML = '';\n",
              "          dataTable['output_type'] = 'display_data';\n",
              "          await google.colab.output.renderOutput(dataTable, element);\n",
              "          const docLink = document.createElement('div');\n",
              "          docLink.innerHTML = docLinkHtml;\n",
              "          element.appendChild(docLink);\n",
              "        }\n",
              "      </script>\n",
              "    </div>\n",
              "  </div>\n",
              "  "
            ]
          },
          "metadata": {},
          "execution_count": 43
        }
      ]
    },
    {
      "cell_type": "code",
      "source": [
        "X_train_cat.head()"
      ],
      "metadata": {
        "colab": {
          "base_uri": "https://localhost:8080/",
          "height": 357
        },
        "id": "N5i0K5cRLeGR",
        "outputId": "602fd58f-eec3-4f72-e90e-1e5544a3edd6"
      },
      "execution_count": 44,
      "outputs": [
        {
          "output_type": "execute_result",
          "data": {
            "text/plain": [
              "      customerID  gender Partner Dependents PhoneService MultipleLines  \\\n",
              "6000  9503-XJUME    Male      No        Yes          Yes            No   \n",
              "2669  4659-NZRUF  Female      No         No          Yes           Yes   \n",
              "167   5997-OPVFA    Male     Yes         No          Yes           Yes   \n",
              "670   5642-MHDQT  Female     Yes        Yes          Yes            No   \n",
              "6200  7328-ZJAJO  Female     Yes        Yes          Yes            No   \n",
              "\n",
              "     InternetService       OnlineSecurity         OnlineBackup  \\\n",
              "6000              No  No internet service  No internet service   \n",
              "2669     Fiber optic                  Yes                  Yes   \n",
              "167              DSL                  Yes                  Yes   \n",
              "670               No  No internet service  No internet service   \n",
              "6200              No  No internet service  No internet service   \n",
              "\n",
              "         DeviceProtection          TechSupport          StreamingTV  \\\n",
              "6000  No internet service  No internet service  No internet service   \n",
              "2669                   No                   No                   No   \n",
              "167                   Yes                  Yes                  Yes   \n",
              "670   No internet service  No internet service  No internet service   \n",
              "6200  No internet service  No internet service  No internet service   \n",
              "\n",
              "          StreamingMovies        Contract PaperlessBilling  \\\n",
              "6000  No internet service        One year               No   \n",
              "2669                  Yes  Month-to-month              Yes   \n",
              "167                   Yes        Two year              Yes   \n",
              "670   No internet service        One year              Yes   \n",
              "6200  No internet service        Two year               No   \n",
              "\n",
              "                  PaymentMethod  SeniorCitizen  \n",
              "6000    Credit card (automatic)              0  \n",
              "2669           Electronic check              0  \n",
              "167   Bank transfer (automatic)              0  \n",
              "670   Bank transfer (automatic)              0  \n",
              "6200    Credit card (automatic)              0  "
            ],
            "text/html": [
              "\n",
              "  <div id=\"df-389dea65-21b1-4f29-bb03-a3c4e54eb432\">\n",
              "    <div class=\"colab-df-container\">\n",
              "      <div>\n",
              "<style scoped>\n",
              "    .dataframe tbody tr th:only-of-type {\n",
              "        vertical-align: middle;\n",
              "    }\n",
              "\n",
              "    .dataframe tbody tr th {\n",
              "        vertical-align: top;\n",
              "    }\n",
              "\n",
              "    .dataframe thead th {\n",
              "        text-align: right;\n",
              "    }\n",
              "</style>\n",
              "<table border=\"1\" class=\"dataframe\">\n",
              "  <thead>\n",
              "    <tr style=\"text-align: right;\">\n",
              "      <th></th>\n",
              "      <th>customerID</th>\n",
              "      <th>gender</th>\n",
              "      <th>Partner</th>\n",
              "      <th>Dependents</th>\n",
              "      <th>PhoneService</th>\n",
              "      <th>MultipleLines</th>\n",
              "      <th>InternetService</th>\n",
              "      <th>OnlineSecurity</th>\n",
              "      <th>OnlineBackup</th>\n",
              "      <th>DeviceProtection</th>\n",
              "      <th>TechSupport</th>\n",
              "      <th>StreamingTV</th>\n",
              "      <th>StreamingMovies</th>\n",
              "      <th>Contract</th>\n",
              "      <th>PaperlessBilling</th>\n",
              "      <th>PaymentMethod</th>\n",
              "      <th>SeniorCitizen</th>\n",
              "    </tr>\n",
              "  </thead>\n",
              "  <tbody>\n",
              "    <tr>\n",
              "      <th>6000</th>\n",
              "      <td>9503-XJUME</td>\n",
              "      <td>Male</td>\n",
              "      <td>No</td>\n",
              "      <td>Yes</td>\n",
              "      <td>Yes</td>\n",
              "      <td>No</td>\n",
              "      <td>No</td>\n",
              "      <td>No internet service</td>\n",
              "      <td>No internet service</td>\n",
              "      <td>No internet service</td>\n",
              "      <td>No internet service</td>\n",
              "      <td>No internet service</td>\n",
              "      <td>No internet service</td>\n",
              "      <td>One year</td>\n",
              "      <td>No</td>\n",
              "      <td>Credit card (automatic)</td>\n",
              "      <td>0</td>\n",
              "    </tr>\n",
              "    <tr>\n",
              "      <th>2669</th>\n",
              "      <td>4659-NZRUF</td>\n",
              "      <td>Female</td>\n",
              "      <td>No</td>\n",
              "      <td>No</td>\n",
              "      <td>Yes</td>\n",
              "      <td>Yes</td>\n",
              "      <td>Fiber optic</td>\n",
              "      <td>Yes</td>\n",
              "      <td>Yes</td>\n",
              "      <td>No</td>\n",
              "      <td>No</td>\n",
              "      <td>No</td>\n",
              "      <td>Yes</td>\n",
              "      <td>Month-to-month</td>\n",
              "      <td>Yes</td>\n",
              "      <td>Electronic check</td>\n",
              "      <td>0</td>\n",
              "    </tr>\n",
              "    <tr>\n",
              "      <th>167</th>\n",
              "      <td>5997-OPVFA</td>\n",
              "      <td>Male</td>\n",
              "      <td>Yes</td>\n",
              "      <td>No</td>\n",
              "      <td>Yes</td>\n",
              "      <td>Yes</td>\n",
              "      <td>DSL</td>\n",
              "      <td>Yes</td>\n",
              "      <td>Yes</td>\n",
              "      <td>Yes</td>\n",
              "      <td>Yes</td>\n",
              "      <td>Yes</td>\n",
              "      <td>Yes</td>\n",
              "      <td>Two year</td>\n",
              "      <td>Yes</td>\n",
              "      <td>Bank transfer (automatic)</td>\n",
              "      <td>0</td>\n",
              "    </tr>\n",
              "    <tr>\n",
              "      <th>670</th>\n",
              "      <td>5642-MHDQT</td>\n",
              "      <td>Female</td>\n",
              "      <td>Yes</td>\n",
              "      <td>Yes</td>\n",
              "      <td>Yes</td>\n",
              "      <td>No</td>\n",
              "      <td>No</td>\n",
              "      <td>No internet service</td>\n",
              "      <td>No internet service</td>\n",
              "      <td>No internet service</td>\n",
              "      <td>No internet service</td>\n",
              "      <td>No internet service</td>\n",
              "      <td>No internet service</td>\n",
              "      <td>One year</td>\n",
              "      <td>Yes</td>\n",
              "      <td>Bank transfer (automatic)</td>\n",
              "      <td>0</td>\n",
              "    </tr>\n",
              "    <tr>\n",
              "      <th>6200</th>\n",
              "      <td>7328-ZJAJO</td>\n",
              "      <td>Female</td>\n",
              "      <td>Yes</td>\n",
              "      <td>Yes</td>\n",
              "      <td>Yes</td>\n",
              "      <td>No</td>\n",
              "      <td>No</td>\n",
              "      <td>No internet service</td>\n",
              "      <td>No internet service</td>\n",
              "      <td>No internet service</td>\n",
              "      <td>No internet service</td>\n",
              "      <td>No internet service</td>\n",
              "      <td>No internet service</td>\n",
              "      <td>Two year</td>\n",
              "      <td>No</td>\n",
              "      <td>Credit card (automatic)</td>\n",
              "      <td>0</td>\n",
              "    </tr>\n",
              "  </tbody>\n",
              "</table>\n",
              "</div>\n",
              "      <button class=\"colab-df-convert\" onclick=\"convertToInteractive('df-389dea65-21b1-4f29-bb03-a3c4e54eb432')\"\n",
              "              title=\"Convert this dataframe to an interactive table.\"\n",
              "              style=\"display:none;\">\n",
              "        \n",
              "  <svg xmlns=\"http://www.w3.org/2000/svg\" height=\"24px\"viewBox=\"0 0 24 24\"\n",
              "       width=\"24px\">\n",
              "    <path d=\"M0 0h24v24H0V0z\" fill=\"none\"/>\n",
              "    <path d=\"M18.56 5.44l.94 2.06.94-2.06 2.06-.94-2.06-.94-.94-2.06-.94 2.06-2.06.94zm-11 1L8.5 8.5l.94-2.06 2.06-.94-2.06-.94L8.5 2.5l-.94 2.06-2.06.94zm10 10l.94 2.06.94-2.06 2.06-.94-2.06-.94-.94-2.06-.94 2.06-2.06.94z\"/><path d=\"M17.41 7.96l-1.37-1.37c-.4-.4-.92-.59-1.43-.59-.52 0-1.04.2-1.43.59L10.3 9.45l-7.72 7.72c-.78.78-.78 2.05 0 2.83L4 21.41c.39.39.9.59 1.41.59.51 0 1.02-.2 1.41-.59l7.78-7.78 2.81-2.81c.8-.78.8-2.07 0-2.86zM5.41 20L4 18.59l7.72-7.72 1.47 1.35L5.41 20z\"/>\n",
              "  </svg>\n",
              "      </button>\n",
              "      \n",
              "  <style>\n",
              "    .colab-df-container {\n",
              "      display:flex;\n",
              "      flex-wrap:wrap;\n",
              "      gap: 12px;\n",
              "    }\n",
              "\n",
              "    .colab-df-convert {\n",
              "      background-color: #E8F0FE;\n",
              "      border: none;\n",
              "      border-radius: 50%;\n",
              "      cursor: pointer;\n",
              "      display: none;\n",
              "      fill: #1967D2;\n",
              "      height: 32px;\n",
              "      padding: 0 0 0 0;\n",
              "      width: 32px;\n",
              "    }\n",
              "\n",
              "    .colab-df-convert:hover {\n",
              "      background-color: #E2EBFA;\n",
              "      box-shadow: 0px 1px 2px rgba(60, 64, 67, 0.3), 0px 1px 3px 1px rgba(60, 64, 67, 0.15);\n",
              "      fill: #174EA6;\n",
              "    }\n",
              "\n",
              "    [theme=dark] .colab-df-convert {\n",
              "      background-color: #3B4455;\n",
              "      fill: #D2E3FC;\n",
              "    }\n",
              "\n",
              "    [theme=dark] .colab-df-convert:hover {\n",
              "      background-color: #434B5C;\n",
              "      box-shadow: 0px 1px 3px 1px rgba(0, 0, 0, 0.15);\n",
              "      filter: drop-shadow(0px 1px 2px rgba(0, 0, 0, 0.3));\n",
              "      fill: #FFFFFF;\n",
              "    }\n",
              "  </style>\n",
              "\n",
              "      <script>\n",
              "        const buttonEl =\n",
              "          document.querySelector('#df-389dea65-21b1-4f29-bb03-a3c4e54eb432 button.colab-df-convert');\n",
              "        buttonEl.style.display =\n",
              "          google.colab.kernel.accessAllowed ? 'block' : 'none';\n",
              "\n",
              "        async function convertToInteractive(key) {\n",
              "          const element = document.querySelector('#df-389dea65-21b1-4f29-bb03-a3c4e54eb432');\n",
              "          const dataTable =\n",
              "            await google.colab.kernel.invokeFunction('convertToInteractive',\n",
              "                                                     [key], {});\n",
              "          if (!dataTable) return;\n",
              "\n",
              "          const docLinkHtml = 'Like what you see? Visit the ' +\n",
              "            '<a target=\"_blank\" href=https://colab.research.google.com/notebooks/data_table.ipynb>data table notebook</a>'\n",
              "            + ' to learn more about interactive tables.';\n",
              "          element.innerHTML = '';\n",
              "          dataTable['output_type'] = 'display_data';\n",
              "          await google.colab.output.renderOutput(dataTable, element);\n",
              "          const docLink = document.createElement('div');\n",
              "          docLink.innerHTML = docLinkHtml;\n",
              "          element.appendChild(docLink);\n",
              "        }\n",
              "      </script>\n",
              "    </div>\n",
              "  </div>\n",
              "  "
            ]
          },
          "metadata": {},
          "execution_count": 44
        }
      ]
    },
    {
      "cell_type": "markdown",
      "source": [
        "### Handling Outlier\n",
        "\n",
        "Pada kasus ini, saya tidak melakukan handling outlier, karena seperti yang sudah disebutkan sebelumnya, bahwa tidak ada data yang 'valuenya menyimpang' setelah dilakukan EDA sebelumnya"
      ],
      "metadata": {
        "id": "0Y5jY3R7a-zr"
      }
    },
    {
      "cell_type": "markdown",
      "source": [
        "### Handling Missing Values\n",
        "\n",
        "Sebelumnya, kita melihat bahwa missing values terjadi pada dataset dengan kolom TotalCharges. Kita tahu bahwa distribusinya merupakan skew, sehingga akan kita coba lakukan imputasi menggunakan simple imputer dengan strategy 'Median'"
      ],
      "metadata": {
        "id": "zF8roI-pbOLP"
      }
    },
    {
      "cell_type": "code",
      "source": [
        "imputer = SimpleImputer(missing_values=np.nan,strategy='median')\n",
        "\n",
        "imputer.fit(X_train_num)\n",
        "\n",
        "X_train_num = imputer.transform(X_train_num)\n",
        "\n",
        "X_test_num = imputer.transform(X_test_num)\n",
        "\n",
        "X_val_num = imputer.transform(X_val_num)"
      ],
      "metadata": {
        "id": "nzfT1fOmacOM"
      },
      "execution_count": 45,
      "outputs": []
    },
    {
      "cell_type": "code",
      "source": [
        "X_train_num = pd.DataFrame(X_train_num,columns=num_columns)\n",
        "X_test_num = pd.DataFrame(X_test_num,columns=num_columns)\n",
        "X_val_num = pd.DataFrame(X_val_num,columns=num_columns)"
      ],
      "metadata": {
        "id": "l4ix57rMdkuH"
      },
      "execution_count": 46,
      "outputs": []
    },
    {
      "cell_type": "code",
      "source": [
        "print(X_train_num.isna().values.any())\n",
        "print(X_test_num.isna().values.any())\n",
        "print(X_val_num.isna().values.any())"
      ],
      "metadata": {
        "colab": {
          "base_uri": "https://localhost:8080/"
        },
        "id": "cYuQTQUdeT91",
        "outputId": "17c75937-e0a9-43a4-b39a-94bb104f3a8a"
      },
      "execution_count": 47,
      "outputs": [
        {
          "output_type": "stream",
          "name": "stdout",
          "text": [
            "False\n",
            "False\n",
            "False\n"
          ]
        }
      ]
    },
    {
      "cell_type": "markdown",
      "source": [
        "Terlihat bahwa data numerik pada train test dan validation sudah terinput semua data nan nya. Selanjutnya kita ke Feature Selection"
      ],
      "metadata": {
        "id": "agUNEz1Nef15"
      }
    },
    {
      "cell_type": "markdown",
      "source": [
        "### Feature Selection\n",
        "\n",
        "Pada kasus ini, kita akan memanfaatkan X_train dan y_train untuk melihat feature importance nya dengan menggunakan RandomForestClassifier"
      ],
      "metadata": {
        "id": "f4em5k2dg-pO"
      }
    },
    {
      "cell_type": "code",
      "source": [
        "X_train_num.shape"
      ],
      "metadata": {
        "colab": {
          "base_uri": "https://localhost:8080/"
        },
        "id": "foXe7INzog-w",
        "outputId": "f298ed88-35df-4eec-8e48-5e2d49ee242e"
      },
      "execution_count": 48,
      "outputs": [
        {
          "output_type": "execute_result",
          "data": {
            "text/plain": [
              "(5387, 3)"
            ]
          },
          "metadata": {},
          "execution_count": 48
        }
      ]
    },
    {
      "cell_type": "code",
      "source": [
        "X_train_cat.shape"
      ],
      "metadata": {
        "colab": {
          "base_uri": "https://localhost:8080/"
        },
        "id": "dUzjeYh0ocJ8",
        "outputId": "0e2f29f8-481f-4596-dfcb-c26735d23aaa"
      },
      "execution_count": 49,
      "outputs": [
        {
          "output_type": "execute_result",
          "data": {
            "text/plain": [
              "(5387, 17)"
            ]
          },
          "metadata": {},
          "execution_count": 49
        }
      ]
    },
    {
      "cell_type": "code",
      "source": [
        "X_train = pd.DataFrame(np.concatenate((np.array(X_train_num),np.array(X_train_cat)),axis=1),columns=num_columns+cat_columns)"
      ],
      "metadata": {
        "id": "-Ew1CxSXjmrF"
      },
      "execution_count": 50,
      "outputs": []
    },
    {
      "cell_type": "markdown",
      "source": [
        "Lakukan hal yang sama X_train = pd.DataFrame(...) kepada X_test dan X_val"
      ],
      "metadata": {
        "id": "JzHXGoaKqQsq"
      }
    },
    {
      "cell_type": "code",
      "source": [
        "X_test = pd.DataFrame(np.concatenate((np.array(X_test_num),np.array(X_test_cat)),axis=1),columns=num_columns+cat_columns)\n",
        "X_val = pd.DataFrame(np.concatenate((np.array(X_val_num),np.array(X_val_cat)),axis=1),columns=num_columns+cat_columns)"
      ],
      "metadata": {
        "id": "H4F16gn0qWad"
      },
      "execution_count": 51,
      "outputs": []
    },
    {
      "cell_type": "code",
      "source": [
        "X_train_inference = X_train.copy()\n",
        "y_train_inference = y_train.copy()"
      ],
      "metadata": {
        "id": "vhyVpkAFjWWn"
      },
      "execution_count": 52,
      "outputs": []
    },
    {
      "cell_type": "code",
      "source": [
        "feature_encoder = LabelEncoder()\n",
        "\n",
        "for item in X_train_inference:\n",
        "  if X_train_inference[item].dtypes == 'object':\n",
        "    X_train_inference[item] = feature_encoder.fit_transform(X_train_inference[item])"
      ],
      "metadata": {
        "id": "TSgrOGyMhQr8"
      },
      "execution_count": 53,
      "outputs": []
    },
    {
      "cell_type": "code",
      "source": [
        "feature_scaler = StandardScaler()\n",
        "\n",
        "X_train_inference = feature_scaler.fit_transform(X_train_inference)"
      ],
      "metadata": {
        "id": "LqkF9ILmkBJ3"
      },
      "execution_count": 54,
      "outputs": []
    },
    {
      "cell_type": "code",
      "source": [
        "X_train_inference = pd.DataFrame(X_train_inference,columns=X_train.columns.tolist())\n",
        "X_train_inference"
      ],
      "metadata": {
        "colab": {
          "base_uri": "https://localhost:8080/",
          "height": 488
        },
        "id": "3FH18k41j6hQ",
        "outputId": "c6b66f5b-307c-4ac7-c805-c355e76d99a4"
      },
      "execution_count": 55,
      "outputs": [
        {
          "output_type": "execute_result",
          "data": {
            "text/plain": [
              "        tenure  MonthlyCharges  TotalCharges  customerID    gender   Partner  \\\n",
              "0     0.797485       -1.368370     -0.379073    1.561965  0.993524 -0.967666   \n",
              "1    -0.541949        1.060869      0.225531   -0.118321 -1.006518 -0.967666   \n",
              "2     1.609264        0.806933      1.456071    0.365895  0.993524  1.033415   \n",
              "3     0.838074       -1.359381     -0.287083    0.232140 -1.006518  1.033415   \n",
              "4     1.081608       -1.375112     -0.147764    0.826960 -1.006518  1.033415   \n",
              "...        ...             ...           ...         ...       ...       ...   \n",
              "5382  1.081608        0.323782      1.069444    1.104757  0.993524  1.033415   \n",
              "5383  1.487497       -0.298696      0.946790    0.817958  0.993524  1.033415   \n",
              "5384  1.609264       -1.240279      0.200200    0.120250 -1.006518  1.033415   \n",
              "5385 -1.272550       -1.256009     -1.586282    0.142757  0.993524 -0.967666   \n",
              "5386  1.203375       -1.388595     -0.219090   -0.353034 -1.006518 -0.967666   \n",
              "\n",
              "      Dependents  PhoneService  MultipleLines  InternetService  \\\n",
              "0       1.536416      0.332749      -1.004342         1.519861   \n",
              "1      -0.650865      0.332749       1.106206         0.168567   \n",
              "2      -0.650865      0.332749       1.106206        -1.182727   \n",
              "3       1.536416      0.332749      -1.004342         1.519861   \n",
              "4       1.536416      0.332749      -1.004342         1.519861   \n",
              "...          ...           ...            ...              ...   \n",
              "5382    1.536416      0.332749      -1.004342        -1.182727   \n",
              "5383    1.536416      0.332749      -1.004342        -1.182727   \n",
              "5384   -0.650865      0.332749       1.106206         1.519861   \n",
              "5385    1.536416     -3.005272       0.050932        -1.182727   \n",
              "5386   -0.650865      0.332749      -1.004342         1.519861   \n",
              "\n",
              "      OnlineSecurity  OnlineBackup  DeviceProtection  TechSupport  \\\n",
              "0           0.248052      0.101783          0.105626     0.226611   \n",
              "1           1.414069      1.239350         -1.032389    -0.933803   \n",
              "2           1.414069      1.239350          1.243641     1.387026   \n",
              "3           0.248052      0.101783          0.105626     0.226611   \n",
              "4           0.248052      0.101783          0.105626     0.226611   \n",
              "...              ...           ...               ...          ...   \n",
              "5382       -0.917965      1.239350          1.243641     1.387026   \n",
              "5383        1.414069      1.239350          1.243641    -0.933803   \n",
              "5384        0.248052      0.101783          0.105626     0.226611   \n",
              "5385       -0.917965     -1.035783         -1.032389    -0.933803   \n",
              "5386        0.248052      0.101783          0.105626     0.226611   \n",
              "\n",
              "      StreamingTV  StreamingMovies  Contract  PaperlessBilling  PaymentMethod  \\\n",
              "0        0.010505         0.005042  0.368013         -1.204518      -0.544710   \n",
              "1       -1.121277         1.136776 -0.828419          0.830207       0.392483   \n",
              "2        1.142287         1.136776  1.564445          0.830207      -1.481903   \n",
              "3        0.010505         0.005042  0.368013          0.830207      -1.481903   \n",
              "4        0.010505         0.005042  1.564445         -1.204518      -0.544710   \n",
              "...           ...              ...       ...               ...            ...   \n",
              "5382     1.142287         1.136776  0.368013         -1.204518      -0.544710   \n",
              "5383    -1.121277        -1.126692  1.564445          0.830207      -1.481903   \n",
              "5384     0.010505         0.005042  1.564445         -1.204518       0.392483   \n",
              "5385    -1.121277        -1.126692 -0.828419         -1.204518       1.329677   \n",
              "5386     0.010505         0.005042  1.564445          0.830207      -0.544710   \n",
              "\n",
              "      SeniorCitizen  \n",
              "0          -0.43947  \n",
              "1          -0.43947  \n",
              "2          -0.43947  \n",
              "3          -0.43947  \n",
              "4          -0.43947  \n",
              "...             ...  \n",
              "5382       -0.43947  \n",
              "5383       -0.43947  \n",
              "5384       -0.43947  \n",
              "5385       -0.43947  \n",
              "5386       -0.43947  \n",
              "\n",
              "[5387 rows x 20 columns]"
            ],
            "text/html": [
              "\n",
              "  <div id=\"df-d17a1350-b572-441c-b846-620e42ed8eb7\">\n",
              "    <div class=\"colab-df-container\">\n",
              "      <div>\n",
              "<style scoped>\n",
              "    .dataframe tbody tr th:only-of-type {\n",
              "        vertical-align: middle;\n",
              "    }\n",
              "\n",
              "    .dataframe tbody tr th {\n",
              "        vertical-align: top;\n",
              "    }\n",
              "\n",
              "    .dataframe thead th {\n",
              "        text-align: right;\n",
              "    }\n",
              "</style>\n",
              "<table border=\"1\" class=\"dataframe\">\n",
              "  <thead>\n",
              "    <tr style=\"text-align: right;\">\n",
              "      <th></th>\n",
              "      <th>tenure</th>\n",
              "      <th>MonthlyCharges</th>\n",
              "      <th>TotalCharges</th>\n",
              "      <th>customerID</th>\n",
              "      <th>gender</th>\n",
              "      <th>Partner</th>\n",
              "      <th>Dependents</th>\n",
              "      <th>PhoneService</th>\n",
              "      <th>MultipleLines</th>\n",
              "      <th>InternetService</th>\n",
              "      <th>OnlineSecurity</th>\n",
              "      <th>OnlineBackup</th>\n",
              "      <th>DeviceProtection</th>\n",
              "      <th>TechSupport</th>\n",
              "      <th>StreamingTV</th>\n",
              "      <th>StreamingMovies</th>\n",
              "      <th>Contract</th>\n",
              "      <th>PaperlessBilling</th>\n",
              "      <th>PaymentMethod</th>\n",
              "      <th>SeniorCitizen</th>\n",
              "    </tr>\n",
              "  </thead>\n",
              "  <tbody>\n",
              "    <tr>\n",
              "      <th>0</th>\n",
              "      <td>0.797485</td>\n",
              "      <td>-1.368370</td>\n",
              "      <td>-0.379073</td>\n",
              "      <td>1.561965</td>\n",
              "      <td>0.993524</td>\n",
              "      <td>-0.967666</td>\n",
              "      <td>1.536416</td>\n",
              "      <td>0.332749</td>\n",
              "      <td>-1.004342</td>\n",
              "      <td>1.519861</td>\n",
              "      <td>0.248052</td>\n",
              "      <td>0.101783</td>\n",
              "      <td>0.105626</td>\n",
              "      <td>0.226611</td>\n",
              "      <td>0.010505</td>\n",
              "      <td>0.005042</td>\n",
              "      <td>0.368013</td>\n",
              "      <td>-1.204518</td>\n",
              "      <td>-0.544710</td>\n",
              "      <td>-0.43947</td>\n",
              "    </tr>\n",
              "    <tr>\n",
              "      <th>1</th>\n",
              "      <td>-0.541949</td>\n",
              "      <td>1.060869</td>\n",
              "      <td>0.225531</td>\n",
              "      <td>-0.118321</td>\n",
              "      <td>-1.006518</td>\n",
              "      <td>-0.967666</td>\n",
              "      <td>-0.650865</td>\n",
              "      <td>0.332749</td>\n",
              "      <td>1.106206</td>\n",
              "      <td>0.168567</td>\n",
              "      <td>1.414069</td>\n",
              "      <td>1.239350</td>\n",
              "      <td>-1.032389</td>\n",
              "      <td>-0.933803</td>\n",
              "      <td>-1.121277</td>\n",
              "      <td>1.136776</td>\n",
              "      <td>-0.828419</td>\n",
              "      <td>0.830207</td>\n",
              "      <td>0.392483</td>\n",
              "      <td>-0.43947</td>\n",
              "    </tr>\n",
              "    <tr>\n",
              "      <th>2</th>\n",
              "      <td>1.609264</td>\n",
              "      <td>0.806933</td>\n",
              "      <td>1.456071</td>\n",
              "      <td>0.365895</td>\n",
              "      <td>0.993524</td>\n",
              "      <td>1.033415</td>\n",
              "      <td>-0.650865</td>\n",
              "      <td>0.332749</td>\n",
              "      <td>1.106206</td>\n",
              "      <td>-1.182727</td>\n",
              "      <td>1.414069</td>\n",
              "      <td>1.239350</td>\n",
              "      <td>1.243641</td>\n",
              "      <td>1.387026</td>\n",
              "      <td>1.142287</td>\n",
              "      <td>1.136776</td>\n",
              "      <td>1.564445</td>\n",
              "      <td>0.830207</td>\n",
              "      <td>-1.481903</td>\n",
              "      <td>-0.43947</td>\n",
              "    </tr>\n",
              "    <tr>\n",
              "      <th>3</th>\n",
              "      <td>0.838074</td>\n",
              "      <td>-1.359381</td>\n",
              "      <td>-0.287083</td>\n",
              "      <td>0.232140</td>\n",
              "      <td>-1.006518</td>\n",
              "      <td>1.033415</td>\n",
              "      <td>1.536416</td>\n",
              "      <td>0.332749</td>\n",
              "      <td>-1.004342</td>\n",
              "      <td>1.519861</td>\n",
              "      <td>0.248052</td>\n",
              "      <td>0.101783</td>\n",
              "      <td>0.105626</td>\n",
              "      <td>0.226611</td>\n",
              "      <td>0.010505</td>\n",
              "      <td>0.005042</td>\n",
              "      <td>0.368013</td>\n",
              "      <td>0.830207</td>\n",
              "      <td>-1.481903</td>\n",
              "      <td>-0.43947</td>\n",
              "    </tr>\n",
              "    <tr>\n",
              "      <th>4</th>\n",
              "      <td>1.081608</td>\n",
              "      <td>-1.375112</td>\n",
              "      <td>-0.147764</td>\n",
              "      <td>0.826960</td>\n",
              "      <td>-1.006518</td>\n",
              "      <td>1.033415</td>\n",
              "      <td>1.536416</td>\n",
              "      <td>0.332749</td>\n",
              "      <td>-1.004342</td>\n",
              "      <td>1.519861</td>\n",
              "      <td>0.248052</td>\n",
              "      <td>0.101783</td>\n",
              "      <td>0.105626</td>\n",
              "      <td>0.226611</td>\n",
              "      <td>0.010505</td>\n",
              "      <td>0.005042</td>\n",
              "      <td>1.564445</td>\n",
              "      <td>-1.204518</td>\n",
              "      <td>-0.544710</td>\n",
              "      <td>-0.43947</td>\n",
              "    </tr>\n",
              "    <tr>\n",
              "      <th>...</th>\n",
              "      <td>...</td>\n",
              "      <td>...</td>\n",
              "      <td>...</td>\n",
              "      <td>...</td>\n",
              "      <td>...</td>\n",
              "      <td>...</td>\n",
              "      <td>...</td>\n",
              "      <td>...</td>\n",
              "      <td>...</td>\n",
              "      <td>...</td>\n",
              "      <td>...</td>\n",
              "      <td>...</td>\n",
              "      <td>...</td>\n",
              "      <td>...</td>\n",
              "      <td>...</td>\n",
              "      <td>...</td>\n",
              "      <td>...</td>\n",
              "      <td>...</td>\n",
              "      <td>...</td>\n",
              "      <td>...</td>\n",
              "    </tr>\n",
              "    <tr>\n",
              "      <th>5382</th>\n",
              "      <td>1.081608</td>\n",
              "      <td>0.323782</td>\n",
              "      <td>1.069444</td>\n",
              "      <td>1.104757</td>\n",
              "      <td>0.993524</td>\n",
              "      <td>1.033415</td>\n",
              "      <td>1.536416</td>\n",
              "      <td>0.332749</td>\n",
              "      <td>-1.004342</td>\n",
              "      <td>-1.182727</td>\n",
              "      <td>-0.917965</td>\n",
              "      <td>1.239350</td>\n",
              "      <td>1.243641</td>\n",
              "      <td>1.387026</td>\n",
              "      <td>1.142287</td>\n",
              "      <td>1.136776</td>\n",
              "      <td>0.368013</td>\n",
              "      <td>-1.204518</td>\n",
              "      <td>-0.544710</td>\n",
              "      <td>-0.43947</td>\n",
              "    </tr>\n",
              "    <tr>\n",
              "      <th>5383</th>\n",
              "      <td>1.487497</td>\n",
              "      <td>-0.298696</td>\n",
              "      <td>0.946790</td>\n",
              "      <td>0.817958</td>\n",
              "      <td>0.993524</td>\n",
              "      <td>1.033415</td>\n",
              "      <td>1.536416</td>\n",
              "      <td>0.332749</td>\n",
              "      <td>-1.004342</td>\n",
              "      <td>-1.182727</td>\n",
              "      <td>1.414069</td>\n",
              "      <td>1.239350</td>\n",
              "      <td>1.243641</td>\n",
              "      <td>-0.933803</td>\n",
              "      <td>-1.121277</td>\n",
              "      <td>-1.126692</td>\n",
              "      <td>1.564445</td>\n",
              "      <td>0.830207</td>\n",
              "      <td>-1.481903</td>\n",
              "      <td>-0.43947</td>\n",
              "    </tr>\n",
              "    <tr>\n",
              "      <th>5384</th>\n",
              "      <td>1.609264</td>\n",
              "      <td>-1.240279</td>\n",
              "      <td>0.200200</td>\n",
              "      <td>0.120250</td>\n",
              "      <td>-1.006518</td>\n",
              "      <td>1.033415</td>\n",
              "      <td>-0.650865</td>\n",
              "      <td>0.332749</td>\n",
              "      <td>1.106206</td>\n",
              "      <td>1.519861</td>\n",
              "      <td>0.248052</td>\n",
              "      <td>0.101783</td>\n",
              "      <td>0.105626</td>\n",
              "      <td>0.226611</td>\n",
              "      <td>0.010505</td>\n",
              "      <td>0.005042</td>\n",
              "      <td>1.564445</td>\n",
              "      <td>-1.204518</td>\n",
              "      <td>0.392483</td>\n",
              "      <td>-0.43947</td>\n",
              "    </tr>\n",
              "    <tr>\n",
              "      <th>5385</th>\n",
              "      <td>-1.272550</td>\n",
              "      <td>-1.256009</td>\n",
              "      <td>-1.586282</td>\n",
              "      <td>0.142757</td>\n",
              "      <td>0.993524</td>\n",
              "      <td>-0.967666</td>\n",
              "      <td>1.536416</td>\n",
              "      <td>-3.005272</td>\n",
              "      <td>0.050932</td>\n",
              "      <td>-1.182727</td>\n",
              "      <td>-0.917965</td>\n",
              "      <td>-1.035783</td>\n",
              "      <td>-1.032389</td>\n",
              "      <td>-0.933803</td>\n",
              "      <td>-1.121277</td>\n",
              "      <td>-1.126692</td>\n",
              "      <td>-0.828419</td>\n",
              "      <td>-1.204518</td>\n",
              "      <td>1.329677</td>\n",
              "      <td>-0.43947</td>\n",
              "    </tr>\n",
              "    <tr>\n",
              "      <th>5386</th>\n",
              "      <td>1.203375</td>\n",
              "      <td>-1.388595</td>\n",
              "      <td>-0.219090</td>\n",
              "      <td>-0.353034</td>\n",
              "      <td>-1.006518</td>\n",
              "      <td>-0.967666</td>\n",
              "      <td>-0.650865</td>\n",
              "      <td>0.332749</td>\n",
              "      <td>-1.004342</td>\n",
              "      <td>1.519861</td>\n",
              "      <td>0.248052</td>\n",
              "      <td>0.101783</td>\n",
              "      <td>0.105626</td>\n",
              "      <td>0.226611</td>\n",
              "      <td>0.010505</td>\n",
              "      <td>0.005042</td>\n",
              "      <td>1.564445</td>\n",
              "      <td>0.830207</td>\n",
              "      <td>-0.544710</td>\n",
              "      <td>-0.43947</td>\n",
              "    </tr>\n",
              "  </tbody>\n",
              "</table>\n",
              "<p>5387 rows × 20 columns</p>\n",
              "</div>\n",
              "      <button class=\"colab-df-convert\" onclick=\"convertToInteractive('df-d17a1350-b572-441c-b846-620e42ed8eb7')\"\n",
              "              title=\"Convert this dataframe to an interactive table.\"\n",
              "              style=\"display:none;\">\n",
              "        \n",
              "  <svg xmlns=\"http://www.w3.org/2000/svg\" height=\"24px\"viewBox=\"0 0 24 24\"\n",
              "       width=\"24px\">\n",
              "    <path d=\"M0 0h24v24H0V0z\" fill=\"none\"/>\n",
              "    <path d=\"M18.56 5.44l.94 2.06.94-2.06 2.06-.94-2.06-.94-.94-2.06-.94 2.06-2.06.94zm-11 1L8.5 8.5l.94-2.06 2.06-.94-2.06-.94L8.5 2.5l-.94 2.06-2.06.94zm10 10l.94 2.06.94-2.06 2.06-.94-2.06-.94-.94-2.06-.94 2.06-2.06.94z\"/><path d=\"M17.41 7.96l-1.37-1.37c-.4-.4-.92-.59-1.43-.59-.52 0-1.04.2-1.43.59L10.3 9.45l-7.72 7.72c-.78.78-.78 2.05 0 2.83L4 21.41c.39.39.9.59 1.41.59.51 0 1.02-.2 1.41-.59l7.78-7.78 2.81-2.81c.8-.78.8-2.07 0-2.86zM5.41 20L4 18.59l7.72-7.72 1.47 1.35L5.41 20z\"/>\n",
              "  </svg>\n",
              "      </button>\n",
              "      \n",
              "  <style>\n",
              "    .colab-df-container {\n",
              "      display:flex;\n",
              "      flex-wrap:wrap;\n",
              "      gap: 12px;\n",
              "    }\n",
              "\n",
              "    .colab-df-convert {\n",
              "      background-color: #E8F0FE;\n",
              "      border: none;\n",
              "      border-radius: 50%;\n",
              "      cursor: pointer;\n",
              "      display: none;\n",
              "      fill: #1967D2;\n",
              "      height: 32px;\n",
              "      padding: 0 0 0 0;\n",
              "      width: 32px;\n",
              "    }\n",
              "\n",
              "    .colab-df-convert:hover {\n",
              "      background-color: #E2EBFA;\n",
              "      box-shadow: 0px 1px 2px rgba(60, 64, 67, 0.3), 0px 1px 3px 1px rgba(60, 64, 67, 0.15);\n",
              "      fill: #174EA6;\n",
              "    }\n",
              "\n",
              "    [theme=dark] .colab-df-convert {\n",
              "      background-color: #3B4455;\n",
              "      fill: #D2E3FC;\n",
              "    }\n",
              "\n",
              "    [theme=dark] .colab-df-convert:hover {\n",
              "      background-color: #434B5C;\n",
              "      box-shadow: 0px 1px 3px 1px rgba(0, 0, 0, 0.15);\n",
              "      filter: drop-shadow(0px 1px 2px rgba(0, 0, 0, 0.3));\n",
              "      fill: #FFFFFF;\n",
              "    }\n",
              "  </style>\n",
              "\n",
              "      <script>\n",
              "        const buttonEl =\n",
              "          document.querySelector('#df-d17a1350-b572-441c-b846-620e42ed8eb7 button.colab-df-convert');\n",
              "        buttonEl.style.display =\n",
              "          google.colab.kernel.accessAllowed ? 'block' : 'none';\n",
              "\n",
              "        async function convertToInteractive(key) {\n",
              "          const element = document.querySelector('#df-d17a1350-b572-441c-b846-620e42ed8eb7');\n",
              "          const dataTable =\n",
              "            await google.colab.kernel.invokeFunction('convertToInteractive',\n",
              "                                                     [key], {});\n",
              "          if (!dataTable) return;\n",
              "\n",
              "          const docLinkHtml = 'Like what you see? Visit the ' +\n",
              "            '<a target=\"_blank\" href=https://colab.research.google.com/notebooks/data_table.ipynb>data table notebook</a>'\n",
              "            + ' to learn more about interactive tables.';\n",
              "          element.innerHTML = '';\n",
              "          dataTable['output_type'] = 'display_data';\n",
              "          await google.colab.output.renderOutput(dataTable, element);\n",
              "          const docLink = document.createElement('div');\n",
              "          docLink.innerHTML = docLinkHtml;\n",
              "          element.appendChild(docLink);\n",
              "        }\n",
              "      </script>\n",
              "    </div>\n",
              "  </div>\n",
              "  "
            ]
          },
          "metadata": {},
          "execution_count": 55
        }
      ]
    },
    {
      "cell_type": "markdown",
      "source": [
        "Setelah melakukan encoding dan scling kepada seluruh kolom , kita lakukan feature importance dengan menggunakan model random forest classifier. Namun , sebelum melakukan feature importance, saya akan melakukan eliminasi customerID terlebih dahulu, karena bisa saja feature importance untuk feature lainnya meningkat setelah feature customerID dilakukan. customerID saya eliminasi terlebih dahulu karena menurut saya customerID sudah dari awal tidak merepresentasikan feature yang memiliki pengaruh"
      ],
      "metadata": {
        "id": "HHanWzdkk-ED"
      }
    },
    {
      "cell_type": "code",
      "source": [
        "X_train_inference = X_train_inference.drop('customerID',axis=1)"
      ],
      "metadata": {
        "id": "l3aZ0yzIqKqq"
      },
      "execution_count": 56,
      "outputs": []
    },
    {
      "cell_type": "code",
      "source": [
        "rfc_importance = RandomForestClassifier()\n",
        "rfc_importance.fit(X_train_inference,y_train)\n",
        "\n",
        "model_importance = rfc_importance.feature_importances_\n",
        "i =0\n",
        "for item in X_train.drop('customerID',axis=1):\n",
        "  print(f'Feature importance dari {item}:', model_importance[i])\n",
        "  i+=1"
      ],
      "metadata": {
        "colab": {
          "base_uri": "https://localhost:8080/"
        },
        "id": "-aI8hlwTlFGW",
        "outputId": "e9b52968-e24a-46e1-e887-4e0e3fded640"
      },
      "execution_count": 57,
      "outputs": [
        {
          "output_type": "stream",
          "name": "stdout",
          "text": [
            "Feature importance dari tenure: 0.15214423128456342\n",
            "Feature importance dari MonthlyCharges: 0.177384994264507\n",
            "Feature importance dari TotalCharges: 0.18708284491783064\n",
            "Feature importance dari gender: 0.027751640872794008\n",
            "Feature importance dari Partner: 0.023446994758093944\n",
            "Feature importance dari Dependents: 0.019507502592215818\n",
            "Feature importance dari PhoneService: 0.005139713282641431\n",
            "Feature importance dari MultipleLines: 0.021891749367742897\n",
            "Feature importance dari InternetService: 0.027594364485113418\n",
            "Feature importance dari OnlineSecurity: 0.03988869673033025\n",
            "Feature importance dari OnlineBackup: 0.02834443779097181\n",
            "Feature importance dari DeviceProtection: 0.02123492687072787\n",
            "Feature importance dari TechSupport: 0.04946158873274925\n",
            "Feature importance dari StreamingTV: 0.01723019899703953\n",
            "Feature importance dari StreamingMovies: 0.0171736667036982\n",
            "Feature importance dari Contract: 0.08652115675621945\n",
            "Feature importance dari PaperlessBilling: 0.026360215541775076\n",
            "Feature importance dari PaymentMethod: 0.05120033843662926\n",
            "Feature importance dari SeniorCitizen: 0.02064073761435676\n"
          ]
        }
      ]
    },
    {
      "cell_type": "markdown",
      "source": [
        "Dari feature importance yang dimunculkan , saya akan mengambil beberapa kolom saja, dimana saya hanya akan mengambil feature importance yang >= 5% saja. Dan feature tersebut adalah : \n",
        "\n",
        "tenure,MonthlyCharges,TotalCharges,OnlineSecurity,Contract, dan PaymentMethod"
      ],
      "metadata": {
        "id": "pVH8yWLYoGdY"
      }
    },
    {
      "cell_type": "markdown",
      "source": [
        "Sekarang kita ambil feature itu saja untuk dijadikan sebagai feature yang penting / berpengaruh"
      ],
      "metadata": {
        "id": "7EEayP1erBLc"
      }
    },
    {
      "cell_type": "code",
      "source": [
        "selected_features = ['tenure','MonthlyCharges','TotalCharges','OnlineSecurity','Contract','PaymentMethod']"
      ],
      "metadata": {
        "id": "V0fGvYhYrN6Y"
      },
      "execution_count": 58,
      "outputs": []
    },
    {
      "cell_type": "code",
      "source": [
        "X_train = X_train[selected_features]\n",
        "X_test = X_test[selected_features]\n",
        "X_val = X_val[selected_features]"
      ],
      "metadata": {
        "id": "urbm-kdmgSPn"
      },
      "execution_count": 59,
      "outputs": []
    },
    {
      "cell_type": "code",
      "source": [
        "X_train_cat = X_train_cat[['OnlineSecurity','Contract','PaymentMethod']]\n",
        "X_test_cat = X_test_cat[['OnlineSecurity','Contract','PaymentMethod']]\n",
        "X_val_cat = X_val_cat[['OnlineSecurity','Contract','PaymentMethod']]"
      ],
      "metadata": {
        "id": "y2-qxsUmr2pL"
      },
      "execution_count": 60,
      "outputs": []
    },
    {
      "cell_type": "markdown",
      "source": [
        "### Feature Scaling\n",
        "\n",
        "Pada kasus ini, kita ketahui bahwa ada 3 kolom numerik saja yang berada di dataset ini, yaitu SeniorCitizen, tenure, dan MonthlyCharges. Setelah dilihat distribusi datanya, akan kita pisahkan antara kolom yang memiliki distribusi skew dan normal, yaitu memanfaatkan StandardScaler untuk kolom berdistribusi normal dan MinMaxScaler untuk kolom berdistribusi Skew"
      ],
      "metadata": {
        "id": "5q8gi7kHbVjn"
      }
    },
    {
      "cell_type": "code",
      "source": [
        "num_skew = ['TotalCharges']\n",
        "num_normal = ['tenure','MonthlyCharges']\n",
        "\n",
        "mm_scaler = MinMaxScaler()\n",
        "std_scaler = StandardScaler()\n",
        "\n",
        "mm_scaler.fit(X_train_num[num_skew])\n",
        "X_train_num_skew = mm_scaler.transform(X_train_num[num_skew])\n",
        "X_test_num_skew = mm_scaler.transform(X_test_num[num_skew])\n",
        "X_val_num_skew = mm_scaler.transform(X_val_num[num_skew])\n",
        "\n",
        "std_scaler.fit(X_train_num[num_normal])\n",
        "X_train_num_normal = std_scaler.transform(X_train_num[num_normal])\n",
        "X_test_num_normal = std_scaler.transform(X_test_num[num_normal])\n",
        "X_val_num_normal = std_scaler.transform(X_val_num[num_normal])"
      ],
      "metadata": {
        "id": "KyGRo3Gbbydy"
      },
      "execution_count": 61,
      "outputs": []
    },
    {
      "cell_type": "markdown",
      "source": [
        "Kita gabungkan kembali data train numerik yang berdistribusi normal dan skew (yang sudah di scaling) , dengan menggunakan pd.DataFrame"
      ],
      "metadata": {
        "id": "s8swznSoU4i3"
      }
    },
    {
      "cell_type": "code",
      "source": [
        "X_train_num_scaled = pd.DataFrame(np.concatenate([X_train_num_skew,X_train_num_normal],axis=1),columns=num_skew+num_normal)"
      ],
      "metadata": {
        "id": "B8JB7YuaMd6q"
      },
      "execution_count": 62,
      "outputs": []
    },
    {
      "cell_type": "markdown",
      "source": [
        "Lakukan hal sama seperti di atas kepada data numerik test dan validation"
      ],
      "metadata": {
        "id": "WH2gjz-DU_uc"
      }
    },
    {
      "cell_type": "code",
      "source": [
        "X_test_num_scaled = pd.DataFrame(np.concatenate([X_test_num_skew,X_test_num_normal],axis=1),columns=num_skew+num_normal)\n",
        "X_val_num_scaled = pd.DataFrame(np.concatenate([X_val_num_skew,X_val_num_normal],axis=1),columns=num_skew+num_normal)"
      ],
      "metadata": {
        "id": "l-OA5SedVDH3"
      },
      "execution_count": 63,
      "outputs": []
    },
    {
      "cell_type": "markdown",
      "source": [
        "### Feature Encoding"
      ],
      "metadata": {
        "id": "U_U0MORfVJxX"
      }
    },
    {
      "cell_type": "markdown",
      "source": [
        "Feature Encoding yang kita lakukan adalah one hot encoder, dimana masing\" feature adalah OnlineSecurity, Contract, dan PaymentMethod "
      ],
      "metadata": {
        "id": "o5fUPHrxes9Y"
      }
    },
    {
      "cell_type": "code",
      "source": [
        "cat_feature = X_train_cat.columns.tolist()\n",
        "cat_feature"
      ],
      "metadata": {
        "colab": {
          "base_uri": "https://localhost:8080/"
        },
        "id": "TBT6m3HWeQbG",
        "outputId": "1d6eedee-a4b6-48ad-91be-e79016296373"
      },
      "execution_count": 64,
      "outputs": [
        {
          "output_type": "execute_result",
          "data": {
            "text/plain": [
              "['OnlineSecurity', 'Contract', 'PaymentMethod']"
            ]
          },
          "metadata": {},
          "execution_count": 64
        }
      ]
    },
    {
      "cell_type": "code",
      "source": [
        "ohe = OneHotEncoder(sparse=False)\n",
        "\n",
        "X_train_cat_enc = ohe.fit_transform(X_train_cat)\n",
        "X_test_cat_enc = ohe.transform(X_test_cat)\n",
        "X_val_cat_enc = ohe.transform(X_val_cat)"
      ],
      "metadata": {
        "id": "gwU-EHhOSHaR"
      },
      "execution_count": 65,
      "outputs": []
    },
    {
      "cell_type": "code",
      "source": [
        "X_train_cat_enc"
      ],
      "metadata": {
        "colab": {
          "base_uri": "https://localhost:8080/"
        },
        "id": "EXzBVbrjtKwx",
        "outputId": "a6f4da87-e0b9-409f-ff52-105c466a1b4a"
      },
      "execution_count": 66,
      "outputs": [
        {
          "output_type": "execute_result",
          "data": {
            "text/plain": [
              "array([[0., 1., 0., ..., 1., 0., 0.],\n",
              "       [0., 0., 1., ..., 0., 1., 0.],\n",
              "       [0., 0., 1., ..., 0., 0., 0.],\n",
              "       ...,\n",
              "       [0., 1., 0., ..., 0., 1., 0.],\n",
              "       [1., 0., 0., ..., 0., 0., 1.],\n",
              "       [0., 1., 0., ..., 1., 0., 0.]])"
            ]
          },
          "metadata": {},
          "execution_count": 66
        }
      ]
    },
    {
      "cell_type": "code",
      "source": [
        "[X_test_cat_enc]"
      ],
      "metadata": {
        "colab": {
          "base_uri": "https://localhost:8080/"
        },
        "id": "5KQ0TS76uAP-",
        "outputId": "c9c97879-0c74-4285-a48a-994dccdde69c"
      },
      "execution_count": 67,
      "outputs": [
        {
          "output_type": "execute_result",
          "data": {
            "text/plain": [
              "[array([[1., 0., 0., ..., 0., 0., 0.],\n",
              "        [1., 0., 0., ..., 1., 0., 0.],\n",
              "        [0., 0., 1., ..., 1., 0., 0.],\n",
              "        ...,\n",
              "        [0., 0., 1., ..., 0., 0., 1.],\n",
              "        [1., 0., 0., ..., 0., 1., 0.],\n",
              "        [0., 1., 0., ..., 0., 0., 1.]])]"
            ]
          },
          "metadata": {},
          "execution_count": 67
        }
      ]
    },
    {
      "cell_type": "code",
      "source": [
        "X_train_final = np.concatenate([np.array(X_train_num_scaled),X_train_cat_enc],axis=1)\n",
        "X_test_final = np.concatenate([np.array(X_test_num_scaled),X_test_cat_enc],axis=1)\n",
        "X_val_final = np.concatenate([np.array(X_val_num_scaled),X_val_cat_enc],axis=1)"
      ],
      "metadata": {
        "id": "a5GqOYZGau3c"
      },
      "execution_count": 68,
      "outputs": []
    },
    {
      "cell_type": "markdown",
      "source": [
        "### Handling Imbalance Dataset\n",
        "\n",
        "Dari imbalance dataset yang dimiliki , kita coba seimbangkan , dengan menggunakan SMOTENC,memanfaatkan SMOTENC (dan bukan SMOTE) adalah agar nantinya nilai yang ditimbulkan pada data yang telah di encoding tidak keluar dari formatnya."
      ],
      "metadata": {
        "id": "TLB-9vbKxO0j"
      }
    },
    {
      "cell_type": "code",
      "source": [
        "sm = SMOTENC(categorical_features=[3,4,5,6,7,8,9,10,11,12],random_state=42)\n",
        "X_train_final_balanced,y_train_final_balanced = sm.fit_resample(X_train_final,y_train)"
      ],
      "metadata": {
        "id": "8x3VOKymxiMx"
      },
      "execution_count": 69,
      "outputs": []
    },
    {
      "cell_type": "code",
      "source": [
        "X_train_final_balanced.shape"
      ],
      "metadata": {
        "colab": {
          "base_uri": "https://localhost:8080/"
        },
        "id": "0fQLCc-jyv0f",
        "outputId": "44cfc7a3-c5ad-4073-dfe8-1f7705a83b6c"
      },
      "execution_count": 70,
      "outputs": [
        {
          "output_type": "execute_result",
          "data": {
            "text/plain": [
              "(7914, 13)"
            ]
          },
          "metadata": {},
          "execution_count": 70
        }
      ]
    },
    {
      "cell_type": "markdown",
      "source": [
        "# 6. Model Definition , Training\n",
        "\n",
        "Bagian ini berisi cell untuk mendefinisikan model. Jelaskan alasan menggunakan suatu algoritma/model, hyperparameter yang dipakai, jenis penggunaan metrics yang dipakai, dan hal lain yang terkait dengan model.\n",
        "\n",
        "Cell pada bagian ini hanya berisi code untuk melatih model dan output yang dihasilkan. Lakukan beberapa kali proses training dengan hyperparameter yang berbeda untuk melihat hasil yang didapatkan. Analisis dan narasikan hasil ini pada bagian Model Evaluation."
      ],
      "metadata": {
        "id": "cRqhyJsTWRH1"
      }
    },
    {
      "cell_type": "markdown",
      "source": [
        "Pertama , kita buat dulu yang Sequential API.\n",
        "\n",
        "Kemudian , pada code ini terdiri atas model definition dan model training.\n",
        "\n",
        "`**Notes : Seluruh parameter seperti jumlah hidden layer serta jumlah node nya, activation function yang digunakan, initializer yang digunakan, optimizer yang digunakan, adalah hasil dari beberapa evaluasi yang hasilnya lebih baik dari yang pernah dimanfaatkan**`"
      ],
      "metadata": {
        "id": "Rv3hAzQPnemQ"
      }
    },
    {
      "cell_type": "code",
      "source": [
        "#SequentialAPI\n",
        "\n",
        "glorot_uni = initializers.GlorotUniform(seed=123)\n",
        "he = he_normal(seed=123)\n",
        "he_uni = he_uniform(seed=123)\n",
        "model = Sequential()\n",
        "model.add(Dense(16,activation='relu',input_shape=X_train_final_balanced[1].shape,kernel_initializer=he_uni,kernel_regularizer=regularizers.L1(0.01))) #hiddenlayer1\n",
        "model.add(Dropout(0.25))\n",
        "model.add(BatchNormalization())\n",
        "model.add(Dense(20,activation='relu',kernel_initializer=he_uni)) #hiddenlayer1\n",
        "model.add(Dropout(0.25))\n",
        "model.add(BatchNormalization())\n",
        "model.add(Dense(24,activation='relu',kernel_initializer=he_uni)) #hiddenlayer1\n",
        "model.add(Dropout(0.25))\n",
        "model.add(BatchNormalization())\n",
        "model.add(Dense(28,activation='relu',kernel_initializer=he_uni)) #hiddenlayer1\n",
        "model.add(Dropout(0.25))\n",
        "model.add(BatchNormalization())\n",
        "model.add(Dense(1,activation='sigmoid',kernel_initializer=glorot_uni)) #outputlayer\n",
        "\n",
        "\n",
        "\n",
        "model.compile(\n",
        "    loss='binary_crossentropy',\n",
        "    optimizer ='adam',\n",
        "    metrics=['accuracy']\n",
        ")\n",
        "\n",
        "model.summary()\n"
      ],
      "metadata": {
        "colab": {
          "base_uri": "https://localhost:8080/"
        },
        "id": "JZ3kQXwNWPma",
        "outputId": "82e04635-fa71-434c-cd02-0f2c2a47e2f0"
      },
      "execution_count": 71,
      "outputs": [
        {
          "output_type": "stream",
          "name": "stdout",
          "text": [
            "Model: \"sequential\"\n",
            "_________________________________________________________________\n",
            " Layer (type)                Output Shape              Param #   \n",
            "=================================================================\n",
            " dense (Dense)               (None, 16)                224       \n",
            "                                                                 \n",
            " dropout (Dropout)           (None, 16)                0         \n",
            "                                                                 \n",
            " batch_normalization (BatchN  (None, 16)               64        \n",
            " ormalization)                                                   \n",
            "                                                                 \n",
            " dense_1 (Dense)             (None, 20)                340       \n",
            "                                                                 \n",
            " dropout_1 (Dropout)         (None, 20)                0         \n",
            "                                                                 \n",
            " batch_normalization_1 (Batc  (None, 20)               80        \n",
            " hNormalization)                                                 \n",
            "                                                                 \n",
            " dense_2 (Dense)             (None, 24)                504       \n",
            "                                                                 \n",
            " dropout_2 (Dropout)         (None, 24)                0         \n",
            "                                                                 \n",
            " batch_normalization_2 (Batc  (None, 24)               96        \n",
            " hNormalization)                                                 \n",
            "                                                                 \n",
            " dense_3 (Dense)             (None, 28)                700       \n",
            "                                                                 \n",
            " dropout_3 (Dropout)         (None, 28)                0         \n",
            "                                                                 \n",
            " batch_normalization_3 (Batc  (None, 28)               112       \n",
            " hNormalization)                                                 \n",
            "                                                                 \n",
            " dense_4 (Dense)             (None, 1)                 29        \n",
            "                                                                 \n",
            "=================================================================\n",
            "Total params: 2,149\n",
            "Trainable params: 1,973\n",
            "Non-trainable params: 176\n",
            "_________________________________________________________________\n"
          ]
        }
      ]
    },
    {
      "cell_type": "markdown",
      "source": [
        "Setelah melakukan training model , kita simpan bagaimana metricnya untuk masing - masing epoch , ke dalam bentuk dataframe"
      ],
      "metadata": {
        "id": "XbjXXTjUqzNZ"
      }
    },
    {
      "cell_type": "code",
      "source": [
        "history = model.fit(X_train_final_balanced,y_train_final_balanced,validation_data=(X_val_final,y_val),epochs=15)"
      ],
      "metadata": {
        "id": "7JL-d99qUDoP",
        "colab": {
          "base_uri": "https://localhost:8080/"
        },
        "outputId": "2dbe8490-0f15-4616-891e-d002b76ad69f"
      },
      "execution_count": 72,
      "outputs": [
        {
          "output_type": "stream",
          "name": "stdout",
          "text": [
            "Epoch 1/15\n",
            "248/248 [==============================] - 3s 4ms/step - loss: 1.3015 - accuracy: 0.6154 - val_loss: 1.1263 - val_accuracy: 0.6945\n",
            "Epoch 2/15\n",
            "248/248 [==============================] - 1s 3ms/step - loss: 1.0671 - accuracy: 0.6943 - val_loss: 0.9471 - val_accuracy: 0.7129\n",
            "Epoch 3/15\n",
            "248/248 [==============================] - 1s 3ms/step - loss: 0.9077 - accuracy: 0.7199 - val_loss: 0.7923 - val_accuracy: 0.7346\n",
            "Epoch 4/15\n",
            "248/248 [==============================] - 1s 3ms/step - loss: 0.7891 - accuracy: 0.7285 - val_loss: 0.7039 - val_accuracy: 0.7362\n",
            "Epoch 5/15\n",
            "248/248 [==============================] - 1s 3ms/step - loss: 0.7074 - accuracy: 0.7354 - val_loss: 0.6499 - val_accuracy: 0.7329\n",
            "Epoch 6/15\n",
            "248/248 [==============================] - 1s 3ms/step - loss: 0.6525 - accuracy: 0.7402 - val_loss: 0.6089 - val_accuracy: 0.7295\n",
            "Epoch 7/15\n",
            "248/248 [==============================] - 1s 3ms/step - loss: 0.6084 - accuracy: 0.7474 - val_loss: 0.5878 - val_accuracy: 0.7112\n",
            "Epoch 8/15\n",
            "248/248 [==============================] - 1s 3ms/step - loss: 0.5773 - accuracy: 0.7532 - val_loss: 0.5406 - val_accuracy: 0.7479\n",
            "Epoch 9/15\n",
            "248/248 [==============================] - 1s 3ms/step - loss: 0.5671 - accuracy: 0.7503 - val_loss: 0.5774 - val_accuracy: 0.7179\n",
            "Epoch 10/15\n",
            "248/248 [==============================] - 1s 3ms/step - loss: 0.5609 - accuracy: 0.7396 - val_loss: 0.5421 - val_accuracy: 0.7396\n",
            "Epoch 11/15\n",
            "248/248 [==============================] - 1s 3ms/step - loss: 0.5530 - accuracy: 0.7496 - val_loss: 0.5224 - val_accuracy: 0.7863\n",
            "Epoch 12/15\n",
            "248/248 [==============================] - 1s 3ms/step - loss: 0.5386 - accuracy: 0.7540 - val_loss: 0.5705 - val_accuracy: 0.7112\n",
            "Epoch 13/15\n",
            "248/248 [==============================] - 1s 3ms/step - loss: 0.5446 - accuracy: 0.7431 - val_loss: 0.5441 - val_accuracy: 0.7179\n",
            "Epoch 14/15\n",
            "248/248 [==============================] - 1s 3ms/step - loss: 0.5324 - accuracy: 0.7494 - val_loss: 0.5568 - val_accuracy: 0.7095\n",
            "Epoch 15/15\n",
            "248/248 [==============================] - 1s 3ms/step - loss: 0.5335 - accuracy: 0.7484 - val_loss: 0.5568 - val_accuracy: 0.7229\n"
          ]
        }
      ]
    },
    {
      "cell_type": "code",
      "source": [
        "metrics = pd.DataFrame(history.history)\n",
        "metrics.tail()"
      ],
      "metadata": {
        "colab": {
          "base_uri": "https://localhost:8080/",
          "height": 206
        },
        "id": "z70Qpeab16-b",
        "outputId": "a0f96c57-8413-43b9-b9a4-4798a611c020"
      },
      "execution_count": 73,
      "outputs": [
        {
          "output_type": "execute_result",
          "data": {
            "text/plain": [
              "        loss  accuracy  val_loss  val_accuracy\n",
              "10  0.552959  0.749558  0.522383      0.786310\n",
              "11  0.538584  0.753980  0.570529      0.711185\n",
              "12  0.544581  0.743113  0.544103      0.717863\n",
              "13  0.532441  0.749431  0.556805      0.709516\n",
              "14  0.533503  0.748421  0.556807      0.722871"
            ],
            "text/html": [
              "\n",
              "  <div id=\"df-bf9585c8-84eb-452f-91d9-5a51a36b8c6c\">\n",
              "    <div class=\"colab-df-container\">\n",
              "      <div>\n",
              "<style scoped>\n",
              "    .dataframe tbody tr th:only-of-type {\n",
              "        vertical-align: middle;\n",
              "    }\n",
              "\n",
              "    .dataframe tbody tr th {\n",
              "        vertical-align: top;\n",
              "    }\n",
              "\n",
              "    .dataframe thead th {\n",
              "        text-align: right;\n",
              "    }\n",
              "</style>\n",
              "<table border=\"1\" class=\"dataframe\">\n",
              "  <thead>\n",
              "    <tr style=\"text-align: right;\">\n",
              "      <th></th>\n",
              "      <th>loss</th>\n",
              "      <th>accuracy</th>\n",
              "      <th>val_loss</th>\n",
              "      <th>val_accuracy</th>\n",
              "    </tr>\n",
              "  </thead>\n",
              "  <tbody>\n",
              "    <tr>\n",
              "      <th>10</th>\n",
              "      <td>0.552959</td>\n",
              "      <td>0.749558</td>\n",
              "      <td>0.522383</td>\n",
              "      <td>0.786310</td>\n",
              "    </tr>\n",
              "    <tr>\n",
              "      <th>11</th>\n",
              "      <td>0.538584</td>\n",
              "      <td>0.753980</td>\n",
              "      <td>0.570529</td>\n",
              "      <td>0.711185</td>\n",
              "    </tr>\n",
              "    <tr>\n",
              "      <th>12</th>\n",
              "      <td>0.544581</td>\n",
              "      <td>0.743113</td>\n",
              "      <td>0.544103</td>\n",
              "      <td>0.717863</td>\n",
              "    </tr>\n",
              "    <tr>\n",
              "      <th>13</th>\n",
              "      <td>0.532441</td>\n",
              "      <td>0.749431</td>\n",
              "      <td>0.556805</td>\n",
              "      <td>0.709516</td>\n",
              "    </tr>\n",
              "    <tr>\n",
              "      <th>14</th>\n",
              "      <td>0.533503</td>\n",
              "      <td>0.748421</td>\n",
              "      <td>0.556807</td>\n",
              "      <td>0.722871</td>\n",
              "    </tr>\n",
              "  </tbody>\n",
              "</table>\n",
              "</div>\n",
              "      <button class=\"colab-df-convert\" onclick=\"convertToInteractive('df-bf9585c8-84eb-452f-91d9-5a51a36b8c6c')\"\n",
              "              title=\"Convert this dataframe to an interactive table.\"\n",
              "              style=\"display:none;\">\n",
              "        \n",
              "  <svg xmlns=\"http://www.w3.org/2000/svg\" height=\"24px\"viewBox=\"0 0 24 24\"\n",
              "       width=\"24px\">\n",
              "    <path d=\"M0 0h24v24H0V0z\" fill=\"none\"/>\n",
              "    <path d=\"M18.56 5.44l.94 2.06.94-2.06 2.06-.94-2.06-.94-.94-2.06-.94 2.06-2.06.94zm-11 1L8.5 8.5l.94-2.06 2.06-.94-2.06-.94L8.5 2.5l-.94 2.06-2.06.94zm10 10l.94 2.06.94-2.06 2.06-.94-2.06-.94-.94-2.06-.94 2.06-2.06.94z\"/><path d=\"M17.41 7.96l-1.37-1.37c-.4-.4-.92-.59-1.43-.59-.52 0-1.04.2-1.43.59L10.3 9.45l-7.72 7.72c-.78.78-.78 2.05 0 2.83L4 21.41c.39.39.9.59 1.41.59.51 0 1.02-.2 1.41-.59l7.78-7.78 2.81-2.81c.8-.78.8-2.07 0-2.86zM5.41 20L4 18.59l7.72-7.72 1.47 1.35L5.41 20z\"/>\n",
              "  </svg>\n",
              "      </button>\n",
              "      \n",
              "  <style>\n",
              "    .colab-df-container {\n",
              "      display:flex;\n",
              "      flex-wrap:wrap;\n",
              "      gap: 12px;\n",
              "    }\n",
              "\n",
              "    .colab-df-convert {\n",
              "      background-color: #E8F0FE;\n",
              "      border: none;\n",
              "      border-radius: 50%;\n",
              "      cursor: pointer;\n",
              "      display: none;\n",
              "      fill: #1967D2;\n",
              "      height: 32px;\n",
              "      padding: 0 0 0 0;\n",
              "      width: 32px;\n",
              "    }\n",
              "\n",
              "    .colab-df-convert:hover {\n",
              "      background-color: #E2EBFA;\n",
              "      box-shadow: 0px 1px 2px rgba(60, 64, 67, 0.3), 0px 1px 3px 1px rgba(60, 64, 67, 0.15);\n",
              "      fill: #174EA6;\n",
              "    }\n",
              "\n",
              "    [theme=dark] .colab-df-convert {\n",
              "      background-color: #3B4455;\n",
              "      fill: #D2E3FC;\n",
              "    }\n",
              "\n",
              "    [theme=dark] .colab-df-convert:hover {\n",
              "      background-color: #434B5C;\n",
              "      box-shadow: 0px 1px 3px 1px rgba(0, 0, 0, 0.15);\n",
              "      filter: drop-shadow(0px 1px 2px rgba(0, 0, 0, 0.3));\n",
              "      fill: #FFFFFF;\n",
              "    }\n",
              "  </style>\n",
              "\n",
              "      <script>\n",
              "        const buttonEl =\n",
              "          document.querySelector('#df-bf9585c8-84eb-452f-91d9-5a51a36b8c6c button.colab-df-convert');\n",
              "        buttonEl.style.display =\n",
              "          google.colab.kernel.accessAllowed ? 'block' : 'none';\n",
              "\n",
              "        async function convertToInteractive(key) {\n",
              "          const element = document.querySelector('#df-bf9585c8-84eb-452f-91d9-5a51a36b8c6c');\n",
              "          const dataTable =\n",
              "            await google.colab.kernel.invokeFunction('convertToInteractive',\n",
              "                                                     [key], {});\n",
              "          if (!dataTable) return;\n",
              "\n",
              "          const docLinkHtml = 'Like what you see? Visit the ' +\n",
              "            '<a target=\"_blank\" href=https://colab.research.google.com/notebooks/data_table.ipynb>data table notebook</a>'\n",
              "            + ' to learn more about interactive tables.';\n",
              "          element.innerHTML = '';\n",
              "          dataTable['output_type'] = 'display_data';\n",
              "          await google.colab.output.renderOutput(dataTable, element);\n",
              "          const docLink = document.createElement('div');\n",
              "          docLink.innerHTML = docLinkHtml;\n",
              "          element.appendChild(docLink);\n",
              "        }\n",
              "      </script>\n",
              "    </div>\n",
              "  </div>\n",
              "  "
            ]
          },
          "metadata": {},
          "execution_count": 73
        }
      ]
    },
    {
      "cell_type": "markdown",
      "source": [
        "# 7. Model Evaluation\n",
        "\n",
        "Pada bagian ini, dilakukan evaluasi model yang harus menunjukkan bagaimana performa model berdasarkan metrics yang dipilih. Hal ini harus dibuktikan dengan visualisasi tren performa dan/atau tingkat kesalahan model. Lakukan analisis terkait dengan hasil pada model dan tuliskan hasil analisisnya.\n"
      ],
      "metadata": {
        "id": "fSHDToTyrfwc"
      }
    },
    {
      "cell_type": "markdown",
      "source": [
        "Setelah menyimpan metrics yang dihasilkan setelah model di train, kita coba visualisasikan"
      ],
      "metadata": {
        "id": "4IXEn0dUrmFe"
      }
    },
    {
      "cell_type": "code",
      "source": [
        "fig,ax = plt.subplots(nrows=1,ncols=2,figsize=(18,6))\n",
        "ax[0].title.set_text(\"Accuracy\")\n",
        "ax[0].plot(np.arange(1,16,1),metrics['accuracy'],color='tab:blue')\n",
        "ax[0].plot(np.arange(1,16,1),metrics['val_accuracy'],color='tab:orange')\n",
        "ax[1].title.set_text(\"Loss\")\n",
        "ax[1].plot(np.arange(1,16,1),metrics['loss'],color='tab:blue')\n",
        "ax[1].plot(np.arange(1,16,1),metrics['val_loss'],color='tab:orange')\n",
        "plt.show()"
      ],
      "metadata": {
        "colab": {
          "base_uri": "https://localhost:8080/",
          "height": 390
        },
        "id": "dUgWcY1535bw",
        "outputId": "e965afb1-62a3-4bb1-d1bf-6861d5b7301d"
      },
      "execution_count": 74,
      "outputs": [
        {
          "output_type": "display_data",
          "data": {
            "text/plain": [
              "<Figure size 1296x432 with 2 Axes>"
            ],
            "image/png": "[encoded data removed]"
          },
          "metadata": {
            "needs_background": "light"
          }
        }
      ]
    },
    {
      "cell_type": "markdown",
      "source": [
        "Melihat kondisi metrics berdasarkan accuracy dan loss yang dihasilkan :\n",
        "\n",
        "Kondisinya cukup baik , karena tidak mengandung gradient exploding atau anomali pada grafik, sehingga model masih dapat digunakan (valid) namun reliabilitasnya tergantung dari hasil classification reportnya"
      ],
      "metadata": {
        "id": "PTy81DgisCQH"
      }
    },
    {
      "cell_type": "code",
      "source": [
        "backend.clear_session()"
      ],
      "metadata": {
        "id": "9jech45M1fZg"
      },
      "execution_count": 75,
      "outputs": []
    },
    {
      "cell_type": "markdown",
      "source": [
        "Kita lihat bagaimana kondisi data tersebut dengan memanfaatkan metrics classification report dan roc auc. Di sini saya menggunakan angka 0.42, karena data cenderung menghasilkan miring ke kiri ,yang akan saya buktikan dengan melihat persebaran datanya\n"
      ],
      "metadata": {
        "id": "7JzNbASkrxGr"
      }
    },
    {
      "cell_type": "code",
      "source": [
        "y_pred = model.predict(X_test_final)\n",
        "sns.histplot(data=y_pred)"
      ],
      "metadata": {
        "colab": {
          "base_uri": "https://localhost:8080/",
          "height": 282
        },
        "id": "uX0QKibRr8VK",
        "outputId": "0a327315-ad57-42b0-b336-df8c3b70e641"
      },
      "execution_count": 76,
      "outputs": [
        {
          "output_type": "execute_result",
          "data": {
            "text/plain": [
              "<matplotlib.axes._subplots.AxesSubplot at 0x7f770e9dc8d0>"
            ]
          },
          "metadata": {},
          "execution_count": 76
        },
        {
          "output_type": "display_data",
          "data": {
            "text/plain": [
              "<Figure size 432x288 with 1 Axes>"
            ],
            "image/png": "[encoded data removed]"
          },
          "metadata": {
            "needs_background": "light"
          }
        }
      ]
    },
    {
      "cell_type": "markdown",
      "source": [
        "Dapat dilihat dari persebaran di atas, data cenderung miring ke kiri , sehingga saya coba menggunakan 0.42 untuk membedakan , mana yang y_pred = 1 dan y_pred = 0"
      ],
      "metadata": {
        "id": "o8KhYqM4sVg2"
      }
    },
    {
      "cell_type": "code",
      "source": [
        "y_pred_round = np.where(y_pred>=0.5,1,0)\n",
        "print(classification_report(y_test,y_pred_round))"
      ],
      "metadata": {
        "colab": {
          "base_uri": "https://localhost:8080/"
        },
        "id": "UBajQrhKGcpG",
        "outputId": "30e45098-d5be-41bb-e9fa-cf3edaeae292"
      },
      "execution_count": 77,
      "outputs": [
        {
          "output_type": "stream",
          "name": "stdout",
          "text": [
            "              precision    recall  f1-score   support\n",
            "\n",
            "           0       0.91      0.72      0.80       777\n",
            "           1       0.51      0.81      0.63       280\n",
            "\n",
            "    accuracy                           0.74      1057\n",
            "   macro avg       0.71      0.76      0.71      1057\n",
            "weighted avg       0.81      0.74      0.76      1057\n",
            "\n"
          ]
        }
      ]
    },
    {
      "cell_type": "markdown",
      "source": [
        "Dari hasil di atas :\n",
        "\n",
        "Perlu kita ketahui , kita sedang menganalisa Churn dari pelanggan, maka goals kita adalah *dari semua yang benar - benar positif Churn , berapa persen yang terprediksi positif ?*. Maka kita akan ingin bahwa recall 1 menghasilkan hasil sebesar mungkin (sehingga false negative-nya se-sedikit mungkin). Mengapa tidak precision saja yang besar ? Karena jika misalkan terprediksi Churn , ternyata tidak, masih tidak begitu masalah.\n",
        "\n",
        "Di sini precision pada label 1 menghasilkan angka 0.80 , artinya dari 100 data yang benar - benar Churn , ada 80 yang terprediksi Churn.\n",
        "\n",
        "Melihat dari angkanya yaitu 0.80, sebenarnya model ini tidak begitu reliabel, faktor diluar seperti mencoba tuning dari mengganti initializer, activation function, dll yaitu misalnya feature selection , mungkin mempengaruhi keberhasilan lain untuk bisa mendapatkan nilai recall / metrics yang lebih tinggi lagi."
      ],
      "metadata": {
        "id": "_ZYPOLnytRg1"
      }
    },
    {
      "cell_type": "markdown",
      "source": [
        "Sekarang, kita lihat apakah roc_aucnya dapat di atas 0.5 sebagai thresholdnya"
      ],
      "metadata": {
        "id": "LLeNuOUgwn8i"
      }
    },
    {
      "cell_type": "code",
      "source": [
        "print(roc_auc_score(y_test,y_pred_round))"
      ],
      "metadata": {
        "colab": {
          "base_uri": "https://localhost:8080/"
        },
        "id": "rTNYiMnFT9kR",
        "outputId": "dd8f0457-9b85-481a-dd8e-efb3d03d1c4b"
      },
      "execution_count": 78,
      "outputs": [
        {
          "output_type": "stream",
          "name": "stdout",
          "text": [
            "0.7644305019305019\n"
          ]
        }
      ]
    },
    {
      "cell_type": "markdown",
      "source": [
        "# Special Case -> Functional API"
      ],
      "metadata": {
        "id": "00kmeLyeY_uf"
      }
    },
    {
      "cell_type": "markdown",
      "source": [
        "Selanjutnya kita coba buat functional API untuk model yang serupa"
      ],
      "metadata": {
        "id": "UYj1cfvyMqle"
      }
    },
    {
      "cell_type": "code",
      "source": [
        "# Functional API\n",
        "\n",
        "data_in = Input(shape=X_train_final_balanced[1].shape)\n",
        "hidden_layer_1 = Dense(16,activation='relu',kernel_initializer=he_uni,kernel_regularizer=regularizers.L1(0.01))(data_in)\n",
        "hidden_layer_drop_1 = Dropout(0.25)(hidden_layer_1)\n",
        "hidden_layer_normalization_1 = BatchNormalization()(hidden_layer_drop_1)\n",
        "\n",
        "hidden_layer_2 = Dense(20,activation='relu',kernel_initializer=he_uni)(hidden_layer_normalization_1)\n",
        "hidden_layer_drop_2 = Dropout(0.25)(hidden_layer_2)\n",
        "hidden_layer_normalization_2 = BatchNormalization()(hidden_layer_drop_2)\n",
        "\n",
        "hidden_layer_3 = Dense(24,activation='relu',kernel_initializer=he_uni)(hidden_layer_normalization_2)\n",
        "hidden_layer_drop_3 = Dropout(0.25)(hidden_layer_3)\n",
        "hidden_layer_normalization_3 = BatchNormalization()(hidden_layer_drop_3)\n",
        "\n",
        "hidden_layer_4 = Dense(28,activation='relu',kernel_initializer=he_uni)(hidden_layer_normalization_3)\n",
        "hidden_layer_drop_4 = Dropout(0.25)(hidden_layer_4)\n",
        "hidden_layer_normalization_4 = BatchNormalization()(hidden_layer_drop_4)\n",
        "\n",
        "out = Dense(1,activation='sigmoid')(hidden_layer_normalization_4)\n",
        "\n",
        "model_functional = Model(inputs=data_in,outputs=out)\n",
        "\n",
        "model_functional.summary()"
      ],
      "metadata": {
        "colab": {
          "base_uri": "https://localhost:8080/"
        },
        "id": "OsC6gC23M8YU",
        "outputId": "c9a321a0-5263-456a-e5ae-c195b155de41"
      },
      "execution_count": 79,
      "outputs": [
        {
          "output_type": "stream",
          "name": "stdout",
          "text": [
            "Model: \"model\"\n",
            "_________________________________________________________________\n",
            " Layer (type)                Output Shape              Param #   \n",
            "=================================================================\n",
            " input_1 (InputLayer)        [(None, 13)]              0         \n",
            "                                                                 \n",
            " dense (Dense)               (None, 16)                224       \n",
            "                                                                 \n",
            " dropout (Dropout)           (None, 16)                0         \n",
            "                                                                 \n",
            " batch_normalization (BatchN  (None, 16)               64        \n",
            " ormalization)                                                   \n",
            "                                                                 \n",
            " dense_1 (Dense)             (None, 20)                340       \n",
            "                                                                 \n",
            " dropout_1 (Dropout)         (None, 20)                0         \n",
            "                                                                 \n",
            " batch_normalization_1 (Batc  (None, 20)               80        \n",
            " hNormalization)                                                 \n",
            "                                                                 \n",
            " dense_2 (Dense)             (None, 24)                504       \n",
            "                                                                 \n",
            " dropout_2 (Dropout)         (None, 24)                0         \n",
            "                                                                 \n",
            " batch_normalization_2 (Batc  (None, 24)               96        \n",
            " hNormalization)                                                 \n",
            "                                                                 \n",
            " dense_3 (Dense)             (None, 28)                700       \n",
            "                                                                 \n",
            " dropout_3 (Dropout)         (None, 28)                0         \n",
            "                                                                 \n",
            " batch_normalization_3 (Batc  (None, 28)               112       \n",
            " hNormalization)                                                 \n",
            "                                                                 \n",
            " dense_4 (Dense)             (None, 1)                 29        \n",
            "                                                                 \n",
            "=================================================================\n",
            "Total params: 2,149\n",
            "Trainable params: 1,973\n",
            "Non-trainable params: 176\n",
            "_________________________________________________________________\n"
          ]
        }
      ]
    },
    {
      "cell_type": "code",
      "source": [
        "model_functional.compile(\n",
        "    loss='binary_crossentropy',\n",
        "    optimizer='adam',\n",
        "    metrics=['accuracy']\n",
        ")\n",
        "\n",
        "history_functional = model_functional.fit(X_train_final_balanced,y_train_final_balanced,epochs=15,validation_data=(X_val_final,y_val))"
      ],
      "metadata": {
        "colab": {
          "base_uri": "https://localhost:8080/"
        },
        "id": "UrbkYNwSTFwE",
        "outputId": "25ff73f8-32ab-4e08-c463-310de971808c"
      },
      "execution_count": 80,
      "outputs": [
        {
          "output_type": "stream",
          "name": "stdout",
          "text": [
            "Epoch 1/15\n",
            "248/248 [==============================] - 3s 4ms/step - loss: 1.3485 - accuracy: 0.6007 - val_loss: 1.2551 - val_accuracy: 0.5860\n",
            "Epoch 2/15\n",
            "248/248 [==============================] - 1s 3ms/step - loss: 1.1021 - accuracy: 0.6855 - val_loss: 1.0460 - val_accuracy: 0.6377\n",
            "Epoch 3/15\n",
            "248/248 [==============================] - 1s 3ms/step - loss: 0.9441 - accuracy: 0.7056 - val_loss: 0.8851 - val_accuracy: 0.6678\n",
            "Epoch 4/15\n",
            "248/248 [==============================] - 1s 3ms/step - loss: 0.8180 - accuracy: 0.7233 - val_loss: 0.7782 - val_accuracy: 0.6711\n",
            "Epoch 5/15\n",
            "248/248 [==============================] - 1s 3ms/step - loss: 0.7237 - accuracy: 0.7293 - val_loss: 0.7057 - val_accuracy: 0.6628\n",
            "Epoch 6/15\n",
            "248/248 [==============================] - 1s 3ms/step - loss: 0.6540 - accuracy: 0.7352 - val_loss: 0.6398 - val_accuracy: 0.7012\n",
            "Epoch 7/15\n",
            "248/248 [==============================] - 1s 3ms/step - loss: 0.6084 - accuracy: 0.7421 - val_loss: 0.6289 - val_accuracy: 0.6845\n",
            "Epoch 8/15\n",
            "248/248 [==============================] - 1s 3ms/step - loss: 0.5832 - accuracy: 0.7493 - val_loss: 0.6306 - val_accuracy: 0.6661\n",
            "Epoch 9/15\n",
            "248/248 [==============================] - 1s 3ms/step - loss: 0.5696 - accuracy: 0.7425 - val_loss: 0.5960 - val_accuracy: 0.6962\n",
            "Epoch 10/15\n",
            "248/248 [==============================] - 1s 3ms/step - loss: 0.5578 - accuracy: 0.7467 - val_loss: 0.5624 - val_accuracy: 0.7312\n",
            "Epoch 11/15\n",
            "248/248 [==============================] - 1s 3ms/step - loss: 0.5540 - accuracy: 0.7489 - val_loss: 0.5623 - val_accuracy: 0.7145\n",
            "Epoch 12/15\n",
            "248/248 [==============================] - 1s 3ms/step - loss: 0.5512 - accuracy: 0.7489 - val_loss: 0.5601 - val_accuracy: 0.7245\n",
            "Epoch 13/15\n",
            "248/248 [==============================] - 1s 3ms/step - loss: 0.5441 - accuracy: 0.7468 - val_loss: 0.5478 - val_accuracy: 0.7195\n",
            "Epoch 14/15\n",
            "248/248 [==============================] - 1s 3ms/step - loss: 0.5417 - accuracy: 0.7512 - val_loss: 0.5546 - val_accuracy: 0.7095\n",
            "Epoch 15/15\n",
            "248/248 [==============================] - 1s 3ms/step - loss: 0.5407 - accuracy: 0.7509 - val_loss: 0.5505 - val_accuracy: 0.7329\n"
          ]
        }
      ]
    },
    {
      "cell_type": "code",
      "source": [
        "metrics_functional = pd.DataFrame(history_functional.history)\n",
        "metrics_functional.tail()"
      ],
      "metadata": {
        "colab": {
          "base_uri": "https://localhost:8080/",
          "height": 206
        },
        "id": "n-NMm9DfTzLj",
        "outputId": "ae58c0a6-a067-45d7-a57c-fd8978fa5d0c"
      },
      "execution_count": 81,
      "outputs": [
        {
          "output_type": "execute_result",
          "data": {
            "text/plain": [
              "        loss  accuracy  val_loss  val_accuracy\n",
              "10  0.554009  0.748926  0.562252      0.714524\n",
              "11  0.551216  0.748926  0.560083      0.724541\n",
              "12  0.544099  0.746778  0.547826      0.719533\n",
              "13  0.541733  0.751200  0.554563      0.709516\n",
              "14  0.540729  0.750948  0.550545      0.732888"
            ],
            "text/html": [
              "\n",
              "  <div id=\"df-bccc901a-269d-4c78-9fb4-ba13b2bce635\">\n",
              "    <div class=\"colab-df-container\">\n",
              "      <div>\n",
              "<style scoped>\n",
              "    .dataframe tbody tr th:only-of-type {\n",
              "        vertical-align: middle;\n",
              "    }\n",
              "\n",
              "    .dataframe tbody tr th {\n",
              "        vertical-align: top;\n",
              "    }\n",
              "\n",
              "    .dataframe thead th {\n",
              "        text-align: right;\n",
              "    }\n",
              "</style>\n",
              "<table border=\"1\" class=\"dataframe\">\n",
              "  <thead>\n",
              "    <tr style=\"text-align: right;\">\n",
              "      <th></th>\n",
              "      <th>loss</th>\n",
              "      <th>accuracy</th>\n",
              "      <th>val_loss</th>\n",
              "      <th>val_accuracy</th>\n",
              "    </tr>\n",
              "  </thead>\n",
              "  <tbody>\n",
              "    <tr>\n",
              "      <th>10</th>\n",
              "      <td>0.554009</td>\n",
              "      <td>0.748926</td>\n",
              "      <td>0.562252</td>\n",
              "      <td>0.714524</td>\n",
              "    </tr>\n",
              "    <tr>\n",
              "      <th>11</th>\n",
              "      <td>0.551216</td>\n",
              "      <td>0.748926</td>\n",
              "      <td>0.560083</td>\n",
              "      <td>0.724541</td>\n",
              "    </tr>\n",
              "    <tr>\n",
              "      <th>12</th>\n",
              "      <td>0.544099</td>\n",
              "      <td>0.746778</td>\n",
              "      <td>0.547826</td>\n",
              "      <td>0.719533</td>\n",
              "    </tr>\n",
              "    <tr>\n",
              "      <th>13</th>\n",
              "      <td>0.541733</td>\n",
              "      <td>0.751200</td>\n",
              "      <td>0.554563</td>\n",
              "      <td>0.709516</td>\n",
              "    </tr>\n",
              "    <tr>\n",
              "      <th>14</th>\n",
              "      <td>0.540729</td>\n",
              "      <td>0.750948</td>\n",
              "      <td>0.550545</td>\n",
              "      <td>0.732888</td>\n",
              "    </tr>\n",
              "  </tbody>\n",
              "</table>\n",
              "</div>\n",
              "      <button class=\"colab-df-convert\" onclick=\"convertToInteractive('df-bccc901a-269d-4c78-9fb4-ba13b2bce635')\"\n",
              "              title=\"Convert this dataframe to an interactive table.\"\n",
              "              style=\"display:none;\">\n",
              "        \n",
              "  <svg xmlns=\"http://www.w3.org/2000/svg\" height=\"24px\"viewBox=\"0 0 24 24\"\n",
              "       width=\"24px\">\n",
              "    <path d=\"M0 0h24v24H0V0z\" fill=\"none\"/>\n",
              "    <path d=\"M18.56 5.44l.94 2.06.94-2.06 2.06-.94-2.06-.94-.94-2.06-.94 2.06-2.06.94zm-11 1L8.5 8.5l.94-2.06 2.06-.94-2.06-.94L8.5 2.5l-.94 2.06-2.06.94zm10 10l.94 2.06.94-2.06 2.06-.94-2.06-.94-.94-2.06-.94 2.06-2.06.94z\"/><path d=\"M17.41 7.96l-1.37-1.37c-.4-.4-.92-.59-1.43-.59-.52 0-1.04.2-1.43.59L10.3 9.45l-7.72 7.72c-.78.78-.78 2.05 0 2.83L4 21.41c.39.39.9.59 1.41.59.51 0 1.02-.2 1.41-.59l7.78-7.78 2.81-2.81c.8-.78.8-2.07 0-2.86zM5.41 20L4 18.59l7.72-7.72 1.47 1.35L5.41 20z\"/>\n",
              "  </svg>\n",
              "      </button>\n",
              "      \n",
              "  <style>\n",
              "    .colab-df-container {\n",
              "      display:flex;\n",
              "      flex-wrap:wrap;\n",
              "      gap: 12px;\n",
              "    }\n",
              "\n",
              "    .colab-df-convert {\n",
              "      background-color: #E8F0FE;\n",
              "      border: none;\n",
              "      border-radius: 50%;\n",
              "      cursor: pointer;\n",
              "      display: none;\n",
              "      fill: #1967D2;\n",
              "      height: 32px;\n",
              "      padding: 0 0 0 0;\n",
              "      width: 32px;\n",
              "    }\n",
              "\n",
              "    .colab-df-convert:hover {\n",
              "      background-color: #E2EBFA;\n",
              "      box-shadow: 0px 1px 2px rgba(60, 64, 67, 0.3), 0px 1px 3px 1px rgba(60, 64, 67, 0.15);\n",
              "      fill: #174EA6;\n",
              "    }\n",
              "\n",
              "    [theme=dark] .colab-df-convert {\n",
              "      background-color: #3B4455;\n",
              "      fill: #D2E3FC;\n",
              "    }\n",
              "\n",
              "    [theme=dark] .colab-df-convert:hover {\n",
              "      background-color: #434B5C;\n",
              "      box-shadow: 0px 1px 3px 1px rgba(0, 0, 0, 0.15);\n",
              "      filter: drop-shadow(0px 1px 2px rgba(0, 0, 0, 0.3));\n",
              "      fill: #FFFFFF;\n",
              "    }\n",
              "  </style>\n",
              "\n",
              "      <script>\n",
              "        const buttonEl =\n",
              "          document.querySelector('#df-bccc901a-269d-4c78-9fb4-ba13b2bce635 button.colab-df-convert');\n",
              "        buttonEl.style.display =\n",
              "          google.colab.kernel.accessAllowed ? 'block' : 'none';\n",
              "\n",
              "        async function convertToInteractive(key) {\n",
              "          const element = document.querySelector('#df-bccc901a-269d-4c78-9fb4-ba13b2bce635');\n",
              "          const dataTable =\n",
              "            await google.colab.kernel.invokeFunction('convertToInteractive',\n",
              "                                                     [key], {});\n",
              "          if (!dataTable) return;\n",
              "\n",
              "          const docLinkHtml = 'Like what you see? Visit the ' +\n",
              "            '<a target=\"_blank\" href=https://colab.research.google.com/notebooks/data_table.ipynb>data table notebook</a>'\n",
              "            + ' to learn more about interactive tables.';\n",
              "          element.innerHTML = '';\n",
              "          dataTable['output_type'] = 'display_data';\n",
              "          await google.colab.output.renderOutput(dataTable, element);\n",
              "          const docLink = document.createElement('div');\n",
              "          docLink.innerHTML = docLinkHtml;\n",
              "          element.appendChild(docLink);\n",
              "        }\n",
              "      </script>\n",
              "    </div>\n",
              "  </div>\n",
              "  "
            ]
          },
          "metadata": {},
          "execution_count": 81
        }
      ]
    },
    {
      "cell_type": "code",
      "source": [
        "fig,ax = plt.subplots(nrows=1,ncols=2,figsize=(18,6))\n",
        "ax[0].title.set_text(\"Accuracy\")\n",
        "ax[0].plot(np.arange(1,16,1),metrics_functional['accuracy'],color='tab:blue')\n",
        "ax[0].plot(np.arange(1,16,1),metrics_functional['val_accuracy'],color='tab:orange')\n",
        "ax[1].title.set_text(\"Loss\")\n",
        "ax[1].plot(np.arange(1,16,1),metrics_functional['loss'],color='tab:blue')\n",
        "ax[1].plot(np.arange(1,16,1),metrics_functional['val_loss'],color='tab:orange')\n",
        "plt.show()"
      ],
      "metadata": {
        "colab": {
          "base_uri": "https://localhost:8080/",
          "height": 390
        },
        "id": "zae9k4O9USSc",
        "outputId": "ecd56af2-2ab6-4128-b2e3-a81120c698d2"
      },
      "execution_count": 82,
      "outputs": [
        {
          "output_type": "display_data",
          "data": {
            "text/plain": [
              "<Figure size 1296x432 with 2 Axes>"
            ],
            "image/png": "[encoded data removed]"
          },
          "metadata": {
            "needs_background": "light"
          }
        }
      ]
    },
    {
      "cell_type": "code",
      "source": [
        "y_pred_functional = model.predict(X_test_final)\n",
        "sns.histplot(data=y_pred_functional)"
      ],
      "metadata": {
        "colab": {
          "base_uri": "https://localhost:8080/",
          "height": 282
        },
        "id": "Qh3sj7AsYJcJ",
        "outputId": "7401a8cf-2856-458b-d327-118b148fd6e4"
      },
      "execution_count": 83,
      "outputs": [
        {
          "output_type": "execute_result",
          "data": {
            "text/plain": [
              "<matplotlib.axes._subplots.AxesSubplot at 0x7f770f44f750>"
            ]
          },
          "metadata": {},
          "execution_count": 83
        },
        {
          "output_type": "display_data",
          "data": {
            "text/plain": [
              "<Figure size 432x288 with 1 Axes>"
            ],
            "image/png": "[encoded data removed]"
          },
          "metadata": {
            "needs_background": "light"
          }
        }
      ]
    },
    {
      "cell_type": "code",
      "source": [
        "y_pred_functional_round = np.where(y_pred_functional>=0.5,1,0)\n",
        "print(classification_report(y_test,y_pred_functional_round))"
      ],
      "metadata": {
        "colab": {
          "base_uri": "https://localhost:8080/"
        },
        "id": "bkzacDBjYdNP",
        "outputId": "9cd3f2b9-a921-49c2-f1c3-011c27a261eb"
      },
      "execution_count": 84,
      "outputs": [
        {
          "output_type": "stream",
          "name": "stdout",
          "text": [
            "              precision    recall  f1-score   support\n",
            "\n",
            "           0       0.91      0.72      0.80       777\n",
            "           1       0.51      0.81      0.63       280\n",
            "\n",
            "    accuracy                           0.74      1057\n",
            "   macro avg       0.71      0.76      0.71      1057\n",
            "weighted avg       0.81      0.74      0.76      1057\n",
            "\n"
          ]
        }
      ]
    },
    {
      "cell_type": "code",
      "source": [
        "print(roc_auc_score(y_test,y_pred_functional_round))"
      ],
      "metadata": {
        "colab": {
          "base_uri": "https://localhost:8080/"
        },
        "id": "ntJVWIH3YvGx",
        "outputId": "c755c594-350a-4494-9c78-7187749e35bf"
      },
      "execution_count": 85,
      "outputs": [
        {
          "output_type": "stream",
          "name": "stdout",
          "text": [
            "0.7644305019305019\n"
          ]
        }
      ]
    },
    {
      "cell_type": "markdown",
      "source": [
        "# 8. Model Saving\n",
        "\n",
        "Dengan melihat hasil evaluasi model, pilihlah model terbaik untuk disimpan. Model terbaik ini akan digunakan kembali dalam melakukan deployment di Heroku."
      ],
      "metadata": {
        "id": "37Yk6-i0Zl7G"
      }
    },
    {
      "cell_type": "markdown",
      "source": [
        "Model yang diimplementasi di atas adalah model dengan hasil terbaik yang saya sudah temukan , sehingga kita coba simpan model tersebut. Akan tetapi , kita perlu untuk melakukan pipeline untuk batch, model.save, serta penyimpanan preprocessing data menggunakan column transformer."
      ],
      "metadata": {
        "id": "GUf6GcenZs4p"
      }
    },
    {
      "cell_type": "code",
      "source": [
        "ct = ColumnTransformer([\n",
        "                        ('mm_scaler',mm_scaler,num_skew),\n",
        "                        ('std_scaler',std_scaler,num_normal),\n",
        "                        ('cat_ohe',ohe,cat_feature)\n",
        "])"
      ],
      "metadata": {
        "id": "r2L5TuoCaiSA"
      },
      "execution_count": 86,
      "outputs": []
    },
    {
      "cell_type": "code",
      "source": [
        "X_train_fe = ct.fit_transform(X_train)"
      ],
      "metadata": {
        "id": "2wu3O2o6eoRb"
      },
      "execution_count": 87,
      "outputs": []
    },
    {
      "cell_type": "code",
      "source": [
        "X_test_ct = ct.transform(X_test)\n",
        "X_val_ct = ct.transform(X_val)"
      ],
      "metadata": {
        "id": "9tFZU4fhukeI"
      },
      "execution_count": 88,
      "outputs": []
    },
    {
      "cell_type": "markdown",
      "source": [
        "## Saving Preprocessing Transformer"
      ],
      "metadata": {
        "id": "BgoaKIMa7na1"
      }
    },
    {
      "cell_type": "code",
      "source": [
        "# import pickle\n",
        "\n",
        "# with open(\"fe_preprocessing.pkl\",\"wb\") as f:\n",
        "#   pickle.dump(ct,f)"
      ],
      "metadata": {
        "id": "RVcmrM07iHiT"
      },
      "execution_count": 89,
      "outputs": []
    },
    {
      "cell_type": "markdown",
      "source": [
        "Setelah menyimpan pipeline preprocessing, sekarang kita coba menyimpan model (alias model.save()) , akan tetapi memanfaatkan pipeline dari tf.data (atau dalam kata lain tensor slicers) pada tahapan setelah ini"
      ],
      "metadata": {
        "id": "QT5AeAd6k2BE"
      }
    },
    {
      "cell_type": "markdown",
      "source": [
        "## Model with Pipeline\n",
        "\n",
        "Sekarang kita lihat, bagaimana bentuk Functional API , setelah memanfaatkan pipeline seperti from_tensor_slices dengan batch 64\n",
        "\n",
        "Untuk model yang menggunakan pipeline, ada beberapa perubahan tuning yang dilakukan, karena :\n",
        "\n",
        "`Hasil antara memanfaatkan data sebelum di-pipeline dengan slicers , dan setelah di-pipeline dengan slicers, performanya berbeda. Maka dari itu , saya mencoba melakukan perubahan parameter tuning seperti regularizer atau bentuk node sehingga bisa mendapati performa accuracy dan loss sebaik mungkin yang dapat ditemukan`"
      ],
      "metadata": {
        "id": "3M9CllIe4qSR"
      }
    },
    {
      "cell_type": "code",
      "source": [
        "from tensorflow.keras.optimizers import SGD,Adam,Adamax"
      ],
      "metadata": {
        "id": "wZeIzd0WKGOh"
      },
      "execution_count": 232,
      "outputs": []
    },
    {
      "cell_type": "code",
      "source": [
        "def get_uncompiled_model():\n",
        "  data_in = Input(shape=X_train_final_balanced[1].shape)\n",
        "  hidden_layer_1 = Dense(20,activation='relu',kernel_initializer=he_uni,kernel_regularizer = regularizers.l1(0.01))(data_in)\n",
        "  hidden_layer_drop_1 = Dropout(0.25)(hidden_layer_1)\n",
        "  hidden_layer_normalization_1 = BatchNormalization()(hidden_layer_drop_1)\n",
        "\n",
        "  hidden_layer_2 = Dense(20,activation='relu',kernel_initializer=he_uni)(hidden_layer_normalization_1)\n",
        "  hidden_layer_drop_2 = Dropout(0.25)(hidden_layer_2)\n",
        "  hidden_layer_normalization_2 = BatchNormalization()(hidden_layer_drop_2)\n",
        "\n",
        "  hidden_layer_3 = Dense(20,activation='relu',kernel_initializer=he_uni,kernel_regularizer = regularizers.l1(0.01))(hidden_layer_normalization_2)\n",
        "  hidden_layer_drop_3 = Dropout(0.25)(hidden_layer_3)\n",
        "  hidden_layer_normalization_3 = BatchNormalization()(hidden_layer_drop_3)\n",
        "\n",
        "  hidden_layer_4 = Dense(20,activation='relu',kernel_initializer=he_uni)(hidden_layer_normalization_3)\n",
        "  hidden_layer_drop_4 = Dropout(0.25)(hidden_layer_4)\n",
        "  hidden_layer_normalization_4 = BatchNormalization()(hidden_layer_drop_4)\n",
        "\n",
        "\n",
        "\n",
        "\n",
        "\n",
        "  out = Dense(1,activation='sigmoid')(hidden_layer_normalization_4)\n",
        "\n",
        "  model_functional = Model(inputs=data_in,outputs=out)\n",
        "  return model_functional\n",
        "\n",
        "def get_compiled_model():\n",
        "  model_functional = get_uncompiled_model()\n",
        "  model_functional.compile(\n",
        "    loss='binary_crossentropy',\n",
        "    optimizer='adamax',\n",
        "    metrics=['accuracy']\n",
        "  )\n",
        "  return model_functional\n",
        "\n",
        "train_dataset = Dataset.from_tensor_slices((X_train_final_balanced,y_train_final_balanced))\n",
        "train_dataset = train_dataset.shuffle(buffer_size=1024).batch(64)\n",
        "\n",
        "val_dataset = Dataset.from_tensor_slices((X_val_final,y_val))\n",
        "val_dataset = val_dataset.shuffle(buffer_size=1024).batch(64)\n",
        "\n",
        "model_functional = get_compiled_model()\n",
        "\n",
        "history_functional = model_functional.fit(train_dataset,epochs=30,validation_data=(val_dataset))\n",
        "\n"
      ],
      "metadata": {
        "colab": {
          "base_uri": "https://localhost:8080/"
        },
        "id": "J3VvrnTQpcht",
        "outputId": "513766df-74ee-40f2-a83f-66c2a6d7b9be"
      },
      "execution_count": 237,
      "outputs": [
        {
          "output_type": "stream",
          "name": "stdout",
          "text": [
            "Epoch 1/30\n",
            "124/124 [==============================] - 4s 7ms/step - loss: 2.7276 - accuracy: 0.5311 - val_loss: 2.4331 - val_accuracy: 0.7095\n",
            "Epoch 2/30\n",
            "124/124 [==============================] - 1s 4ms/step - loss: 2.4945 - accuracy: 0.5646 - val_loss: 2.2786 - val_accuracy: 0.7295\n",
            "Epoch 3/30\n",
            "124/124 [==============================] - 0s 3ms/step - loss: 2.3346 - accuracy: 0.5643 - val_loss: 2.1417 - val_accuracy: 0.7329\n",
            "Epoch 4/30\n",
            "124/124 [==============================] - 0s 3ms/step - loss: 2.1813 - accuracy: 0.5706 - val_loss: 2.0077 - val_accuracy: 0.7295\n",
            "Epoch 5/30\n",
            "124/124 [==============================] - 0s 3ms/step - loss: 2.0389 - accuracy: 0.5744 - val_loss: 1.8760 - val_accuracy: 0.7362\n",
            "Epoch 6/30\n",
            "124/124 [==============================] - 0s 3ms/step - loss: 1.8881 - accuracy: 0.5943 - val_loss: 1.7494 - val_accuracy: 0.7279\n",
            "Epoch 7/30\n",
            "124/124 [==============================] - 0s 3ms/step - loss: 1.7654 - accuracy: 0.5964 - val_loss: 1.6207 - val_accuracy: 0.7329\n",
            "Epoch 8/30\n",
            "124/124 [==============================] - 0s 3ms/step - loss: 1.6421 - accuracy: 0.5994 - val_loss: 1.5080 - val_accuracy: 0.7295\n",
            "Epoch 9/30\n",
            "124/124 [==============================] - 0s 3ms/step - loss: 1.5289 - accuracy: 0.5953 - val_loss: 1.4017 - val_accuracy: 0.7279\n",
            "Epoch 10/30\n",
            "124/124 [==============================] - 0s 3ms/step - loss: 1.4195 - accuracy: 0.6084 - val_loss: 1.3018 - val_accuracy: 0.7329\n",
            "Epoch 11/30\n",
            "124/124 [==============================] - 0s 3ms/step - loss: 1.3294 - accuracy: 0.6154 - val_loss: 1.2136 - val_accuracy: 0.7429\n",
            "Epoch 12/30\n",
            "124/124 [==============================] - 0s 3ms/step - loss: 1.2447 - accuracy: 0.6160 - val_loss: 1.1396 - val_accuracy: 0.7429\n",
            "Epoch 13/30\n",
            "124/124 [==============================] - 0s 3ms/step - loss: 1.1655 - accuracy: 0.6170 - val_loss: 1.0700 - val_accuracy: 0.7412\n",
            "Epoch 14/30\n",
            "124/124 [==============================] - 0s 3ms/step - loss: 1.0934 - accuracy: 0.6223 - val_loss: 1.0016 - val_accuracy: 0.7429\n",
            "Epoch 15/30\n",
            "124/124 [==============================] - 0s 3ms/step - loss: 1.0402 - accuracy: 0.6241 - val_loss: 0.9455 - val_accuracy: 0.7446\n",
            "Epoch 16/30\n",
            "124/124 [==============================] - 0s 3ms/step - loss: 0.9877 - accuracy: 0.6277 - val_loss: 0.8964 - val_accuracy: 0.7429\n",
            "Epoch 17/30\n",
            "124/124 [==============================] - 0s 3ms/step - loss: 0.9400 - accuracy: 0.6391 - val_loss: 0.8507 - val_accuracy: 0.7579\n",
            "Epoch 18/30\n",
            "124/124 [==============================] - 0s 3ms/step - loss: 0.9009 - accuracy: 0.6416 - val_loss: 0.8162 - val_accuracy: 0.7513\n",
            "Epoch 19/30\n",
            "124/124 [==============================] - 0s 3ms/step - loss: 0.8636 - accuracy: 0.6500 - val_loss: 0.7858 - val_accuracy: 0.7462\n",
            "Epoch 20/30\n",
            "124/124 [==============================] - 0s 3ms/step - loss: 0.8310 - accuracy: 0.6420 - val_loss: 0.7593 - val_accuracy: 0.7462\n",
            "Epoch 21/30\n",
            "124/124 [==============================] - 0s 3ms/step - loss: 0.8000 - accuracy: 0.6502 - val_loss: 0.7448 - val_accuracy: 0.7145\n",
            "Epoch 22/30\n",
            "124/124 [==============================] - 0s 3ms/step - loss: 0.7769 - accuracy: 0.6489 - val_loss: 0.7280 - val_accuracy: 0.7229\n",
            "Epoch 23/30\n",
            "124/124 [==============================] - 0s 3ms/step - loss: 0.7599 - accuracy: 0.6502 - val_loss: 0.7147 - val_accuracy: 0.7212\n",
            "Epoch 24/30\n",
            "124/124 [==============================] - 0s 3ms/step - loss: 0.7401 - accuracy: 0.6573 - val_loss: 0.6876 - val_accuracy: 0.7195\n",
            "Epoch 25/30\n",
            "124/124 [==============================] - 0s 3ms/step - loss: 0.7274 - accuracy: 0.6528 - val_loss: 0.7037 - val_accuracy: 0.6928\n",
            "Epoch 26/30\n",
            "124/124 [==============================] - 0s 3ms/step - loss: 0.7138 - accuracy: 0.6520 - val_loss: 0.6806 - val_accuracy: 0.6912\n",
            "Epoch 27/30\n",
            "124/124 [==============================] - 0s 3ms/step - loss: 0.7024 - accuracy: 0.6600 - val_loss: 0.6721 - val_accuracy: 0.6895\n",
            "Epoch 28/30\n",
            "124/124 [==============================] - 0s 3ms/step - loss: 0.6971 - accuracy: 0.6606 - val_loss: 0.6484 - val_accuracy: 0.7062\n",
            "Epoch 29/30\n",
            "124/124 [==============================] - 0s 3ms/step - loss: 0.6867 - accuracy: 0.6621 - val_loss: 0.6684 - val_accuracy: 0.6761\n",
            "Epoch 30/30\n",
            "124/124 [==============================] - 0s 3ms/step - loss: 0.6790 - accuracy: 0.6566 - val_loss: 0.6418 - val_accuracy: 0.6745\n"
          ]
        }
      ]
    },
    {
      "cell_type": "markdown",
      "source": [
        "Kita simpan hasil metrics.history nya ke dalam bentuk dataframe, agar dapat divisualisasikan"
      ],
      "metadata": {
        "id": "CLHGdYNn4Zyd"
      }
    },
    {
      "cell_type": "code",
      "source": [
        "metrics_functional = pd.DataFrame(history_functional.history)\n",
        "metrics_functional.tail()"
      ],
      "metadata": {
        "colab": {
          "base_uri": "https://localhost:8080/",
          "height": 206
        },
        "id": "QEDGJ_-6wCVb",
        "outputId": "c04f7ddd-8625-4cbe-f4f4-99d3e2a0cb62"
      },
      "execution_count": 238,
      "outputs": [
        {
          "output_type": "execute_result",
          "data": {
            "text/plain": [
              "        loss  accuracy  val_loss  val_accuracy\n",
              "25  0.713759  0.652009  0.680610      0.691152\n",
              "26  0.702352  0.659970  0.672133      0.689482\n",
              "27  0.697084  0.660601  0.648367      0.706177\n",
              "28  0.686750  0.662118  0.668355      0.676127\n",
              "29  0.678982  0.656558  0.641759      0.674457"
            ],
            "text/html": [
              "\n",
              "  <div id=\"df-535d9f6f-0413-4115-bb47-b7bcd177a22a\">\n",
              "    <div class=\"colab-df-container\">\n",
              "      <div>\n",
              "<style scoped>\n",
              "    .dataframe tbody tr th:only-of-type {\n",
              "        vertical-align: middle;\n",
              "    }\n",
              "\n",
              "    .dataframe tbody tr th {\n",
              "        vertical-align: top;\n",
              "    }\n",
              "\n",
              "    .dataframe thead th {\n",
              "        text-align: right;\n",
              "    }\n",
              "</style>\n",
              "<table border=\"1\" class=\"dataframe\">\n",
              "  <thead>\n",
              "    <tr style=\"text-align: right;\">\n",
              "      <th></th>\n",
              "      <th>loss</th>\n",
              "      <th>accuracy</th>\n",
              "      <th>val_loss</th>\n",
              "      <th>val_accuracy</th>\n",
              "    </tr>\n",
              "  </thead>\n",
              "  <tbody>\n",
              "    <tr>\n",
              "      <th>25</th>\n",
              "      <td>0.713759</td>\n",
              "      <td>0.652009</td>\n",
              "      <td>0.680610</td>\n",
              "      <td>0.691152</td>\n",
              "    </tr>\n",
              "    <tr>\n",
              "      <th>26</th>\n",
              "      <td>0.702352</td>\n",
              "      <td>0.659970</td>\n",
              "      <td>0.672133</td>\n",
              "      <td>0.689482</td>\n",
              "    </tr>\n",
              "    <tr>\n",
              "      <th>27</th>\n",
              "      <td>0.697084</td>\n",
              "      <td>0.660601</td>\n",
              "      <td>0.648367</td>\n",
              "      <td>0.706177</td>\n",
              "    </tr>\n",
              "    <tr>\n",
              "      <th>28</th>\n",
              "      <td>0.686750</td>\n",
              "      <td>0.662118</td>\n",
              "      <td>0.668355</td>\n",
              "      <td>0.676127</td>\n",
              "    </tr>\n",
              "    <tr>\n",
              "      <th>29</th>\n",
              "      <td>0.678982</td>\n",
              "      <td>0.656558</td>\n",
              "      <td>0.641759</td>\n",
              "      <td>0.674457</td>\n",
              "    </tr>\n",
              "  </tbody>\n",
              "</table>\n",
              "</div>\n",
              "      <button class=\"colab-df-convert\" onclick=\"convertToInteractive('df-535d9f6f-0413-4115-bb47-b7bcd177a22a')\"\n",
              "              title=\"Convert this dataframe to an interactive table.\"\n",
              "              style=\"display:none;\">\n",
              "        \n",
              "  <svg xmlns=\"http://www.w3.org/2000/svg\" height=\"24px\"viewBox=\"0 0 24 24\"\n",
              "       width=\"24px\">\n",
              "    <path d=\"M0 0h24v24H0V0z\" fill=\"none\"/>\n",
              "    <path d=\"M18.56 5.44l.94 2.06.94-2.06 2.06-.94-2.06-.94-.94-2.06-.94 2.06-2.06.94zm-11 1L8.5 8.5l.94-2.06 2.06-.94-2.06-.94L8.5 2.5l-.94 2.06-2.06.94zm10 10l.94 2.06.94-2.06 2.06-.94-2.06-.94-.94-2.06-.94 2.06-2.06.94z\"/><path d=\"M17.41 7.96l-1.37-1.37c-.4-.4-.92-.59-1.43-.59-.52 0-1.04.2-1.43.59L10.3 9.45l-7.72 7.72c-.78.78-.78 2.05 0 2.83L4 21.41c.39.39.9.59 1.41.59.51 0 1.02-.2 1.41-.59l7.78-7.78 2.81-2.81c.8-.78.8-2.07 0-2.86zM5.41 20L4 18.59l7.72-7.72 1.47 1.35L5.41 20z\"/>\n",
              "  </svg>\n",
              "      </button>\n",
              "      \n",
              "  <style>\n",
              "    .colab-df-container {\n",
              "      display:flex;\n",
              "      flex-wrap:wrap;\n",
              "      gap: 12px;\n",
              "    }\n",
              "\n",
              "    .colab-df-convert {\n",
              "      background-color: #E8F0FE;\n",
              "      border: none;\n",
              "      border-radius: 50%;\n",
              "      cursor: pointer;\n",
              "      display: none;\n",
              "      fill: #1967D2;\n",
              "      height: 32px;\n",
              "      padding: 0 0 0 0;\n",
              "      width: 32px;\n",
              "    }\n",
              "\n",
              "    .colab-df-convert:hover {\n",
              "      background-color: #E2EBFA;\n",
              "      box-shadow: 0px 1px 2px rgba(60, 64, 67, 0.3), 0px 1px 3px 1px rgba(60, 64, 67, 0.15);\n",
              "      fill: #174EA6;\n",
              "    }\n",
              "\n",
              "    [theme=dark] .colab-df-convert {\n",
              "      background-color: #3B4455;\n",
              "      fill: #D2E3FC;\n",
              "    }\n",
              "\n",
              "    [theme=dark] .colab-df-convert:hover {\n",
              "      background-color: #434B5C;\n",
              "      box-shadow: 0px 1px 3px 1px rgba(0, 0, 0, 0.15);\n",
              "      filter: drop-shadow(0px 1px 2px rgba(0, 0, 0, 0.3));\n",
              "      fill: #FFFFFF;\n",
              "    }\n",
              "  </style>\n",
              "\n",
              "      <script>\n",
              "        const buttonEl =\n",
              "          document.querySelector('#df-535d9f6f-0413-4115-bb47-b7bcd177a22a button.colab-df-convert');\n",
              "        buttonEl.style.display =\n",
              "          google.colab.kernel.accessAllowed ? 'block' : 'none';\n",
              "\n",
              "        async function convertToInteractive(key) {\n",
              "          const element = document.querySelector('#df-535d9f6f-0413-4115-bb47-b7bcd177a22a');\n",
              "          const dataTable =\n",
              "            await google.colab.kernel.invokeFunction('convertToInteractive',\n",
              "                                                     [key], {});\n",
              "          if (!dataTable) return;\n",
              "\n",
              "          const docLinkHtml = 'Like what you see? Visit the ' +\n",
              "            '<a target=\"_blank\" href=https://colab.research.google.com/notebooks/data_table.ipynb>data table notebook</a>'\n",
              "            + ' to learn more about interactive tables.';\n",
              "          element.innerHTML = '';\n",
              "          dataTable['output_type'] = 'display_data';\n",
              "          await google.colab.output.renderOutput(dataTable, element);\n",
              "          const docLink = document.createElement('div');\n",
              "          docLink.innerHTML = docLinkHtml;\n",
              "          element.appendChild(docLink);\n",
              "        }\n",
              "      </script>\n",
              "    </div>\n",
              "  </div>\n",
              "  "
            ]
          },
          "metadata": {},
          "execution_count": 238
        }
      ]
    },
    {
      "cell_type": "markdown",
      "source": [
        "Kita lihat visualisasinya terkait metrics, apakah performanya akan sama atau berbeda dengan model sebelumnya"
      ],
      "metadata": {
        "id": "SIp-zxK55Z96"
      }
    },
    {
      "cell_type": "code",
      "source": [
        "fig,ax = plt.subplots(nrows=1,ncols=2,figsize=(18,6))\n",
        "ax[0].title.set_text(\"Accuracy\")\n",
        "ax[0].plot(np.arange(1,31,1),metrics_functional['accuracy'],color='tab:blue')\n",
        "ax[0].plot(np.arange(1,31,1),metrics_functional['val_accuracy'],color='tab:orange')\n",
        "ax[1].title.set_text(\"Loss\")\n",
        "ax[1].plot(np.arange(1,31,1),metrics_functional['loss'],color='tab:blue')\n",
        "ax[1].plot(np.arange(1,31,1),metrics_functional['val_loss'],color='tab:orange')\n",
        "plt.show()"
      ],
      "metadata": {
        "colab": {
          "base_uri": "https://localhost:8080/",
          "height": 390
        },
        "id": "HmrBmpyTwDsq",
        "outputId": "280d974b-2e1c-4775-f27e-7be60c6ab51c"
      },
      "execution_count": 239,
      "outputs": [
        {
          "output_type": "display_data",
          "data": {
            "text/plain": [
              "<Figure size 1296x432 with 2 Axes>"
            ],
            "image/png": "[encoded data removed]"
          },
          "metadata": {
            "needs_background": "light"
          }
        }
      ]
    },
    {
      "cell_type": "markdown",
      "source": [
        "Ternyata, hasil yang ditampilkan menunjukkan bahwa data cenderung underfit dibandingkan di latih dengan data yang belum dilakukan pipeline, sekarang kita lihat bagaimana performanya dalam bentuk classification report"
      ],
      "metadata": {
        "id": "Ma0v_boM5fC0"
      }
    },
    {
      "cell_type": "code",
      "source": [
        "y_pred_pipeline = model_functional.predict(X_test_final)\n",
        "y_pred_pipeline = np.where(y_pred_pipeline >= 0.5 , 1, 0)\n",
        "y_pred_pipeline"
      ],
      "metadata": {
        "colab": {
          "base_uri": "https://localhost:8080/"
        },
        "id": "Z3b14DzQ28jN",
        "outputId": "e89f4619-7cfe-4a98-8ef0-9280ec750d9b"
      },
      "execution_count": 240,
      "outputs": [
        {
          "output_type": "execute_result",
          "data": {
            "text/plain": [
              "array([[0],\n",
              "       [1],\n",
              "       [0],\n",
              "       ...,\n",
              "       [1],\n",
              "       [1],\n",
              "       [0]])"
            ]
          },
          "metadata": {},
          "execution_count": 240
        }
      ]
    },
    {
      "cell_type": "markdown",
      "source": [
        "Hasil classification report setelah menggunakan data pipeline"
      ],
      "metadata": {
        "id": "HRHkI9-S5sE-"
      }
    },
    {
      "cell_type": "code",
      "source": [
        "print(classification_report(y_test,y_pred_pipeline))"
      ],
      "metadata": {
        "colab": {
          "base_uri": "https://localhost:8080/"
        },
        "id": "jJQnCwIz3hXf",
        "outputId": "1ae817a1-d0b9-402e-a5fc-5ba0c63f0236"
      },
      "execution_count": 241,
      "outputs": [
        {
          "output_type": "stream",
          "name": "stdout",
          "text": [
            "              precision    recall  f1-score   support\n",
            "\n",
            "           0       0.93      0.61      0.74       777\n",
            "           1       0.45      0.88      0.59       280\n",
            "\n",
            "    accuracy                           0.68      1057\n",
            "   macro avg       0.69      0.75      0.67      1057\n",
            "weighted avg       0.81      0.68      0.70      1057\n",
            "\n"
          ]
        }
      ]
    },
    {
      "cell_type": "markdown",
      "source": [
        "Ternyata, setelah memanfaatkan data dari pipeline, recall pada label 1 lebih tinggi, namun precisionnya malah menurun bahkan hingga di 0.46 "
      ],
      "metadata": {
        "id": "4-kwbHfw5vB4"
      }
    },
    {
      "cell_type": "markdown",
      "source": [
        "## Saving Model With Pipeline"
      ],
      "metadata": {
        "id": "m99vWtvt7j3Z"
      }
    },
    {
      "cell_type": "markdown",
      "source": [
        "Kita coba simpan model neural network ini dengan nama neuralmodel_m1.h5"
      ],
      "metadata": {
        "id": "2z07jhOdz5CA"
      }
    },
    {
      "cell_type": "code",
      "source": [
        "# model_functional.save('neuralmodel_m1.h5')"
      ],
      "metadata": {
        "id": "0lDKTGF40CJK"
      },
      "execution_count": 242,
      "outputs": []
    },
    {
      "cell_type": "markdown",
      "source": [
        "# 9. Model Inference\n",
        "\n",
        "Model yang sudah dilatih akan dicoba pada data yang bukan termasuk ke dalam train-set ataupun test-set. Data ini harus dalam format yang asli, bukan data yang sudah di-scaled."
      ],
      "metadata": {
        "id": "WN-n54Ej0Z6g"
      }
    },
    {
      "cell_type": "markdown",
      "source": [
        "Kita coba manfaatkan 15 data pertama, untuk dilakukan preprocessing serta predict ke model, apakah bisa dimanfaatkan atau tidak"
      ],
      "metadata": {
        "id": "QnJxLAxd0nB1"
      }
    },
    {
      "cell_type": "code",
      "source": [
        "data_inf = df[selected_features][:15]\n",
        "y_inf = df['Churn'][:15]"
      ],
      "metadata": {
        "id": "oQ2rk5L30wsq"
      },
      "execution_count": 243,
      "outputs": []
    },
    {
      "cell_type": "code",
      "source": [
        "data_inf_final = ct.transform(data_inf)\n"
      ],
      "metadata": {
        "id": "cA9X6_QB1FWF"
      },
      "execution_count": 244,
      "outputs": []
    },
    {
      "cell_type": "code",
      "source": [
        "y_inf_pred = model_functional.predict(data_inf_final)"
      ],
      "metadata": {
        "id": "cEpuybQJ1bpA"
      },
      "execution_count": 245,
      "outputs": []
    },
    {
      "cell_type": "code",
      "source": [
        "np.array(y_inf)"
      ],
      "metadata": {
        "colab": {
          "base_uri": "https://localhost:8080/"
        },
        "id": "CG28dw0T1-Tg",
        "outputId": "5a6fda15-a0b9-449c-91ce-d56b051ac17e"
      },
      "execution_count": 246,
      "outputs": [
        {
          "output_type": "execute_result",
          "data": {
            "text/plain": [
              "array([0, 0, 1, 0, 1, 1, 0, 0, 1, 0, 0, 0, 0, 1, 0])"
            ]
          },
          "metadata": {},
          "execution_count": 246
        }
      ]
    },
    {
      "cell_type": "code",
      "source": [
        "y_inf_pred = np.where(y_inf_pred>=0.5,1,0)\n",
        "y_inf_pred.flatten()"
      ],
      "metadata": {
        "colab": {
          "base_uri": "https://localhost:8080/"
        },
        "id": "QeGdrVv-2BQl",
        "outputId": "a3a9a853-d30c-40b7-bd93-e9726cae9b3c"
      },
      "execution_count": 247,
      "outputs": [
        {
          "output_type": "execute_result",
          "data": {
            "text/plain": [
              "array([1, 0, 1, 0, 1, 1, 1, 1, 1, 0, 1, 0, 0, 1, 1])"
            ]
          },
          "metadata": {},
          "execution_count": 247
        }
      ]
    },
    {
      "cell_type": "markdown",
      "source": [
        "Dari kondisi uji coba di atas, dari 15 yang pada inference, ada 5 yang berbeda dengan prediction nya, atau sekitar 33% adalah salah prediksi , sehingga dapat dikatakan kualitas model ini masih belum terlalu dapat diandalkan."
      ],
      "metadata": {
        "id": "aA2O68mM2pVK"
      }
    },
    {
      "cell_type": "markdown",
      "source": [
        "# 10. Pengambilan Kesimpulan\n",
        "\n",
        "Pada bagian terakhir ini, harus berisi kesimpulan yang mencerminkan hasil yang didapat dengan objective yang sudah ditulis di bagian pengenalan."
      ],
      "metadata": {
        "id": "BGofqTri5i_i"
      }
    },
    {
      "cell_type": "markdown",
      "source": [
        "Yang dapat disimpulkan dari pembuatan model di atas adalah :\n",
        "\n",
        "1. Dataset yang digunakan adalah dataset dengan total 20 features , yang kemudian dilakukan reduksi menjadi 6 features, dengan memanfaatkan feature importance dari RandomForestClassifier\n",
        "\n",
        "2. Ada missing values yang perlu dihandle sebelum melakukan scaling, encoding serta feature selection untuk lebih transparan dalam memutuskan , fitur mana yang paling penting untuk digunakan sehingga dapat dilakukan seleksi dimensi.\n",
        "\n",
        "3. Saya juga melakukan SMOTENC karena data cenderung terlihat imbalance , khususnya perbandingan antara 0 dan 1 (Not Churn dan Churn) adalah kurang lebih 3 : 1.\n",
        "\n",
        "4. Model yang disimpan , adalah model yang telah dilakukan beberapa percobaan , sehingga hasilnya lebih tidak overfit (baik diukur dari val_accuracy - accuracy , dan val_loss - loss) \n",
        "\n",
        "5. Recall yang dihasilkan (pada 0 dan 1) adalah sebesar 0.73 dan 0.80 . Harapan yang diinginkan adalah menghasilkan recall pada model setinggi mungkin (yang berarti False Negative diminimalisir), sehingga data real positif adalah lebih sering terprediksi positif dibandingkan terprediksi negatif.\n",
        "\n",
        "6. Saat memanfaatkan tensorslices dan batch (64) , kemampuan model menjadi menurun (hal ini yang sampai saat ini belum dapat saya temukan alasannya, mengapa bisa terjadi)"
      ],
      "metadata": {
        "id": "QZhjw9c35utM"
      }
    }
  ]
}