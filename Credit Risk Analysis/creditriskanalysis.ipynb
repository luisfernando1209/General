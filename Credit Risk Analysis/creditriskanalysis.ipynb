{
 "cells": [
  {
   "attachments": {},
   "cell_type": "markdown",
   "metadata": {},
   "source": [
    "# Credit Risk Analysis"
   ]
  },
  {
   "attachments": {},
   "cell_type": "markdown",
   "metadata": {},
   "source": [
    "Data source : https://www.kaggle.com/datasets/atulmittal199174/credit-risk-analysis-for-extending-bank-loans"
   ]
  },
  {
   "attachments": {},
   "cell_type": "markdown",
   "metadata": {},
   "source": [
    "## Import Libraries"
   ]
  },
  {
   "cell_type": "code",
   "execution_count": 96,
   "metadata": {},
   "outputs": [],
   "source": [
    "import pandas as pd \n",
    "import numpy as np\n",
    "import matplotlib.pyplot as plt\n",
    "import seaborn as sns\n",
    "from scipy.stats.stats import pearsonr\n",
    "from sklearn.model_selection import train_test_split\n",
    "from feature_engine.outliers import OutlierTrimmer\n",
    "from sklearn.ensemble import RandomForestClassifier\n",
    "from sklearn.preprocessing import MinMaxScaler\n",
    "from sklearn.model_selection import cross_val_score,GridSearchCV\n",
    "from sklearn.metrics import classification_report\n",
    "from sklearn.linear_model import LogisticRegression\n",
    "from sklearn.tree import DecisionTreeClassifier\n",
    "from sklearn.svm import SVC\n",
    "from sklearn.compose import ColumnTransformer\n",
    "from imblearn.pipeline import Pipeline,make_pipeline"
   ]
  },
  {
   "attachments": {},
   "cell_type": "markdown",
   "metadata": {},
   "source": [
    "## Data Loading"
   ]
  },
  {
   "cell_type": "code",
   "execution_count": 2,
   "metadata": {},
   "outputs": [
    {
     "data": {
      "text/html": [
       "<div>\n",
       "<style scoped>\n",
       "    .dataframe tbody tr th:only-of-type {\n",
       "        vertical-align: middle;\n",
       "    }\n",
       "\n",
       "    .dataframe tbody tr th {\n",
       "        vertical-align: top;\n",
       "    }\n",
       "\n",
       "    .dataframe thead th {\n",
       "        text-align: right;\n",
       "    }\n",
       "</style>\n",
       "<table border=\"1\" class=\"dataframe\">\n",
       "  <thead>\n",
       "    <tr style=\"text-align: right;\">\n",
       "      <th></th>\n",
       "      <th>age</th>\n",
       "      <th>ed</th>\n",
       "      <th>employ</th>\n",
       "      <th>address</th>\n",
       "      <th>income</th>\n",
       "      <th>debtinc</th>\n",
       "      <th>creddebt</th>\n",
       "      <th>othdebt</th>\n",
       "      <th>default</th>\n",
       "    </tr>\n",
       "  </thead>\n",
       "  <tbody>\n",
       "    <tr>\n",
       "      <th>0</th>\n",
       "      <td>41</td>\n",
       "      <td>3</td>\n",
       "      <td>17</td>\n",
       "      <td>12</td>\n",
       "      <td>176</td>\n",
       "      <td>9.3</td>\n",
       "      <td>11.359392</td>\n",
       "      <td>5.008608</td>\n",
       "      <td>1.0</td>\n",
       "    </tr>\n",
       "    <tr>\n",
       "      <th>1</th>\n",
       "      <td>27</td>\n",
       "      <td>1</td>\n",
       "      <td>10</td>\n",
       "      <td>6</td>\n",
       "      <td>31</td>\n",
       "      <td>17.3</td>\n",
       "      <td>1.362202</td>\n",
       "      <td>4.000798</td>\n",
       "      <td>0.0</td>\n",
       "    </tr>\n",
       "    <tr>\n",
       "      <th>2</th>\n",
       "      <td>40</td>\n",
       "      <td>1</td>\n",
       "      <td>15</td>\n",
       "      <td>14</td>\n",
       "      <td>55</td>\n",
       "      <td>5.5</td>\n",
       "      <td>0.856075</td>\n",
       "      <td>2.168925</td>\n",
       "      <td>0.0</td>\n",
       "    </tr>\n",
       "    <tr>\n",
       "      <th>3</th>\n",
       "      <td>41</td>\n",
       "      <td>1</td>\n",
       "      <td>15</td>\n",
       "      <td>14</td>\n",
       "      <td>120</td>\n",
       "      <td>2.9</td>\n",
       "      <td>2.658720</td>\n",
       "      <td>0.821280</td>\n",
       "      <td>0.0</td>\n",
       "    </tr>\n",
       "    <tr>\n",
       "      <th>4</th>\n",
       "      <td>24</td>\n",
       "      <td>2</td>\n",
       "      <td>2</td>\n",
       "      <td>0</td>\n",
       "      <td>28</td>\n",
       "      <td>17.3</td>\n",
       "      <td>1.787436</td>\n",
       "      <td>3.056564</td>\n",
       "      <td>1.0</td>\n",
       "    </tr>\n",
       "  </tbody>\n",
       "</table>\n",
       "</div>"
      ],
      "text/plain": [
       "   age  ed  employ  address  income  debtinc   creddebt   othdebt  default\n",
       "0   41   3      17       12     176      9.3  11.359392  5.008608      1.0\n",
       "1   27   1      10        6      31     17.3   1.362202  4.000798      0.0\n",
       "2   40   1      15       14      55      5.5   0.856075  2.168925      0.0\n",
       "3   41   1      15       14     120      2.9   2.658720  0.821280      0.0\n",
       "4   24   2       2        0      28     17.3   1.787436  3.056564      1.0"
      ]
     },
     "execution_count": 2,
     "metadata": {},
     "output_type": "execute_result"
    }
   ],
   "source": [
    "df = pd.read_csv('bankloans.csv')\n",
    "df.head(5)"
   ]
  },
  {
   "cell_type": "code",
   "execution_count": 3,
   "metadata": {},
   "outputs": [
    {
     "name": "stdout",
     "output_type": "stream",
     "text": [
      "<class 'pandas.core.frame.DataFrame'>\n",
      "RangeIndex: 1150 entries, 0 to 1149\n",
      "Data columns (total 9 columns):\n",
      " #   Column    Non-Null Count  Dtype  \n",
      "---  ------    --------------  -----  \n",
      " 0   age       1150 non-null   int64  \n",
      " 1   ed        1150 non-null   int64  \n",
      " 2   employ    1150 non-null   int64  \n",
      " 3   address   1150 non-null   int64  \n",
      " 4   income    1150 non-null   int64  \n",
      " 5   debtinc   1150 non-null   float64\n",
      " 6   creddebt  1150 non-null   float64\n",
      " 7   othdebt   1150 non-null   float64\n",
      " 8   default   700 non-null    float64\n",
      "dtypes: float64(4), int64(5)\n",
      "memory usage: 81.0 KB\n"
     ]
    }
   ],
   "source": [
    "df.info()"
   ]
  },
  {
   "attachments": {},
   "cell_type": "markdown",
   "metadata": {},
   "source": [
    "Penjelasan untuk masing - masing column yang digunakan :\n",
    "- age : age of the customers\n",
    "- ed : education level\n",
    "- employ : work experience\n",
    "- address : address of the customer\n",
    "- income : yearly income of the customer\n",
    "- debtinc : debt to income ratio\n",
    "- creddebt : credit to debt ratio\n",
    "- otherdebt : other debts\n",
    "- default : decision about credit risk ( 1 - yes, 0 - no)"
   ]
  },
  {
   "cell_type": "code",
   "execution_count": 4,
   "metadata": {},
   "outputs": [],
   "source": [
    "df = df.rename(columns={'ed':'education_level',\n",
    "                        'employ':'work_experience',\n",
    "                        'address':'customer_address',\n",
    "                        'income':'yearly_income',\n",
    "                        'debtinc':'debt_to_income',\n",
    "                        'creddebt':'credit_to_debt',\n",
    "                        'othdebt':'other_debts',\n",
    "                        'default':'credit_result'})"
   ]
  },
  {
   "cell_type": "code",
   "execution_count": 5,
   "metadata": {},
   "outputs": [
    {
     "data": {
      "text/html": [
       "<div>\n",
       "<style scoped>\n",
       "    .dataframe tbody tr th:only-of-type {\n",
       "        vertical-align: middle;\n",
       "    }\n",
       "\n",
       "    .dataframe tbody tr th {\n",
       "        vertical-align: top;\n",
       "    }\n",
       "\n",
       "    .dataframe thead th {\n",
       "        text-align: right;\n",
       "    }\n",
       "</style>\n",
       "<table border=\"1\" class=\"dataframe\">\n",
       "  <thead>\n",
       "    <tr style=\"text-align: right;\">\n",
       "      <th></th>\n",
       "      <th>age</th>\n",
       "      <th>education_level</th>\n",
       "      <th>work_experience</th>\n",
       "      <th>customer_address</th>\n",
       "      <th>yearly_income</th>\n",
       "      <th>debt_to_income</th>\n",
       "      <th>credit_to_debt</th>\n",
       "      <th>other_debts</th>\n",
       "      <th>credit_result</th>\n",
       "    </tr>\n",
       "  </thead>\n",
       "  <tbody>\n",
       "    <tr>\n",
       "      <th>count</th>\n",
       "      <td>1150.000000</td>\n",
       "      <td>1150.000000</td>\n",
       "      <td>1150.000000</td>\n",
       "      <td>1150.000000</td>\n",
       "      <td>1150.000000</td>\n",
       "      <td>1150.000000</td>\n",
       "      <td>1150.000000</td>\n",
       "      <td>1150.000000</td>\n",
       "      <td>700.000000</td>\n",
       "    </tr>\n",
       "    <tr>\n",
       "      <th>mean</th>\n",
       "      <td>35.235652</td>\n",
       "      <td>1.695652</td>\n",
       "      <td>8.781739</td>\n",
       "      <td>8.485217</td>\n",
       "      <td>47.982609</td>\n",
       "      <td>10.063391</td>\n",
       "      <td>1.605111</td>\n",
       "      <td>3.103844</td>\n",
       "      <td>0.261429</td>\n",
       "    </tr>\n",
       "    <tr>\n",
       "      <th>std</th>\n",
       "      <td>8.089961</td>\n",
       "      <td>0.927051</td>\n",
       "      <td>6.914762</td>\n",
       "      <td>6.977725</td>\n",
       "      <td>40.508814</td>\n",
       "      <td>6.584288</td>\n",
       "      <td>2.135967</td>\n",
       "      <td>3.529273</td>\n",
       "      <td>0.439727</td>\n",
       "    </tr>\n",
       "    <tr>\n",
       "      <th>min</th>\n",
       "      <td>20.000000</td>\n",
       "      <td>1.000000</td>\n",
       "      <td>0.000000</td>\n",
       "      <td>0.000000</td>\n",
       "      <td>13.000000</td>\n",
       "      <td>0.100000</td>\n",
       "      <td>0.011696</td>\n",
       "      <td>0.045584</td>\n",
       "      <td>0.000000</td>\n",
       "    </tr>\n",
       "    <tr>\n",
       "      <th>25%</th>\n",
       "      <td>29.000000</td>\n",
       "      <td>1.000000</td>\n",
       "      <td>3.000000</td>\n",
       "      <td>3.000000</td>\n",
       "      <td>24.000000</td>\n",
       "      <td>5.200000</td>\n",
       "      <td>0.415584</td>\n",
       "      <td>1.047996</td>\n",
       "      <td>0.000000</td>\n",
       "    </tr>\n",
       "    <tr>\n",
       "      <th>50%</th>\n",
       "      <td>35.000000</td>\n",
       "      <td>1.000000</td>\n",
       "      <td>7.000000</td>\n",
       "      <td>7.000000</td>\n",
       "      <td>36.000000</td>\n",
       "      <td>8.750000</td>\n",
       "      <td>0.899130</td>\n",
       "      <td>2.038053</td>\n",
       "      <td>0.000000</td>\n",
       "    </tr>\n",
       "    <tr>\n",
       "      <th>75%</th>\n",
       "      <td>41.000000</td>\n",
       "      <td>2.000000</td>\n",
       "      <td>13.000000</td>\n",
       "      <td>12.000000</td>\n",
       "      <td>56.750000</td>\n",
       "      <td>13.600000</td>\n",
       "      <td>1.898820</td>\n",
       "      <td>3.864960</td>\n",
       "      <td>1.000000</td>\n",
       "    </tr>\n",
       "    <tr>\n",
       "      <th>max</th>\n",
       "      <td>56.000000</td>\n",
       "      <td>5.000000</td>\n",
       "      <td>33.000000</td>\n",
       "      <td>34.000000</td>\n",
       "      <td>446.000000</td>\n",
       "      <td>41.300000</td>\n",
       "      <td>20.561310</td>\n",
       "      <td>35.197500</td>\n",
       "      <td>1.000000</td>\n",
       "    </tr>\n",
       "  </tbody>\n",
       "</table>\n",
       "</div>"
      ],
      "text/plain": [
       "               age  education_level  work_experience  customer_address  \\\n",
       "count  1150.000000      1150.000000      1150.000000       1150.000000   \n",
       "mean     35.235652         1.695652         8.781739          8.485217   \n",
       "std       8.089961         0.927051         6.914762          6.977725   \n",
       "min      20.000000         1.000000         0.000000          0.000000   \n",
       "25%      29.000000         1.000000         3.000000          3.000000   \n",
       "50%      35.000000         1.000000         7.000000          7.000000   \n",
       "75%      41.000000         2.000000        13.000000         12.000000   \n",
       "max      56.000000         5.000000        33.000000         34.000000   \n",
       "\n",
       "       yearly_income  debt_to_income  credit_to_debt  other_debts  \\\n",
       "count    1150.000000     1150.000000     1150.000000  1150.000000   \n",
       "mean       47.982609       10.063391        1.605111     3.103844   \n",
       "std        40.508814        6.584288        2.135967     3.529273   \n",
       "min        13.000000        0.100000        0.011696     0.045584   \n",
       "25%        24.000000        5.200000        0.415584     1.047996   \n",
       "50%        36.000000        8.750000        0.899130     2.038053   \n",
       "75%        56.750000       13.600000        1.898820     3.864960   \n",
       "max       446.000000       41.300000       20.561310    35.197500   \n",
       "\n",
       "       credit_result  \n",
       "count     700.000000  \n",
       "mean        0.261429  \n",
       "std         0.439727  \n",
       "min         0.000000  \n",
       "25%         0.000000  \n",
       "50%         0.000000  \n",
       "75%         1.000000  \n",
       "max         1.000000  "
      ]
     },
     "execution_count": 5,
     "metadata": {},
     "output_type": "execute_result"
    }
   ],
   "source": [
    "df.describe()"
   ]
  },
  {
   "cell_type": "code",
   "execution_count": 6,
   "metadata": {},
   "outputs": [
    {
     "name": "stdout",
     "output_type": "stream",
     "text": [
      "Unique value untuk  age  : 37\n",
      "Unique value untuk  education_level  : 5\n",
      "Unique value untuk  work_experience  : 33\n",
      "Unique value untuk  customer_address  : 32\n",
      "Unique value untuk  yearly_income  : 129\n",
      "Unique value untuk  debt_to_income  : 245\n",
      "Unique value untuk  credit_to_debt  : 842\n",
      "Unique value untuk  other_debts  : 848\n",
      "Unique value untuk  credit_result  : 2\n"
     ]
    }
   ],
   "source": [
    "for item in (df.columns):\n",
    "    print('Unique value untuk ',item,' :',df[item].nunique())"
   ]
  },
  {
   "cell_type": "code",
   "execution_count": 7,
   "metadata": {},
   "outputs": [
    {
     "data": {
      "text/plain": [
       "[3, 1, 2, 4, 5]"
      ]
     },
     "execution_count": 7,
     "metadata": {},
     "output_type": "execute_result"
    }
   ],
   "source": [
    "df['education_level'].unique().tolist()"
   ]
  },
  {
   "cell_type": "code",
   "execution_count": 8,
   "metadata": {},
   "outputs": [
    {
     "data": {
      "text/plain": [
       "Int64Index([ 700,  701,  702,  703,  704,  705,  706,  707,  708,  709,\n",
       "            ...\n",
       "            1140, 1141, 1142, 1143, 1144, 1145, 1146, 1147, 1148, 1149],\n",
       "           dtype='int64', length=450)"
      ]
     },
     "execution_count": 8,
     "metadata": {},
     "output_type": "execute_result"
    }
   ],
   "source": [
    "result_index = df[df['credit_result'].isna()==True].index\n",
    "result_index"
   ]
  },
  {
   "cell_type": "code",
   "execution_count": 9,
   "metadata": {},
   "outputs": [
    {
     "data": {
      "text/html": [
       "<div>\n",
       "<style scoped>\n",
       "    .dataframe tbody tr th:only-of-type {\n",
       "        vertical-align: middle;\n",
       "    }\n",
       "\n",
       "    .dataframe tbody tr th {\n",
       "        vertical-align: top;\n",
       "    }\n",
       "\n",
       "    .dataframe thead th {\n",
       "        text-align: right;\n",
       "    }\n",
       "</style>\n",
       "<table border=\"1\" class=\"dataframe\">\n",
       "  <thead>\n",
       "    <tr style=\"text-align: right;\">\n",
       "      <th></th>\n",
       "      <th>age</th>\n",
       "      <th>education_level</th>\n",
       "      <th>work_experience</th>\n",
       "      <th>customer_address</th>\n",
       "      <th>yearly_income</th>\n",
       "      <th>debt_to_income</th>\n",
       "      <th>credit_to_debt</th>\n",
       "      <th>other_debts</th>\n",
       "      <th>credit_result</th>\n",
       "    </tr>\n",
       "  </thead>\n",
       "  <tbody>\n",
       "    <tr>\n",
       "      <th>0</th>\n",
       "      <td>41</td>\n",
       "      <td>3</td>\n",
       "      <td>17</td>\n",
       "      <td>12</td>\n",
       "      <td>176</td>\n",
       "      <td>9.3</td>\n",
       "      <td>11.359392</td>\n",
       "      <td>5.008608</td>\n",
       "      <td>1.0</td>\n",
       "    </tr>\n",
       "    <tr>\n",
       "      <th>1</th>\n",
       "      <td>27</td>\n",
       "      <td>1</td>\n",
       "      <td>10</td>\n",
       "      <td>6</td>\n",
       "      <td>31</td>\n",
       "      <td>17.3</td>\n",
       "      <td>1.362202</td>\n",
       "      <td>4.000798</td>\n",
       "      <td>0.0</td>\n",
       "    </tr>\n",
       "    <tr>\n",
       "      <th>2</th>\n",
       "      <td>40</td>\n",
       "      <td>1</td>\n",
       "      <td>15</td>\n",
       "      <td>14</td>\n",
       "      <td>55</td>\n",
       "      <td>5.5</td>\n",
       "      <td>0.856075</td>\n",
       "      <td>2.168925</td>\n",
       "      <td>0.0</td>\n",
       "    </tr>\n",
       "    <tr>\n",
       "      <th>3</th>\n",
       "      <td>41</td>\n",
       "      <td>1</td>\n",
       "      <td>15</td>\n",
       "      <td>14</td>\n",
       "      <td>120</td>\n",
       "      <td>2.9</td>\n",
       "      <td>2.658720</td>\n",
       "      <td>0.821280</td>\n",
       "      <td>0.0</td>\n",
       "    </tr>\n",
       "    <tr>\n",
       "      <th>4</th>\n",
       "      <td>24</td>\n",
       "      <td>2</td>\n",
       "      <td>2</td>\n",
       "      <td>0</td>\n",
       "      <td>28</td>\n",
       "      <td>17.3</td>\n",
       "      <td>1.787436</td>\n",
       "      <td>3.056564</td>\n",
       "      <td>1.0</td>\n",
       "    </tr>\n",
       "    <tr>\n",
       "      <th>...</th>\n",
       "      <td>...</td>\n",
       "      <td>...</td>\n",
       "      <td>...</td>\n",
       "      <td>...</td>\n",
       "      <td>...</td>\n",
       "      <td>...</td>\n",
       "      <td>...</td>\n",
       "      <td>...</td>\n",
       "      <td>...</td>\n",
       "    </tr>\n",
       "    <tr>\n",
       "      <th>695</th>\n",
       "      <td>36</td>\n",
       "      <td>2</td>\n",
       "      <td>6</td>\n",
       "      <td>15</td>\n",
       "      <td>27</td>\n",
       "      <td>4.6</td>\n",
       "      <td>0.262062</td>\n",
       "      <td>0.979938</td>\n",
       "      <td>1.0</td>\n",
       "    </tr>\n",
       "    <tr>\n",
       "      <th>696</th>\n",
       "      <td>29</td>\n",
       "      <td>2</td>\n",
       "      <td>6</td>\n",
       "      <td>4</td>\n",
       "      <td>21</td>\n",
       "      <td>11.5</td>\n",
       "      <td>0.369495</td>\n",
       "      <td>2.045505</td>\n",
       "      <td>0.0</td>\n",
       "    </tr>\n",
       "    <tr>\n",
       "      <th>697</th>\n",
       "      <td>33</td>\n",
       "      <td>1</td>\n",
       "      <td>15</td>\n",
       "      <td>3</td>\n",
       "      <td>32</td>\n",
       "      <td>7.6</td>\n",
       "      <td>0.491264</td>\n",
       "      <td>1.940736</td>\n",
       "      <td>0.0</td>\n",
       "    </tr>\n",
       "    <tr>\n",
       "      <th>698</th>\n",
       "      <td>45</td>\n",
       "      <td>1</td>\n",
       "      <td>19</td>\n",
       "      <td>22</td>\n",
       "      <td>77</td>\n",
       "      <td>8.4</td>\n",
       "      <td>2.302608</td>\n",
       "      <td>4.165392</td>\n",
       "      <td>0.0</td>\n",
       "    </tr>\n",
       "    <tr>\n",
       "      <th>699</th>\n",
       "      <td>37</td>\n",
       "      <td>1</td>\n",
       "      <td>12</td>\n",
       "      <td>14</td>\n",
       "      <td>44</td>\n",
       "      <td>14.7</td>\n",
       "      <td>2.994684</td>\n",
       "      <td>3.473316</td>\n",
       "      <td>0.0</td>\n",
       "    </tr>\n",
       "  </tbody>\n",
       "</table>\n",
       "<p>700 rows × 9 columns</p>\n",
       "</div>"
      ],
      "text/plain": [
       "     age  education_level  work_experience  customer_address  yearly_income  \\\n",
       "0     41                3               17                12            176   \n",
       "1     27                1               10                 6             31   \n",
       "2     40                1               15                14             55   \n",
       "3     41                1               15                14            120   \n",
       "4     24                2                2                 0             28   \n",
       "..   ...              ...              ...               ...            ...   \n",
       "695   36                2                6                15             27   \n",
       "696   29                2                6                 4             21   \n",
       "697   33                1               15                 3             32   \n",
       "698   45                1               19                22             77   \n",
       "699   37                1               12                14             44   \n",
       "\n",
       "     debt_to_income  credit_to_debt  other_debts  credit_result  \n",
       "0               9.3       11.359392     5.008608            1.0  \n",
       "1              17.3        1.362202     4.000798            0.0  \n",
       "2               5.5        0.856075     2.168925            0.0  \n",
       "3               2.9        2.658720     0.821280            0.0  \n",
       "4              17.3        1.787436     3.056564            1.0  \n",
       "..              ...             ...          ...            ...  \n",
       "695             4.6        0.262062     0.979938            1.0  \n",
       "696            11.5        0.369495     2.045505            0.0  \n",
       "697             7.6        0.491264     1.940736            0.0  \n",
       "698             8.4        2.302608     4.165392            0.0  \n",
       "699            14.7        2.994684     3.473316            0.0  \n",
       "\n",
       "[700 rows x 9 columns]"
      ]
     },
     "execution_count": 9,
     "metadata": {},
     "output_type": "execute_result"
    }
   ],
   "source": [
    "df.drop(result_index,inplace=True)\n",
    "df"
   ]
  },
  {
   "attachments": {},
   "cell_type": "markdown",
   "metadata": {},
   "source": [
    "## Exploratory Data Analysis (EDA)"
   ]
  },
  {
   "attachments": {},
   "cell_type": "markdown",
   "metadata": {},
   "source": [
    "### Checking Distribution of Each Columns"
   ]
  },
  {
   "cell_type": "code",
   "execution_count": 10,
   "metadata": {},
   "outputs": [
    {
     "data": {
      "image/png": "[encoded data removed]",
      "text/plain": [
       "<Figure size 1440x1080 with 8 Axes>"
      ]
     },
     "metadata": {
      "needs_background": "light"
     },
     "output_type": "display_data"
    }
   ],
   "source": [
    "i = 0\n",
    "j = 0\n",
    "fig,axes = plt.subplots(nrows=2,ncols=4,figsize=(20,15))\n",
    "for item in df.columns.tolist():\n",
    "    sns.kdeplot(data=df,x=item,ax=axes[i][j],fill=True)\n",
    "    j+=1\n",
    "    if j>3:\n",
    "        j=0\n",
    "        i+=1\n",
    "        if i>1:\n",
    "            break"
   ]
  },
  {
   "cell_type": "markdown",
   "metadata": {},
   "source": [
    "Kalau lebih dari 0.5, maka right skew\n",
    "Kalau kurang dari 0.5, maka left skew\n",
    "Kalau tidak keduanya, maka normal"
   ]
  },
  {
   "cell_type": "code",
   "execution_count": 11,
   "metadata": {},
   "outputs": [
    {
     "name": "stdout",
     "output_type": "stream",
     "text": [
      "Skewness untuk column age adalah 0.36147820320045854, distribusi : Normal\n",
      "Skewness untuk column education_level adalah 1.2013195293158183, distribusi : Skew\n",
      "Skewness untuk column work_experience adalah 0.831153576061581, distribusi : Skew\n",
      "Skewness untuk column customer_address adalah 0.9380976195252814, distribusi : Skew\n",
      "Skewness untuk column yearly_income adalah 3.8587482818856196, distribusi : Skew\n",
      "Skewness untuk column debt_to_income adalah 1.0960633474617312, distribusi : Skew\n",
      "Skewness untuk column credit_to_debt adalah 3.8986170026057385, distribusi : Skew\n",
      "Skewness untuk column other_debts adalah 2.7281630721738597, distribusi : Skew\n",
      "Skewness untuk column credit_result adalah 1.0881977801921405, distribusi : Skew\n"
     ]
    }
   ],
   "source": [
    "for item in df.columns.tolist():\n",
    "    if df[item].skew() > -0.5 and df[item].skew() < 0.5:\n",
    "        print('Skewness untuk column {} adalah {}, distribusi : Normal'.format(item,df[item].skew()))\n",
    "    else :\n",
    "        print('Skewness untuk column {} adalah {}, distribusi : Skew'.format(item,df[item].skew()))"
   ]
  },
  {
   "attachments": {},
   "cell_type": "markdown",
   "metadata": {},
   "source": [
    "Dari grafik di atas dapat dilihat bahwa hampir seluruh kolom berdistribusi skew, sehingga kemungkinan saat scaling kolom, dapat memanfaatkan MinMaxScaler"
   ]
  },
  {
   "attachments": {},
   "cell_type": "markdown",
   "metadata": {},
   "source": [
    "Kemudian, mari kita lihat distribusi data outlier yang dapat dilihat menggunakan boxplot"
   ]
  },
  {
   "cell_type": "code",
   "execution_count": 12,
   "metadata": {},
   "outputs": [
    {
     "data": {
      "image/png": "[encoded data removed]",
      "text/plain": [
       "<Figure size 1440x1080 with 8 Axes>"
      ]
     },
     "metadata": {
      "needs_background": "light"
     },
     "output_type": "display_data"
    }
   ],
   "source": [
    "i = 0\n",
    "j = 0\n",
    "fig,axes = plt.subplots(nrows=2,ncols=4,figsize=(20,15))\n",
    "for item in df.columns.tolist():\n",
    "    sns.boxplot(data=df,x=item,ax=axes[i][j])\n",
    "    j+=1\n",
    "    if j>3:\n",
    "        j=0\n",
    "        i+=1\n",
    "        if i>1:\n",
    "            break"
   ]
  },
  {
   "attachments": {},
   "cell_type": "markdown",
   "metadata": {},
   "source": [
    "Terlihat bahwa hampir seluruh kolom memiliki outlier, sehingga nantinya perlu dihandle"
   ]
  },
  {
   "cell_type": "code",
   "execution_count": 13,
   "metadata": {},
   "outputs": [
    {
     "data": {
      "text/plain": [
       "{'Normal': ['age'],\n",
       " 'Skew': ['education_level',\n",
       "  'work_experience',\n",
       "  'customer_address',\n",
       "  'yearly_income',\n",
       "  'debt_to_income',\n",
       "  'credit_to_debt',\n",
       "  'other_debts',\n",
       "  'credit_result']}"
      ]
     },
     "execution_count": 13,
     "metadata": {},
     "output_type": "execute_result"
    }
   ],
   "source": [
    "\n",
    "column_skew_dict = {'Normal':[],'Skew':[]}\n",
    "for item in df.columns.tolist():\n",
    "    if df[item].skew() > -0.5 and df[item].skew() < 0.5:\n",
    "        column_skew_dict['Normal'].append(item)\n",
    "    else :\n",
    "        column_skew_dict['Skew'].append(item)\n",
    "\n",
    "column_skew_dict"
   ]
  },
  {
   "attachments": {},
   "cell_type": "markdown",
   "metadata": {},
   "source": [
    "Kita lihat proporsi untuk label column 0 dan 1 ,apakah sudah seimbang atau belum . Jika tidak, maka perlu melakukan oversampling pada data training agar tidak terjadi imbalance dataset"
   ]
  },
  {
   "cell_type": "code",
   "execution_count": 14,
   "metadata": {},
   "outputs": [],
   "source": [
    "keys = ['0','1']\n",
    "value = df['credit_result'].value_counts(normalize=True).tolist()"
   ]
  },
  {
   "cell_type": "code",
   "execution_count": 15,
   "metadata": {},
   "outputs": [
    {
     "data": {
      "image/png": "[encoded data removed]",
      "text/plain": [
       "<Figure size 432x288 with 1 Axes>"
      ]
     },
     "metadata": {},
     "output_type": "display_data"
    }
   ],
   "source": [
    "plt.figure(facecolor='#FFFFFF')\n",
    "plt.pie(value,labels=keys,autopct='%.0f%%')\n",
    "plt.show()"
   ]
  },
  {
   "attachments": {},
   "cell_type": "markdown",
   "metadata": {},
   "source": [
    "Terlihat bahwa proporsi untuk 0 dan 1 adalah 26/74 atau sekitar 0.28 sehingga perlu melakukan oversampling pada data train dengan label column 1 nantinya"
   ]
  },
  {
   "attachments": {},
   "cell_type": "markdown",
   "metadata": {},
   "source": [
    "### Checking Correlation between columns"
   ]
  },
  {
   "attachments": {},
   "cell_type": "markdown",
   "metadata": {},
   "source": [
    "Sebelum melakukan handling outlier, mari telaah kembali apakah ada korelasi antara feature column dengan yang lainnya, atau feature column dengan label columnnya"
   ]
  },
  {
   "cell_type": "code",
   "execution_count": 16,
   "metadata": {},
   "outputs": [
    {
     "data": {
      "image/png": "[encoded data removed]",
      "text/plain": [
       "<Figure size 1080x720 with 2 Axes>"
      ]
     },
     "metadata": {
      "needs_background": "light"
     },
     "output_type": "display_data"
    }
   ],
   "source": [
    "fig,ax = plt.subplots(figsize=(15,10),nrows=1,ncols=1)\n",
    "sns.heatmap(df.corr(),annot=True,cmap='RdYlBu',ax=ax)\n",
    "plt.show()"
   ]
  },
  {
   "attachments": {},
   "cell_type": "markdown",
   "metadata": {},
   "source": [
    "Dapat terlihat ketika mencari korelasi antara feature column dengan label column, secara sekilas :\n",
    "- Age berbanding terbalik (kuat) dengan credit_result\n",
    "- Education_level berbanding terbalik (kuat) dengan credit_result\n",
    "- Customer_address berbanding terbalik (kuat) dengan credit_result\n",
    "- Yearly_income berbanding terbalik (sangat kuat) dengan credit_result\n",
    "- Other_debts berbanding terbalik (kuat) dengan credit result\n",
    "\n",
    "Sedangkan untuk work_experience, debt_to_income, dan credit_to_debt memiliki korelasi yang tidak begitu kuat\n",
    "\n",
    "Kemudian, tidak ada korelasi yang sangat kuat antara feature column satu dengan yang lainnya, sehingga tidak perlu untuk mengeliminasi feature column dengan alasan korelasi kuat dengan feature column lainnya"
   ]
  },
  {
   "attachments": {},
   "cell_type": "markdown",
   "metadata": {},
   "source": [
    "#### Korelasi antara age dengan credit result"
   ]
  },
  {
   "cell_type": "code",
   "execution_count": 17,
   "metadata": {},
   "outputs": [
    {
     "data": {
      "text/plain": [
       "<AxesSubplot:xlabel='credit_result', ylabel='age'>"
      ]
     },
     "execution_count": 17,
     "metadata": {},
     "output_type": "execute_result"
    },
    {
     "data": {
      "image/png": "[encoded data removed]",
      "text/plain": [
       "<Figure size 432x288 with 1 Axes>"
      ]
     },
     "metadata": {
      "needs_background": "light"
     },
     "output_type": "display_data"
    }
   ],
   "source": [
    "sns.scatterplot(y=df['age'],x=df['credit_result'])"
   ]
  },
  {
   "attachments": {},
   "cell_type": "markdown",
   "metadata": {},
   "source": [
    "Dari hasil di atas, terlihat bahwa age tidak berpengaruh secara signifikan terhadap credit_result\n",
    "\n",
    "Namun, mari kita periksa dengan pearson correlation"
   ]
  },
  {
   "cell_type": "code",
   "execution_count": 18,
   "metadata": {},
   "outputs": [],
   "source": [
    "pearson_corr, p_val = pearsonr(df['credit_result'],df['age'])"
   ]
  },
  {
   "cell_type": "code",
   "execution_count": 19,
   "metadata": {},
   "outputs": [
    {
     "data": {
      "text/plain": [
       "-0.13765710211371435"
      ]
     },
     "execution_count": 19,
     "metadata": {},
     "output_type": "execute_result"
    }
   ],
   "source": [
    "pearson_corr"
   ]
  },
  {
   "cell_type": "code",
   "execution_count": 20,
   "metadata": {},
   "outputs": [
    {
     "data": {
      "text/plain": [
       "0.0002592349567963635"
      ]
     },
     "execution_count": 20,
     "metadata": {},
     "output_type": "execute_result"
    }
   ],
   "source": [
    "p_val"
   ]
  },
  {
   "attachments": {},
   "cell_type": "markdown",
   "metadata": {},
   "source": [
    "Terlihat bahwa dengan pearson correlation, korelasi antara age dengan credit_result negatif signifikan, sehingga kolom age akan digunakan"
   ]
  },
  {
   "attachments": {},
   "cell_type": "markdown",
   "metadata": {},
   "source": [
    "#### Korelasi antara education_level dengan credit_result"
   ]
  },
  {
   "cell_type": "code",
   "execution_count": 21,
   "metadata": {},
   "outputs": [
    {
     "data": {
      "text/plain": [
       "<AxesSubplot:xlabel='credit_result', ylabel='education_level'>"
      ]
     },
     "execution_count": 21,
     "metadata": {},
     "output_type": "execute_result"
    },
    {
     "data": {
      "image/png": "[encoded data removed]",
      "text/plain": [
       "<Figure size 432x288 with 1 Axes>"
      ]
     },
     "metadata": {
      "needs_background": "light"
     },
     "output_type": "display_data"
    }
   ],
   "source": [
    "sns.scatterplot(x=df['credit_result'],y=df['education_level'])"
   ]
  },
  {
   "cell_type": "markdown",
   "metadata": {},
   "source": [
    "Dari hasil di atas, terlihat bahwa education_level tidak berpengaruh secara signifikan terhadap credit_result\n",
    "\n",
    "Namun, mari kita periksa dengan pearson correlation"
   ]
  },
  {
   "cell_type": "code",
   "execution_count": 22,
   "metadata": {},
   "outputs": [
    {
     "name": "stdout",
     "output_type": "stream",
     "text": [
      "Pearson correlation : 0.1146755510161549 \n",
      "P_value : 0.0023765086328479622\n"
     ]
    }
   ],
   "source": [
    "pearson_corr, p_val = pearsonr(df['credit_result'],df['education_level'])\n",
    "\n",
    "print('Pearson correlation : {} \\nP_value : {}'.format(pearson_corr,p_val))"
   ]
  },
  {
   "attachments": {},
   "cell_type": "markdown",
   "metadata": {},
   "source": [
    "Terlihat bahwa dengan pearson correlation, korelasi antara education_level dan credit_result negatif signifikan, sehingga kolom education_level akan digunakan"
   ]
  },
  {
   "attachments": {},
   "cell_type": "markdown",
   "metadata": {},
   "source": [
    "#### Korelasi antara work_experience dengan credit_result"
   ]
  },
  {
   "cell_type": "code",
   "execution_count": 23,
   "metadata": {},
   "outputs": [
    {
     "data": {
      "text/plain": [
       "<AxesSubplot:xlabel='credit_result', ylabel='work_experience'>"
      ]
     },
     "execution_count": 23,
     "metadata": {},
     "output_type": "execute_result"
    },
    {
     "data": {
      "image/png": "[encoded data removed]",
      "text/plain": [
       "<Figure size 432x288 with 1 Axes>"
      ]
     },
     "metadata": {
      "needs_background": "light"
     },
     "output_type": "display_data"
    }
   ],
   "source": [
    "sns.scatterplot(x=df['credit_result'],y=df['work_experience'])"
   ]
  },
  {
   "attachments": {},
   "cell_type": "markdown",
   "metadata": {},
   "source": [
    "Dari hasil di atas, terlihat bahwa work experience di atas 20 tidak banyak yang memiliki credit_result = 1, sehingga kesimpulan kasar adalah work_experience memiliki korelasi dengan credit_result\\\n",
    "\n",
    "Namun, mari kita periksa dengan pearson correlation"
   ]
  },
  {
   "cell_type": "code",
   "execution_count": 24,
   "metadata": {},
   "outputs": [
    {
     "name": "stdout",
     "output_type": "stream",
     "text": [
      "Pearson correlation : -0.28297839296551197 \n",
      "P_value : 2.347198389860361e-14\n"
     ]
    }
   ],
   "source": [
    "pearson_corr, p_val = pearsonr(df['credit_result'],df['work_experience'])\n",
    "\n",
    "print('Pearson correlation : {} \\nP_value : {}'.format(pearson_corr,p_val))"
   ]
  },
  {
   "attachments": {},
   "cell_type": "markdown",
   "metadata": {},
   "source": [
    "Terlihat bahwa p_value memiliki nilai di atas 0.05 yang artinya tidak ada signifikansi antara credit_result dengan work_experience. \n",
    "\n",
    "Sehingga, work_experience nantinya dapat dipertimbangkan untuk **dieliminasi** "
   ]
  },
  {
   "attachments": {},
   "cell_type": "markdown",
   "metadata": {},
   "source": [
    "#### Korelasi antara customer_address dengan credit_result"
   ]
  },
  {
   "cell_type": "code",
   "execution_count": 25,
   "metadata": {},
   "outputs": [
    {
     "data": {
      "text/plain": [
       "<AxesSubplot:xlabel='credit_result', ylabel='customer_address'>"
      ]
     },
     "execution_count": 25,
     "metadata": {},
     "output_type": "execute_result"
    },
    {
     "data": {
      "image/png": "[encoded data removed]",
      "text/plain": [
       "<Figure size 432x288 with 1 Axes>"
      ]
     },
     "metadata": {
      "needs_background": "light"
     },
     "output_type": "display_data"
    }
   ],
   "source": [
    "sns.scatterplot(x=df['credit_result'],y=df['customer_address'])"
   ]
  },
  {
   "cell_type": "markdown",
   "metadata": {},
   "source": [
    "Dari hasil di atas, terlihat bahwa customer_address tidak berpengaruh secara signifikan terhadap credit_result\n",
    "\n",
    "Namun, mari kita periksa dengan pearson correlation"
   ]
  },
  {
   "cell_type": "code",
   "execution_count": 26,
   "metadata": {},
   "outputs": [
    {
     "name": "stdout",
     "output_type": "stream",
     "text": [
      "Pearson correlation : -0.16445115872803898 \n",
      "P_value : 1.225513044563205e-05\n"
     ]
    }
   ],
   "source": [
    "pearson_corr, p_val = pearsonr(df['credit_result'],df['customer_address'])\n",
    "\n",
    "print('Pearson correlation : {} \\nP_value : {}'.format(pearson_corr,p_val))"
   ]
  },
  {
   "attachments": {},
   "cell_type": "markdown",
   "metadata": {},
   "source": [
    "Terlihat bahwa p_value memiliki nilai di atas 0.05 yang artinya tidak ada signifikansi antara credit_result dengan customer_address . \n",
    "\n",
    "Sehingga, customer_address nantinya dapat dipertimbangkan untuk **dieliminasi** "
   ]
  },
  {
   "attachments": {},
   "cell_type": "markdown",
   "metadata": {},
   "source": [
    "#### Korelasi antara yearly_income dengan credit_result"
   ]
  },
  {
   "cell_type": "code",
   "execution_count": 27,
   "metadata": {},
   "outputs": [
    {
     "data": {
      "text/plain": [
       "<AxesSubplot:xlabel='credit_result', ylabel='yearly_income'>"
      ]
     },
     "execution_count": 27,
     "metadata": {},
     "output_type": "execute_result"
    },
    {
     "data": {
      "image/png": "[encoded data removed]",
      "text/plain": [
       "<Figure size 432x288 with 1 Axes>"
      ]
     },
     "metadata": {
      "needs_background": "light"
     },
     "output_type": "display_data"
    }
   ],
   "source": [
    "sns.scatterplot(x=df['credit_result'],y=df['yearly_income'])"
   ]
  },
  {
   "attachments": {},
   "cell_type": "markdown",
   "metadata": {},
   "source": [
    "Dari grafik di atas, terlihat bahwa ketika yearly_income di atas 130 memiliki credit_result 0\n",
    "\n",
    "Namun dapat kita periksa kembali menggunakan pearson correlation"
   ]
  },
  {
   "cell_type": "code",
   "execution_count": 28,
   "metadata": {},
   "outputs": [
    {
     "name": "stdout",
     "output_type": "stream",
     "text": [
      "Pearson correlation : -0.07096965661922351 \n",
      "P_value : 0.06056036030014305\n"
     ]
    }
   ],
   "source": [
    "pearson_corr, p_val = pearsonr(df['credit_result'],df['yearly_income'])\n",
    "\n",
    "print('Pearson correlation : {} \\nP_value : {}'.format(pearson_corr,p_val))"
   ]
  },
  {
   "attachments": {},
   "cell_type": "markdown",
   "metadata": {},
   "source": [
    "Terlihat bahwa p_value memiliki nilai di atas 0.05, maka artinya yearly_income tidak berpengaruh secara signifikan terhadap credit_result\n",
    "\n",
    "Sehingga, yearly_income nantinya dapat dipertimbangkan untuk **dieliminasi**"
   ]
  },
  {
   "attachments": {},
   "cell_type": "markdown",
   "metadata": {},
   "source": [
    "#### Korelasi antara debt_to_income to credit_result"
   ]
  },
  {
   "cell_type": "code",
   "execution_count": 29,
   "metadata": {},
   "outputs": [
    {
     "data": {
      "text/plain": [
       "<AxesSubplot:xlabel='credit_result', ylabel='debt_to_income'>"
      ]
     },
     "execution_count": 29,
     "metadata": {},
     "output_type": "execute_result"
    },
    {
     "data": {
      "image/png": "[encoded data removed]",
      "text/plain": [
       "<Figure size 432x288 with 1 Axes>"
      ]
     },
     "metadata": {
      "needs_background": "light"
     },
     "output_type": "display_data"
    }
   ],
   "source": [
    "sns.scatterplot(x=df['credit_result'],y=df['debt_to_income'])"
   ]
  },
  {
   "attachments": {},
   "cell_type": "markdown",
   "metadata": {},
   "source": [
    "Pada grafik, terlihat sekilas bahwa ketika debt_to_income di atas 25 lebih banyak memiliki credit_result 1 dibandingkan tidak\n",
    "\n",
    "Namun dapat kita periksa menggunakan pearson correlation"
   ]
  },
  {
   "cell_type": "code",
   "execution_count": 30,
   "metadata": {},
   "outputs": [
    {
     "name": "stdout",
     "output_type": "stream",
     "text": [
      "Pearson correlation : 0.38957475971770766 \n",
      "P_value : 8.657458479679588e-27\n"
     ]
    }
   ],
   "source": [
    "pearson_corr, p_val = pearsonr(df['credit_result'],df['debt_to_income'])\n",
    "\n",
    "print('Pearson correlation : {} \\nP_value : {}'.format(pearson_corr,p_val))"
   ]
  },
  {
   "attachments": {},
   "cell_type": "markdown",
   "metadata": {},
   "source": [
    "Terlihat bahwa p_value memiliki nilai di atas 0.05, maka artinya debt_to_income tidak berpengaruh secara signifikan terhadap credit_result\n",
    "\n",
    "Sehingga, debt_to_income nantinya dapat dipertimbangkan untuk **dieliminasi**"
   ]
  },
  {
   "attachments": {},
   "cell_type": "markdown",
   "metadata": {},
   "source": [
    "#### Korelasi antara credit_to_debt dengan credit_result"
   ]
  },
  {
   "cell_type": "code",
   "execution_count": 31,
   "metadata": {},
   "outputs": [
    {
     "data": {
      "text/plain": [
       "<AxesSubplot:xlabel='credit_result', ylabel='credit_to_debt'>"
      ]
     },
     "execution_count": 31,
     "metadata": {},
     "output_type": "execute_result"
    },
    {
     "data": {
      "image/png": "[encoded data removed]",
      "text/plain": [
       "<Figure size 432x288 with 1 Axes>"
      ]
     },
     "metadata": {
      "needs_background": "light"
     },
     "output_type": "display_data"
    }
   ],
   "source": [
    "sns.scatterplot(x=df['credit_result'],y=df['credit_to_debt'])"
   ]
  },
  {
   "attachments": {},
   "cell_type": "markdown",
   "metadata": {},
   "source": [
    "Pada grafik, terlihat bahwa ketika credit_to_debt di atas 10, maka credit_resultnya adalah 1\n",
    "\n",
    "Namun, kita dapat periksa menggunakan pearson correlation"
   ]
  },
  {
   "cell_type": "code",
   "execution_count": 32,
   "metadata": {},
   "outputs": [
    {
     "name": "stdout",
     "output_type": "stream",
     "text": [
      "Pearson correlation : 0.24473972537225847 \n",
      "P_value : 5.248665952603552e-11\n"
     ]
    }
   ],
   "source": [
    "pearson_corr, p_val = pearsonr(df['credit_result'],df['credit_to_debt'])\n",
    "\n",
    "print('Pearson correlation : {} \\nP_value : {}'.format(pearson_corr,p_val))"
   ]
  },
  {
   "attachments": {},
   "cell_type": "markdown",
   "metadata": {},
   "source": [
    "Terlihat bahwa p_value memiliki nilai di atas 0.05, maka artinya credit_to_debt tidak berpengaruh secara signifikan terhadap credit_result\n",
    "\n",
    "Sehingga, credit_to_debt nantinya dapat dipertimbangkan untuk **dieliminasi**"
   ]
  },
  {
   "attachments": {},
   "cell_type": "markdown",
   "metadata": {},
   "source": [
    "#### Korelasi antara other_debts dengan credit_result"
   ]
  },
  {
   "cell_type": "code",
   "execution_count": 33,
   "metadata": {},
   "outputs": [
    {
     "data": {
      "text/plain": [
       "<AxesSubplot:xlabel='credit_result', ylabel='other_debts'>"
      ]
     },
     "execution_count": 33,
     "metadata": {},
     "output_type": "execute_result"
    },
    {
     "data": {
      "image/png": "[encoded data removed]",
      "text/plain": [
       "<Figure size 432x288 with 1 Axes>"
      ]
     },
     "metadata": {
      "needs_background": "light"
     },
     "output_type": "display_data"
    }
   ],
   "source": [
    "sns.scatterplot(x=df['credit_result'],y=df['other_debts'])"
   ]
  },
  {
   "attachments": {},
   "cell_type": "markdown",
   "metadata": {},
   "source": [
    "Pada grafik, terlihat bahwa other_debts tidak memiliki pengaruh yang signifikan terhadap credit_result\n",
    "\n",
    "Namun, kita dapat periksa menggunakan pearson correlation"
   ]
  },
  {
   "cell_type": "code",
   "execution_count": 34,
   "metadata": {},
   "outputs": [
    {
     "name": "stdout",
     "output_type": "stream",
     "text": [
      "Pearson correlation : 0.1457125656007403 \n",
      "P_value : 0.00010929611882480134\n"
     ]
    }
   ],
   "source": [
    "pearson_corr, p_val = pearsonr(df['credit_result'],df['other_debts'])\n",
    "\n",
    "print('Pearson correlation : {} \\nP_value : {}'.format(pearson_corr,p_val))"
   ]
  },
  {
   "attachments": {},
   "cell_type": "markdown",
   "metadata": {},
   "source": [
    "Terlihat bahwa P_value memiliki nilai di bawah 0.05, sehingga other_debts memiliki pengaruh yang signifikan terhadap credit_result"
   ]
  },
  {
   "attachments": {},
   "cell_type": "markdown",
   "metadata": {},
   "source": [
    "#### Korelasi antara education_level dengan yearly_income\n",
    "\n",
    "Dengan *personal assumption* , saya ingin melihat apakah ada korelasi antara education_level dengan yearly_income"
   ]
  },
  {
   "cell_type": "code",
   "execution_count": 35,
   "metadata": {},
   "outputs": [
    {
     "data": {
      "text/plain": [
       "<AxesSubplot:xlabel='education_level', ylabel='yearly_income'>"
      ]
     },
     "execution_count": 35,
     "metadata": {},
     "output_type": "execute_result"
    },
    {
     "data": {
      "image/png": "[encoded data removed]",
      "text/plain": [
       "<Figure size 432x288 with 1 Axes>"
      ]
     },
     "metadata": {
      "needs_background": "light"
     },
     "output_type": "display_data"
    }
   ],
   "source": [
    "sns.scatterplot(x=df['education_level'],y=df['yearly_income'])"
   ]
  },
  {
   "attachments": {},
   "cell_type": "markdown",
   "metadata": {},
   "source": [
    "Terlihat bahwa education_level tidak memiliki pengaruh signifikan terhadap yearly_income. \n",
    "\n",
    "Namun, dapat diperiksa menggunakan pearson correlation"
   ]
  },
  {
   "cell_type": "code",
   "execution_count": 36,
   "metadata": {},
   "outputs": [
    {
     "name": "stdout",
     "output_type": "stream",
     "text": [
      "Pearson correlation : 0.23519049759557498 \n",
      "P_value : 2.976171977417154e-10\n"
     ]
    }
   ],
   "source": [
    "pearson_corr, p_val = pearsonr(df['education_level'],df['yearly_income'])\n",
    "\n",
    "print('Pearson correlation : {} \\nP_value : {}'.format(pearson_corr,p_val))"
   ]
  },
  {
   "attachments": {},
   "cell_type": "markdown",
   "metadata": {},
   "source": [
    "Karena P_value memiliki nilai di atas 0.05, maka education_level dan yearly_income tidak memiliki pengaruh yang signifikan. "
   ]
  },
  {
   "attachments": {},
   "cell_type": "markdown",
   "metadata": {},
   "source": [
    "## Train Test Split"
   ]
  },
  {
   "attachments": {},
   "cell_type": "markdown",
   "metadata": {},
   "source": [
    "Saya akan menggunakan splitting untuk data train dan test sehingga model dapat dilatih dengan data train, dan dievaluasi dengan data test"
   ]
  },
  {
   "cell_type": "code",
   "execution_count": 37,
   "metadata": {},
   "outputs": [],
   "source": [
    "X = df.drop(columns='credit_result')\n",
    "y = df['credit_result']"
   ]
  },
  {
   "cell_type": "code",
   "execution_count": 38,
   "metadata": {},
   "outputs": [],
   "source": [
    "X_train, X_test, y_train, y_test = train_test_split(X,y,test_size=0.2,random_state=46,stratify=y)"
   ]
  },
  {
   "attachments": {},
   "cell_type": "markdown",
   "metadata": {},
   "source": [
    "### Data train"
   ]
  },
  {
   "cell_type": "code",
   "execution_count": 39,
   "metadata": {},
   "outputs": [
    {
     "data": {
      "text/html": [
       "<div>\n",
       "<style scoped>\n",
       "    .dataframe tbody tr th:only-of-type {\n",
       "        vertical-align: middle;\n",
       "    }\n",
       "\n",
       "    .dataframe tbody tr th {\n",
       "        vertical-align: top;\n",
       "    }\n",
       "\n",
       "    .dataframe thead th {\n",
       "        text-align: right;\n",
       "    }\n",
       "</style>\n",
       "<table border=\"1\" class=\"dataframe\">\n",
       "  <thead>\n",
       "    <tr style=\"text-align: right;\">\n",
       "      <th></th>\n",
       "      <th>age</th>\n",
       "      <th>education_level</th>\n",
       "      <th>work_experience</th>\n",
       "      <th>customer_address</th>\n",
       "      <th>yearly_income</th>\n",
       "      <th>debt_to_income</th>\n",
       "      <th>credit_to_debt</th>\n",
       "      <th>other_debts</th>\n",
       "    </tr>\n",
       "  </thead>\n",
       "  <tbody>\n",
       "    <tr>\n",
       "      <th>657</th>\n",
       "      <td>35</td>\n",
       "      <td>1</td>\n",
       "      <td>16</td>\n",
       "      <td>10</td>\n",
       "      <td>57</td>\n",
       "      <td>10.5</td>\n",
       "      <td>1.143135</td>\n",
       "      <td>4.841865</td>\n",
       "    </tr>\n",
       "    <tr>\n",
       "      <th>190</th>\n",
       "      <td>27</td>\n",
       "      <td>2</td>\n",
       "      <td>4</td>\n",
       "      <td>3</td>\n",
       "      <td>22</td>\n",
       "      <td>13.2</td>\n",
       "      <td>1.086096</td>\n",
       "      <td>1.817904</td>\n",
       "    </tr>\n",
       "    <tr>\n",
       "      <th>35</th>\n",
       "      <td>26</td>\n",
       "      <td>2</td>\n",
       "      <td>6</td>\n",
       "      <td>7</td>\n",
       "      <td>45</td>\n",
       "      <td>26.0</td>\n",
       "      <td>6.048900</td>\n",
       "      <td>5.651100</td>\n",
       "    </tr>\n",
       "    <tr>\n",
       "      <th>351</th>\n",
       "      <td>22</td>\n",
       "      <td>1</td>\n",
       "      <td>1</td>\n",
       "      <td>3</td>\n",
       "      <td>17</td>\n",
       "      <td>18.6</td>\n",
       "      <td>0.806310</td>\n",
       "      <td>2.355690</td>\n",
       "    </tr>\n",
       "    <tr>\n",
       "      <th>446</th>\n",
       "      <td>32</td>\n",
       "      <td>3</td>\n",
       "      <td>5</td>\n",
       "      <td>9</td>\n",
       "      <td>23</td>\n",
       "      <td>4.5</td>\n",
       "      <td>0.326025</td>\n",
       "      <td>0.708975</td>\n",
       "    </tr>\n",
       "  </tbody>\n",
       "</table>\n",
       "</div>"
      ],
      "text/plain": [
       "     age  education_level  work_experience  customer_address  yearly_income  \\\n",
       "657   35                1               16                10             57   \n",
       "190   27                2                4                 3             22   \n",
       "35    26                2                6                 7             45   \n",
       "351   22                1                1                 3             17   \n",
       "446   32                3                5                 9             23   \n",
       "\n",
       "     debt_to_income  credit_to_debt  other_debts  \n",
       "657            10.5        1.143135     4.841865  \n",
       "190            13.2        1.086096     1.817904  \n",
       "35             26.0        6.048900     5.651100  \n",
       "351            18.6        0.806310     2.355690  \n",
       "446             4.5        0.326025     0.708975  "
      ]
     },
     "execution_count": 39,
     "metadata": {},
     "output_type": "execute_result"
    }
   ],
   "source": [
    "X_train.head()"
   ]
  },
  {
   "cell_type": "code",
   "execution_count": 40,
   "metadata": {},
   "outputs": [
    {
     "data": {
      "text/plain": [
       "657    0.0\n",
       "190    1.0\n",
       "35     0.0\n",
       "351    0.0\n",
       "446    0.0\n",
       "Name: credit_result, dtype: float64"
      ]
     },
     "execution_count": 40,
     "metadata": {},
     "output_type": "execute_result"
    }
   ],
   "source": [
    "y_train.head()"
   ]
  },
  {
   "attachments": {},
   "cell_type": "markdown",
   "metadata": {},
   "source": [
    "### Data test"
   ]
  },
  {
   "cell_type": "code",
   "execution_count": 41,
   "metadata": {},
   "outputs": [
    {
     "data": {
      "text/html": [
       "<div>\n",
       "<style scoped>\n",
       "    .dataframe tbody tr th:only-of-type {\n",
       "        vertical-align: middle;\n",
       "    }\n",
       "\n",
       "    .dataframe tbody tr th {\n",
       "        vertical-align: top;\n",
       "    }\n",
       "\n",
       "    .dataframe thead th {\n",
       "        text-align: right;\n",
       "    }\n",
       "</style>\n",
       "<table border=\"1\" class=\"dataframe\">\n",
       "  <thead>\n",
       "    <tr style=\"text-align: right;\">\n",
       "      <th></th>\n",
       "      <th>age</th>\n",
       "      <th>education_level</th>\n",
       "      <th>work_experience</th>\n",
       "      <th>customer_address</th>\n",
       "      <th>yearly_income</th>\n",
       "      <th>debt_to_income</th>\n",
       "      <th>credit_to_debt</th>\n",
       "      <th>other_debts</th>\n",
       "    </tr>\n",
       "  </thead>\n",
       "  <tbody>\n",
       "    <tr>\n",
       "      <th>69</th>\n",
       "      <td>29</td>\n",
       "      <td>1</td>\n",
       "      <td>1</td>\n",
       "      <td>2</td>\n",
       "      <td>20</td>\n",
       "      <td>18.6</td>\n",
       "      <td>0.569160</td>\n",
       "      <td>3.150840</td>\n",
       "    </tr>\n",
       "    <tr>\n",
       "      <th>662</th>\n",
       "      <td>31</td>\n",
       "      <td>3</td>\n",
       "      <td>6</td>\n",
       "      <td>8</td>\n",
       "      <td>54</td>\n",
       "      <td>2.8</td>\n",
       "      <td>0.402192</td>\n",
       "      <td>1.109808</td>\n",
       "    </tr>\n",
       "    <tr>\n",
       "      <th>434</th>\n",
       "      <td>39</td>\n",
       "      <td>2</td>\n",
       "      <td>9</td>\n",
       "      <td>16</td>\n",
       "      <td>56</td>\n",
       "      <td>18.7</td>\n",
       "      <td>4.764760</td>\n",
       "      <td>5.707240</td>\n",
       "    </tr>\n",
       "    <tr>\n",
       "      <th>554</th>\n",
       "      <td>40</td>\n",
       "      <td>1</td>\n",
       "      <td>21</td>\n",
       "      <td>21</td>\n",
       "      <td>46</td>\n",
       "      <td>6.2</td>\n",
       "      <td>0.966828</td>\n",
       "      <td>1.885172</td>\n",
       "    </tr>\n",
       "    <tr>\n",
       "      <th>382</th>\n",
       "      <td>39</td>\n",
       "      <td>2</td>\n",
       "      <td>2</td>\n",
       "      <td>12</td>\n",
       "      <td>46</td>\n",
       "      <td>16.0</td>\n",
       "      <td>4.003840</td>\n",
       "      <td>3.356160</td>\n",
       "    </tr>\n",
       "  </tbody>\n",
       "</table>\n",
       "</div>"
      ],
      "text/plain": [
       "     age  education_level  work_experience  customer_address  yearly_income  \\\n",
       "69    29                1                1                 2             20   \n",
       "662   31                3                6                 8             54   \n",
       "434   39                2                9                16             56   \n",
       "554   40                1               21                21             46   \n",
       "382   39                2                2                12             46   \n",
       "\n",
       "     debt_to_income  credit_to_debt  other_debts  \n",
       "69             18.6        0.569160     3.150840  \n",
       "662             2.8        0.402192     1.109808  \n",
       "434            18.7        4.764760     5.707240  \n",
       "554             6.2        0.966828     1.885172  \n",
       "382            16.0        4.003840     3.356160  "
      ]
     },
     "execution_count": 41,
     "metadata": {},
     "output_type": "execute_result"
    }
   ],
   "source": [
    "X_test.head()"
   ]
  },
  {
   "cell_type": "code",
   "execution_count": 42,
   "metadata": {},
   "outputs": [
    {
     "data": {
      "text/plain": [
       "69     1.0\n",
       "662    0.0\n",
       "434    0.0\n",
       "554    0.0\n",
       "382    1.0\n",
       "Name: credit_result, dtype: float64"
      ]
     },
     "execution_count": 42,
     "metadata": {},
     "output_type": "execute_result"
    }
   ],
   "source": [
    "y_test.head()"
   ]
  },
  {
   "attachments": {},
   "cell_type": "markdown",
   "metadata": {},
   "source": [
    "## Handling Outlier"
   ]
  },
  {
   "attachments": {},
   "cell_type": "markdown",
   "metadata": {},
   "source": [
    "Karena pada saat melakukan EDA , seluruh kolom mengandung outlier, maka perlu kita lihat, menggunakan extreme outlier (3x dari IQR nya), apakah banyak atau tidak (dapat menggunakan persentase dari total)"
   ]
  },
  {
   "cell_type": "code",
   "execution_count": 43,
   "metadata": {},
   "outputs": [
    {
     "name": "stdout",
     "output_type": "stream",
     "text": [
      "Upper limit dari age : 77.0\n",
      "Upper limit dari education_level : 5.0\n",
      "Upper limit dari work_experience : 39.0\n",
      "Upper limit dari customer_address : 39.0\n",
      "Upper limit dari yearly_income : 153.0\n",
      "Upper limit dari debt_to_income : 41.1\n",
      "Upper limit dari credit_to_debt : 6.437769\n",
      "Upper limit dari other_debts : 12.810103499999997\n"
     ]
    }
   ],
   "source": [
    "def upper_limit(data,variables):\n",
    "    Q3 = np.percentile(data[variables],75)\n",
    "    Q1 = np.percentile(data[variables],25)\n",
    "    IQR = Q3 - Q1\n",
    "    upper_boundary = Q3 + 3 * IQR\n",
    "    return upper_boundary\n",
    "\n",
    "for item in X_train.columns.tolist():\n",
    "    print('Upper limit dari {} : {}'.format(item,upper_limit(X_train,item)))"
   ]
  },
  {
   "attachments": {},
   "cell_type": "markdown",
   "metadata": {},
   "source": [
    "Dari upper limit yang telah diperoleh, maka kita lihat ada berapa jumlah outlier masing - masing kolom dengan kriteria outlier yaitu lebih dari upper limit di atas"
   ]
  },
  {
   "cell_type": "code",
   "execution_count": 44,
   "metadata": {},
   "outputs": [
    {
     "name": "stdout",
     "output_type": "stream",
     "text": [
      "Jumlah outlier pada age adalah 0. Persentase : 0.0\n",
      "Jumlah outlier pada education_level adalah 0. Persentase : 0.0\n",
      "Jumlah outlier pada work_experience adalah 0. Persentase : 0.0\n",
      "Jumlah outlier pada customer_address adalah 0. Persentase : 0.0\n",
      "Jumlah outlier pada yearly_income adalah 13. Persentase : 0.023214285714285715\n",
      "Jumlah outlier pada debt_to_income adalah 1. Persentase : 0.0017857142857142857\n",
      "Jumlah outlier pada credit_to_debt adalah 19. Persentase : 0.033928571428571426\n",
      "Jumlah outlier pada other_debts adalah 15. Persentase : 0.026785714285714284\n"
     ]
    }
   ],
   "source": [
    "for item in X_train.columns.tolist():\n",
    "    jumlah_outlier = X_train[X_train[item]>upper_limit(X_train,item)].shape[0]\n",
    "    persentase_outlier = jumlah_outlier / X_train[item].shape[0]\n",
    "    print('Jumlah outlier pada {} adalah {}. Persentase : {}'.format(item,jumlah_outlier,persentase_outlier))"
   ]
  },
  {
   "attachments": {},
   "cell_type": "markdown",
   "metadata": {},
   "source": [
    "Ternyata ada 4 kolom yang memiliki extreme outlier, sehingga kita coba untuk remove outlier dan periksa berapa yang terhapus karena adanya extreme outlier\n",
    "\n",
    "Untuk menggunakan outlier trimmer, maka perlu menggabung terlebih dahulu feature column dengan label column nya agar label column nya juga di-trim"
   ]
  },
  {
   "cell_type": "code",
   "execution_count": 45,
   "metadata": {},
   "outputs": [
    {
     "data": {
      "text/html": [
       "<div>\n",
       "<style scoped>\n",
       "    .dataframe tbody tr th:only-of-type {\n",
       "        vertical-align: middle;\n",
       "    }\n",
       "\n",
       "    .dataframe tbody tr th {\n",
       "        vertical-align: top;\n",
       "    }\n",
       "\n",
       "    .dataframe thead th {\n",
       "        text-align: right;\n",
       "    }\n",
       "</style>\n",
       "<table border=\"1\" class=\"dataframe\">\n",
       "  <thead>\n",
       "    <tr style=\"text-align: right;\">\n",
       "      <th></th>\n",
       "      <th>age</th>\n",
       "      <th>education_level</th>\n",
       "      <th>work_experience</th>\n",
       "      <th>customer_address</th>\n",
       "      <th>yearly_income</th>\n",
       "      <th>debt_to_income</th>\n",
       "      <th>credit_to_debt</th>\n",
       "      <th>other_debts</th>\n",
       "      <th>credit_result</th>\n",
       "    </tr>\n",
       "  </thead>\n",
       "  <tbody>\n",
       "    <tr>\n",
       "      <th>657</th>\n",
       "      <td>35</td>\n",
       "      <td>1</td>\n",
       "      <td>16</td>\n",
       "      <td>10</td>\n",
       "      <td>57</td>\n",
       "      <td>10.5</td>\n",
       "      <td>1.143135</td>\n",
       "      <td>4.841865</td>\n",
       "      <td>0.0</td>\n",
       "    </tr>\n",
       "    <tr>\n",
       "      <th>190</th>\n",
       "      <td>27</td>\n",
       "      <td>2</td>\n",
       "      <td>4</td>\n",
       "      <td>3</td>\n",
       "      <td>22</td>\n",
       "      <td>13.2</td>\n",
       "      <td>1.086096</td>\n",
       "      <td>1.817904</td>\n",
       "      <td>1.0</td>\n",
       "    </tr>\n",
       "    <tr>\n",
       "      <th>35</th>\n",
       "      <td>26</td>\n",
       "      <td>2</td>\n",
       "      <td>6</td>\n",
       "      <td>7</td>\n",
       "      <td>45</td>\n",
       "      <td>26.0</td>\n",
       "      <td>6.048900</td>\n",
       "      <td>5.651100</td>\n",
       "      <td>0.0</td>\n",
       "    </tr>\n",
       "    <tr>\n",
       "      <th>351</th>\n",
       "      <td>22</td>\n",
       "      <td>1</td>\n",
       "      <td>1</td>\n",
       "      <td>3</td>\n",
       "      <td>17</td>\n",
       "      <td>18.6</td>\n",
       "      <td>0.806310</td>\n",
       "      <td>2.355690</td>\n",
       "      <td>0.0</td>\n",
       "    </tr>\n",
       "    <tr>\n",
       "      <th>446</th>\n",
       "      <td>32</td>\n",
       "      <td>3</td>\n",
       "      <td>5</td>\n",
       "      <td>9</td>\n",
       "      <td>23</td>\n",
       "      <td>4.5</td>\n",
       "      <td>0.326025</td>\n",
       "      <td>0.708975</td>\n",
       "      <td>0.0</td>\n",
       "    </tr>\n",
       "    <tr>\n",
       "      <th>...</th>\n",
       "      <td>...</td>\n",
       "      <td>...</td>\n",
       "      <td>...</td>\n",
       "      <td>...</td>\n",
       "      <td>...</td>\n",
       "      <td>...</td>\n",
       "      <td>...</td>\n",
       "      <td>...</td>\n",
       "      <td>...</td>\n",
       "    </tr>\n",
       "    <tr>\n",
       "      <th>498</th>\n",
       "      <td>25</td>\n",
       "      <td>1</td>\n",
       "      <td>0</td>\n",
       "      <td>2</td>\n",
       "      <td>18</td>\n",
       "      <td>18.9</td>\n",
       "      <td>0.513702</td>\n",
       "      <td>2.888298</td>\n",
       "      <td>1.0</td>\n",
       "    </tr>\n",
       "    <tr>\n",
       "      <th>54</th>\n",
       "      <td>40</td>\n",
       "      <td>2</td>\n",
       "      <td>3</td>\n",
       "      <td>2</td>\n",
       "      <td>28</td>\n",
       "      <td>9.5</td>\n",
       "      <td>0.553280</td>\n",
       "      <td>2.106720</td>\n",
       "      <td>0.0</td>\n",
       "    </tr>\n",
       "    <tr>\n",
       "      <th>658</th>\n",
       "      <td>50</td>\n",
       "      <td>1</td>\n",
       "      <td>4</td>\n",
       "      <td>4</td>\n",
       "      <td>23</td>\n",
       "      <td>12.5</td>\n",
       "      <td>0.140875</td>\n",
       "      <td>2.734125</td>\n",
       "      <td>0.0</td>\n",
       "    </tr>\n",
       "    <tr>\n",
       "      <th>499</th>\n",
       "      <td>41</td>\n",
       "      <td>2</td>\n",
       "      <td>6</td>\n",
       "      <td>0</td>\n",
       "      <td>36</td>\n",
       "      <td>19.5</td>\n",
       "      <td>4.513860</td>\n",
       "      <td>2.506140</td>\n",
       "      <td>1.0</td>\n",
       "    </tr>\n",
       "    <tr>\n",
       "      <th>92</th>\n",
       "      <td>38</td>\n",
       "      <td>1</td>\n",
       "      <td>5</td>\n",
       "      <td>5</td>\n",
       "      <td>54</td>\n",
       "      <td>10.6</td>\n",
       "      <td>1.499688</td>\n",
       "      <td>4.224312</td>\n",
       "      <td>0.0</td>\n",
       "    </tr>\n",
       "  </tbody>\n",
       "</table>\n",
       "<p>560 rows × 9 columns</p>\n",
       "</div>"
      ],
      "text/plain": [
       "     age  education_level  work_experience  customer_address  yearly_income  \\\n",
       "657   35                1               16                10             57   \n",
       "190   27                2                4                 3             22   \n",
       "35    26                2                6                 7             45   \n",
       "351   22                1                1                 3             17   \n",
       "446   32                3                5                 9             23   \n",
       "..   ...              ...              ...               ...            ...   \n",
       "498   25                1                0                 2             18   \n",
       "54    40                2                3                 2             28   \n",
       "658   50                1                4                 4             23   \n",
       "499   41                2                6                 0             36   \n",
       "92    38                1                5                 5             54   \n",
       "\n",
       "     debt_to_income  credit_to_debt  other_debts  credit_result  \n",
       "657            10.5        1.143135     4.841865            0.0  \n",
       "190            13.2        1.086096     1.817904            1.0  \n",
       "35             26.0        6.048900     5.651100            0.0  \n",
       "351            18.6        0.806310     2.355690            0.0  \n",
       "446             4.5        0.326025     0.708975            0.0  \n",
       "..              ...             ...          ...            ...  \n",
       "498            18.9        0.513702     2.888298            1.0  \n",
       "54              9.5        0.553280     2.106720            0.0  \n",
       "658            12.5        0.140875     2.734125            0.0  \n",
       "499            19.5        4.513860     2.506140            1.0  \n",
       "92             10.6        1.499688     4.224312            0.0  \n",
       "\n",
       "[560 rows x 9 columns]"
      ]
     },
     "execution_count": 45,
     "metadata": {},
     "output_type": "execute_result"
    }
   ],
   "source": [
    "data_train = pd.concat([X_train,y_train],axis=1)\n",
    "data_train"
   ]
  },
  {
   "cell_type": "code",
   "execution_count": 46,
   "metadata": {},
   "outputs": [],
   "source": [
    "trimmer = OutlierTrimmer(capping_method=\"iqr\",tail=\"right\",fold=3,variables=['yearly_income','debt_to_income','credit_to_debt','other_debts'])\n",
    "trimmer.fit(data_train)\n",
    "data_train = trimmer.transform(data_train)"
   ]
  },
  {
   "cell_type": "code",
   "execution_count": 47,
   "metadata": {},
   "outputs": [
    {
     "data": {
      "text/html": [
       "<div>\n",
       "<style scoped>\n",
       "    .dataframe tbody tr th:only-of-type {\n",
       "        vertical-align: middle;\n",
       "    }\n",
       "\n",
       "    .dataframe tbody tr th {\n",
       "        vertical-align: top;\n",
       "    }\n",
       "\n",
       "    .dataframe thead th {\n",
       "        text-align: right;\n",
       "    }\n",
       "</style>\n",
       "<table border=\"1\" class=\"dataframe\">\n",
       "  <thead>\n",
       "    <tr style=\"text-align: right;\">\n",
       "      <th></th>\n",
       "      <th>age</th>\n",
       "      <th>education_level</th>\n",
       "      <th>work_experience</th>\n",
       "      <th>customer_address</th>\n",
       "      <th>yearly_income</th>\n",
       "      <th>debt_to_income</th>\n",
       "      <th>credit_to_debt</th>\n",
       "      <th>other_debts</th>\n",
       "      <th>credit_result</th>\n",
       "    </tr>\n",
       "  </thead>\n",
       "  <tbody>\n",
       "    <tr>\n",
       "      <th>657</th>\n",
       "      <td>35</td>\n",
       "      <td>1</td>\n",
       "      <td>16</td>\n",
       "      <td>10</td>\n",
       "      <td>57</td>\n",
       "      <td>10.5</td>\n",
       "      <td>1.143135</td>\n",
       "      <td>4.841865</td>\n",
       "      <td>0.0</td>\n",
       "    </tr>\n",
       "    <tr>\n",
       "      <th>190</th>\n",
       "      <td>27</td>\n",
       "      <td>2</td>\n",
       "      <td>4</td>\n",
       "      <td>3</td>\n",
       "      <td>22</td>\n",
       "      <td>13.2</td>\n",
       "      <td>1.086096</td>\n",
       "      <td>1.817904</td>\n",
       "      <td>1.0</td>\n",
       "    </tr>\n",
       "    <tr>\n",
       "      <th>35</th>\n",
       "      <td>26</td>\n",
       "      <td>2</td>\n",
       "      <td>6</td>\n",
       "      <td>7</td>\n",
       "      <td>45</td>\n",
       "      <td>26.0</td>\n",
       "      <td>6.048900</td>\n",
       "      <td>5.651100</td>\n",
       "      <td>0.0</td>\n",
       "    </tr>\n",
       "    <tr>\n",
       "      <th>351</th>\n",
       "      <td>22</td>\n",
       "      <td>1</td>\n",
       "      <td>1</td>\n",
       "      <td>3</td>\n",
       "      <td>17</td>\n",
       "      <td>18.6</td>\n",
       "      <td>0.806310</td>\n",
       "      <td>2.355690</td>\n",
       "      <td>0.0</td>\n",
       "    </tr>\n",
       "    <tr>\n",
       "      <th>446</th>\n",
       "      <td>32</td>\n",
       "      <td>3</td>\n",
       "      <td>5</td>\n",
       "      <td>9</td>\n",
       "      <td>23</td>\n",
       "      <td>4.5</td>\n",
       "      <td>0.326025</td>\n",
       "      <td>0.708975</td>\n",
       "      <td>0.0</td>\n",
       "    </tr>\n",
       "    <tr>\n",
       "      <th>...</th>\n",
       "      <td>...</td>\n",
       "      <td>...</td>\n",
       "      <td>...</td>\n",
       "      <td>...</td>\n",
       "      <td>...</td>\n",
       "      <td>...</td>\n",
       "      <td>...</td>\n",
       "      <td>...</td>\n",
       "      <td>...</td>\n",
       "    </tr>\n",
       "    <tr>\n",
       "      <th>498</th>\n",
       "      <td>25</td>\n",
       "      <td>1</td>\n",
       "      <td>0</td>\n",
       "      <td>2</td>\n",
       "      <td>18</td>\n",
       "      <td>18.9</td>\n",
       "      <td>0.513702</td>\n",
       "      <td>2.888298</td>\n",
       "      <td>1.0</td>\n",
       "    </tr>\n",
       "    <tr>\n",
       "      <th>54</th>\n",
       "      <td>40</td>\n",
       "      <td>2</td>\n",
       "      <td>3</td>\n",
       "      <td>2</td>\n",
       "      <td>28</td>\n",
       "      <td>9.5</td>\n",
       "      <td>0.553280</td>\n",
       "      <td>2.106720</td>\n",
       "      <td>0.0</td>\n",
       "    </tr>\n",
       "    <tr>\n",
       "      <th>658</th>\n",
       "      <td>50</td>\n",
       "      <td>1</td>\n",
       "      <td>4</td>\n",
       "      <td>4</td>\n",
       "      <td>23</td>\n",
       "      <td>12.5</td>\n",
       "      <td>0.140875</td>\n",
       "      <td>2.734125</td>\n",
       "      <td>0.0</td>\n",
       "    </tr>\n",
       "    <tr>\n",
       "      <th>499</th>\n",
       "      <td>41</td>\n",
       "      <td>2</td>\n",
       "      <td>6</td>\n",
       "      <td>0</td>\n",
       "      <td>36</td>\n",
       "      <td>19.5</td>\n",
       "      <td>4.513860</td>\n",
       "      <td>2.506140</td>\n",
       "      <td>1.0</td>\n",
       "    </tr>\n",
       "    <tr>\n",
       "      <th>92</th>\n",
       "      <td>38</td>\n",
       "      <td>1</td>\n",
       "      <td>5</td>\n",
       "      <td>5</td>\n",
       "      <td>54</td>\n",
       "      <td>10.6</td>\n",
       "      <td>1.499688</td>\n",
       "      <td>4.224312</td>\n",
       "      <td>0.0</td>\n",
       "    </tr>\n",
       "  </tbody>\n",
       "</table>\n",
       "<p>527 rows × 9 columns</p>\n",
       "</div>"
      ],
      "text/plain": [
       "     age  education_level  work_experience  customer_address  yearly_income  \\\n",
       "657   35                1               16                10             57   \n",
       "190   27                2                4                 3             22   \n",
       "35    26                2                6                 7             45   \n",
       "351   22                1                1                 3             17   \n",
       "446   32                3                5                 9             23   \n",
       "..   ...              ...              ...               ...            ...   \n",
       "498   25                1                0                 2             18   \n",
       "54    40                2                3                 2             28   \n",
       "658   50                1                4                 4             23   \n",
       "499   41                2                6                 0             36   \n",
       "92    38                1                5                 5             54   \n",
       "\n",
       "     debt_to_income  credit_to_debt  other_debts  credit_result  \n",
       "657            10.5        1.143135     4.841865            0.0  \n",
       "190            13.2        1.086096     1.817904            1.0  \n",
       "35             26.0        6.048900     5.651100            0.0  \n",
       "351            18.6        0.806310     2.355690            0.0  \n",
       "446             4.5        0.326025     0.708975            0.0  \n",
       "..              ...             ...          ...            ...  \n",
       "498            18.9        0.513702     2.888298            1.0  \n",
       "54              9.5        0.553280     2.106720            0.0  \n",
       "658            12.5        0.140875     2.734125            0.0  \n",
       "499            19.5        4.513860     2.506140            1.0  \n",
       "92             10.6        1.499688     4.224312            0.0  \n",
       "\n",
       "[527 rows x 9 columns]"
      ]
     },
     "execution_count": 47,
     "metadata": {},
     "output_type": "execute_result"
    }
   ],
   "source": [
    "data_train"
   ]
  },
  {
   "attachments": {},
   "cell_type": "markdown",
   "metadata": {},
   "source": [
    "Sekarang split antara X_train dengan y_train"
   ]
  },
  {
   "cell_type": "code",
   "execution_count": 48,
   "metadata": {},
   "outputs": [],
   "source": [
    "X_train = data_train.drop(columns='credit_result',axis=1)\n",
    "y_train = data_train['credit_result']"
   ]
  },
  {
   "attachments": {},
   "cell_type": "markdown",
   "metadata": {},
   "source": [
    "## Handling Missing Values "
   ]
  },
  {
   "attachments": {},
   "cell_type": "markdown",
   "metadata": {},
   "source": [
    "Karena tidak ada missing values , maka proses ini akan diskip"
   ]
  },
  {
   "attachments": {},
   "cell_type": "markdown",
   "metadata": {},
   "source": [
    "## Feature Importance"
   ]
  },
  {
   "attachments": {},
   "cell_type": "markdown",
   "metadata": {},
   "source": [
    "Sebelumnya pada EDA saya sudah mencoba melihat korelasi untuk masing - masing feature column dengan label column. \n",
    "\n",
    "Dan ternyata banyak yang tidak berpengaruh secara signifikan terhadap label columnnya sehingga dapat dipertimbangkan untuk tidak menggunakan feature column tersebut\n",
    "\n",
    "Namun, saya akan mencoba melakukan feature importance dengan random forest classifier untuk memutuskan apakah perlu dieliminasi atau tidak"
   ]
  },
  {
   "cell_type": "code",
   "execution_count": 49,
   "metadata": {},
   "outputs": [],
   "source": [
    "model = RandomForestClassifier()\n",
    "model.fit(X_train,y_train)\n",
    "importance = model.feature_importances_"
   ]
  },
  {
   "cell_type": "code",
   "execution_count": 50,
   "metadata": {},
   "outputs": [
    {
     "name": "stdout",
     "output_type": "stream",
     "text": [
      "Feature importance dari age : 0.09673477553046218\n",
      "Feature importance dari education_level : 0.04610385328724389\n",
      "Feature importance dari work_experience : 0.14841043986341035\n",
      "Feature importance dari customer_address : 0.10442901139006756\n",
      "Feature importance dari yearly_income : 0.11885240536250735\n",
      "Feature importance dari debt_to_income : 0.19339567348280087\n",
      "Feature importance dari credit_to_debt : 0.1580820585735039\n",
      "Feature importance dari other_debts : 0.13399178251000377\n"
     ]
    }
   ],
   "source": [
    "i = 0\n",
    "for item in X :\n",
    "    print(f'Feature importance dari {item} : {importance[i]}')\n",
    "    i+=1"
   ]
  },
  {
   "attachments": {},
   "cell_type": "markdown",
   "metadata": {},
   "source": [
    "Saya menggunakan threshold 0.049, sehingga ada 1 kolom yang akan dieliminasi, yaitu **education_level**"
   ]
  },
  {
   "cell_type": "code",
   "execution_count": 51,
   "metadata": {},
   "outputs": [],
   "source": [
    "X_train = X_train.drop(columns='education_level',axis=1)\n",
    "X_test = X_test.drop(columns='education_level',axis=1)"
   ]
  },
  {
   "attachments": {},
   "cell_type": "markdown",
   "metadata": {},
   "source": [
    "## Feature Scaling"
   ]
  },
  {
   "attachments": {},
   "cell_type": "markdown",
   "metadata": {},
   "source": [
    "Karena range feature column nya masih bervariatif, maka perlu discaling. \n",
    "\n",
    "Karena distribusinya hampir seluruhnya skew, maka saya akan memanfaatkan MinMaxScaler"
   ]
  },
  {
   "cell_type": "code",
   "execution_count": 52,
   "metadata": {},
   "outputs": [],
   "source": [
    "scaler = MinMaxScaler()\n",
    "\n",
    "scaler.fit(X_train)\n",
    "X_train_scaled = scaler.transform(X_train)\n",
    "X_test_scaled = scaler.transform(X_test)"
   ]
  },
  {
   "cell_type": "code",
   "execution_count": 53,
   "metadata": {},
   "outputs": [
    {
     "data": {
      "text/plain": [
       "array([[0.41666667, 0.53333333, 0.29411765, ..., 0.28530259, 0.18541785,\n",
       "        0.38024246],\n",
       "       [0.19444444, 0.13333333, 0.08823529, ..., 0.36311239, 0.17607042,\n",
       "        0.14050705],\n",
       "       [0.16666667, 0.2       , 0.20588235, ..., 0.73198847, 0.98936432,\n",
       "        0.44439748],\n",
       "       ...,\n",
       "       [0.83333333, 0.13333333, 0.11764706, ..., 0.34293948, 0.02116958,\n",
       "        0.21314377],\n",
       "       [0.58333333, 0.2       , 0.        , ..., 0.54466859, 0.73780519,\n",
       "        0.19506944],\n",
       "       [0.5       , 0.16666667, 0.14705882, ..., 0.28818444, 0.24384901,\n",
       "        0.33128372]])"
      ]
     },
     "execution_count": 53,
     "metadata": {},
     "output_type": "execute_result"
    }
   ],
   "source": [
    "X_train_scaled"
   ]
  },
  {
   "cell_type": "code",
   "execution_count": 54,
   "metadata": {},
   "outputs": [
    {
     "data": {
      "text/plain": [
       "array([[ 0.25      ,  0.03333333,  0.05882353,  0.04477612,  0.51873199,\n",
       "         0.09135603,  0.24618036],\n",
       "       [ 0.30555556,  0.2       ,  0.23529412,  0.29850746,  0.06340058,\n",
       "         0.06399367,  0.08437019],\n",
       "       [ 0.52777778,  0.3       ,  0.47058824,  0.31343284,  0.52161383,\n",
       "         0.77892216,  0.44884818],\n",
       "       [ 0.55555556,  0.7       ,  0.61764706,  0.23880597,  0.16138329,\n",
       "         0.15652503,  0.14583997],\n",
       "       [ 0.52777778,  0.06666667,  0.35294118,  0.23880597,  0.44380403,\n",
       "         0.65422418,  0.26245784],\n",
       "       [ 0.16666667,  0.06666667,  0.02941176,  0.17164179,  0.39193084,\n",
       "         0.03166285,  0.39667128],\n",
       "       [ 0.27777778,  0.13333333,  0.05882353,  0.02985075,  0.29106628,\n",
       "         0.03532749,  0.13105926],\n",
       "       [ 0.11111111,  0.03333333,  0.        ,  0.02985075,  0.15273775,\n",
       "         0.03724191,  0.06163642],\n",
       "       [ 0.75      ,  0.43333333,  0.73529412,  0.2761194 ,  0.6685879 ,\n",
       "         0.61074148,  0.66228647],\n",
       "       [ 0.33333333,  0.3       ,  0.29411765,  0.2761194 ,  0.64553314,\n",
       "         0.43828719,  0.71336837],\n",
       "       [ 0.58333333,  0.3       ,  0.38235294,  0.24626866,  0.12680115,\n",
       "         0.06971431,  0.1480382 ],\n",
       "       [ 0.38888889,  0.1       ,  0.23529412,  0.05223881,  0.64841499,\n",
       "         0.22783011,  0.2698229 ],\n",
       "       [ 0.33333333,  0.4       ,  0.35294118,  0.10447761,  0.06628242,\n",
       "         0.01711213,  0.05155488],\n",
       "       [ 0.30555556,  0.36666667,  0.35294118,  0.23134328,  0.47262248,\n",
       "         0.44689569,  0.38574717],\n",
       "       [ 0.61111111,  0.36666667,  0.14705882,  0.44029851,  0.17867435,\n",
       "         0.46828045,  0.16245962],\n",
       "       [ 0.08333333,  0.        ,  0.05882353,  0.05223881,  0.31123919,\n",
       "         0.12519616,  0.12468622],\n",
       "       [ 0.75      ,  0.5       ,  0.02941176,  0.11940299,  0.68876081,\n",
       "         0.36063856,  0.40369188],\n",
       "       [ 0.69444444,  0.7       ,  0.76470588,  0.88059701,  0.06916427,\n",
       "         0.41730918,  0.10752208],\n",
       "       [ 0.38888889,  0.53333333,  0.26470588,  0.48507463,  0.09798271,\n",
       "         0.28238522,  0.10937086],\n",
       "       [ 0.44444444,  0.56666667,  0.17647059,  0.29850746,  0.10951009,\n",
       "         0.1172317 ,  0.12711214],\n",
       "       [ 0.25      ,  0.2       ,  0.26470588,  0.08208955,  0.1037464 ,\n",
       "         0.09392727,  0.03326261],\n",
       "       [ 0.72222222,  0.2       ,  0.55882353,  0.12686567,  0.33429395,\n",
       "         0.32347105,  0.13880621],\n",
       "       [ 0.19444444,  0.2       ,  0.02941176,  0.14925373,  0.10951009,\n",
       "         0.03706394,  0.09612943],\n",
       "       [ 0.41666667,  0.33333333,  0.47058824,  0.18656716,  0.14697406,\n",
       "         0.03378474,  0.15535134],\n",
       "       [ 0.38888889,  0.23333333,  0.44117647,  0.19402985,  0.16714697,\n",
       "         0.15372796,  0.12404374],\n",
       "       [ 0.83333333,  0.6       ,  0.79411765,  0.65671642,  0.38904899,\n",
       "         0.94555386,  0.67821671],\n",
       "       [ 0.41666667,  0.03333333,  0.02941176,  0.05223881,  0.21037464,\n",
       "         0.05871106,  0.09857969],\n",
       "       [ 0.02777778,  0.03333333,  0.05882353,  0.01492537,  0.50144092,\n",
       "         0.03772863,  0.20552946],\n",
       "       [ 0.66666667,  0.16666667,  0.08823529,  0.25373134,  0.24207493,\n",
       "         0.32090964,  0.18269722],\n",
       "       [ 0.05555556,  0.13333333,  0.02941176,  0.01492537,  0.01729107,\n",
       "         0.01192769,  0.0049102 ],\n",
       "       [ 0.44444444,  0.13333333,  0.29411765,  0.06716418,  0.45244957,\n",
       "         0.21557319,  0.18838737],\n",
       "       [ 0.25      ,  0.26666667,  0.29411765,  0.07462687,  0.17579251,\n",
       "         0.07502986,  0.086642  ],\n",
       "       [ 0.83333333,  0.26666667,  0.79411765,  0.24626866,  0.1815562 ,\n",
       "         0.06345238,  0.22186331],\n",
       "       [ 0.16666667,  0.03333333,  0.20588235,  0.09701493,  0.06628242,\n",
       "         0.04915321,  0.0337554 ],\n",
       "       [ 0.38888889,  0.53333333,  0.26470588,  0.25373134,  0.20172911,\n",
       "         0.23960522,  0.16875434],\n",
       "       [ 0.72222222,  0.46666667,  0.73529412,  0.15671642,  0.27665706,\n",
       "         0.21922996,  0.17242747],\n",
       "       [ 0.27777778,  0.36666667,  0.02941176,  0.14179104,  0.22478386,\n",
       "         0.10983359,  0.16208542],\n",
       "       [ 0.41666667,  0.5       ,  0.32352941,  0.19402985,  0.51585014,\n",
       "         0.19696551,  0.48683531],\n",
       "       [ 0.16666667,  0.03333333,  0.        ,  0.05223881,  0.12391931,\n",
       "         0.09774383,  0.02975144],\n",
       "       [ 0.58333333,  0.63333333,  0.05882353,  0.40298507,  0.14985591,\n",
       "         0.24498304,  0.1896192 ],\n",
       "       [ 0.05555556,  0.        ,  0.02941176,  0.15671642,  0.24207493,\n",
       "         0.1261047 ,  0.18418132],\n",
       "       [ 0.52777778,  0.6       ,  0.26470588,  0.2238806 ,  0.04322767,\n",
       "         0.05834971,  0.04048473],\n",
       "       [ 0.69444444,  0.        ,  0.55882353,  0.05970149,  0.1037464 ,\n",
       "         0.00308025,  0.06722223],\n",
       "       [ 0.16666667,  0.        ,  0.20588235,  0.10447761,  0.25072046,\n",
       "         0.20633146,  0.1020842 ],\n",
       "       [ 0.33333333,  0.26666667,  0.05882353,  0.23134328,  0.08933718,\n",
       "         0.15906874,  0.0505057 ],\n",
       "       [ 0.36111111,  0.16666667,  0.29411765,  0.02985075,  0.35446686,\n",
       "         0.15942567,  0.10241908],\n",
       "       [ 0.36111111,  0.23333333,  0.        ,  0.05970149,  0.16714697,\n",
       "         0.10145484,  0.05800276],\n",
       "       [ 0.30555556,  0.06666667,  0.11764706,  0.05970149,  0.34870317,\n",
       "         0.17711235,  0.13128235],\n",
       "       [ 0.91666667,  0.3       ,  0.52941176,  0.26865672,  0.3054755 ,\n",
       "         0.32846113,  0.28052068],\n",
       "       [ 0.5       ,  0.        ,  0.23529412,  0.06716418,  0.21613833,\n",
       "         0.14524007,  0.07289271],\n",
       "       [ 0.13888889,  0.03333333,  0.02941176,  0.14925373,  0.22766571,\n",
       "         0.01986921,  0.21496203],\n",
       "       [ 0.44444444,  0.36666667,  0.35294118,  0.2238806 ,  0.40634006,\n",
       "         0.07122068,  0.47377876],\n",
       "       [ 0.5       ,  0.43333333,  0.        ,  0.3358209 ,  0.0518732 ,\n",
       "         0.064914  ,  0.07631422],\n",
       "       [ 0.08333333,  0.        ,  0.02941176,  0.20895522,  0.09510086,\n",
       "         0.16504799,  0.04547262],\n",
       "       [ 0.44444444,  0.26666667,  0.        ,  0.13432836,  0.02881844,\n",
       "         0.00211075,  0.03502846],\n",
       "       [ 0.13888889,  0.03333333,  0.02941176,  0.03731343,  0.1815562 ,\n",
       "         0.02923565,  0.08524995],\n",
       "       [ 0.47222222,  0.4       ,  0.23529412,  0.51492537,  0.10086455,\n",
       "         0.05050488,  0.24081145],\n",
       "       [ 0.47222222,  0.1       ,  0.08823529,  0.08208955,  0.08933718,\n",
       "         0.04325623,  0.04786572],\n",
       "       [ 0.30555556,  0.23333333,  0.32352941,  0.20149254,  0.86743516,\n",
       "         0.4890133 ,  0.75677055],\n",
       "       [ 0.22222222,  0.        ,  0.08823529,  0.11940299,  0.12103746,\n",
       "         0.01790596,  0.10095781],\n",
       "       [ 0.86111111,  0.73333333,  0.67647059,  0.79104478,  0.20172911,\n",
       "         0.67661646,  0.39115555],\n",
       "       [ 0.25      ,  0.03333333,  0.23529412,  0.12686567,  0.21325648,\n",
       "         0.02368757,  0.18061061],\n",
       "       [ 0.16666667,  0.1       ,  0.14705882,  0.1119403 ,  0.72334294,\n",
       "         0.41213178,  0.38694689],\n",
       "       [ 0.11111111,  0.06666667,  0.02941176,  0.05223881,  0.        ,\n",
       "         0.00219236,  0.00438744],\n",
       "       [ 0.19444444,  0.16666667,  0.17647059,  0.08208955,  0.17867435,\n",
       "         0.11369914,  0.07522873],\n",
       "       [ 0.63888889,  0.33333333,  0.70588235,  0.17164179,  0.22766571,\n",
       "         0.10889342,  0.19211116],\n",
       "       [ 0.52777778,  0.43333333,  0.02941176,  0.17910448,  0.23919308,\n",
       "         0.30900915,  0.11409095],\n",
       "       [ 0.22222222,  0.06666667,  0.05882353,  0.02238806,  0.05475504,\n",
       "         0.03074825,  0.01427736],\n",
       "       [ 0.25      ,  0.3       ,  0.        ,  0.23880597,  0.02881844,\n",
       "         0.03764472,  0.03559673],\n",
       "       [ 0.22222222,  0.13333333,  0.05882353,  0.10447761,  0.39193084,\n",
       "         0.06975692,  0.2769246 ],\n",
       "       [ 0.44444444,  0.        ,  0.38235294,  0.08208955,  0.55043228,\n",
       "         0.45328693,  0.16662111],\n",
       "       [ 0.08333333,  0.        ,  0.05882353,  0.06716418,  0.17579251,\n",
       "         0.07485418,  0.08141532],\n",
       "       [ 0.55555556,  0.5       ,  0.47058824,  0.44029851,  0.08069164,\n",
       "         0.16728918,  0.11129955],\n",
       "       [ 0.55555556,  0.53333333,  0.17647059,  0.76119403,  0.3314121 ,\n",
       "         0.26260516,  0.98117387],\n",
       "       [ 0.47222222,  0.6       ,  0.23529412,  0.29850746,  0.3314121 ,\n",
       "         0.75084037,  0.15023406],\n",
       "       [ 0.30555556,  0.36666667,  0.17647059,  0.10447761,  0.12103746,\n",
       "         0.05468802,  0.07555314],\n",
       "       [ 0.13888889,  0.13333333,  0.14705882,  0.09701493,  0.12680115,\n",
       "         0.088126  ,  0.05985265],\n",
       "       [ 0.08333333,  0.1       ,  0.08823529,  0.05970149,  0.31123919,\n",
       "         0.20687422,  0.09421089],\n",
       "       [ 0.41666667,  0.43333333,  0.08823529,  0.67910448,  0.03746398,\n",
       "         0.23053507,  0.04209464],\n",
       "       [ 0.22222222,  0.26666667,  0.17647059,  0.11940299,  0.19020173,\n",
       "         0.09861254,  0.11899528],\n",
       "       [ 0.30555556,  0.2       ,  0.14705882,  0.08208955,  0.31412104,\n",
       "         0.3801851 ,  0.03946417],\n",
       "       [ 0.36111111,  0.06666667,  0.41176471,  0.15671642,  0.6426513 ,\n",
       "         0.34615585,  0.4634184 ],\n",
       "       [ 0.66666667,  0.26666667,  0.29411765,  0.55223881,  0.15850144,\n",
       "         0.0447072 ,  0.39939862],\n",
       "       [ 0.30555556,  0.03333333,  0.02941176,  0.07462687,  0.11239193,\n",
       "         0.0336579 ,  0.06479726],\n",
       "       [ 0.77777778,  0.56666667,  0.76470588,  0.73880597,  0.32853026,\n",
       "         0.55140719,  0.80372457],\n",
       "       [ 0.77777778,  0.46666667,  0.29411765,  0.3358209 ,  0.45821326,\n",
       "         0.80692643,  0.37687232],\n",
       "       [ 0.55555556,  0.46666667,  0.61764706,  0.21641791,  0.41498559,\n",
       "         0.45576968,  0.28631991],\n",
       "       [ 0.91666667,  0.16666667,  0.85294118,  0.47761194,  0.48126801,\n",
       "         1.13472665,  0.5163019 ],\n",
       "       [ 0.61111111,  0.2       ,  0.26470588,  0.12686567,  0.31700288,\n",
       "         0.16603519,  0.20022255],\n",
       "       [ 0.30555556,  0.13333333,  0.29411765,  0.10447761,  0.30835735,\n",
       "         0.04578617,  0.22414661],\n",
       "       [ 0.91666667,  0.        ,  0.76470588,  0.09701493,  0.81556196,\n",
       "         0.44947825,  0.39662744],\n",
       "       [ 0.38888889,  0.43333333,  0.20588235,  0.28358209,  0.24783862,\n",
       "         0.24347274,  0.25694385],\n",
       "       [ 0.61111111,  0.2       ,  0.67647059,  1.31343284,  0.2074928 ,\n",
       "         0.5153901 ,  0.92103946],\n",
       "       [ 0.30555556,  0.26666667,  0.08823529,  0.20149254,  0.34582133,\n",
       "         0.02009471,  0.39529104],\n",
       "       [ 0.44444444,  0.46666667,  0.32352941,  0.5       ,  0.19020173,\n",
       "         0.29053848,  0.31725902],\n",
       "       [ 0.58333333,  0.46666667,  0.08823529,  0.2238806 ,  0.03170029,\n",
       "         0.05594136,  0.02769677],\n",
       "       [ 0.66666667,  0.7       ,  0.41176471,  0.73880597,  0.36311239,\n",
       "         0.52118548,  0.9258466 ],\n",
       "       [ 0.25      ,  0.1       ,  0.08823529,  0.26865672,  0.0518732 ,\n",
       "         0.04056044,  0.07097147],\n",
       "       [ 0.5       ,  0.6       ,  0.20588235,  0.23134328,  0.18443804,\n",
       "         0.0858399 ,  0.20366007],\n",
       "       [ 0.58333333,  0.23333333,  0.64705882,  0.13432836,  0.06628242,\n",
       "         0.00994542,  0.06421821],\n",
       "       [ 0.11111111,  0.1       ,  0.14705882,  0.00746269,  0.30835735,\n",
       "         0.01002752,  0.12498517],\n",
       "       [ 0.63888889,  0.53333333,  0.20588235,  0.55970149, -0.00576369,\n",
       "         0.02421984,  0.01196536],\n",
       "       [ 0.30555556,  0.26666667,  0.02941176,  0.05970149,  0.17579251,\n",
       "         0.05871385,  0.0839118 ],\n",
       "       [ 0.08333333,  0.        ,  0.02941176,  0.02238806,  0.78097983,\n",
       "         0.33300154,  0.20768695],\n",
       "       [ 0.16666667,  0.33333333,  0.05882353,  0.13432836,  0.11815562,\n",
       "         0.01878696,  0.10560544],\n",
       "       [ 0.22222222,  0.16666667,  0.17647059,  0.08208955,  0.06628242,\n",
       "         0.05356824,  0.0270214 ],\n",
       "       [ 0.33333333,  0.33333333,  0.38235294,  0.13432836,  0.30835735,\n",
       "         0.18948743,  0.19046272],\n",
       "       [ 0.27777778,  0.33333333,  0.11764706,  0.05970149,  0.44668588,\n",
       "         0.22910458,  0.16543066],\n",
       "       [ 0.19444444,  0.33333333,  0.17647059,  0.14925373,  0.17002882,\n",
       "         0.1375188 ,  0.10413768],\n",
       "       [ 0.22222222,  0.06666667,  0.        ,  0.02985075,  0.4092219 ,\n",
       "         0.31590678,  0.05383207],\n",
       "       [ 0.36111111,  0.06666667,  0.29411765,  0.07462687,  0.25936599,\n",
       "         0.16874704,  0.09648269],\n",
       "       [ 0.16666667,  0.06666667,  0.17647059,  0.07462687,  0.37463977,\n",
       "         0.25643876,  0.13016786],\n",
       "       [ 0.38888889,  0.3       ,  0.20588235,  0.09701493,  0.03170029,\n",
       "         0.04644972,  0.00937699],\n",
       "       [ 0.13888889,  0.03333333,  0.        ,  0.04477612,  0.17579251,\n",
       "         0.07538121,  0.06522536],\n",
       "       [ 0.61111111,  0.        ,  0.26470588,  0.37313433,  0.17291066,\n",
       "         0.04376982,  0.30915738],\n",
       "       [ 0.22222222,  0.13333333,  0.20588235,  0.08955224,  0.37175793,\n",
       "         0.2103363 ,  0.17197321],\n",
       "       [ 0.22222222,  0.3       ,  0.        ,  0.05970149,  0.78097983,\n",
       "         0.86393185,  0.06064163],\n",
       "       [ 0.47222222,  0.66666667,  0.05882353,  0.31343284,  0.03746398,\n",
       "         0.08700999,  0.03771886],\n",
       "       [ 0.41666667,  0.16666667,  0.02941176,  0.14179104,  0.06340058,\n",
       "         0.01504268,  0.06143521],\n",
       "       [ 0.58333333,  0.73333333,  0.5       ,  0.45522388,  0.66282421,\n",
       "         1.61663977,  0.61661439],\n",
       "       [ 0.13888889,  0.26666667,  0.02941176,  0.15671642,  0.06628242,\n",
       "         0.01072483,  0.07073839],\n",
       "       [ 0.44444444,  0.43333333,  0.08823529,  0.18656716,  0.53602305,\n",
       "         0.45702531,  0.36800366],\n",
       "       [ 0.52777778,  0.33333333,  0.11764706,  0.12686567,  0.12103746,\n",
       "         0.02832072,  0.09972487],\n",
       "       [ 0.75      ,  0.56666667,  0.67647059,  0.20149254,  0.25648415,\n",
       "         0.0727649 ,  0.26904787],\n",
       "       [ 0.27777778,  0.13333333,  0.23529412,  0.00746269,  0.17002882,\n",
       "         0.05544465,  0.04593331],\n",
       "       [ 0.13888889,  0.        ,  0.17647059,  0.07462687,  0.3314121 ,\n",
       "         0.25982907,  0.09998744],\n",
       "       [ 0.75      ,  0.56666667,  0.61764706,  0.21641791,  0.14409222,\n",
       "         0.09437007,  0.14070874],\n",
       "       [ 0.69444444,  0.76666667,  0.14705882,  0.26865672,  0.1037464 ,\n",
       "         0.08962548,  0.1185862 ],\n",
       "       [ 0.33333333,  0.33333333,  0.32352941,  0.20895522,  0.24495677,\n",
       "         0.25049884,  0.17727885],\n",
       "       [ 0.55555556,  0.6       ,  0.17647059,  0.64179104,  0.05475504,\n",
       "         0.24144197,  0.07685395],\n",
       "       [ 0.47222222,  0.03333333,  0.08823529,  0.07462687,  0.41786744,\n",
       "         0.29324836,  0.14090091],\n",
       "       [ 0.22222222,  0.06666667,  0.14705882,  0.11940299,  0.55619597,\n",
       "         0.24756281,  0.34898964],\n",
       "       [ 0.08333333,  0.1       ,  0.        ,  0.03731343,  0.22478386,\n",
       "         0.04385438,  0.1007723 ],\n",
       "       [ 0.36111111,  0.13333333,  0.26470588,  0.30597015,  0.18443804,\n",
       "         0.35203497,  0.13037889],\n",
       "       [ 0.47222222,  0.        ,  0.38235294,  0.12686567,  0.00864553,\n",
       "         0.01742366,  0.00914867],\n",
       "       [ 0.36111111,  0.46666667,  0.05882353,  0.17164179,  0.05763689,\n",
       "         0.03071695,  0.05686511],\n",
       "       [ 0.33333333,  0.4       ,  0.08823529,  0.36567164,  0.50720461,\n",
       "         0.90753091,  0.46543453],\n",
       "       [ 0.55555556,  0.4       ,  0.17647059,  0.55970149,  0.48414986,\n",
       "         0.45235184,  1.0043348 ],\n",
       "       [ 0.16666667,  0.2       ,  0.        ,  0.15671642,  0.03746398,\n",
       "         0.01214155,  0.04230552],\n",
       "       [ 0.77777778,  0.93333333,  0.73529412,  0.41791045,  0.32853026,\n",
       "         0.70839566,  0.31870125]])"
      ]
     },
     "execution_count": 54,
     "metadata": {},
     "output_type": "execute_result"
    }
   ],
   "source": [
    "X_test_scaled"
   ]
  },
  {
   "attachments": {},
   "cell_type": "markdown",
   "metadata": {},
   "source": [
    "## Handling Imbalance Dataset - SMOTENC\n",
    "\n",
    "Karena dataset bersifat imbalance antara label column 0 dan 1, maka kita perlu melakukan oversampling pada label column 1."
   ]
  },
  {
   "cell_type": "code",
   "execution_count": 56,
   "metadata": {},
   "outputs": [],
   "source": [
    "from imblearn.over_sampling import SMOTE\n",
    "sm = SMOTE(random_state=46)\n",
    "X_train_resampled, y_train_resampled = sm.fit_resample(X_train_scaled,y_train)"
   ]
  },
  {
   "attachments": {},
   "cell_type": "markdown",
   "metadata": {},
   "source": [
    "## Model Definition"
   ]
  },
  {
   "attachments": {},
   "cell_type": "markdown",
   "metadata": {},
   "source": [
    "Untuk dataset ini, saya akan mencoba menggunakan RandomForestClassifier"
   ]
  },
  {
   "cell_type": "code",
   "execution_count": 61,
   "metadata": {},
   "outputs": [],
   "source": [
    "rfc = RandomForestClassifier()"
   ]
  },
  {
   "attachments": {},
   "cell_type": "markdown",
   "metadata": {},
   "source": [
    "## Model Training"
   ]
  },
  {
   "cell_type": "code",
   "execution_count": 62,
   "metadata": {},
   "outputs": [
    {
     "data": {
      "text/plain": [
       "RandomForestClassifier()"
      ]
     },
     "execution_count": 62,
     "metadata": {},
     "output_type": "execute_result"
    }
   ],
   "source": [
    "rfc.fit(X_train_resampled,y_train_resampled)"
   ]
  },
  {
   "attachments": {},
   "cell_type": "markdown",
   "metadata": {},
   "source": [
    "## Model Evaluation"
   ]
  },
  {
   "cell_type": "code",
   "execution_count": 65,
   "metadata": {},
   "outputs": [
    {
     "name": "stdout",
     "output_type": "stream",
     "text": [
      "All Cross val score : [0.78980892 0.87341772 0.91954023 0.87804878 0.85057471]\n",
      "Mean Cross val score : 0.8622780723465959\n",
      "Std Cross val score : 0.042521779787034523\n",
      "Range Cross val score : 0.8197562925595614 - 0.9047998521336305\n"
     ]
    }
   ],
   "source": [
    "cross_val_rfc = cross_val_score(rfc,X_train_resampled,y_train_resampled,scoring='f1',cv=5)\n",
    "print(\"All Cross val score :\",cross_val_rfc)\n",
    "print(\"Mean Cross val score :\",cross_val_rfc.mean())\n",
    "print(\"Std Cross val score :\",cross_val_rfc.std())\n",
    "print(\"Range Cross val score :\",cross_val_rfc.mean()-cross_val_rfc.std(),'-',cross_val_rfc.mean()+cross_val_rfc.std())"
   ]
  },
  {
   "attachments": {},
   "cell_type": "markdown",
   "metadata": {},
   "source": [
    "Dari hasil di atas, terlihat bahwa algoritma Random Forest Classifier cukup baik dalam melakukan prediksi (dengan cv = 5, dapat memperoleh interval range 81 - 90 persen) ketika menggunakan data train\n",
    "\n",
    "Sekarang mari kita lihat classification reportnya saat menggunakan data test"
   ]
  },
  {
   "cell_type": "code",
   "execution_count": 70,
   "metadata": {},
   "outputs": [
    {
     "name": "stdout",
     "output_type": "stream",
     "text": [
      "Classification report: \n",
      "              precision    recall  f1-score   support\n",
      "\n",
      "         0.0       0.81      0.79      0.80       103\n",
      "         1.0       0.45      0.49      0.47        37\n",
      "\n",
      "    accuracy                           0.71       140\n",
      "   macro avg       0.63      0.64      0.63       140\n",
      "weighted avg       0.71      0.71      0.71       140\n",
      "\n"
     ]
    }
   ],
   "source": [
    "y_pred_test = rfc.predict(X_test_scaled)\n",
    "\n",
    "print('Classification report: ')\n",
    "print(classification_report(y_test,y_pred_test))"
   ]
  },
  {
   "attachments": {},
   "cell_type": "markdown",
   "metadata": {},
   "source": [
    "## Additional Algorithm Use (For Comparison)"
   ]
  },
  {
   "attachments": {},
   "cell_type": "markdown",
   "metadata": {},
   "source": [
    "Disini saya akan memanfaatkan algoritma lain , seperti Logistic Regression, SVC (Support Vector Classifier), serta Decision Tree Classifier"
   ]
  },
  {
   "cell_type": "code",
   "execution_count": 91,
   "metadata": {},
   "outputs": [],
   "source": [
    "logreg = LogisticRegression()\n",
    "svclassifier = SVC()\n",
    "decisiontree = DecisionTreeClassifier()"
   ]
  },
  {
   "cell_type": "code",
   "execution_count": 94,
   "metadata": {},
   "outputs": [
    {
     "data": {
      "text/plain": [
       "AdaBoostClassifier()"
      ]
     },
     "execution_count": 94,
     "metadata": {},
     "output_type": "execute_result"
    }
   ],
   "source": [
    "logreg.fit(X_train_resampled,y_train_resampled)\n",
    "svclassifier.fit(X_train_resampled,y_train_resampled)\n",
    "decisiontree.fit(X_train_resampled,y_train_resampled)"
   ]
  },
  {
   "attachments": {},
   "cell_type": "markdown",
   "metadata": {},
   "source": [
    "## Model Evaluation for Addition Algorithm Use"
   ]
  },
  {
   "attachments": {},
   "cell_type": "markdown",
   "metadata": {},
   "source": [
    "### Logistic Regression"
   ]
  },
  {
   "cell_type": "code",
   "execution_count": 77,
   "metadata": {},
   "outputs": [
    {
     "name": "stdout",
     "output_type": "stream",
     "text": [
      "All Cross val score : [0.72289157 0.79503106 0.84023669 0.75949367 0.77647059]\n",
      "Mean Cross val score : 0.7788247135355169\n",
      "Std Cross val score : 0.03883767249005114\n",
      "Range Cross val score : 0.7399870410454658 - 0.817662386025568\n"
     ]
    }
   ],
   "source": [
    "cross_val_logreg = cross_val_score(logreg,X_train_resampled,y_train_resampled,scoring='f1',cv=5)\n",
    "print(\"All Cross val score :\",cross_val_logreg)\n",
    "print(\"Mean Cross val score :\",cross_val_logreg.mean())\n",
    "print(\"Std Cross val score :\",cross_val_logreg.std())\n",
    "print(\"Range Cross val score :\",cross_val_logreg.mean()-cross_val_logreg.std(),'-',cross_val_logreg.mean()+cross_val_logreg.std())"
   ]
  },
  {
   "cell_type": "code",
   "execution_count": 78,
   "metadata": {},
   "outputs": [
    {
     "name": "stdout",
     "output_type": "stream",
     "text": [
      "Classification report - Logistic Regression: \n",
      "              precision    recall  f1-score   support\n",
      "\n",
      "         0.0       0.91      0.77      0.83       103\n",
      "         1.0       0.55      0.78      0.64        37\n",
      "\n",
      "    accuracy                           0.77       140\n",
      "   macro avg       0.73      0.78      0.74       140\n",
      "weighted avg       0.81      0.77      0.78       140\n",
      "\n"
     ]
    }
   ],
   "source": [
    "y_pred_test = logreg.predict(X_test_scaled)\n",
    "\n",
    "print('Classification report - Logistic Regression: ')\n",
    "print(classification_report(y_test,y_pred_test))"
   ]
  },
  {
   "attachments": {},
   "cell_type": "markdown",
   "metadata": {},
   "source": [
    "Dari hasil di atas, untuk Logistic Regression dapat disimpulkan bahwa :\n",
    "- Range untuk cross validation menghasilkan angka dari 73 hingga 81 persen, yang dapat terbilang cukup baik\n",
    "- Accuracy saat menggunakan data test menghasilkan angka 77 persen, dimana masih berada dalam interval cross validation saat menggunakan data train, yang artinya akurasi memberikan hasil cukup stabil dengan data trainnya\n",
    "- Precision untuk label column 0 menghasilkan angka 91 persen, yang artinya dari seluruh yang terprediksi 0 , ada 91% yang benar - benar 0\n",
    "- Precision untuk label column 1 menghasilkan angka 55 persen, yang artinya dari seluruh yang terprediksi 1, ada 55% yang benar - benar 1\n",
    "- Recall untuk label column 0 menghasilkan angka 77 persen, yang artinya dari seluruh sampel yang benar - benar 0, ada 77% proporsi yang terprediksi 0\n",
    "- Recall untuk label column 1 menghasilkan angka 78 persen, yang artinya dari seluruh sampel yang benar - benar 1, ada 78% proporsi yang terprediksi 1"
   ]
  },
  {
   "attachments": {},
   "cell_type": "markdown",
   "metadata": {},
   "source": [
    "### Support Vector"
   ]
  },
  {
   "cell_type": "code",
   "execution_count": 79,
   "metadata": {},
   "outputs": [
    {
     "name": "stdout",
     "output_type": "stream",
     "text": [
      "All Cross val score : [0.77844311 0.83229814 0.85057471 0.77714286 0.82485876]\n",
      "Mean Cross val score : 0.8126635154534199\n",
      "Std Cross val score : 0.029679131381126534\n",
      "Range Cross val score : 0.7829843840722933 - 0.8423426468345464\n"
     ]
    }
   ],
   "source": [
    "cross_val_svc = cross_val_score(svclassifier,X_train_resampled,y_train_resampled,scoring='f1',cv=5)\n",
    "print(\"All Cross val score :\",cross_val_svc)\n",
    "print(\"Mean Cross val score :\",cross_val_svc.mean())\n",
    "print(\"Std Cross val score :\",cross_val_svc.std())\n",
    "print(\"Range Cross val score :\",cross_val_svc.mean()-cross_val_svc.std(),'-',cross_val_svc.mean()+cross_val_svc.std())"
   ]
  },
  {
   "cell_type": "code",
   "execution_count": 80,
   "metadata": {},
   "outputs": [
    {
     "name": "stdout",
     "output_type": "stream",
     "text": [
      "Classification report - Support Vector Classifier: \n",
      "              precision    recall  f1-score   support\n",
      "\n",
      "         0.0       0.90      0.76      0.82       103\n",
      "         1.0       0.53      0.76      0.62        37\n",
      "\n",
      "    accuracy                           0.76       140\n",
      "   macro avg       0.71      0.76      0.72       140\n",
      "weighted avg       0.80      0.76      0.77       140\n",
      "\n"
     ]
    }
   ],
   "source": [
    "y_pred_test = svclassifier.predict(X_test_scaled)\n",
    "\n",
    "print('Classification report - Support Vector Classifier: ')\n",
    "print(classification_report(y_test,y_pred_test))"
   ]
  },
  {
   "attachments": {},
   "cell_type": "markdown",
   "metadata": {},
   "source": [
    "Dari hasil di atas, untuk Support Vector dapat disimpulkan bahwa :\n",
    "\n",
    "- Range untuk cross validation menghasilkan angka dari 78 hingga 84 persen, yang dapat terbilang cukup baik\n",
    "- Accuracy saat menggunakan data test menghasilkan angka 76 persen, dimana tidak berada dalam interval cross validation score, sehingga dapat dipertimbangkan untuk tidak menggunakan data tersebut (underfitting)\n",
    "\n"
   ]
  },
  {
   "attachments": {},
   "cell_type": "markdown",
   "metadata": {},
   "source": [
    "### Decision Tree Classifier"
   ]
  },
  {
   "cell_type": "code",
   "execution_count": 81,
   "metadata": {},
   "outputs": [
    {
     "name": "stdout",
     "output_type": "stream",
     "text": [
      "All Cross val score : [0.63576159 0.80503145 0.87719298 0.80246914 0.78571429]\n",
      "Mean Cross val score : 0.7812338879835499\n",
      "Std Cross val score : 0.07925613032828573\n",
      "Range Cross val score : 0.7019777576552642 - 0.8604900183118356\n"
     ]
    }
   ],
   "source": [
    "cross_val_dt = cross_val_score(decisiontree,X_train_resampled,y_train_resampled,scoring='f1',cv=5)\n",
    "print(\"All Cross val score :\",cross_val_dt)\n",
    "print(\"Mean Cross val score :\",cross_val_dt.mean())\n",
    "print(\"Std Cross val score :\",cross_val_dt.std())\n",
    "print(\"Range Cross val score :\",cross_val_dt.mean()-cross_val_dt.std(),'-',cross_val_dt.mean()+cross_val_dt.std())"
   ]
  },
  {
   "cell_type": "code",
   "execution_count": 82,
   "metadata": {},
   "outputs": [
    {
     "name": "stdout",
     "output_type": "stream",
     "text": [
      "Classification report - Decision Tree Classifier : \n",
      "              precision    recall  f1-score   support\n",
      "\n",
      "         0.0       0.83      0.83      0.83       103\n",
      "         1.0       0.53      0.51      0.52        37\n",
      "\n",
      "    accuracy                           0.75       140\n",
      "   macro avg       0.68      0.67      0.68       140\n",
      "weighted avg       0.75      0.75      0.75       140\n",
      "\n"
     ]
    }
   ],
   "source": [
    "y_pred_test = decisiontree.predict(X_test_scaled)\n",
    "\n",
    "print('Classification report - Decision Tree Classifier : ')\n",
    "print(classification_report(y_test,y_pred_test))"
   ]
  },
  {
   "attachments": {},
   "cell_type": "markdown",
   "metadata": {},
   "source": [
    "Dari hasil di atas, untuk Decision Tree dapat disimpulkan bahwa :\n",
    "\n",
    "- Range untuk cross validation menghasilkan angka dari 70 hingga 86 persen, yang dapat terbilang cukup baik\n",
    "- Accuracy saat menggunakan data test menghasilkan angka 75 persen, dimana masih dalam interval cross validation score dengan data train\n",
    "- Accuracy yang dihasilkan sebesar 75 persen, yang masih lebih kecil dibandingkan Logistic Regression sebesar 75 persen\n"
   ]
  },
  {
   "attachments": {},
   "cell_type": "markdown",
   "metadata": {},
   "source": [
    "Karena algoritma yang lebih stabil dengan nilai cukup baik berada pada logistic regression, maka saya akan mencoba melakukan improvement pada algoritma ini"
   ]
  },
  {
   "attachments": {},
   "cell_type": "markdown",
   "metadata": {},
   "source": [
    "## Model Improvement - Logistic Regression"
   ]
  },
  {
   "cell_type": "code",
   "execution_count": 102,
   "metadata": {},
   "outputs": [
    {
     "data": {
      "text/plain": [
       "['age',\n",
       " 'work_experience',\n",
       " 'customer_address',\n",
       " 'yearly_income',\n",
       " 'debt_to_income',\n",
       " 'credit_to_debt',\n",
       " 'other_debts']"
      ]
     },
     "execution_count": 102,
     "metadata": {},
     "output_type": "execute_result"
    }
   ],
   "source": [
    "train_columns = X_train.columns.tolist()\n",
    "train_columns"
   ]
  },
  {
   "cell_type": "code",
   "execution_count": 103,
   "metadata": {},
   "outputs": [],
   "source": [
    "num_pipeline = make_pipeline(scaler)\n",
    "\n",
    "data_pipeline = ColumnTransformer([\n",
    "        ('pipe_num',num_pipeline,train_columns)\n",
    "])\n",
    "\n",
    "final_pipeline = Pipeline([\n",
    "        ('data_pipe',data_pipeline),\n",
    "        ('smote',sm),\n",
    "        ('logreg',logreg)\n",
    "])"
   ]
  },
  {
   "cell_type": "code",
   "execution_count": 115,
   "metadata": {},
   "outputs": [
    {
     "data": {
      "text/html": [
       "<div>\n",
       "<style scoped>\n",
       "    .dataframe tbody tr th:only-of-type {\n",
       "        vertical-align: middle;\n",
       "    }\n",
       "\n",
       "    .dataframe tbody tr th {\n",
       "        vertical-align: top;\n",
       "    }\n",
       "\n",
       "    .dataframe thead th {\n",
       "        text-align: right;\n",
       "    }\n",
       "</style>\n",
       "<table border=\"1\" class=\"dataframe\">\n",
       "  <thead>\n",
       "    <tr style=\"text-align: right;\">\n",
       "      <th></th>\n",
       "      <th>age</th>\n",
       "      <th>work_experience</th>\n",
       "      <th>customer_address</th>\n",
       "      <th>yearly_income</th>\n",
       "      <th>debt_to_income</th>\n",
       "      <th>credit_to_debt</th>\n",
       "      <th>other_debts</th>\n",
       "    </tr>\n",
       "  </thead>\n",
       "  <tbody>\n",
       "    <tr>\n",
       "      <th>0</th>\n",
       "      <td>0.416667</td>\n",
       "      <td>0.533333</td>\n",
       "      <td>0.294118</td>\n",
       "      <td>0.320896</td>\n",
       "      <td>0.285303</td>\n",
       "      <td>0.185418</td>\n",
       "      <td>0.380242</td>\n",
       "    </tr>\n",
       "    <tr>\n",
       "      <th>1</th>\n",
       "      <td>0.194444</td>\n",
       "      <td>0.133333</td>\n",
       "      <td>0.088235</td>\n",
       "      <td>0.059701</td>\n",
       "      <td>0.363112</td>\n",
       "      <td>0.176070</td>\n",
       "      <td>0.140507</td>\n",
       "    </tr>\n",
       "    <tr>\n",
       "      <th>2</th>\n",
       "      <td>0.166667</td>\n",
       "      <td>0.200000</td>\n",
       "      <td>0.205882</td>\n",
       "      <td>0.231343</td>\n",
       "      <td>0.731988</td>\n",
       "      <td>0.989364</td>\n",
       "      <td>0.444397</td>\n",
       "    </tr>\n",
       "    <tr>\n",
       "      <th>3</th>\n",
       "      <td>0.055556</td>\n",
       "      <td>0.033333</td>\n",
       "      <td>0.088235</td>\n",
       "      <td>0.022388</td>\n",
       "      <td>0.518732</td>\n",
       "      <td>0.130220</td>\n",
       "      <td>0.183142</td>\n",
       "    </tr>\n",
       "    <tr>\n",
       "      <th>4</th>\n",
       "      <td>0.333333</td>\n",
       "      <td>0.166667</td>\n",
       "      <td>0.264706</td>\n",
       "      <td>0.067164</td>\n",
       "      <td>0.112392</td>\n",
       "      <td>0.051512</td>\n",
       "      <td>0.052593</td>\n",
       "    </tr>\n",
       "    <tr>\n",
       "      <th>...</th>\n",
       "      <td>...</td>\n",
       "      <td>...</td>\n",
       "      <td>...</td>\n",
       "      <td>...</td>\n",
       "      <td>...</td>\n",
       "      <td>...</td>\n",
       "      <td>...</td>\n",
       "    </tr>\n",
       "    <tr>\n",
       "      <th>793</th>\n",
       "      <td>0.758713</td>\n",
       "      <td>0.047930</td>\n",
       "      <td>0.415418</td>\n",
       "      <td>0.048971</td>\n",
       "      <td>0.435723</td>\n",
       "      <td>0.152080</td>\n",
       "      <td>0.177728</td>\n",
       "    </tr>\n",
       "    <tr>\n",
       "      <th>794</th>\n",
       "      <td>0.109375</td>\n",
       "      <td>0.064583</td>\n",
       "      <td>0.082721</td>\n",
       "      <td>0.087220</td>\n",
       "      <td>0.259906</td>\n",
       "      <td>0.146866</td>\n",
       "      <td>0.120595</td>\n",
       "    </tr>\n",
       "    <tr>\n",
       "      <th>795</th>\n",
       "      <td>0.290504</td>\n",
       "      <td>0.118909</td>\n",
       "      <td>0.095401</td>\n",
       "      <td>0.194437</td>\n",
       "      <td>0.675536</td>\n",
       "      <td>0.921577</td>\n",
       "      <td>0.316452</td>\n",
       "    </tr>\n",
       "    <tr>\n",
       "      <th>796</th>\n",
       "      <td>0.144457</td>\n",
       "      <td>0.083994</td>\n",
       "      <td>0.116482</td>\n",
       "      <td>0.066573</td>\n",
       "      <td>0.762285</td>\n",
       "      <td>0.423820</td>\n",
       "      <td>0.273075</td>\n",
       "    </tr>\n",
       "    <tr>\n",
       "      <th>797</th>\n",
       "      <td>0.305556</td>\n",
       "      <td>0.001215</td>\n",
       "      <td>0.116575</td>\n",
       "      <td>0.096335</td>\n",
       "      <td>0.353476</td>\n",
       "      <td>0.178430</td>\n",
       "      <td>0.183347</td>\n",
       "    </tr>\n",
       "  </tbody>\n",
       "</table>\n",
       "<p>798 rows × 7 columns</p>\n",
       "</div>"
      ],
      "text/plain": [
       "          age  work_experience  customer_address  yearly_income  \\\n",
       "0    0.416667         0.533333          0.294118       0.320896   \n",
       "1    0.194444         0.133333          0.088235       0.059701   \n",
       "2    0.166667         0.200000          0.205882       0.231343   \n",
       "3    0.055556         0.033333          0.088235       0.022388   \n",
       "4    0.333333         0.166667          0.264706       0.067164   \n",
       "..        ...              ...               ...            ...   \n",
       "793  0.758713         0.047930          0.415418       0.048971   \n",
       "794  0.109375         0.064583          0.082721       0.087220   \n",
       "795  0.290504         0.118909          0.095401       0.194437   \n",
       "796  0.144457         0.083994          0.116482       0.066573   \n",
       "797  0.305556         0.001215          0.116575       0.096335   \n",
       "\n",
       "     debt_to_income  credit_to_debt  other_debts  \n",
       "0          0.285303        0.185418     0.380242  \n",
       "1          0.363112        0.176070     0.140507  \n",
       "2          0.731988        0.989364     0.444397  \n",
       "3          0.518732        0.130220     0.183142  \n",
       "4          0.112392        0.051512     0.052593  \n",
       "..              ...             ...          ...  \n",
       "793        0.435723        0.152080     0.177728  \n",
       "794        0.259906        0.146866     0.120595  \n",
       "795        0.675536        0.921577     0.316452  \n",
       "796        0.762285        0.423820     0.273075  \n",
       "797        0.353476        0.178430     0.183347  \n",
       "\n",
       "[798 rows x 7 columns]"
      ]
     },
     "execution_count": 115,
     "metadata": {},
     "output_type": "execute_result"
    }
   ],
   "source": [
    "data_train_resampled = pd.DataFrame(X_train_resampled,columns=train_columns)\n",
    "data_test_scaled = pd.DataFrame(X_test_scaled,columns=train_columns)\n",
    "data_train_resampled"
   ]
  },
  {
   "cell_type": "code",
   "execution_count": 108,
   "metadata": {},
   "outputs": [
    {
     "name": "stdout",
     "output_type": "stream",
     "text": [
      "Best parameters : {'logreg__C': 1.623776739188721, 'logreg__penalty': 'l2', 'logreg__solver': 'liblinear'}\n"
     ]
    }
   ],
   "source": [
    "parameters = {\n",
    "    'logreg__penalty' : ['l1', 'l2'],\n",
    "    'logreg__C' : np.logspace(-4, 4, 20),\n",
    "    'logreg__solver' : ['liblinear']\n",
    "}\n",
    "\n",
    "grid_pipe = GridSearchCV(final_pipeline,param_grid=parameters,cv=5)\n",
    "grid_pipe.fit(data_train_resampled,y_train_resampled)\n",
    "print(\"Best parameters : {}\".format(grid_pipe.best_params_))"
   ]
  },
  {
   "cell_type": "code",
   "execution_count": 109,
   "metadata": {},
   "outputs": [
    {
     "data": {
      "text/plain": [
       "Pipeline(steps=[('data_pipe',\n",
       "                 ColumnTransformer(transformers=[('pipe_num',\n",
       "                                                  Pipeline(steps=[('minmaxscaler',\n",
       "                                                                   MinMaxScaler())]),\n",
       "                                                  ['age', 'work_experience',\n",
       "                                                   'customer_address',\n",
       "                                                   'yearly_income',\n",
       "                                                   'debt_to_income',\n",
       "                                                   'credit_to_debt',\n",
       "                                                   'other_debts'])])),\n",
       "                ('smote', SMOTE(random_state=46)),\n",
       "                ('logreg',\n",
       "                 LogisticRegression(C=1.623776739188721, solver='liblinear'))])"
      ]
     },
     "execution_count": 109,
     "metadata": {},
     "output_type": "execute_result"
    }
   ],
   "source": [
    "grid_pipe_best = grid_pipe.best_estimator_\n",
    "grid_pipe_best"
   ]
  },
  {
   "cell_type": "code",
   "execution_count": 111,
   "metadata": {},
   "outputs": [
    {
     "data": {
      "text/plain": [
       "Pipeline(steps=[('data_pipe',\n",
       "                 ColumnTransformer(transformers=[('pipe_num',\n",
       "                                                  Pipeline(steps=[('minmaxscaler',\n",
       "                                                                   MinMaxScaler())]),\n",
       "                                                  ['age', 'work_experience',\n",
       "                                                   'customer_address',\n",
       "                                                   'yearly_income',\n",
       "                                                   'debt_to_income',\n",
       "                                                   'credit_to_debt',\n",
       "                                                   'other_debts'])])),\n",
       "                ('smote', SMOTE(random_state=46)),\n",
       "                ('logreg',\n",
       "                 LogisticRegression(C=1.623776739188721, solver='liblinear'))])"
      ]
     },
     "execution_count": 111,
     "metadata": {},
     "output_type": "execute_result"
    }
   ],
   "source": [
    "grid_pipe_best.fit(data_train_resampled,y_train_resampled)"
   ]
  },
  {
   "cell_type": "code",
   "execution_count": 116,
   "metadata": {},
   "outputs": [],
   "source": [
    "y_test_pred = grid_pipe_best.predict(data_test_scaled)"
   ]
  },
  {
   "cell_type": "code",
   "execution_count": 117,
   "metadata": {},
   "outputs": [
    {
     "name": "stdout",
     "output_type": "stream",
     "text": [
      "              precision    recall  f1-score   support\n",
      "\n",
      "         0.0       0.91      0.78      0.84       103\n",
      "         1.0       0.56      0.78      0.65        37\n",
      "\n",
      "    accuracy                           0.78       140\n",
      "   macro avg       0.73      0.78      0.74       140\n",
      "weighted avg       0.82      0.78      0.79       140\n",
      "\n"
     ]
    }
   ],
   "source": [
    "print(classification_report(y_test,y_test_pred))"
   ]
  },
  {
   "attachments": {},
   "cell_type": "markdown",
   "metadata": {},
   "source": [
    "Dari tuning model untuk algoritma logistic regression, dapat terlihat bahwa ada kenaikan accuracy sebesar 1%. Dapat dikatakan kenaikannya tidak begitu signifikan. \n",
    "\n",
    "Sehingga kesimpulan untuk hasil penentuan model untuk credit risk analysis ini adalah :\n",
    "- Untuk sementara, Logistic Regression adalah model yang paling baik dibandingkan dengan model lain\n",
    "- Akurasi yang dihasilkan tertinggi dengan nilai stabil tanpa overfit atau underfit adalah sebesar 78%, yang artinya masih dalam kategori cukup baik.\n",
    "- Namun, untuk mendapatkan hasil yang lebih maksimal, dapat mempertimbangkan untuk menambahkan sample label column '1' agar seimbang dengan '0' , atau memanfaatkan feature engineering lainnya yang lebih sesuai sehingga akurasinya dapat lebih baik."
   ]
  }
 ],
 "metadata": {
  "kernelspec": {
   "display_name": "Python 3.9.7 ('base')",
   "language": "python",
   "name": "python3"
  },
  "language_info": {
   "codemirror_mode": {
    "name": "ipython",
    "version": 3
   },
   "file_extension": ".py",
   "mimetype": "text/x-python",
   "name": "python",
   "nbconvert_exporter": "python",
   "pygments_lexer": "ipython3",
   "version": "3.9.7"
  },
  "orig_nbformat": 4,
  "vscode": {
   "interpreter": {
    "hash": "bfc475a2e745c4122d3276f58695a2ee5c947f5da1ca14d027b370257022f470"
   }
  }
 },
 "nbformat": 4,
 "nbformat_minor": 2
}
