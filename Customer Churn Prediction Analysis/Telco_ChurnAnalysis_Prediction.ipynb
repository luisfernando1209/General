{
 "cells": [
  {
   "cell_type": "markdown",
   "metadata": {},
   "source": [
    "# 1. Perkenalan"
   ]
  },
  {
   "cell_type": "markdown",
   "metadata": {},
   "source": [
    "Bab pengenalan harus diisi dengan identitas, gambaran besar dataset yang digunakan, dan objective yang ingin dicapai."
   ]
  },
  {
   "cell_type": "markdown",
   "metadata": {},
   "source": [
    "Luis Fernando - FTDS 010 - Phase 1\n",
    "\n",
    "Subject : Customer Churn Prediction\n",
    "\n",
    "Objectives : Membuat model sehingga kita bisa memprediksi , apakah customer akan berpotensi churn (pergi untuk tidak berlangganan lagi / tidak setia) atau tidak\n",
    "\n",
    "Sumber dataset : https://www.kaggle.com/datasets/mnassrib/telecom-churn-datasets \n",
    "\n",
    "Nama Dataset : churn-bigml-80.csv\n",
    "\n",
    "Jumlah Kolom : 20 kolom (termasuk 1 kolom target 'Churn (Target)')\n",
    "\n",
    "\n",
    "\n"
   ]
  },
  {
   "cell_type": "markdown",
   "metadata": {},
   "source": [
    "# 2. Import Libraries"
   ]
  },
  {
   "cell_type": "markdown",
   "metadata": {},
   "source": [
    "Cell pertama pada notebook harus berisi dan hanya berisi semua library yang digunakan dalam project."
   ]
  },
  {
   "cell_type": "code",
   "execution_count": 49,
   "metadata": {},
   "outputs": [],
   "source": [
    "import pandas as pd\n",
    "import numpy as np\n",
    "import seaborn as sns\n",
    "from matplotlib import pyplot as plt\n",
    "from sklearn.model_selection import train_test_split\n",
    "from feature_engine.outliers import OutlierTrimmer\n",
    "from sklearn.ensemble import RandomForestClassifier\n",
    "from matplotlib import pyplot as plt\n",
    "from sklearn.preprocessing import StandardScaler\n",
    "from sklearn.preprocessing import LabelEncoder\n",
    "from sklearn.compose import ColumnTransformer\n",
    "from sklearn.preprocessing import OneHotEncoder\n",
    "from sklearn.linear_model import LogisticRegression\n",
    "from sklearn.svm import SVC\n",
    "from sklearn.neighbors import KNeighborsClassifier\n",
    "from sklearn.model_selection import cross_val_score,GridSearchCV\n",
    "from sklearn.metrics import classification_report,accuracy_score,roc_auc_score,confusion_matrix \n",
    "from imblearn.pipeline import make_pipeline,Pipeline\n",
    "import pickle"
   ]
  },
  {
   "cell_type": "markdown",
   "metadata": {},
   "source": [
    "# 3. Data Loading"
   ]
  },
  {
   "cell_type": "markdown",
   "metadata": {},
   "source": [
    "Bagian ini berisi proses penyiapan data sebelum dilakukan eksplorasi data lebih lanjut. Proses Data Loading dapat berupa memberi nama baru untuk setiap kolom, mengecek ukuran dataset, dll."
   ]
  },
  {
   "cell_type": "code",
   "execution_count": 50,
   "metadata": {},
   "outputs": [
    {
     "data": {
      "text/html": [
       "<div>\n",
       "<style scoped>\n",
       "    .dataframe tbody tr th:only-of-type {\n",
       "        vertical-align: middle;\n",
       "    }\n",
       "\n",
       "    .dataframe tbody tr th {\n",
       "        vertical-align: top;\n",
       "    }\n",
       "\n",
       "    .dataframe thead th {\n",
       "        text-align: right;\n",
       "    }\n",
       "</style>\n",
       "<table border=\"1\" class=\"dataframe\">\n",
       "  <thead>\n",
       "    <tr style=\"text-align: right;\">\n",
       "      <th></th>\n",
       "      <th>State</th>\n",
       "      <th>Account length</th>\n",
       "      <th>Area code</th>\n",
       "      <th>International plan</th>\n",
       "      <th>Voice mail plan</th>\n",
       "      <th>Number vmail messages</th>\n",
       "      <th>Total day minutes</th>\n",
       "      <th>Total day calls</th>\n",
       "      <th>Total day charge</th>\n",
       "      <th>Total eve minutes</th>\n",
       "      <th>Total eve calls</th>\n",
       "      <th>Total eve charge</th>\n",
       "      <th>Total night minutes</th>\n",
       "      <th>Total night calls</th>\n",
       "      <th>Total night charge</th>\n",
       "      <th>Total intl minutes</th>\n",
       "      <th>Total intl calls</th>\n",
       "      <th>Total intl charge</th>\n",
       "      <th>Customer service calls</th>\n",
       "      <th>Churn</th>\n",
       "    </tr>\n",
       "  </thead>\n",
       "  <tbody>\n",
       "    <tr>\n",
       "      <th>0</th>\n",
       "      <td>KS</td>\n",
       "      <td>128</td>\n",
       "      <td>415</td>\n",
       "      <td>No</td>\n",
       "      <td>Yes</td>\n",
       "      <td>25</td>\n",
       "      <td>265.1</td>\n",
       "      <td>110</td>\n",
       "      <td>45.07</td>\n",
       "      <td>197.4</td>\n",
       "      <td>99</td>\n",
       "      <td>16.78</td>\n",
       "      <td>244.7</td>\n",
       "      <td>91</td>\n",
       "      <td>11.01</td>\n",
       "      <td>10.0</td>\n",
       "      <td>3</td>\n",
       "      <td>2.70</td>\n",
       "      <td>1</td>\n",
       "      <td>False</td>\n",
       "    </tr>\n",
       "    <tr>\n",
       "      <th>1</th>\n",
       "      <td>OH</td>\n",
       "      <td>107</td>\n",
       "      <td>415</td>\n",
       "      <td>No</td>\n",
       "      <td>Yes</td>\n",
       "      <td>26</td>\n",
       "      <td>161.6</td>\n",
       "      <td>123</td>\n",
       "      <td>27.47</td>\n",
       "      <td>195.5</td>\n",
       "      <td>103</td>\n",
       "      <td>16.62</td>\n",
       "      <td>254.4</td>\n",
       "      <td>103</td>\n",
       "      <td>11.45</td>\n",
       "      <td>13.7</td>\n",
       "      <td>3</td>\n",
       "      <td>3.70</td>\n",
       "      <td>1</td>\n",
       "      <td>False</td>\n",
       "    </tr>\n",
       "    <tr>\n",
       "      <th>2</th>\n",
       "      <td>NJ</td>\n",
       "      <td>137</td>\n",
       "      <td>415</td>\n",
       "      <td>No</td>\n",
       "      <td>No</td>\n",
       "      <td>0</td>\n",
       "      <td>243.4</td>\n",
       "      <td>114</td>\n",
       "      <td>41.38</td>\n",
       "      <td>121.2</td>\n",
       "      <td>110</td>\n",
       "      <td>10.30</td>\n",
       "      <td>162.6</td>\n",
       "      <td>104</td>\n",
       "      <td>7.32</td>\n",
       "      <td>12.2</td>\n",
       "      <td>5</td>\n",
       "      <td>3.29</td>\n",
       "      <td>0</td>\n",
       "      <td>False</td>\n",
       "    </tr>\n",
       "    <tr>\n",
       "      <th>3</th>\n",
       "      <td>OH</td>\n",
       "      <td>84</td>\n",
       "      <td>408</td>\n",
       "      <td>Yes</td>\n",
       "      <td>No</td>\n",
       "      <td>0</td>\n",
       "      <td>299.4</td>\n",
       "      <td>71</td>\n",
       "      <td>50.90</td>\n",
       "      <td>61.9</td>\n",
       "      <td>88</td>\n",
       "      <td>5.26</td>\n",
       "      <td>196.9</td>\n",
       "      <td>89</td>\n",
       "      <td>8.86</td>\n",
       "      <td>6.6</td>\n",
       "      <td>7</td>\n",
       "      <td>1.78</td>\n",
       "      <td>2</td>\n",
       "      <td>False</td>\n",
       "    </tr>\n",
       "    <tr>\n",
       "      <th>4</th>\n",
       "      <td>OK</td>\n",
       "      <td>75</td>\n",
       "      <td>415</td>\n",
       "      <td>Yes</td>\n",
       "      <td>No</td>\n",
       "      <td>0</td>\n",
       "      <td>166.7</td>\n",
       "      <td>113</td>\n",
       "      <td>28.34</td>\n",
       "      <td>148.3</td>\n",
       "      <td>122</td>\n",
       "      <td>12.61</td>\n",
       "      <td>186.9</td>\n",
       "      <td>121</td>\n",
       "      <td>8.41</td>\n",
       "      <td>10.1</td>\n",
       "      <td>3</td>\n",
       "      <td>2.73</td>\n",
       "      <td>3</td>\n",
       "      <td>False</td>\n",
       "    </tr>\n",
       "  </tbody>\n",
       "</table>\n",
       "</div>"
      ],
      "text/plain": [
       "  State  Account length  Area code International plan Voice mail plan  \\\n",
       "0    KS             128        415                 No             Yes   \n",
       "1    OH             107        415                 No             Yes   \n",
       "2    NJ             137        415                 No              No   \n",
       "3    OH              84        408                Yes              No   \n",
       "4    OK              75        415                Yes              No   \n",
       "\n",
       "   Number vmail messages  Total day minutes  Total day calls  \\\n",
       "0                     25              265.1              110   \n",
       "1                     26              161.6              123   \n",
       "2                      0              243.4              114   \n",
       "3                      0              299.4               71   \n",
       "4                      0              166.7              113   \n",
       "\n",
       "   Total day charge  Total eve minutes  Total eve calls  Total eve charge  \\\n",
       "0             45.07              197.4               99             16.78   \n",
       "1             27.47              195.5              103             16.62   \n",
       "2             41.38              121.2              110             10.30   \n",
       "3             50.90               61.9               88              5.26   \n",
       "4             28.34              148.3              122             12.61   \n",
       "\n",
       "   Total night minutes  Total night calls  Total night charge  \\\n",
       "0                244.7                 91               11.01   \n",
       "1                254.4                103               11.45   \n",
       "2                162.6                104                7.32   \n",
       "3                196.9                 89                8.86   \n",
       "4                186.9                121                8.41   \n",
       "\n",
       "   Total intl minutes  Total intl calls  Total intl charge  \\\n",
       "0                10.0                 3               2.70   \n",
       "1                13.7                 3               3.70   \n",
       "2                12.2                 5               3.29   \n",
       "3                 6.6                 7               1.78   \n",
       "4                10.1                 3               2.73   \n",
       "\n",
       "   Customer service calls  Churn  \n",
       "0                       1  False  \n",
       "1                       1  False  \n",
       "2                       0  False  \n",
       "3                       2  False  \n",
       "4                       3  False  "
      ]
     },
     "execution_count": 50,
     "metadata": {},
     "output_type": "execute_result"
    }
   ],
   "source": [
    "df = pd.read_csv('../dataset/churn-bigml-80.csv')\n",
    "df.head(5)"
   ]
  },
  {
   "cell_type": "code",
   "execution_count": 51,
   "metadata": {},
   "outputs": [],
   "source": [
    "df_copy = df.copy()"
   ]
  },
  {
   "cell_type": "markdown",
   "metadata": {},
   "source": [
    "Kita lihat info untuk masing - masing kolom pada dataset, apakah ada data yang null , hingga melihat tipe data masing - masing kolom"
   ]
  },
  {
   "cell_type": "code",
   "execution_count": 52,
   "metadata": {},
   "outputs": [
    {
     "name": "stdout",
     "output_type": "stream",
     "text": [
      "<class 'pandas.core.frame.DataFrame'>\n",
      "RangeIndex: 2666 entries, 0 to 2665\n",
      "Data columns (total 20 columns):\n",
      " #   Column                  Non-Null Count  Dtype  \n",
      "---  ------                  --------------  -----  \n",
      " 0   State                   2666 non-null   object \n",
      " 1   Account length          2666 non-null   int64  \n",
      " 2   Area code               2666 non-null   int64  \n",
      " 3   International plan      2666 non-null   object \n",
      " 4   Voice mail plan         2666 non-null   object \n",
      " 5   Number vmail messages   2666 non-null   int64  \n",
      " 6   Total day minutes       2666 non-null   float64\n",
      " 7   Total day calls         2666 non-null   int64  \n",
      " 8   Total day charge        2666 non-null   float64\n",
      " 9   Total eve minutes       2666 non-null   float64\n",
      " 10  Total eve calls         2666 non-null   int64  \n",
      " 11  Total eve charge        2666 non-null   float64\n",
      " 12  Total night minutes     2666 non-null   float64\n",
      " 13  Total night calls       2666 non-null   int64  \n",
      " 14  Total night charge      2666 non-null   float64\n",
      " 15  Total intl minutes      2666 non-null   float64\n",
      " 16  Total intl calls        2666 non-null   int64  \n",
      " 17  Total intl charge       2666 non-null   float64\n",
      " 18  Customer service calls  2666 non-null   int64  \n",
      " 19  Churn                   2666 non-null   bool   \n",
      "dtypes: bool(1), float64(8), int64(8), object(3)\n",
      "memory usage: 398.5+ KB\n"
     ]
    }
   ],
   "source": [
    "df.info()"
   ]
  },
  {
   "cell_type": "markdown",
   "metadata": {},
   "source": [
    "Dari data di atas , telrihat bahwa tidak ada  data yang null , kemudian untuk data mayoritas bertipe data numerik, dan untuk targetnya bertipe data Boolean "
   ]
  },
  {
   "cell_type": "markdown",
   "metadata": {},
   "source": [
    "Selanjutnya, kita lihat jumlah unique values untuk masing - masing kolom , untuk menentukan mana yang merupakan unique values , mana yang bukan"
   ]
  },
  {
   "cell_type": "code",
   "execution_count": 53,
   "metadata": {},
   "outputs": [
    {
     "data": {
      "text/plain": [
       "State                       51\n",
       "Account length             205\n",
       "Area code                    3\n",
       "International plan           2\n",
       "Voice mail plan              2\n",
       "Number vmail messages       42\n",
       "Total day minutes         1489\n",
       "Total day calls            115\n",
       "Total day charge          1489\n",
       "Total eve minutes         1442\n",
       "Total eve calls            120\n",
       "Total eve charge          1301\n",
       "Total night minutes       1444\n",
       "Total night calls          118\n",
       "Total night charge         885\n",
       "Total intl minutes         158\n",
       "Total intl calls            21\n",
       "Total intl charge          158\n",
       "Customer service calls      10\n",
       "Churn                        2\n",
       "dtype: int64"
      ]
     },
     "execution_count": 53,
     "metadata": {},
     "output_type": "execute_result"
    }
   ],
   "source": [
    "df.nunique()"
   ]
  },
  {
   "cell_type": "markdown",
   "metadata": {},
   "source": [
    "Dari tampilan di atas ,terlihat bahwa yang termasuk data kategorik adalah :\n",
    "- State , Area code , International plan dan Voice mail plan "
   ]
  },
  {
   "cell_type": "markdown",
   "metadata": {},
   "source": [
    "Selanjutnya, kita lihat analisa deskriptif dari masing - masing kolom bertipe data numerik dan object"
   ]
  },
  {
   "cell_type": "code",
   "execution_count": 54,
   "metadata": {},
   "outputs": [
    {
     "data": {
      "text/html": [
       "<div>\n",
       "<style scoped>\n",
       "    .dataframe tbody tr th:only-of-type {\n",
       "        vertical-align: middle;\n",
       "    }\n",
       "\n",
       "    .dataframe tbody tr th {\n",
       "        vertical-align: top;\n",
       "    }\n",
       "\n",
       "    .dataframe thead th {\n",
       "        text-align: right;\n",
       "    }\n",
       "</style>\n",
       "<table border=\"1\" class=\"dataframe\">\n",
       "  <thead>\n",
       "    <tr style=\"text-align: right;\">\n",
       "      <th></th>\n",
       "      <th>count</th>\n",
       "      <th>mean</th>\n",
       "      <th>std</th>\n",
       "      <th>min</th>\n",
       "      <th>25%</th>\n",
       "      <th>50%</th>\n",
       "      <th>75%</th>\n",
       "      <th>max</th>\n",
       "    </tr>\n",
       "  </thead>\n",
       "  <tbody>\n",
       "    <tr>\n",
       "      <th>Account length</th>\n",
       "      <td>2666.0</td>\n",
       "      <td>100.620405</td>\n",
       "      <td>39.563974</td>\n",
       "      <td>1.00</td>\n",
       "      <td>73.0000</td>\n",
       "      <td>100.00</td>\n",
       "      <td>127.000</td>\n",
       "      <td>243.00</td>\n",
       "    </tr>\n",
       "    <tr>\n",
       "      <th>Area code</th>\n",
       "      <td>2666.0</td>\n",
       "      <td>437.438860</td>\n",
       "      <td>42.521018</td>\n",
       "      <td>408.00</td>\n",
       "      <td>408.0000</td>\n",
       "      <td>415.00</td>\n",
       "      <td>510.000</td>\n",
       "      <td>510.00</td>\n",
       "    </tr>\n",
       "    <tr>\n",
       "      <th>Number vmail messages</th>\n",
       "      <td>2666.0</td>\n",
       "      <td>8.021755</td>\n",
       "      <td>13.612277</td>\n",
       "      <td>0.00</td>\n",
       "      <td>0.0000</td>\n",
       "      <td>0.00</td>\n",
       "      <td>19.000</td>\n",
       "      <td>50.00</td>\n",
       "    </tr>\n",
       "    <tr>\n",
       "      <th>Total day minutes</th>\n",
       "      <td>2666.0</td>\n",
       "      <td>179.481620</td>\n",
       "      <td>54.210350</td>\n",
       "      <td>0.00</td>\n",
       "      <td>143.4000</td>\n",
       "      <td>179.95</td>\n",
       "      <td>215.900</td>\n",
       "      <td>350.80</td>\n",
       "    </tr>\n",
       "    <tr>\n",
       "      <th>Total day calls</th>\n",
       "      <td>2666.0</td>\n",
       "      <td>100.310203</td>\n",
       "      <td>19.988162</td>\n",
       "      <td>0.00</td>\n",
       "      <td>87.0000</td>\n",
       "      <td>101.00</td>\n",
       "      <td>114.000</td>\n",
       "      <td>160.00</td>\n",
       "    </tr>\n",
       "    <tr>\n",
       "      <th>Total day charge</th>\n",
       "      <td>2666.0</td>\n",
       "      <td>30.512404</td>\n",
       "      <td>9.215733</td>\n",
       "      <td>0.00</td>\n",
       "      <td>24.3800</td>\n",
       "      <td>30.59</td>\n",
       "      <td>36.700</td>\n",
       "      <td>59.64</td>\n",
       "    </tr>\n",
       "    <tr>\n",
       "      <th>Total eve minutes</th>\n",
       "      <td>2666.0</td>\n",
       "      <td>200.386159</td>\n",
       "      <td>50.951515</td>\n",
       "      <td>0.00</td>\n",
       "      <td>165.3000</td>\n",
       "      <td>200.90</td>\n",
       "      <td>235.100</td>\n",
       "      <td>363.70</td>\n",
       "    </tr>\n",
       "    <tr>\n",
       "      <th>Total eve calls</th>\n",
       "      <td>2666.0</td>\n",
       "      <td>100.023631</td>\n",
       "      <td>20.161445</td>\n",
       "      <td>0.00</td>\n",
       "      <td>87.0000</td>\n",
       "      <td>100.00</td>\n",
       "      <td>114.000</td>\n",
       "      <td>170.00</td>\n",
       "    </tr>\n",
       "    <tr>\n",
       "      <th>Total eve charge</th>\n",
       "      <td>2666.0</td>\n",
       "      <td>17.033072</td>\n",
       "      <td>4.330864</td>\n",
       "      <td>0.00</td>\n",
       "      <td>14.0500</td>\n",
       "      <td>17.08</td>\n",
       "      <td>19.980</td>\n",
       "      <td>30.91</td>\n",
       "    </tr>\n",
       "    <tr>\n",
       "      <th>Total night minutes</th>\n",
       "      <td>2666.0</td>\n",
       "      <td>201.168942</td>\n",
       "      <td>50.780323</td>\n",
       "      <td>43.70</td>\n",
       "      <td>166.9250</td>\n",
       "      <td>201.15</td>\n",
       "      <td>236.475</td>\n",
       "      <td>395.00</td>\n",
       "    </tr>\n",
       "    <tr>\n",
       "      <th>Total night calls</th>\n",
       "      <td>2666.0</td>\n",
       "      <td>100.106152</td>\n",
       "      <td>19.418459</td>\n",
       "      <td>33.00</td>\n",
       "      <td>87.0000</td>\n",
       "      <td>100.00</td>\n",
       "      <td>113.000</td>\n",
       "      <td>166.00</td>\n",
       "    </tr>\n",
       "    <tr>\n",
       "      <th>Total night charge</th>\n",
       "      <td>2666.0</td>\n",
       "      <td>9.052689</td>\n",
       "      <td>2.285120</td>\n",
       "      <td>1.97</td>\n",
       "      <td>7.5125</td>\n",
       "      <td>9.05</td>\n",
       "      <td>10.640</td>\n",
       "      <td>17.77</td>\n",
       "    </tr>\n",
       "    <tr>\n",
       "      <th>Total intl minutes</th>\n",
       "      <td>2666.0</td>\n",
       "      <td>10.237022</td>\n",
       "      <td>2.788349</td>\n",
       "      <td>0.00</td>\n",
       "      <td>8.5000</td>\n",
       "      <td>10.20</td>\n",
       "      <td>12.100</td>\n",
       "      <td>20.00</td>\n",
       "    </tr>\n",
       "    <tr>\n",
       "      <th>Total intl calls</th>\n",
       "      <td>2666.0</td>\n",
       "      <td>4.467367</td>\n",
       "      <td>2.456195</td>\n",
       "      <td>0.00</td>\n",
       "      <td>3.0000</td>\n",
       "      <td>4.00</td>\n",
       "      <td>6.000</td>\n",
       "      <td>20.00</td>\n",
       "    </tr>\n",
       "    <tr>\n",
       "      <th>Total intl charge</th>\n",
       "      <td>2666.0</td>\n",
       "      <td>2.764490</td>\n",
       "      <td>0.752812</td>\n",
       "      <td>0.00</td>\n",
       "      <td>2.3000</td>\n",
       "      <td>2.75</td>\n",
       "      <td>3.270</td>\n",
       "      <td>5.40</td>\n",
       "    </tr>\n",
       "    <tr>\n",
       "      <th>Customer service calls</th>\n",
       "      <td>2666.0</td>\n",
       "      <td>1.562641</td>\n",
       "      <td>1.311236</td>\n",
       "      <td>0.00</td>\n",
       "      <td>1.0000</td>\n",
       "      <td>1.00</td>\n",
       "      <td>2.000</td>\n",
       "      <td>9.00</td>\n",
       "    </tr>\n",
       "  </tbody>\n",
       "</table>\n",
       "</div>"
      ],
      "text/plain": [
       "                         count        mean        std     min       25%  \\\n",
       "Account length          2666.0  100.620405  39.563974    1.00   73.0000   \n",
       "Area code               2666.0  437.438860  42.521018  408.00  408.0000   \n",
       "Number vmail messages   2666.0    8.021755  13.612277    0.00    0.0000   \n",
       "Total day minutes       2666.0  179.481620  54.210350    0.00  143.4000   \n",
       "Total day calls         2666.0  100.310203  19.988162    0.00   87.0000   \n",
       "Total day charge        2666.0   30.512404   9.215733    0.00   24.3800   \n",
       "Total eve minutes       2666.0  200.386159  50.951515    0.00  165.3000   \n",
       "Total eve calls         2666.0  100.023631  20.161445    0.00   87.0000   \n",
       "Total eve charge        2666.0   17.033072   4.330864    0.00   14.0500   \n",
       "Total night minutes     2666.0  201.168942  50.780323   43.70  166.9250   \n",
       "Total night calls       2666.0  100.106152  19.418459   33.00   87.0000   \n",
       "Total night charge      2666.0    9.052689   2.285120    1.97    7.5125   \n",
       "Total intl minutes      2666.0   10.237022   2.788349    0.00    8.5000   \n",
       "Total intl calls        2666.0    4.467367   2.456195    0.00    3.0000   \n",
       "Total intl charge       2666.0    2.764490   0.752812    0.00    2.3000   \n",
       "Customer service calls  2666.0    1.562641   1.311236    0.00    1.0000   \n",
       "\n",
       "                           50%      75%     max  \n",
       "Account length          100.00  127.000  243.00  \n",
       "Area code               415.00  510.000  510.00  \n",
       "Number vmail messages     0.00   19.000   50.00  \n",
       "Total day minutes       179.95  215.900  350.80  \n",
       "Total day calls         101.00  114.000  160.00  \n",
       "Total day charge         30.59   36.700   59.64  \n",
       "Total eve minutes       200.90  235.100  363.70  \n",
       "Total eve calls         100.00  114.000  170.00  \n",
       "Total eve charge         17.08   19.980   30.91  \n",
       "Total night minutes     201.15  236.475  395.00  \n",
       "Total night calls       100.00  113.000  166.00  \n",
       "Total night charge        9.05   10.640   17.77  \n",
       "Total intl minutes       10.20   12.100   20.00  \n",
       "Total intl calls          4.00    6.000   20.00  \n",
       "Total intl charge         2.75    3.270    5.40  \n",
       "Customer service calls    1.00    2.000    9.00  "
      ]
     },
     "execution_count": 54,
     "metadata": {},
     "output_type": "execute_result"
    }
   ],
   "source": [
    "#analisa deskriptif numerik\n",
    "df.describe().T"
   ]
  },
  {
   "cell_type": "code",
   "execution_count": 55,
   "metadata": {},
   "outputs": [
    {
     "data": {
      "text/html": [
       "<div>\n",
       "<style scoped>\n",
       "    .dataframe tbody tr th:only-of-type {\n",
       "        vertical-align: middle;\n",
       "    }\n",
       "\n",
       "    .dataframe tbody tr th {\n",
       "        vertical-align: top;\n",
       "    }\n",
       "\n",
       "    .dataframe thead th {\n",
       "        text-align: right;\n",
       "    }\n",
       "</style>\n",
       "<table border=\"1\" class=\"dataframe\">\n",
       "  <thead>\n",
       "    <tr style=\"text-align: right;\">\n",
       "      <th></th>\n",
       "      <th>count</th>\n",
       "      <th>unique</th>\n",
       "      <th>top</th>\n",
       "      <th>freq</th>\n",
       "    </tr>\n",
       "  </thead>\n",
       "  <tbody>\n",
       "    <tr>\n",
       "      <th>State</th>\n",
       "      <td>2666</td>\n",
       "      <td>51</td>\n",
       "      <td>WV</td>\n",
       "      <td>88</td>\n",
       "    </tr>\n",
       "    <tr>\n",
       "      <th>International plan</th>\n",
       "      <td>2666</td>\n",
       "      <td>2</td>\n",
       "      <td>No</td>\n",
       "      <td>2396</td>\n",
       "    </tr>\n",
       "    <tr>\n",
       "      <th>Voice mail plan</th>\n",
       "      <td>2666</td>\n",
       "      <td>2</td>\n",
       "      <td>No</td>\n",
       "      <td>1933</td>\n",
       "    </tr>\n",
       "  </tbody>\n",
       "</table>\n",
       "</div>"
      ],
      "text/plain": [
       "                   count unique top  freq\n",
       "State               2666     51  WV    88\n",
       "International plan  2666      2  No  2396\n",
       "Voice mail plan     2666      2  No  1933"
      ]
     },
     "execution_count": 55,
     "metadata": {},
     "output_type": "execute_result"
    }
   ],
   "source": [
    "df.describe(include=object).T"
   ]
  },
  {
   "cell_type": "markdown",
   "metadata": {},
   "source": [
    "### Mapping Churn dari Boolean ke Integer"
   ]
  },
  {
   "cell_type": "markdown",
   "metadata": {},
   "source": [
    "Karena target column berbentuk boolean , saya ingin mengconvert dahulu dari bool menjadi integer"
   ]
  },
  {
   "cell_type": "code",
   "execution_count": 56,
   "metadata": {},
   "outputs": [],
   "source": [
    "df['Churn'] = df['Churn'].map({True:1,False:0})"
   ]
  },
  {
   "cell_type": "markdown",
   "metadata": {},
   "source": [
    "# 4. Exploratory Data Analysis (EDA)"
   ]
  },
  {
   "cell_type": "markdown",
   "metadata": {},
   "source": [
    "Bagian ini berisi explorasi data pada dataset diatas dengan menggunakan query, grouping, visualisasi sederhana, dan lain sebagainya."
   ]
  },
  {
   "cell_type": "markdown",
   "metadata": {},
   "source": [
    "### Proporsi antara Churn Yes dan No"
   ]
  },
  {
   "cell_type": "markdown",
   "metadata": {},
   "source": [
    "Kita lihat , proporsi antara Churn Yes dan No"
   ]
  },
  {
   "cell_type": "code",
   "execution_count": 57,
   "metadata": {},
   "outputs": [
    {
     "data": {
      "text/plain": [
       "0    2278\n",
       "1     388\n",
       "Name: Churn, dtype: int64"
      ]
     },
     "execution_count": 57,
     "metadata": {},
     "output_type": "execute_result"
    },
    {
     "data": {
      "image/png": "[encoded data removed]",
      "text/plain": [
       "<Figure size 432x288 with 1 Axes>"
      ]
     },
     "metadata": {
      "needs_background": "light"
     },
     "output_type": "display_data"
    }
   ],
   "source": [
    "sns.countplot(data=df,x='Churn')\n",
    "df['Churn'].value_counts()"
   ]
  },
  {
   "cell_type": "markdown",
   "metadata": {},
   "source": [
    "Terlihat bahwa data terbanyak adalah Churn nya False. Sehingga, bisa diasumsikan bahwa data tersebut bersifat imbalance , sehingga perlu dihandling imbalance ini nantinya saat data sudah displit antara train dan test nya, khususnya handling imbalance pada data train agar model bisa menyikapi data yang imbalance"
   ]
  },
  {
   "cell_type": "markdown",
   "metadata": {},
   "source": [
    "### Persebaran Data Numerik"
   ]
  },
  {
   "cell_type": "markdown",
   "metadata": {},
   "source": [
    "Kita lihat , persebaran data numerik masing - masing kolom"
   ]
  },
  {
   "cell_type": "code",
   "execution_count": 58,
   "metadata": {},
   "outputs": [],
   "source": [
    "num_columns = df.select_dtypes(exclude=object).columns.tolist()\n",
    "cat_columns = df.select_dtypes(include=object).columns.tolist()"
   ]
  },
  {
   "cell_type": "code",
   "execution_count": 59,
   "metadata": {},
   "outputs": [
    {
     "data": {
      "image/png": "[encoded data removed]",
      "text/plain": [
       "<Figure size 1440x1080 with 16 Axes>"
      ]
     },
     "metadata": {
      "needs_background": "light"
     },
     "output_type": "display_data"
    }
   ],
   "source": [
    "i = 0\n",
    "j = 0\n",
    "fig,axes = plt.subplots(nrows=4,ncols=4,figsize=(20,15))\n",
    "for item in num_columns:\n",
    "    sns.kdeplot(data=df[num_columns],x=item,fill=True,ax=axes[i][j])\n",
    "    j+=1\n",
    "    if j>3:\n",
    "        j=0\n",
    "        i+=1\n",
    "        if i>3:\n",
    "            break\n"
   ]
  },
  {
   "cell_type": "markdown",
   "metadata": {},
   "source": [
    "Dari data di atas, terlihat bahwa :\n",
    "- Secara keseluruhan data terlihat berdistribusi normal\n",
    "- Area code memiliki 2 puncak \n",
    "- Number vmail messages memiliki 2 puncak ,yang diasumsikan dari gambar terlihat seperti berdistibusi right skew\n",
    "- Total intl calls juga terlihat seperti berdistribusi right skew\n",
    "- Serta customer service calls memiliki banyak puncak , yang terlihat berdistribusi skew"
   ]
  },
  {
   "cell_type": "markdown",
   "metadata": {},
   "source": [
    "### Hubungan antara feature dengan target nya"
   ]
  },
  {
   "cell_type": "markdown",
   "metadata": {},
   "source": [
    "Kita dapat memanfaatkan korelasi menggunakan heatmap , untuk melihat apakah ada korelasi khusus antara masing - masing feature dengan kolom target"
   ]
  },
  {
   "cell_type": "code",
   "execution_count": 60,
   "metadata": {},
   "outputs": [
    {
     "data": {
      "image/png": "[encoded data removed]",
      "text/plain": [
       "<Figure size 1080x720 with 2 Axes>"
      ]
     },
     "metadata": {
      "needs_background": "light"
     },
     "output_type": "display_data"
    }
   ],
   "source": [
    "fig,ax = plt.subplots(figsize=(15,10),nrows=1,ncols=1)\n",
    "sns.heatmap(df.corr(),annot=True,cmap='RdYlBu',ax=ax)\n",
    "plt.show()"
   ]
  },
  {
   "cell_type": "markdown",
   "metadata": {},
   "source": [
    "Terlihat bahwa :\n",
    "- Total day minutes - total day charge memiliki korelasi penuh\n",
    "- Total eve minutes - total eve charge memiliki korelasi penuh\n",
    "- Total night minutes - total night charge memiliki korelasi penuh\n",
    "- Total intl minutes - total intl charge memiliki korelasi penuh"
   ]
  },
  {
   "cell_type": "markdown",
   "metadata": {},
   "source": [
    "Kita bisa lihat dahulu salah satu visualnya , antara total day minutes dengan total day charge"
   ]
  },
  {
   "cell_type": "code",
   "execution_count": 61,
   "metadata": {},
   "outputs": [
    {
     "data": {
      "text/plain": [
       "<AxesSubplot:xlabel='Total day minutes', ylabel='Total day charge'>"
      ]
     },
     "execution_count": 61,
     "metadata": {},
     "output_type": "execute_result"
    },
    {
     "data": {
      "image/png": "[encoded data removed]",
      "text/plain": [
       "<Figure size 432x288 with 1 Axes>"
      ]
     },
     "metadata": {
      "needs_background": "light"
     },
     "output_type": "display_data"
    }
   ],
   "source": [
    "sns.scatterplot(x=df['Total day minutes'],y=df['Total day charge'])"
   ]
  },
  {
   "cell_type": "markdown",
   "metadata": {},
   "source": [
    "Terlihat bahwa memang data berkorelasi penuh , sehingga akan kita eliminasi ,khususnya kolom total day charge, total eve charge, total night charge, dan total intl charge ,saat feature selection di data preprocessing"
   ]
  },
  {
   "cell_type": "markdown",
   "metadata": {},
   "source": [
    "### Check Data Outlier -- Menggunakan Box Plot"
   ]
  },
  {
   "cell_type": "markdown",
   "metadata": {},
   "source": [
    "Sebelum kita melakukan secara spesifik , kita lihat dulu apakah ada outlier , jika memanfaatkan box plot"
   ]
  },
  {
   "cell_type": "code",
   "execution_count": 62,
   "metadata": {},
   "outputs": [
    {
     "data": {
      "image/png": "[encoded data removed]",
      "text/plain": [
       "<Figure size 1080x864 with 16 Axes>"
      ]
     },
     "metadata": {
      "needs_background": "light"
     },
     "output_type": "display_data"
    }
   ],
   "source": [
    "i = 0\n",
    "j = 0\n",
    "fig,axes = plt.subplots(nrows=4,ncols=4,figsize=(15,12))\n",
    "for col in num_columns :\n",
    "    axes[i][j].title.set_text(col)\n",
    "    sns.boxplot(data=df[col],ax=axes[i][j])\n",
    "    j+=1\n",
    "    if j>3:\n",
    "        i+=1\n",
    "        j=0\n",
    "        if i > 3:\n",
    "            break"
   ]
  },
  {
   "cell_type": "markdown",
   "metadata": {},
   "source": [
    "Dari gambar di atas :\n",
    "\n",
    "Terlihat bahwa total minutes pada day , eve , night, intl dengan kondisi di bawah lower limit , akan kita lakukan handle outlier. Mengapa ? Karena kondisi outlier pada keempat kolom tersebut diasumsikan bahwa bagaimana bisa total minutes di bawah limit (masih rendah waktu telfon nya), menjadi acuan bahwa pelanggan tersebut berpindah provider (churn = 1) atau tidak. Sehingga saya akan memutuskan untuk menyikapi outlier (lower limit) pada keempat total minutes kolom tersebut"
   ]
  },
  {
   "cell_type": "markdown",
   "metadata": {},
   "source": [
    "Untuk kolom lain , tidak ada outlier yang perlu dihandle (menurut asumsi saya), karena outlier tersebut secara alami menunjukkan kondisi data aslinya."
   ]
  },
  {
   "cell_type": "markdown",
   "metadata": {},
   "source": [
    "# 5. Data Preprocessing"
   ]
  },
  {
   "cell_type": "markdown",
   "metadata": {},
   "source": [
    "Bagian ini berisi proses penyiapan data untuk proses pelatihan model, seperti pembagian data menjadi train-dev-test, transformasi data (normalisasi, encoding, dll.), dan proses-proses lain yang dibutuhkan."
   ]
  },
  {
   "cell_type": "markdown",
   "metadata": {},
   "source": [
    "Sekarang , kita lakukan convert tipe data terlebih dahulu , untuk kolom Churn , dari True dan False menjadi 1 dan 0"
   ]
  },
  {
   "cell_type": "code",
   "execution_count": 63,
   "metadata": {},
   "outputs": [
    {
     "data": {
      "text/html": [
       "<div>\n",
       "<style scoped>\n",
       "    .dataframe tbody tr th:only-of-type {\n",
       "        vertical-align: middle;\n",
       "    }\n",
       "\n",
       "    .dataframe tbody tr th {\n",
       "        vertical-align: top;\n",
       "    }\n",
       "\n",
       "    .dataframe thead th {\n",
       "        text-align: right;\n",
       "    }\n",
       "</style>\n",
       "<table border=\"1\" class=\"dataframe\">\n",
       "  <thead>\n",
       "    <tr style=\"text-align: right;\">\n",
       "      <th></th>\n",
       "      <th>State</th>\n",
       "      <th>Account length</th>\n",
       "      <th>Area code</th>\n",
       "      <th>International plan</th>\n",
       "      <th>Voice mail plan</th>\n",
       "      <th>Number vmail messages</th>\n",
       "      <th>Total day minutes</th>\n",
       "      <th>Total day calls</th>\n",
       "      <th>Total day charge</th>\n",
       "      <th>Total eve minutes</th>\n",
       "      <th>Total eve calls</th>\n",
       "      <th>Total eve charge</th>\n",
       "      <th>Total night minutes</th>\n",
       "      <th>Total night calls</th>\n",
       "      <th>Total night charge</th>\n",
       "      <th>Total intl minutes</th>\n",
       "      <th>Total intl calls</th>\n",
       "      <th>Total intl charge</th>\n",
       "      <th>Customer service calls</th>\n",
       "      <th>Churn</th>\n",
       "    </tr>\n",
       "  </thead>\n",
       "  <tbody>\n",
       "    <tr>\n",
       "      <th>0</th>\n",
       "      <td>KS</td>\n",
       "      <td>128</td>\n",
       "      <td>415</td>\n",
       "      <td>No</td>\n",
       "      <td>Yes</td>\n",
       "      <td>25</td>\n",
       "      <td>265.1</td>\n",
       "      <td>110</td>\n",
       "      <td>45.07</td>\n",
       "      <td>197.4</td>\n",
       "      <td>99</td>\n",
       "      <td>16.78</td>\n",
       "      <td>244.7</td>\n",
       "      <td>91</td>\n",
       "      <td>11.01</td>\n",
       "      <td>10.0</td>\n",
       "      <td>3</td>\n",
       "      <td>2.70</td>\n",
       "      <td>1</td>\n",
       "      <td>0</td>\n",
       "    </tr>\n",
       "    <tr>\n",
       "      <th>1</th>\n",
       "      <td>OH</td>\n",
       "      <td>107</td>\n",
       "      <td>415</td>\n",
       "      <td>No</td>\n",
       "      <td>Yes</td>\n",
       "      <td>26</td>\n",
       "      <td>161.6</td>\n",
       "      <td>123</td>\n",
       "      <td>27.47</td>\n",
       "      <td>195.5</td>\n",
       "      <td>103</td>\n",
       "      <td>16.62</td>\n",
       "      <td>254.4</td>\n",
       "      <td>103</td>\n",
       "      <td>11.45</td>\n",
       "      <td>13.7</td>\n",
       "      <td>3</td>\n",
       "      <td>3.70</td>\n",
       "      <td>1</td>\n",
       "      <td>0</td>\n",
       "    </tr>\n",
       "    <tr>\n",
       "      <th>2</th>\n",
       "      <td>NJ</td>\n",
       "      <td>137</td>\n",
       "      <td>415</td>\n",
       "      <td>No</td>\n",
       "      <td>No</td>\n",
       "      <td>0</td>\n",
       "      <td>243.4</td>\n",
       "      <td>114</td>\n",
       "      <td>41.38</td>\n",
       "      <td>121.2</td>\n",
       "      <td>110</td>\n",
       "      <td>10.30</td>\n",
       "      <td>162.6</td>\n",
       "      <td>104</td>\n",
       "      <td>7.32</td>\n",
       "      <td>12.2</td>\n",
       "      <td>5</td>\n",
       "      <td>3.29</td>\n",
       "      <td>0</td>\n",
       "      <td>0</td>\n",
       "    </tr>\n",
       "    <tr>\n",
       "      <th>3</th>\n",
       "      <td>OH</td>\n",
       "      <td>84</td>\n",
       "      <td>408</td>\n",
       "      <td>Yes</td>\n",
       "      <td>No</td>\n",
       "      <td>0</td>\n",
       "      <td>299.4</td>\n",
       "      <td>71</td>\n",
       "      <td>50.90</td>\n",
       "      <td>61.9</td>\n",
       "      <td>88</td>\n",
       "      <td>5.26</td>\n",
       "      <td>196.9</td>\n",
       "      <td>89</td>\n",
       "      <td>8.86</td>\n",
       "      <td>6.6</td>\n",
       "      <td>7</td>\n",
       "      <td>1.78</td>\n",
       "      <td>2</td>\n",
       "      <td>0</td>\n",
       "    </tr>\n",
       "    <tr>\n",
       "      <th>4</th>\n",
       "      <td>OK</td>\n",
       "      <td>75</td>\n",
       "      <td>415</td>\n",
       "      <td>Yes</td>\n",
       "      <td>No</td>\n",
       "      <td>0</td>\n",
       "      <td>166.7</td>\n",
       "      <td>113</td>\n",
       "      <td>28.34</td>\n",
       "      <td>148.3</td>\n",
       "      <td>122</td>\n",
       "      <td>12.61</td>\n",
       "      <td>186.9</td>\n",
       "      <td>121</td>\n",
       "      <td>8.41</td>\n",
       "      <td>10.1</td>\n",
       "      <td>3</td>\n",
       "      <td>2.73</td>\n",
       "      <td>3</td>\n",
       "      <td>0</td>\n",
       "    </tr>\n",
       "    <tr>\n",
       "      <th>...</th>\n",
       "      <td>...</td>\n",
       "      <td>...</td>\n",
       "      <td>...</td>\n",
       "      <td>...</td>\n",
       "      <td>...</td>\n",
       "      <td>...</td>\n",
       "      <td>...</td>\n",
       "      <td>...</td>\n",
       "      <td>...</td>\n",
       "      <td>...</td>\n",
       "      <td>...</td>\n",
       "      <td>...</td>\n",
       "      <td>...</td>\n",
       "      <td>...</td>\n",
       "      <td>...</td>\n",
       "      <td>...</td>\n",
       "      <td>...</td>\n",
       "      <td>...</td>\n",
       "      <td>...</td>\n",
       "      <td>...</td>\n",
       "    </tr>\n",
       "    <tr>\n",
       "      <th>2661</th>\n",
       "      <td>SC</td>\n",
       "      <td>79</td>\n",
       "      <td>415</td>\n",
       "      <td>No</td>\n",
       "      <td>No</td>\n",
       "      <td>0</td>\n",
       "      <td>134.7</td>\n",
       "      <td>98</td>\n",
       "      <td>22.90</td>\n",
       "      <td>189.7</td>\n",
       "      <td>68</td>\n",
       "      <td>16.12</td>\n",
       "      <td>221.4</td>\n",
       "      <td>128</td>\n",
       "      <td>9.96</td>\n",
       "      <td>11.8</td>\n",
       "      <td>5</td>\n",
       "      <td>3.19</td>\n",
       "      <td>2</td>\n",
       "      <td>0</td>\n",
       "    </tr>\n",
       "    <tr>\n",
       "      <th>2662</th>\n",
       "      <td>AZ</td>\n",
       "      <td>192</td>\n",
       "      <td>415</td>\n",
       "      <td>No</td>\n",
       "      <td>Yes</td>\n",
       "      <td>36</td>\n",
       "      <td>156.2</td>\n",
       "      <td>77</td>\n",
       "      <td>26.55</td>\n",
       "      <td>215.5</td>\n",
       "      <td>126</td>\n",
       "      <td>18.32</td>\n",
       "      <td>279.1</td>\n",
       "      <td>83</td>\n",
       "      <td>12.56</td>\n",
       "      <td>9.9</td>\n",
       "      <td>6</td>\n",
       "      <td>2.67</td>\n",
       "      <td>2</td>\n",
       "      <td>0</td>\n",
       "    </tr>\n",
       "    <tr>\n",
       "      <th>2663</th>\n",
       "      <td>WV</td>\n",
       "      <td>68</td>\n",
       "      <td>415</td>\n",
       "      <td>No</td>\n",
       "      <td>No</td>\n",
       "      <td>0</td>\n",
       "      <td>231.1</td>\n",
       "      <td>57</td>\n",
       "      <td>39.29</td>\n",
       "      <td>153.4</td>\n",
       "      <td>55</td>\n",
       "      <td>13.04</td>\n",
       "      <td>191.3</td>\n",
       "      <td>123</td>\n",
       "      <td>8.61</td>\n",
       "      <td>9.6</td>\n",
       "      <td>4</td>\n",
       "      <td>2.59</td>\n",
       "      <td>3</td>\n",
       "      <td>0</td>\n",
       "    </tr>\n",
       "    <tr>\n",
       "      <th>2664</th>\n",
       "      <td>RI</td>\n",
       "      <td>28</td>\n",
       "      <td>510</td>\n",
       "      <td>No</td>\n",
       "      <td>No</td>\n",
       "      <td>0</td>\n",
       "      <td>180.8</td>\n",
       "      <td>109</td>\n",
       "      <td>30.74</td>\n",
       "      <td>288.8</td>\n",
       "      <td>58</td>\n",
       "      <td>24.55</td>\n",
       "      <td>191.9</td>\n",
       "      <td>91</td>\n",
       "      <td>8.64</td>\n",
       "      <td>14.1</td>\n",
       "      <td>6</td>\n",
       "      <td>3.81</td>\n",
       "      <td>2</td>\n",
       "      <td>0</td>\n",
       "    </tr>\n",
       "    <tr>\n",
       "      <th>2665</th>\n",
       "      <td>TN</td>\n",
       "      <td>74</td>\n",
       "      <td>415</td>\n",
       "      <td>No</td>\n",
       "      <td>Yes</td>\n",
       "      <td>25</td>\n",
       "      <td>234.4</td>\n",
       "      <td>113</td>\n",
       "      <td>39.85</td>\n",
       "      <td>265.9</td>\n",
       "      <td>82</td>\n",
       "      <td>22.60</td>\n",
       "      <td>241.4</td>\n",
       "      <td>77</td>\n",
       "      <td>10.86</td>\n",
       "      <td>13.7</td>\n",
       "      <td>4</td>\n",
       "      <td>3.70</td>\n",
       "      <td>0</td>\n",
       "      <td>0</td>\n",
       "    </tr>\n",
       "  </tbody>\n",
       "</table>\n",
       "<p>2666 rows × 20 columns</p>\n",
       "</div>"
      ],
      "text/plain": [
       "     State  Account length  Area code International plan Voice mail plan  \\\n",
       "0       KS             128        415                 No             Yes   \n",
       "1       OH             107        415                 No             Yes   \n",
       "2       NJ             137        415                 No              No   \n",
       "3       OH              84        408                Yes              No   \n",
       "4       OK              75        415                Yes              No   \n",
       "...    ...             ...        ...                ...             ...   \n",
       "2661    SC              79        415                 No              No   \n",
       "2662    AZ             192        415                 No             Yes   \n",
       "2663    WV              68        415                 No              No   \n",
       "2664    RI              28        510                 No              No   \n",
       "2665    TN              74        415                 No             Yes   \n",
       "\n",
       "      Number vmail messages  Total day minutes  Total day calls  \\\n",
       "0                        25              265.1              110   \n",
       "1                        26              161.6              123   \n",
       "2                         0              243.4              114   \n",
       "3                         0              299.4               71   \n",
       "4                         0              166.7              113   \n",
       "...                     ...                ...              ...   \n",
       "2661                      0              134.7               98   \n",
       "2662                     36              156.2               77   \n",
       "2663                      0              231.1               57   \n",
       "2664                      0              180.8              109   \n",
       "2665                     25              234.4              113   \n",
       "\n",
       "      Total day charge  Total eve minutes  Total eve calls  Total eve charge  \\\n",
       "0                45.07              197.4               99             16.78   \n",
       "1                27.47              195.5              103             16.62   \n",
       "2                41.38              121.2              110             10.30   \n",
       "3                50.90               61.9               88              5.26   \n",
       "4                28.34              148.3              122             12.61   \n",
       "...                ...                ...              ...               ...   \n",
       "2661             22.90              189.7               68             16.12   \n",
       "2662             26.55              215.5              126             18.32   \n",
       "2663             39.29              153.4               55             13.04   \n",
       "2664             30.74              288.8               58             24.55   \n",
       "2665             39.85              265.9               82             22.60   \n",
       "\n",
       "      Total night minutes  Total night calls  Total night charge  \\\n",
       "0                   244.7                 91               11.01   \n",
       "1                   254.4                103               11.45   \n",
       "2                   162.6                104                7.32   \n",
       "3                   196.9                 89                8.86   \n",
       "4                   186.9                121                8.41   \n",
       "...                   ...                ...                 ...   \n",
       "2661                221.4                128                9.96   \n",
       "2662                279.1                 83               12.56   \n",
       "2663                191.3                123                8.61   \n",
       "2664                191.9                 91                8.64   \n",
       "2665                241.4                 77               10.86   \n",
       "\n",
       "      Total intl minutes  Total intl calls  Total intl charge  \\\n",
       "0                   10.0                 3               2.70   \n",
       "1                   13.7                 3               3.70   \n",
       "2                   12.2                 5               3.29   \n",
       "3                    6.6                 7               1.78   \n",
       "4                   10.1                 3               2.73   \n",
       "...                  ...               ...                ...   \n",
       "2661                11.8                 5               3.19   \n",
       "2662                 9.9                 6               2.67   \n",
       "2663                 9.6                 4               2.59   \n",
       "2664                14.1                 6               3.81   \n",
       "2665                13.7                 4               3.70   \n",
       "\n",
       "      Customer service calls  Churn  \n",
       "0                          1      0  \n",
       "1                          1      0  \n",
       "2                          0      0  \n",
       "3                          2      0  \n",
       "4                          3      0  \n",
       "...                      ...    ...  \n",
       "2661                       2      0  \n",
       "2662                       2      0  \n",
       "2663                       3      0  \n",
       "2664                       2      0  \n",
       "2665                       0      0  \n",
       "\n",
       "[2666 rows x 20 columns]"
      ]
     },
     "execution_count": 63,
     "metadata": {},
     "output_type": "execute_result"
    }
   ],
   "source": [
    "df"
   ]
  },
  {
   "cell_type": "markdown",
   "metadata": {},
   "source": [
    "### Train Test Split Dataset"
   ]
  },
  {
   "cell_type": "code",
   "execution_count": 64,
   "metadata": {},
   "outputs": [],
   "source": [
    "X = df.drop(columns='Churn',axis=1)\n",
    "y = df['Churn']\n",
    "\n",
    "X_train,X_test,y_train,y_test = train_test_split(X,y,test_size=0.2,stratify=y,random_state=42)"
   ]
  },
  {
   "cell_type": "code",
   "execution_count": 65,
   "metadata": {},
   "outputs": [],
   "source": [
    "num_columns_ = X_train.select_dtypes(exclude=object).columns.tolist()\n",
    "cat_columns_ = X_train.select_dtypes(include=object).columns.tolist()"
   ]
  },
  {
   "cell_type": "code",
   "execution_count": 66,
   "metadata": {},
   "outputs": [
    {
     "data": {
      "text/plain": [
       "['Account length',\n",
       " 'Area code',\n",
       " 'Number vmail messages',\n",
       " 'Total day minutes',\n",
       " 'Total day calls',\n",
       " 'Total day charge',\n",
       " 'Total eve minutes',\n",
       " 'Total eve calls',\n",
       " 'Total eve charge',\n",
       " 'Total night minutes',\n",
       " 'Total night calls',\n",
       " 'Total night charge',\n",
       " 'Total intl minutes',\n",
       " 'Total intl calls',\n",
       " 'Total intl charge',\n",
       " 'Customer service calls']"
      ]
     },
     "execution_count": 66,
     "metadata": {},
     "output_type": "execute_result"
    }
   ],
   "source": [
    "num_columns_"
   ]
  },
  {
   "cell_type": "code",
   "execution_count": 67,
   "metadata": {},
   "outputs": [
    {
     "data": {
      "text/plain": [
       "['State', 'International plan', 'Voice mail plan']"
      ]
     },
     "execution_count": 67,
     "metadata": {},
     "output_type": "execute_result"
    }
   ],
   "source": [
    "cat_columns_"
   ]
  },
  {
   "cell_type": "markdown",
   "metadata": {},
   "source": [
    "Karena num_columns_ mengandung Area code, yang padahal Area code adalah categoric, sehingga akan kita pindahkan ke cat columns "
   ]
  },
  {
   "cell_type": "code",
   "execution_count": 68,
   "metadata": {},
   "outputs": [],
   "source": [
    "cat_columns_.append('Area code')\n",
    "num_columns_.remove('Area code')\n"
   ]
  },
  {
   "cell_type": "code",
   "execution_count": 69,
   "metadata": {},
   "outputs": [
    {
     "data": {
      "text/plain": [
       "['Account length',\n",
       " 'Number vmail messages',\n",
       " 'Total day minutes',\n",
       " 'Total day calls',\n",
       " 'Total day charge',\n",
       " 'Total eve minutes',\n",
       " 'Total eve calls',\n",
       " 'Total eve charge',\n",
       " 'Total night minutes',\n",
       " 'Total night calls',\n",
       " 'Total night charge',\n",
       " 'Total intl minutes',\n",
       " 'Total intl calls',\n",
       " 'Total intl charge',\n",
       " 'Customer service calls']"
      ]
     },
     "execution_count": 69,
     "metadata": {},
     "output_type": "execute_result"
    }
   ],
   "source": [
    "num_columns_"
   ]
  },
  {
   "cell_type": "code",
   "execution_count": 70,
   "metadata": {},
   "outputs": [
    {
     "data": {
      "text/plain": [
       "['State', 'International plan', 'Voice mail plan', 'Area code']"
      ]
     },
     "execution_count": 70,
     "metadata": {},
     "output_type": "execute_result"
    }
   ],
   "source": [
    "cat_columns_"
   ]
  },
  {
   "cell_type": "code",
   "execution_count": 71,
   "metadata": {},
   "outputs": [
    {
     "data": {
      "text/plain": [
       "((2132, 19), (534, 19))"
      ]
     },
     "execution_count": 71,
     "metadata": {},
     "output_type": "execute_result"
    }
   ],
   "source": [
    "X_train.shape,X_test.shape"
   ]
  },
  {
   "cell_type": "markdown",
   "metadata": {},
   "source": [
    "### Handling Outlier"
   ]
  },
  {
   "cell_type": "markdown",
   "metadata": {},
   "source": [
    "Outlier pada data numerik perlu kita handle (jika ada) , sehingga kita lihat dulu apakah ada outlier pada masing - masing kolom , dengan melihat distribusinya terlebih dahulu"
   ]
  },
  {
   "cell_type": "code",
   "execution_count": 72,
   "metadata": {},
   "outputs": [],
   "source": [
    "dict_skew = {\n",
    "    'Normal' : [],\n",
    "    'Skew' : []\n",
    "}\n",
    "\n",
    "for col in num_columns_ :\n",
    "    if (X_train[col].skew() > 0.5) or (X_train[col].skew() < -0.5):\n",
    "        dict_skew['Skew'].append(col)\n",
    "    else:\n",
    "        dict_skew['Normal'].append(col)"
   ]
  },
  {
   "cell_type": "code",
   "execution_count": 73,
   "metadata": {},
   "outputs": [
    {
     "data": {
      "text/html": [
       "<div>\n",
       "<style scoped>\n",
       "    .dataframe tbody tr th:only-of-type {\n",
       "        vertical-align: middle;\n",
       "    }\n",
       "\n",
       "    .dataframe tbody tr th {\n",
       "        vertical-align: top;\n",
       "    }\n",
       "\n",
       "    .dataframe thead th {\n",
       "        text-align: right;\n",
       "    }\n",
       "</style>\n",
       "<table border=\"1\" class=\"dataframe\">\n",
       "  <thead>\n",
       "    <tr style=\"text-align: right;\">\n",
       "      <th></th>\n",
       "      <th>Account length</th>\n",
       "      <th>Number vmail messages</th>\n",
       "      <th>Total day minutes</th>\n",
       "      <th>Total day calls</th>\n",
       "      <th>Total day charge</th>\n",
       "      <th>Total eve minutes</th>\n",
       "      <th>Total eve calls</th>\n",
       "      <th>Total eve charge</th>\n",
       "      <th>Total night minutes</th>\n",
       "      <th>Total night calls</th>\n",
       "      <th>Total night charge</th>\n",
       "      <th>Total intl minutes</th>\n",
       "      <th>Total intl calls</th>\n",
       "      <th>Total intl charge</th>\n",
       "      <th>Customer service calls</th>\n",
       "    </tr>\n",
       "  </thead>\n",
       "  <tbody>\n",
       "    <tr>\n",
       "      <th>1229</th>\n",
       "      <td>102</td>\n",
       "      <td>0</td>\n",
       "      <td>271.1</td>\n",
       "      <td>80</td>\n",
       "      <td>46.09</td>\n",
       "      <td>172.0</td>\n",
       "      <td>133</td>\n",
       "      <td>14.62</td>\n",
       "      <td>169.2</td>\n",
       "      <td>105</td>\n",
       "      <td>7.61</td>\n",
       "      <td>10.3</td>\n",
       "      <td>5</td>\n",
       "      <td>2.78</td>\n",
       "      <td>1</td>\n",
       "    </tr>\n",
       "    <tr>\n",
       "      <th>2001</th>\n",
       "      <td>157</td>\n",
       "      <td>0</td>\n",
       "      <td>240.2</td>\n",
       "      <td>67</td>\n",
       "      <td>40.83</td>\n",
       "      <td>153.0</td>\n",
       "      <td>98</td>\n",
       "      <td>13.01</td>\n",
       "      <td>249.0</td>\n",
       "      <td>72</td>\n",
       "      <td>11.21</td>\n",
       "      <td>10.2</td>\n",
       "      <td>6</td>\n",
       "      <td>2.75</td>\n",
       "      <td>2</td>\n",
       "    </tr>\n",
       "    <tr>\n",
       "      <th>1421</th>\n",
       "      <td>79</td>\n",
       "      <td>0</td>\n",
       "      <td>144.0</td>\n",
       "      <td>90</td>\n",
       "      <td>24.48</td>\n",
       "      <td>135.8</td>\n",
       "      <td>91</td>\n",
       "      <td>11.54</td>\n",
       "      <td>212.4</td>\n",
       "      <td>129</td>\n",
       "      <td>9.56</td>\n",
       "      <td>13.0</td>\n",
       "      <td>4</td>\n",
       "      <td>3.51</td>\n",
       "      <td>1</td>\n",
       "    </tr>\n",
       "    <tr>\n",
       "      <th>1346</th>\n",
       "      <td>132</td>\n",
       "      <td>0</td>\n",
       "      <td>169.9</td>\n",
       "      <td>107</td>\n",
       "      <td>28.88</td>\n",
       "      <td>209.4</td>\n",
       "      <td>121</td>\n",
       "      <td>17.80</td>\n",
       "      <td>206.1</td>\n",
       "      <td>79</td>\n",
       "      <td>9.27</td>\n",
       "      <td>11.5</td>\n",
       "      <td>2</td>\n",
       "      <td>3.11</td>\n",
       "      <td>1</td>\n",
       "    </tr>\n",
       "    <tr>\n",
       "      <th>86</th>\n",
       "      <td>95</td>\n",
       "      <td>0</td>\n",
       "      <td>238.1</td>\n",
       "      <td>65</td>\n",
       "      <td>40.48</td>\n",
       "      <td>187.2</td>\n",
       "      <td>98</td>\n",
       "      <td>15.91</td>\n",
       "      <td>190.0</td>\n",
       "      <td>115</td>\n",
       "      <td>8.55</td>\n",
       "      <td>11.8</td>\n",
       "      <td>4</td>\n",
       "      <td>3.19</td>\n",
       "      <td>4</td>\n",
       "    </tr>\n",
       "    <tr>\n",
       "      <th>...</th>\n",
       "      <td>...</td>\n",
       "      <td>...</td>\n",
       "      <td>...</td>\n",
       "      <td>...</td>\n",
       "      <td>...</td>\n",
       "      <td>...</td>\n",
       "      <td>...</td>\n",
       "      <td>...</td>\n",
       "      <td>...</td>\n",
       "      <td>...</td>\n",
       "      <td>...</td>\n",
       "      <td>...</td>\n",
       "      <td>...</td>\n",
       "      <td>...</td>\n",
       "      <td>...</td>\n",
       "    </tr>\n",
       "    <tr>\n",
       "      <th>66</th>\n",
       "      <td>70</td>\n",
       "      <td>0</td>\n",
       "      <td>170.2</td>\n",
       "      <td>98</td>\n",
       "      <td>28.93</td>\n",
       "      <td>155.2</td>\n",
       "      <td>102</td>\n",
       "      <td>13.19</td>\n",
       "      <td>228.6</td>\n",
       "      <td>76</td>\n",
       "      <td>10.29</td>\n",
       "      <td>15.0</td>\n",
       "      <td>2</td>\n",
       "      <td>4.05</td>\n",
       "      <td>1</td>\n",
       "    </tr>\n",
       "    <tr>\n",
       "      <th>104</th>\n",
       "      <td>61</td>\n",
       "      <td>27</td>\n",
       "      <td>187.5</td>\n",
       "      <td>124</td>\n",
       "      <td>31.88</td>\n",
       "      <td>146.6</td>\n",
       "      <td>103</td>\n",
       "      <td>12.46</td>\n",
       "      <td>225.7</td>\n",
       "      <td>129</td>\n",
       "      <td>10.16</td>\n",
       "      <td>6.4</td>\n",
       "      <td>6</td>\n",
       "      <td>1.73</td>\n",
       "      <td>4</td>\n",
       "    </tr>\n",
       "    <tr>\n",
       "      <th>377</th>\n",
       "      <td>41</td>\n",
       "      <td>34</td>\n",
       "      <td>194.4</td>\n",
       "      <td>63</td>\n",
       "      <td>33.05</td>\n",
       "      <td>254.9</td>\n",
       "      <td>110</td>\n",
       "      <td>21.67</td>\n",
       "      <td>160.2</td>\n",
       "      <td>115</td>\n",
       "      <td>7.21</td>\n",
       "      <td>17.2</td>\n",
       "      <td>9</td>\n",
       "      <td>4.64</td>\n",
       "      <td>2</td>\n",
       "    </tr>\n",
       "    <tr>\n",
       "      <th>1123</th>\n",
       "      <td>96</td>\n",
       "      <td>0</td>\n",
       "      <td>200.6</td>\n",
       "      <td>117</td>\n",
       "      <td>34.10</td>\n",
       "      <td>289.5</td>\n",
       "      <td>120</td>\n",
       "      <td>24.61</td>\n",
       "      <td>98.3</td>\n",
       "      <td>95</td>\n",
       "      <td>4.42</td>\n",
       "      <td>11.2</td>\n",
       "      <td>5</td>\n",
       "      <td>3.02</td>\n",
       "      <td>2</td>\n",
       "    </tr>\n",
       "    <tr>\n",
       "      <th>1640</th>\n",
       "      <td>125</td>\n",
       "      <td>34</td>\n",
       "      <td>268.4</td>\n",
       "      <td>112</td>\n",
       "      <td>45.63</td>\n",
       "      <td>222.2</td>\n",
       "      <td>108</td>\n",
       "      <td>18.89</td>\n",
       "      <td>117.6</td>\n",
       "      <td>102</td>\n",
       "      <td>5.29</td>\n",
       "      <td>10.3</td>\n",
       "      <td>3</td>\n",
       "      <td>2.78</td>\n",
       "      <td>0</td>\n",
       "    </tr>\n",
       "  </tbody>\n",
       "</table>\n",
       "<p>2132 rows × 15 columns</p>\n",
       "</div>"
      ],
      "text/plain": [
       "      Account length  Number vmail messages  Total day minutes  \\\n",
       "1229             102                      0              271.1   \n",
       "2001             157                      0              240.2   \n",
       "1421              79                      0              144.0   \n",
       "1346             132                      0              169.9   \n",
       "86                95                      0              238.1   \n",
       "...              ...                    ...                ...   \n",
       "66                70                      0              170.2   \n",
       "104               61                     27              187.5   \n",
       "377               41                     34              194.4   \n",
       "1123              96                      0              200.6   \n",
       "1640             125                     34              268.4   \n",
       "\n",
       "      Total day calls  Total day charge  Total eve minutes  Total eve calls  \\\n",
       "1229               80             46.09              172.0              133   \n",
       "2001               67             40.83              153.0               98   \n",
       "1421               90             24.48              135.8               91   \n",
       "1346              107             28.88              209.4              121   \n",
       "86                 65             40.48              187.2               98   \n",
       "...               ...               ...                ...              ...   \n",
       "66                 98             28.93              155.2              102   \n",
       "104               124             31.88              146.6              103   \n",
       "377                63             33.05              254.9              110   \n",
       "1123              117             34.10              289.5              120   \n",
       "1640              112             45.63              222.2              108   \n",
       "\n",
       "      Total eve charge  Total night minutes  Total night calls  \\\n",
       "1229             14.62                169.2                105   \n",
       "2001             13.01                249.0                 72   \n",
       "1421             11.54                212.4                129   \n",
       "1346             17.80                206.1                 79   \n",
       "86               15.91                190.0                115   \n",
       "...                ...                  ...                ...   \n",
       "66               13.19                228.6                 76   \n",
       "104              12.46                225.7                129   \n",
       "377              21.67                160.2                115   \n",
       "1123             24.61                 98.3                 95   \n",
       "1640             18.89                117.6                102   \n",
       "\n",
       "      Total night charge  Total intl minutes  Total intl calls  \\\n",
       "1229                7.61                10.3                 5   \n",
       "2001               11.21                10.2                 6   \n",
       "1421                9.56                13.0                 4   \n",
       "1346                9.27                11.5                 2   \n",
       "86                  8.55                11.8                 4   \n",
       "...                  ...                 ...               ...   \n",
       "66                 10.29                15.0                 2   \n",
       "104                10.16                 6.4                 6   \n",
       "377                 7.21                17.2                 9   \n",
       "1123                4.42                11.2                 5   \n",
       "1640                5.29                10.3                 3   \n",
       "\n",
       "      Total intl charge  Customer service calls  \n",
       "1229               2.78                       1  \n",
       "2001               2.75                       2  \n",
       "1421               3.51                       1  \n",
       "1346               3.11                       1  \n",
       "86                 3.19                       4  \n",
       "...                 ...                     ...  \n",
       "66                 4.05                       1  \n",
       "104                1.73                       4  \n",
       "377                4.64                       2  \n",
       "1123               3.02                       2  \n",
       "1640               2.78                       0  \n",
       "\n",
       "[2132 rows x 15 columns]"
      ]
     },
     "execution_count": 73,
     "metadata": {},
     "output_type": "execute_result"
    }
   ],
   "source": [
    "X_train[num_columns_]"
   ]
  },
  {
   "cell_type": "code",
   "execution_count": 74,
   "metadata": {},
   "outputs": [
    {
     "data": {
      "text/plain": [
       "{'Normal': ['Account length',\n",
       "  'Total day minutes',\n",
       "  'Total day calls',\n",
       "  'Total day charge',\n",
       "  'Total eve minutes',\n",
       "  'Total eve calls',\n",
       "  'Total eve charge',\n",
       "  'Total night minutes',\n",
       "  'Total night calls',\n",
       "  'Total night charge',\n",
       "  'Total intl minutes',\n",
       "  'Total intl charge'],\n",
       " 'Skew': ['Number vmail messages',\n",
       "  'Total intl calls',\n",
       "  'Customer service calls']}"
      ]
     },
     "execution_count": 74,
     "metadata": {},
     "output_type": "execute_result"
    }
   ],
   "source": [
    "dict_skew"
   ]
  },
  {
   "cell_type": "markdown",
   "metadata": {},
   "source": [
    "Kita dapat lihat bahwa seluruh total minutes masing\" (day,eve,night,intl) berdistribusi normal , sehingga pada data ini akan saya handle outliernya."
   ]
  },
  {
   "cell_type": "code",
   "execution_count": 75,
   "metadata": {},
   "outputs": [],
   "source": [
    "def lower_limit(data,variables):\n",
    "    lower_boundary = data[variables].mean() - 3 * data[variables].std()\n",
    "\n",
    "    return lower_boundary\n"
   ]
  },
  {
   "cell_type": "markdown",
   "metadata": {},
   "source": [
    "Sekarang kita lihat lower limit dari masing - masing kolom yang kita ingin handling outliernya"
   ]
  },
  {
   "cell_type": "code",
   "execution_count": 76,
   "metadata": {},
   "outputs": [
    {
     "name": "stdout",
     "output_type": "stream",
     "text": [
      "Total day minutes:  16.87918297392804\n"
     ]
    }
   ],
   "source": [
    "low_limit_day = lower_limit(X_train,'Total day minutes')\n",
    "print('Total day minutes: ',low_limit_day)"
   ]
  },
  {
   "cell_type": "code",
   "execution_count": 77,
   "metadata": {},
   "outputs": [
    {
     "name": "stdout",
     "output_type": "stream",
     "text": [
      "Total eve minutes:  47.011772695577974\n"
     ]
    }
   ],
   "source": [
    "low_limit_eve = lower_limit(X_train,'Total eve minutes')\n",
    "print('Total eve minutes: ',low_limit_eve)"
   ]
  },
  {
   "cell_type": "code",
   "execution_count": 78,
   "metadata": {},
   "outputs": [
    {
     "name": "stdout",
     "output_type": "stream",
     "text": [
      "Total eve minutes:  48.48212020617896\n"
     ]
    }
   ],
   "source": [
    "low_limit_night = lower_limit(X_train,'Total night minutes')\n",
    "print('Total eve minutes: ',low_limit_night)"
   ]
  },
  {
   "cell_type": "code",
   "execution_count": 79,
   "metadata": {},
   "outputs": [
    {
     "name": "stdout",
     "output_type": "stream",
     "text": [
      "Total eve minutes:  1.7939785182206958\n"
     ]
    }
   ],
   "source": [
    "low_limit_intl = lower_limit(X_train,'Total intl minutes')\n",
    "print('Total eve minutes: ',low_limit_intl)"
   ]
  },
  {
   "cell_type": "markdown",
   "metadata": {},
   "source": [
    "Dari hasil masing - masing lower limit di atas , akan kita lihat outliernya ada berapa persen , karena jika masih di bawah 15% ,kita trimming saja."
   ]
  },
  {
   "cell_type": "markdown",
   "metadata": {},
   "source": [
    "Kita lihat sekarang berapa persentase outlier pada kolom\" tersebut"
   ]
  },
  {
   "cell_type": "code",
   "execution_count": 80,
   "metadata": {},
   "outputs": [
    {
     "name": "stdout",
     "output_type": "stream",
     "text": [
      "Total jml outlier:  24\n",
      "Persentase jml outlier:  1.125703564727955\n"
     ]
    }
   ],
   "source": [
    "jumlah_outlier = X_train[X_train['Total eve minutes']<low_limit_eve].shape[0] + X_train[X_train['Total day minutes']<low_limit_day].shape[0] + X_train[X_train['Total night minutes']<low_limit_night].shape[0] + X_train[X_train['Total intl minutes']<low_limit_intl].shape[0]\n",
    "print(\"Total jml outlier: \",jumlah_outlier )\n",
    "print(\"Persentase jml outlier: \",jumlah_outlier / X_train.shape[0] * 100)"
   ]
  },
  {
   "cell_type": "markdown",
   "metadata": {},
   "source": [
    "Hasil di atas menunjukkan bahwa 1.12% data yang merupakan outlier pada kolom tersebut , sehingga akan kita coba eliminasi saja\n",
    "\n",
    "Kita perlu menggabung dulu antara feature dengan label agar yang ke trim 2 2 nya"
   ]
  },
  {
   "cell_type": "code",
   "execution_count": 81,
   "metadata": {},
   "outputs": [],
   "source": [
    "data_train = pd.concat([X_train,y_train],axis=1)\n",
    "data_test = pd.concat([X_test,y_test],axis=1)"
   ]
  },
  {
   "cell_type": "code",
   "execution_count": 82,
   "metadata": {},
   "outputs": [],
   "source": [
    "trimmer = OutlierTrimmer(capping_method=\"gaussian\",tail=\"left\",fold=3,variables=['Total day minutes','Total eve minutes','Total night minutes','Total intl minutes'])\n",
    "trimmer.fit(data_train)\n",
    "data_train = trimmer.transform(data_train)\n",
    "data_test = trimmer.transform(data_test)"
   ]
  },
  {
   "cell_type": "code",
   "execution_count": 83,
   "metadata": {},
   "outputs": [
    {
     "data": {
      "text/html": [
       "<div>\n",
       "<style scoped>\n",
       "    .dataframe tbody tr th:only-of-type {\n",
       "        vertical-align: middle;\n",
       "    }\n",
       "\n",
       "    .dataframe tbody tr th {\n",
       "        vertical-align: top;\n",
       "    }\n",
       "\n",
       "    .dataframe thead th {\n",
       "        text-align: right;\n",
       "    }\n",
       "</style>\n",
       "<table border=\"1\" class=\"dataframe\">\n",
       "  <thead>\n",
       "    <tr style=\"text-align: right;\">\n",
       "      <th></th>\n",
       "      <th>State</th>\n",
       "      <th>Account length</th>\n",
       "      <th>Area code</th>\n",
       "      <th>International plan</th>\n",
       "      <th>Voice mail plan</th>\n",
       "      <th>Number vmail messages</th>\n",
       "      <th>Total day minutes</th>\n",
       "      <th>Total day calls</th>\n",
       "      <th>Total day charge</th>\n",
       "      <th>Total eve minutes</th>\n",
       "      <th>Total eve calls</th>\n",
       "      <th>Total eve charge</th>\n",
       "      <th>Total night minutes</th>\n",
       "      <th>Total night calls</th>\n",
       "      <th>Total night charge</th>\n",
       "      <th>Total intl minutes</th>\n",
       "      <th>Total intl calls</th>\n",
       "      <th>Total intl charge</th>\n",
       "      <th>Customer service calls</th>\n",
       "      <th>Churn</th>\n",
       "    </tr>\n",
       "  </thead>\n",
       "  <tbody>\n",
       "    <tr>\n",
       "      <th>1229</th>\n",
       "      <td>MD</td>\n",
       "      <td>102</td>\n",
       "      <td>415</td>\n",
       "      <td>No</td>\n",
       "      <td>No</td>\n",
       "      <td>0</td>\n",
       "      <td>271.1</td>\n",
       "      <td>80</td>\n",
       "      <td>46.09</td>\n",
       "      <td>172.0</td>\n",
       "      <td>133</td>\n",
       "      <td>14.62</td>\n",
       "      <td>169.2</td>\n",
       "      <td>105</td>\n",
       "      <td>7.61</td>\n",
       "      <td>10.3</td>\n",
       "      <td>5</td>\n",
       "      <td>2.78</td>\n",
       "      <td>1</td>\n",
       "      <td>0</td>\n",
       "    </tr>\n",
       "    <tr>\n",
       "      <th>2001</th>\n",
       "      <td>MT</td>\n",
       "      <td>157</td>\n",
       "      <td>408</td>\n",
       "      <td>No</td>\n",
       "      <td>No</td>\n",
       "      <td>0</td>\n",
       "      <td>240.2</td>\n",
       "      <td>67</td>\n",
       "      <td>40.83</td>\n",
       "      <td>153.0</td>\n",
       "      <td>98</td>\n",
       "      <td>13.01</td>\n",
       "      <td>249.0</td>\n",
       "      <td>72</td>\n",
       "      <td>11.21</td>\n",
       "      <td>10.2</td>\n",
       "      <td>6</td>\n",
       "      <td>2.75</td>\n",
       "      <td>2</td>\n",
       "      <td>0</td>\n",
       "    </tr>\n",
       "    <tr>\n",
       "      <th>1421</th>\n",
       "      <td>TX</td>\n",
       "      <td>79</td>\n",
       "      <td>415</td>\n",
       "      <td>No</td>\n",
       "      <td>No</td>\n",
       "      <td>0</td>\n",
       "      <td>144.0</td>\n",
       "      <td>90</td>\n",
       "      <td>24.48</td>\n",
       "      <td>135.8</td>\n",
       "      <td>91</td>\n",
       "      <td>11.54</td>\n",
       "      <td>212.4</td>\n",
       "      <td>129</td>\n",
       "      <td>9.56</td>\n",
       "      <td>13.0</td>\n",
       "      <td>4</td>\n",
       "      <td>3.51</td>\n",
       "      <td>1</td>\n",
       "      <td>0</td>\n",
       "    </tr>\n",
       "    <tr>\n",
       "      <th>1346</th>\n",
       "      <td>NM</td>\n",
       "      <td>132</td>\n",
       "      <td>408</td>\n",
       "      <td>No</td>\n",
       "      <td>No</td>\n",
       "      <td>0</td>\n",
       "      <td>169.9</td>\n",
       "      <td>107</td>\n",
       "      <td>28.88</td>\n",
       "      <td>209.4</td>\n",
       "      <td>121</td>\n",
       "      <td>17.80</td>\n",
       "      <td>206.1</td>\n",
       "      <td>79</td>\n",
       "      <td>9.27</td>\n",
       "      <td>11.5</td>\n",
       "      <td>2</td>\n",
       "      <td>3.11</td>\n",
       "      <td>1</td>\n",
       "      <td>0</td>\n",
       "    </tr>\n",
       "    <tr>\n",
       "      <th>86</th>\n",
       "      <td>AZ</td>\n",
       "      <td>95</td>\n",
       "      <td>408</td>\n",
       "      <td>No</td>\n",
       "      <td>No</td>\n",
       "      <td>0</td>\n",
       "      <td>238.1</td>\n",
       "      <td>65</td>\n",
       "      <td>40.48</td>\n",
       "      <td>187.2</td>\n",
       "      <td>98</td>\n",
       "      <td>15.91</td>\n",
       "      <td>190.0</td>\n",
       "      <td>115</td>\n",
       "      <td>8.55</td>\n",
       "      <td>11.8</td>\n",
       "      <td>4</td>\n",
       "      <td>3.19</td>\n",
       "      <td>4</td>\n",
       "      <td>0</td>\n",
       "    </tr>\n",
       "    <tr>\n",
       "      <th>...</th>\n",
       "      <td>...</td>\n",
       "      <td>...</td>\n",
       "      <td>...</td>\n",
       "      <td>...</td>\n",
       "      <td>...</td>\n",
       "      <td>...</td>\n",
       "      <td>...</td>\n",
       "      <td>...</td>\n",
       "      <td>...</td>\n",
       "      <td>...</td>\n",
       "      <td>...</td>\n",
       "      <td>...</td>\n",
       "      <td>...</td>\n",
       "      <td>...</td>\n",
       "      <td>...</td>\n",
       "      <td>...</td>\n",
       "      <td>...</td>\n",
       "      <td>...</td>\n",
       "      <td>...</td>\n",
       "      <td>...</td>\n",
       "    </tr>\n",
       "    <tr>\n",
       "      <th>66</th>\n",
       "      <td>MD</td>\n",
       "      <td>70</td>\n",
       "      <td>408</td>\n",
       "      <td>No</td>\n",
       "      <td>No</td>\n",
       "      <td>0</td>\n",
       "      <td>170.2</td>\n",
       "      <td>98</td>\n",
       "      <td>28.93</td>\n",
       "      <td>155.2</td>\n",
       "      <td>102</td>\n",
       "      <td>13.19</td>\n",
       "      <td>228.6</td>\n",
       "      <td>76</td>\n",
       "      <td>10.29</td>\n",
       "      <td>15.0</td>\n",
       "      <td>2</td>\n",
       "      <td>4.05</td>\n",
       "      <td>1</td>\n",
       "      <td>0</td>\n",
       "    </tr>\n",
       "    <tr>\n",
       "      <th>104</th>\n",
       "      <td>MS</td>\n",
       "      <td>61</td>\n",
       "      <td>510</td>\n",
       "      <td>No</td>\n",
       "      <td>Yes</td>\n",
       "      <td>27</td>\n",
       "      <td>187.5</td>\n",
       "      <td>124</td>\n",
       "      <td>31.88</td>\n",
       "      <td>146.6</td>\n",
       "      <td>103</td>\n",
       "      <td>12.46</td>\n",
       "      <td>225.7</td>\n",
       "      <td>129</td>\n",
       "      <td>10.16</td>\n",
       "      <td>6.4</td>\n",
       "      <td>6</td>\n",
       "      <td>1.73</td>\n",
       "      <td>4</td>\n",
       "      <td>1</td>\n",
       "    </tr>\n",
       "    <tr>\n",
       "      <th>377</th>\n",
       "      <td>AL</td>\n",
       "      <td>41</td>\n",
       "      <td>510</td>\n",
       "      <td>No</td>\n",
       "      <td>Yes</td>\n",
       "      <td>34</td>\n",
       "      <td>194.4</td>\n",
       "      <td>63</td>\n",
       "      <td>33.05</td>\n",
       "      <td>254.9</td>\n",
       "      <td>110</td>\n",
       "      <td>21.67</td>\n",
       "      <td>160.2</td>\n",
       "      <td>115</td>\n",
       "      <td>7.21</td>\n",
       "      <td>17.2</td>\n",
       "      <td>9</td>\n",
       "      <td>4.64</td>\n",
       "      <td>2</td>\n",
       "      <td>0</td>\n",
       "    </tr>\n",
       "    <tr>\n",
       "      <th>1123</th>\n",
       "      <td>AL</td>\n",
       "      <td>96</td>\n",
       "      <td>415</td>\n",
       "      <td>Yes</td>\n",
       "      <td>No</td>\n",
       "      <td>0</td>\n",
       "      <td>200.6</td>\n",
       "      <td>117</td>\n",
       "      <td>34.10</td>\n",
       "      <td>289.5</td>\n",
       "      <td>120</td>\n",
       "      <td>24.61</td>\n",
       "      <td>98.3</td>\n",
       "      <td>95</td>\n",
       "      <td>4.42</td>\n",
       "      <td>11.2</td>\n",
       "      <td>5</td>\n",
       "      <td>3.02</td>\n",
       "      <td>2</td>\n",
       "      <td>0</td>\n",
       "    </tr>\n",
       "    <tr>\n",
       "      <th>1640</th>\n",
       "      <td>SD</td>\n",
       "      <td>125</td>\n",
       "      <td>510</td>\n",
       "      <td>No</td>\n",
       "      <td>Yes</td>\n",
       "      <td>34</td>\n",
       "      <td>268.4</td>\n",
       "      <td>112</td>\n",
       "      <td>45.63</td>\n",
       "      <td>222.2</td>\n",
       "      <td>108</td>\n",
       "      <td>18.89</td>\n",
       "      <td>117.6</td>\n",
       "      <td>102</td>\n",
       "      <td>5.29</td>\n",
       "      <td>10.3</td>\n",
       "      <td>3</td>\n",
       "      <td>2.78</td>\n",
       "      <td>0</td>\n",
       "      <td>0</td>\n",
       "    </tr>\n",
       "  </tbody>\n",
       "</table>\n",
       "<p>2108 rows × 20 columns</p>\n",
       "</div>"
      ],
      "text/plain": [
       "     State  Account length  Area code International plan Voice mail plan  \\\n",
       "1229    MD             102        415                 No              No   \n",
       "2001    MT             157        408                 No              No   \n",
       "1421    TX              79        415                 No              No   \n",
       "1346    NM             132        408                 No              No   \n",
       "86      AZ              95        408                 No              No   \n",
       "...    ...             ...        ...                ...             ...   \n",
       "66      MD              70        408                 No              No   \n",
       "104     MS              61        510                 No             Yes   \n",
       "377     AL              41        510                 No             Yes   \n",
       "1123    AL              96        415                Yes              No   \n",
       "1640    SD             125        510                 No             Yes   \n",
       "\n",
       "      Number vmail messages  Total day minutes  Total day calls  \\\n",
       "1229                      0              271.1               80   \n",
       "2001                      0              240.2               67   \n",
       "1421                      0              144.0               90   \n",
       "1346                      0              169.9              107   \n",
       "86                        0              238.1               65   \n",
       "...                     ...                ...              ...   \n",
       "66                        0              170.2               98   \n",
       "104                      27              187.5              124   \n",
       "377                      34              194.4               63   \n",
       "1123                      0              200.6              117   \n",
       "1640                     34              268.4              112   \n",
       "\n",
       "      Total day charge  Total eve minutes  Total eve calls  Total eve charge  \\\n",
       "1229             46.09              172.0              133             14.62   \n",
       "2001             40.83              153.0               98             13.01   \n",
       "1421             24.48              135.8               91             11.54   \n",
       "1346             28.88              209.4              121             17.80   \n",
       "86               40.48              187.2               98             15.91   \n",
       "...                ...                ...              ...               ...   \n",
       "66               28.93              155.2              102             13.19   \n",
       "104              31.88              146.6              103             12.46   \n",
       "377              33.05              254.9              110             21.67   \n",
       "1123             34.10              289.5              120             24.61   \n",
       "1640             45.63              222.2              108             18.89   \n",
       "\n",
       "      Total night minutes  Total night calls  Total night charge  \\\n",
       "1229                169.2                105                7.61   \n",
       "2001                249.0                 72               11.21   \n",
       "1421                212.4                129                9.56   \n",
       "1346                206.1                 79                9.27   \n",
       "86                  190.0                115                8.55   \n",
       "...                   ...                ...                 ...   \n",
       "66                  228.6                 76               10.29   \n",
       "104                 225.7                129               10.16   \n",
       "377                 160.2                115                7.21   \n",
       "1123                 98.3                 95                4.42   \n",
       "1640                117.6                102                5.29   \n",
       "\n",
       "      Total intl minutes  Total intl calls  Total intl charge  \\\n",
       "1229                10.3                 5               2.78   \n",
       "2001                10.2                 6               2.75   \n",
       "1421                13.0                 4               3.51   \n",
       "1346                11.5                 2               3.11   \n",
       "86                  11.8                 4               3.19   \n",
       "...                  ...               ...                ...   \n",
       "66                  15.0                 2               4.05   \n",
       "104                  6.4                 6               1.73   \n",
       "377                 17.2                 9               4.64   \n",
       "1123                11.2                 5               3.02   \n",
       "1640                10.3                 3               2.78   \n",
       "\n",
       "      Customer service calls  Churn  \n",
       "1229                       1      0  \n",
       "2001                       2      0  \n",
       "1421                       1      0  \n",
       "1346                       1      0  \n",
       "86                         4      0  \n",
       "...                      ...    ...  \n",
       "66                         1      0  \n",
       "104                        4      1  \n",
       "377                        2      0  \n",
       "1123                       2      0  \n",
       "1640                       0      0  \n",
       "\n",
       "[2108 rows x 20 columns]"
      ]
     },
     "execution_count": 83,
     "metadata": {},
     "output_type": "execute_result"
    }
   ],
   "source": [
    "data_train"
   ]
  },
  {
   "cell_type": "markdown",
   "metadata": {},
   "source": [
    "Data yang dianggap outlier sudah dieliminasi , selanjutnya bisa kita kembali ke handling missing values"
   ]
  },
  {
   "cell_type": "markdown",
   "metadata": {},
   "source": [
    "### Handling Missing Values"
   ]
  },
  {
   "cell_type": "markdown",
   "metadata": {},
   "source": [
    "Pada dataset ini, mengingat missing values tidak tersedia , maka tahapan ini akan kita skip ke tahapan selanjutnya"
   ]
  },
  {
   "cell_type": "markdown",
   "metadata": {},
   "source": [
    "### Feature Selection"
   ]
  },
  {
   "cell_type": "markdown",
   "metadata": {},
   "source": [
    "Sebelum memanfaatkan feature importance , saya akan melakukan dropping , dimana\n",
    "\n",
    " 'Total day charge','Total eve charge', 'Total night charge', 'Total intl charge' \n",
    " \n",
    " adalah kolom yang berkorelasi penuh terhadap total minutes nya."
   ]
  },
  {
   "cell_type": "code",
   "execution_count": 84,
   "metadata": {},
   "outputs": [],
   "source": [
    "data_train = data_train.drop(columns=['Total day charge','Total eve charge', 'Total night charge', 'Total intl charge'],axis=1)\n",
    "data_test = data_test.drop(columns=['Total day charge','Total eve charge', 'Total night charge', 'Total intl charge'],axis=1)"
   ]
  },
  {
   "cell_type": "markdown",
   "metadata": {},
   "source": [
    "Saya akan memanfaatkan Random Forest Classification Feature Importance, dalam kata lain, saya akan melihat mana yang menjadi prioritas sebagai kolom feature, sehingga meminimalisir jumlah kolom sehingga model lebih cepat & mudah mempelajari dataset"
   ]
  },
  {
   "cell_type": "markdown",
   "metadata": {},
   "source": [
    "### Feature Selection 2 : Feature Importance"
   ]
  },
  {
   "cell_type": "code",
   "execution_count": 85,
   "metadata": {},
   "outputs": [],
   "source": [
    "X = data_train.drop(columns=['Churn'],axis=1)\n",
    "y = data_train['Churn']"
   ]
  },
  {
   "cell_type": "markdown",
   "metadata": {},
   "source": [
    "Sebelum kita bisa melanjutkan ke feature importance ini, kita lakukan label encoding terhadap data yang bersifat kategorik , karena randomForestClassifier hanya bisa melakukan feature importance pada data yang bersifat numerik"
   ]
  },
  {
   "cell_type": "code",
   "execution_count": 86,
   "metadata": {},
   "outputs": [],
   "source": [
    "encoder = LabelEncoder()\n",
    "\n",
    "for columns in X :\n",
    "    if X[columns].dtypes == 'object':\n",
    "        X[columns] = encoder.fit_transform(X[columns])"
   ]
  },
  {
   "cell_type": "code",
   "execution_count": 87,
   "metadata": {},
   "outputs": [
    {
     "data": {
      "text/html": [
       "<div>\n",
       "<style scoped>\n",
       "    .dataframe tbody tr th:only-of-type {\n",
       "        vertical-align: middle;\n",
       "    }\n",
       "\n",
       "    .dataframe tbody tr th {\n",
       "        vertical-align: top;\n",
       "    }\n",
       "\n",
       "    .dataframe thead th {\n",
       "        text-align: right;\n",
       "    }\n",
       "</style>\n",
       "<table border=\"1\" class=\"dataframe\">\n",
       "  <thead>\n",
       "    <tr style=\"text-align: right;\">\n",
       "      <th></th>\n",
       "      <th>State</th>\n",
       "      <th>Account length</th>\n",
       "      <th>Area code</th>\n",
       "      <th>International plan</th>\n",
       "      <th>Voice mail plan</th>\n",
       "      <th>Number vmail messages</th>\n",
       "      <th>Total day minutes</th>\n",
       "      <th>Total day calls</th>\n",
       "      <th>Total eve minutes</th>\n",
       "      <th>Total eve calls</th>\n",
       "      <th>Total night minutes</th>\n",
       "      <th>Total night calls</th>\n",
       "      <th>Total intl minutes</th>\n",
       "      <th>Total intl calls</th>\n",
       "      <th>Customer service calls</th>\n",
       "    </tr>\n",
       "  </thead>\n",
       "  <tbody>\n",
       "    <tr>\n",
       "      <th>1229</th>\n",
       "      <td>20</td>\n",
       "      <td>102</td>\n",
       "      <td>415</td>\n",
       "      <td>0</td>\n",
       "      <td>0</td>\n",
       "      <td>0</td>\n",
       "      <td>271.1</td>\n",
       "      <td>80</td>\n",
       "      <td>172.0</td>\n",
       "      <td>133</td>\n",
       "      <td>169.2</td>\n",
       "      <td>105</td>\n",
       "      <td>10.3</td>\n",
       "      <td>5</td>\n",
       "      <td>1</td>\n",
       "    </tr>\n",
       "    <tr>\n",
       "      <th>2001</th>\n",
       "      <td>26</td>\n",
       "      <td>157</td>\n",
       "      <td>408</td>\n",
       "      <td>0</td>\n",
       "      <td>0</td>\n",
       "      <td>0</td>\n",
       "      <td>240.2</td>\n",
       "      <td>67</td>\n",
       "      <td>153.0</td>\n",
       "      <td>98</td>\n",
       "      <td>249.0</td>\n",
       "      <td>72</td>\n",
       "      <td>10.2</td>\n",
       "      <td>6</td>\n",
       "      <td>2</td>\n",
       "    </tr>\n",
       "    <tr>\n",
       "      <th>1421</th>\n",
       "      <td>43</td>\n",
       "      <td>79</td>\n",
       "      <td>415</td>\n",
       "      <td>0</td>\n",
       "      <td>0</td>\n",
       "      <td>0</td>\n",
       "      <td>144.0</td>\n",
       "      <td>90</td>\n",
       "      <td>135.8</td>\n",
       "      <td>91</td>\n",
       "      <td>212.4</td>\n",
       "      <td>129</td>\n",
       "      <td>13.0</td>\n",
       "      <td>4</td>\n",
       "      <td>1</td>\n",
       "    </tr>\n",
       "    <tr>\n",
       "      <th>1346</th>\n",
       "      <td>32</td>\n",
       "      <td>132</td>\n",
       "      <td>408</td>\n",
       "      <td>0</td>\n",
       "      <td>0</td>\n",
       "      <td>0</td>\n",
       "      <td>169.9</td>\n",
       "      <td>107</td>\n",
       "      <td>209.4</td>\n",
       "      <td>121</td>\n",
       "      <td>206.1</td>\n",
       "      <td>79</td>\n",
       "      <td>11.5</td>\n",
       "      <td>2</td>\n",
       "      <td>1</td>\n",
       "    </tr>\n",
       "    <tr>\n",
       "      <th>86</th>\n",
       "      <td>3</td>\n",
       "      <td>95</td>\n",
       "      <td>408</td>\n",
       "      <td>0</td>\n",
       "      <td>0</td>\n",
       "      <td>0</td>\n",
       "      <td>238.1</td>\n",
       "      <td>65</td>\n",
       "      <td>187.2</td>\n",
       "      <td>98</td>\n",
       "      <td>190.0</td>\n",
       "      <td>115</td>\n",
       "      <td>11.8</td>\n",
       "      <td>4</td>\n",
       "      <td>4</td>\n",
       "    </tr>\n",
       "  </tbody>\n",
       "</table>\n",
       "</div>"
      ],
      "text/plain": [
       "      State  Account length  Area code  International plan  Voice mail plan  \\\n",
       "1229     20             102        415                   0                0   \n",
       "2001     26             157        408                   0                0   \n",
       "1421     43              79        415                   0                0   \n",
       "1346     32             132        408                   0                0   \n",
       "86        3              95        408                   0                0   \n",
       "\n",
       "      Number vmail messages  Total day minutes  Total day calls  \\\n",
       "1229                      0              271.1               80   \n",
       "2001                      0              240.2               67   \n",
       "1421                      0              144.0               90   \n",
       "1346                      0              169.9              107   \n",
       "86                        0              238.1               65   \n",
       "\n",
       "      Total eve minutes  Total eve calls  Total night minutes  \\\n",
       "1229              172.0              133                169.2   \n",
       "2001              153.0               98                249.0   \n",
       "1421              135.8               91                212.4   \n",
       "1346              209.4              121                206.1   \n",
       "86                187.2               98                190.0   \n",
       "\n",
       "      Total night calls  Total intl minutes  Total intl calls  \\\n",
       "1229                105                10.3                 5   \n",
       "2001                 72                10.2                 6   \n",
       "1421                129                13.0                 4   \n",
       "1346                 79                11.5                 2   \n",
       "86                  115                11.8                 4   \n",
       "\n",
       "      Customer service calls  \n",
       "1229                       1  \n",
       "2001                       2  \n",
       "1421                       1  \n",
       "1346                       1  \n",
       "86                         4  "
      ]
     },
     "execution_count": 87,
     "metadata": {},
     "output_type": "execute_result"
    }
   ],
   "source": [
    "X[:5]"
   ]
  },
  {
   "cell_type": "markdown",
   "metadata": {},
   "source": [
    "Data bertipe object sudah selesai di encoding ke dalam bentuk numerik. Sehingga kita bisa melakukan feature importance pada model randomforestclassifier\n"
   ]
  },
  {
   "cell_type": "code",
   "execution_count": 88,
   "metadata": {},
   "outputs": [],
   "source": [
    "model = RandomForestClassifier()\n",
    "\n",
    "model.fit(X,y)\n",
    "\n",
    "importance = model.feature_importances_"
   ]
  },
  {
   "cell_type": "code",
   "execution_count": 89,
   "metadata": {},
   "outputs": [
    {
     "name": "stdout",
     "output_type": "stream",
     "text": [
      "Feature importance dari State : 0.044176131441776414\n",
      "Feature importance dari Account length : 0.04949216022317358\n",
      "Feature importance dari Area code : 0.012995346154748049\n",
      "Feature importance dari International plan : 0.08879609227999496\n",
      "Feature importance dari Voice mail plan : 0.01663031628072935\n",
      "Feature importance dari Number vmail messages : 0.019312530870039604\n",
      "Feature importance dari Total day minutes : 0.22851181461274744\n",
      "Feature importance dari Total day calls : 0.04752149054029941\n",
      "Feature importance dari Total eve minutes : 0.08546903819058434\n",
      "Feature importance dari Total eve calls : 0.044853561279466894\n",
      "Feature importance dari Total night minutes : 0.05999554563153287\n",
      "Feature importance dari Total night calls : 0.04751775570398161\n",
      "Feature importance dari Total intl minutes : 0.0764874543230457\n",
      "Feature importance dari Total intl calls : 0.05575647373510858\n",
      "Feature importance dari Customer service calls : 0.12248428873277112\n"
     ]
    }
   ],
   "source": [
    "i = 0\n",
    "for item in X :\n",
    "    print(f'Feature importance dari {item} : {importance[i]}')\n",
    "    i +=1"
   ]
  },
  {
   "cell_type": "code",
   "execution_count": 90,
   "metadata": {},
   "outputs": [
    {
     "data": {
      "text/html": [
       "<div>\n",
       "<style scoped>\n",
       "    .dataframe tbody tr th:only-of-type {\n",
       "        vertical-align: middle;\n",
       "    }\n",
       "\n",
       "    .dataframe tbody tr th {\n",
       "        vertical-align: top;\n",
       "    }\n",
       "\n",
       "    .dataframe thead th {\n",
       "        text-align: right;\n",
       "    }\n",
       "</style>\n",
       "<table border=\"1\" class=\"dataframe\">\n",
       "  <thead>\n",
       "    <tr style=\"text-align: right;\">\n",
       "      <th></th>\n",
       "      <th>column</th>\n",
       "      <th>feature_importance</th>\n",
       "    </tr>\n",
       "  </thead>\n",
       "  <tbody>\n",
       "    <tr>\n",
       "      <th>0</th>\n",
       "      <td>State</td>\n",
       "      <td>0.044176</td>\n",
       "    </tr>\n",
       "    <tr>\n",
       "      <th>1</th>\n",
       "      <td>Account length</td>\n",
       "      <td>0.049492</td>\n",
       "    </tr>\n",
       "    <tr>\n",
       "      <th>2</th>\n",
       "      <td>Area code</td>\n",
       "      <td>0.012995</td>\n",
       "    </tr>\n",
       "    <tr>\n",
       "      <th>3</th>\n",
       "      <td>International plan</td>\n",
       "      <td>0.088796</td>\n",
       "    </tr>\n",
       "    <tr>\n",
       "      <th>4</th>\n",
       "      <td>Voice mail plan</td>\n",
       "      <td>0.016630</td>\n",
       "    </tr>\n",
       "    <tr>\n",
       "      <th>5</th>\n",
       "      <td>Number vmail messages</td>\n",
       "      <td>0.019313</td>\n",
       "    </tr>\n",
       "    <tr>\n",
       "      <th>6</th>\n",
       "      <td>Total day minutes</td>\n",
       "      <td>0.228512</td>\n",
       "    </tr>\n",
       "    <tr>\n",
       "      <th>7</th>\n",
       "      <td>Total day calls</td>\n",
       "      <td>0.047521</td>\n",
       "    </tr>\n",
       "    <tr>\n",
       "      <th>8</th>\n",
       "      <td>Total eve minutes</td>\n",
       "      <td>0.085469</td>\n",
       "    </tr>\n",
       "    <tr>\n",
       "      <th>9</th>\n",
       "      <td>Total eve calls</td>\n",
       "      <td>0.044854</td>\n",
       "    </tr>\n",
       "    <tr>\n",
       "      <th>10</th>\n",
       "      <td>Total night minutes</td>\n",
       "      <td>0.059996</td>\n",
       "    </tr>\n",
       "    <tr>\n",
       "      <th>11</th>\n",
       "      <td>Total night calls</td>\n",
       "      <td>0.047518</td>\n",
       "    </tr>\n",
       "    <tr>\n",
       "      <th>12</th>\n",
       "      <td>Total intl minutes</td>\n",
       "      <td>0.076487</td>\n",
       "    </tr>\n",
       "    <tr>\n",
       "      <th>13</th>\n",
       "      <td>Total intl calls</td>\n",
       "      <td>0.055756</td>\n",
       "    </tr>\n",
       "    <tr>\n",
       "      <th>14</th>\n",
       "      <td>Customer service calls</td>\n",
       "      <td>0.122484</td>\n",
       "    </tr>\n",
       "  </tbody>\n",
       "</table>\n",
       "</div>"
      ],
      "text/plain": [
       "                    column  feature_importance\n",
       "0                    State            0.044176\n",
       "1           Account length            0.049492\n",
       "2                Area code            0.012995\n",
       "3       International plan            0.088796\n",
       "4          Voice mail plan            0.016630\n",
       "5    Number vmail messages            0.019313\n",
       "6        Total day minutes            0.228512\n",
       "7          Total day calls            0.047521\n",
       "8        Total eve minutes            0.085469\n",
       "9          Total eve calls            0.044854\n",
       "10     Total night minutes            0.059996\n",
       "11       Total night calls            0.047518\n",
       "12      Total intl minutes            0.076487\n",
       "13        Total intl calls            0.055756\n",
       "14  Customer service calls            0.122484"
      ]
     },
     "execution_count": 90,
     "metadata": {},
     "output_type": "execute_result"
    }
   ],
   "source": [
    "fi_table = pd.DataFrame(data={'column':X.columns.tolist(),'feature_importance':importance})\n",
    "fi_table"
   ]
  },
  {
   "cell_type": "markdown",
   "metadata": {},
   "source": [
    "Saya akan memanfaatkan threshold 0.049 , sehingga kolom yang feature importance yang dibawah 0.049 , akan dieliminasi saja"
   ]
  },
  {
   "cell_type": "code",
   "execution_count": 91,
   "metadata": {},
   "outputs": [
    {
     "data": {
      "text/html": [
       "<div>\n",
       "<style scoped>\n",
       "    .dataframe tbody tr th:only-of-type {\n",
       "        vertical-align: middle;\n",
       "    }\n",
       "\n",
       "    .dataframe tbody tr th {\n",
       "        vertical-align: top;\n",
       "    }\n",
       "\n",
       "    .dataframe thead th {\n",
       "        text-align: right;\n",
       "    }\n",
       "</style>\n",
       "<table border=\"1\" class=\"dataframe\">\n",
       "  <thead>\n",
       "    <tr style=\"text-align: right;\">\n",
       "      <th></th>\n",
       "      <th>column</th>\n",
       "      <th>feature_importance</th>\n",
       "    </tr>\n",
       "  </thead>\n",
       "  <tbody>\n",
       "    <tr>\n",
       "      <th>0</th>\n",
       "      <td>State</td>\n",
       "      <td>0.044176</td>\n",
       "    </tr>\n",
       "    <tr>\n",
       "      <th>2</th>\n",
       "      <td>Area code</td>\n",
       "      <td>0.012995</td>\n",
       "    </tr>\n",
       "    <tr>\n",
       "      <th>4</th>\n",
       "      <td>Voice mail plan</td>\n",
       "      <td>0.016630</td>\n",
       "    </tr>\n",
       "    <tr>\n",
       "      <th>5</th>\n",
       "      <td>Number vmail messages</td>\n",
       "      <td>0.019313</td>\n",
       "    </tr>\n",
       "    <tr>\n",
       "      <th>7</th>\n",
       "      <td>Total day calls</td>\n",
       "      <td>0.047521</td>\n",
       "    </tr>\n",
       "    <tr>\n",
       "      <th>9</th>\n",
       "      <td>Total eve calls</td>\n",
       "      <td>0.044854</td>\n",
       "    </tr>\n",
       "    <tr>\n",
       "      <th>11</th>\n",
       "      <td>Total night calls</td>\n",
       "      <td>0.047518</td>\n",
       "    </tr>\n",
       "  </tbody>\n",
       "</table>\n",
       "</div>"
      ],
      "text/plain": [
       "                   column  feature_importance\n",
       "0                   State            0.044176\n",
       "2               Area code            0.012995\n",
       "4         Voice mail plan            0.016630\n",
       "5   Number vmail messages            0.019313\n",
       "7         Total day calls            0.047521\n",
       "9         Total eve calls            0.044854\n",
       "11      Total night calls            0.047518"
      ]
     },
     "execution_count": 91,
     "metadata": {},
     "output_type": "execute_result"
    }
   ],
   "source": [
    "fi_table[fi_table['feature_importance']<0.049]"
   ]
  },
  {
   "cell_type": "markdown",
   "metadata": {},
   "source": [
    "Terlihat bahwa ada 5 kolom yang feature_importance nya di bawah 0.049 : \n",
    "\n",
    "State, Area code, Voice mail plan , Number vmail messages , Total eve calls\n",
    "\n",
    "Kita lakukan drop pada kolom ini untuk memperoleh feature yang feature_importancenya di atas threshold 0.05"
   ]
  },
  {
   "cell_type": "code",
   "execution_count": 92,
   "metadata": {},
   "outputs": [],
   "source": [
    "data_train = data_train.drop(columns=['State','Area code','Voice mail plan','Number vmail messages','Total eve calls'],axis=1)\n",
    "data_test = data_test.drop(columns=['State','Area code','Voice mail plan','Number vmail messages','Total eve calls'],axis=1)"
   ]
  },
  {
   "cell_type": "markdown",
   "metadata": {},
   "source": [
    "Split kembali data_train dan data_test terhadap masing - masing target column nya"
   ]
  },
  {
   "cell_type": "code",
   "execution_count": 93,
   "metadata": {},
   "outputs": [],
   "source": [
    "X_train = data_train.drop(columns='Churn',axis=1)\n",
    "X_test = data_test.drop(columns='Churn',axis=1)\n",
    "y_train = data_train['Churn']\n",
    "y_test = data_test['Churn']"
   ]
  },
  {
   "cell_type": "code",
   "execution_count": 94,
   "metadata": {},
   "outputs": [
    {
     "data": {
      "text/html": [
       "<div>\n",
       "<style scoped>\n",
       "    .dataframe tbody tr th:only-of-type {\n",
       "        vertical-align: middle;\n",
       "    }\n",
       "\n",
       "    .dataframe tbody tr th {\n",
       "        vertical-align: top;\n",
       "    }\n",
       "\n",
       "    .dataframe thead th {\n",
       "        text-align: right;\n",
       "    }\n",
       "</style>\n",
       "<table border=\"1\" class=\"dataframe\">\n",
       "  <thead>\n",
       "    <tr style=\"text-align: right;\">\n",
       "      <th></th>\n",
       "      <th>Account length</th>\n",
       "      <th>International plan</th>\n",
       "      <th>Total day minutes</th>\n",
       "      <th>Total day calls</th>\n",
       "      <th>Total eve minutes</th>\n",
       "      <th>Total night minutes</th>\n",
       "      <th>Total night calls</th>\n",
       "      <th>Total intl minutes</th>\n",
       "      <th>Total intl calls</th>\n",
       "      <th>Customer service calls</th>\n",
       "    </tr>\n",
       "  </thead>\n",
       "  <tbody>\n",
       "    <tr>\n",
       "      <th>1229</th>\n",
       "      <td>102</td>\n",
       "      <td>No</td>\n",
       "      <td>271.1</td>\n",
       "      <td>80</td>\n",
       "      <td>172.0</td>\n",
       "      <td>169.2</td>\n",
       "      <td>105</td>\n",
       "      <td>10.3</td>\n",
       "      <td>5</td>\n",
       "      <td>1</td>\n",
       "    </tr>\n",
       "    <tr>\n",
       "      <th>2001</th>\n",
       "      <td>157</td>\n",
       "      <td>No</td>\n",
       "      <td>240.2</td>\n",
       "      <td>67</td>\n",
       "      <td>153.0</td>\n",
       "      <td>249.0</td>\n",
       "      <td>72</td>\n",
       "      <td>10.2</td>\n",
       "      <td>6</td>\n",
       "      <td>2</td>\n",
       "    </tr>\n",
       "    <tr>\n",
       "      <th>1421</th>\n",
       "      <td>79</td>\n",
       "      <td>No</td>\n",
       "      <td>144.0</td>\n",
       "      <td>90</td>\n",
       "      <td>135.8</td>\n",
       "      <td>212.4</td>\n",
       "      <td>129</td>\n",
       "      <td>13.0</td>\n",
       "      <td>4</td>\n",
       "      <td>1</td>\n",
       "    </tr>\n",
       "    <tr>\n",
       "      <th>1346</th>\n",
       "      <td>132</td>\n",
       "      <td>No</td>\n",
       "      <td>169.9</td>\n",
       "      <td>107</td>\n",
       "      <td>209.4</td>\n",
       "      <td>206.1</td>\n",
       "      <td>79</td>\n",
       "      <td>11.5</td>\n",
       "      <td>2</td>\n",
       "      <td>1</td>\n",
       "    </tr>\n",
       "    <tr>\n",
       "      <th>86</th>\n",
       "      <td>95</td>\n",
       "      <td>No</td>\n",
       "      <td>238.1</td>\n",
       "      <td>65</td>\n",
       "      <td>187.2</td>\n",
       "      <td>190.0</td>\n",
       "      <td>115</td>\n",
       "      <td>11.8</td>\n",
       "      <td>4</td>\n",
       "      <td>4</td>\n",
       "    </tr>\n",
       "    <tr>\n",
       "      <th>...</th>\n",
       "      <td>...</td>\n",
       "      <td>...</td>\n",
       "      <td>...</td>\n",
       "      <td>...</td>\n",
       "      <td>...</td>\n",
       "      <td>...</td>\n",
       "      <td>...</td>\n",
       "      <td>...</td>\n",
       "      <td>...</td>\n",
       "      <td>...</td>\n",
       "    </tr>\n",
       "    <tr>\n",
       "      <th>66</th>\n",
       "      <td>70</td>\n",
       "      <td>No</td>\n",
       "      <td>170.2</td>\n",
       "      <td>98</td>\n",
       "      <td>155.2</td>\n",
       "      <td>228.6</td>\n",
       "      <td>76</td>\n",
       "      <td>15.0</td>\n",
       "      <td>2</td>\n",
       "      <td>1</td>\n",
       "    </tr>\n",
       "    <tr>\n",
       "      <th>104</th>\n",
       "      <td>61</td>\n",
       "      <td>No</td>\n",
       "      <td>187.5</td>\n",
       "      <td>124</td>\n",
       "      <td>146.6</td>\n",
       "      <td>225.7</td>\n",
       "      <td>129</td>\n",
       "      <td>6.4</td>\n",
       "      <td>6</td>\n",
       "      <td>4</td>\n",
       "    </tr>\n",
       "    <tr>\n",
       "      <th>377</th>\n",
       "      <td>41</td>\n",
       "      <td>No</td>\n",
       "      <td>194.4</td>\n",
       "      <td>63</td>\n",
       "      <td>254.9</td>\n",
       "      <td>160.2</td>\n",
       "      <td>115</td>\n",
       "      <td>17.2</td>\n",
       "      <td>9</td>\n",
       "      <td>2</td>\n",
       "    </tr>\n",
       "    <tr>\n",
       "      <th>1123</th>\n",
       "      <td>96</td>\n",
       "      <td>Yes</td>\n",
       "      <td>200.6</td>\n",
       "      <td>117</td>\n",
       "      <td>289.5</td>\n",
       "      <td>98.3</td>\n",
       "      <td>95</td>\n",
       "      <td>11.2</td>\n",
       "      <td>5</td>\n",
       "      <td>2</td>\n",
       "    </tr>\n",
       "    <tr>\n",
       "      <th>1640</th>\n",
       "      <td>125</td>\n",
       "      <td>No</td>\n",
       "      <td>268.4</td>\n",
       "      <td>112</td>\n",
       "      <td>222.2</td>\n",
       "      <td>117.6</td>\n",
       "      <td>102</td>\n",
       "      <td>10.3</td>\n",
       "      <td>3</td>\n",
       "      <td>0</td>\n",
       "    </tr>\n",
       "  </tbody>\n",
       "</table>\n",
       "<p>2108 rows × 10 columns</p>\n",
       "</div>"
      ],
      "text/plain": [
       "      Account length International plan  Total day minutes  Total day calls  \\\n",
       "1229             102                 No              271.1               80   \n",
       "2001             157                 No              240.2               67   \n",
       "1421              79                 No              144.0               90   \n",
       "1346             132                 No              169.9              107   \n",
       "86                95                 No              238.1               65   \n",
       "...              ...                ...                ...              ...   \n",
       "66                70                 No              170.2               98   \n",
       "104               61                 No              187.5              124   \n",
       "377               41                 No              194.4               63   \n",
       "1123              96                Yes              200.6              117   \n",
       "1640             125                 No              268.4              112   \n",
       "\n",
       "      Total eve minutes  Total night minutes  Total night calls  \\\n",
       "1229              172.0                169.2                105   \n",
       "2001              153.0                249.0                 72   \n",
       "1421              135.8                212.4                129   \n",
       "1346              209.4                206.1                 79   \n",
       "86                187.2                190.0                115   \n",
       "...                 ...                  ...                ...   \n",
       "66                155.2                228.6                 76   \n",
       "104               146.6                225.7                129   \n",
       "377               254.9                160.2                115   \n",
       "1123              289.5                 98.3                 95   \n",
       "1640              222.2                117.6                102   \n",
       "\n",
       "      Total intl minutes  Total intl calls  Customer service calls  \n",
       "1229                10.3                 5                       1  \n",
       "2001                10.2                 6                       2  \n",
       "1421                13.0                 4                       1  \n",
       "1346                11.5                 2                       1  \n",
       "86                  11.8                 4                       4  \n",
       "...                  ...               ...                     ...  \n",
       "66                  15.0                 2                       1  \n",
       "104                  6.4                 6                       4  \n",
       "377                 17.2                 9                       2  \n",
       "1123                11.2                 5                       2  \n",
       "1640                10.3                 3                       0  \n",
       "\n",
       "[2108 rows x 10 columns]"
      ]
     },
     "execution_count": 94,
     "metadata": {},
     "output_type": "execute_result"
    }
   ],
   "source": [
    "X_train"
   ]
  },
  {
   "cell_type": "code",
   "execution_count": 96,
   "metadata": {},
   "outputs": [],
   "source": [
    "num_columns_train_importance = X_train.drop(columns='International plan',axis=1).columns.tolist()\n",
    "cat_columns_train_importance = ['International plan']"
   ]
  },
  {
   "cell_type": "markdown",
   "metadata": {},
   "source": [
    "### Feature Scaling"
   ]
  },
  {
   "cell_type": "markdown",
   "metadata": {},
   "source": [
    "Feature scaling hanya kita lakukan pada data yang bersifat numerik , sehingga international plan kita lakukan dropping terlebih dahulu"
   ]
  },
  {
   "cell_type": "code",
   "execution_count": 97,
   "metadata": {},
   "outputs": [],
   "source": [
    "scaler = StandardScaler()\n",
    "\n",
    "ct = ColumnTransformer(transformers=[('numeric',scaler,num_columns_train_importance)])\n",
    "\n",
    "X_train_scaled = ct.fit_transform(X_train)   \n",
    "X_test_scaled = ct.transform(X_test)   "
   ]
  },
  {
   "cell_type": "markdown",
   "metadata": {},
   "source": [
    "### Feature Encoding"
   ]
  },
  {
   "cell_type": "markdown",
   "metadata": {},
   "source": [
    "Tadi kita sudah melakukan scaling terhadap data numerik , sekarang kita lakukan encoding terhadap data kategorik , yaitu kolom international plan"
   ]
  },
  {
   "cell_type": "code",
   "execution_count": 98,
   "metadata": {},
   "outputs": [],
   "source": [
    "ohe = OneHotEncoder(sparse=False)\n",
    "\n",
    "ct_encode = ColumnTransformer(transformers=[('categoric',ohe,['International plan'])])\n",
    "\n",
    "X_train_encoded = ct_encode.fit_transform(X_train)   \n",
    "X_test_encoded = ct_encode.transform(X_test)  "
   ]
  },
  {
   "cell_type": "code",
   "execution_count": 99,
   "metadata": {},
   "outputs": [
    {
     "data": {
      "text/plain": [
       "array([[1., 0.],\n",
       "       [1., 0.],\n",
       "       [1., 0.],\n",
       "       ...,\n",
       "       [1., 0.],\n",
       "       [0., 1.],\n",
       "       [1., 0.]])"
      ]
     },
     "execution_count": 99,
     "metadata": {},
     "output_type": "execute_result"
    }
   ],
   "source": [
    "X_train_encoded"
   ]
  },
  {
   "cell_type": "markdown",
   "metadata": {},
   "source": [
    "### Menggabungkan data hasil scaling + encoding"
   ]
  },
  {
   "cell_type": "code",
   "execution_count": 100,
   "metadata": {},
   "outputs": [],
   "source": [
    "X_train_final = np.concatenate([X_train_scaled,X_train_encoded],axis=1)\n",
    "X_test_final = np.concatenate([X_test_scaled,X_test_encoded],axis=1)"
   ]
  },
  {
   "cell_type": "markdown",
   "metadata": {},
   "source": [
    "Kita lihat bentuk datanya seperti apa setelah digabung :"
   ]
  },
  {
   "cell_type": "code",
   "execution_count": 101,
   "metadata": {},
   "outputs": [
    {
     "data": {
      "text/plain": [
       "array([ 1.42187701,  1.12184546, -1.67597537, -0.94192898,  0.94436221,\n",
       "       -1.46492639, -0.03699766,  0.61939519,  0.32580093,  1.        ,\n",
       "        0.        ])"
      ]
     },
     "execution_count": 101,
     "metadata": {},
     "output_type": "execute_result"
    }
   ],
   "source": [
    "X_train_final[1]"
   ]
  },
  {
   "cell_type": "markdown",
   "metadata": {},
   "source": [
    "### SMOTENC - Untuk Imbalance Dataset"
   ]
  },
  {
   "cell_type": "markdown",
   "metadata": {},
   "source": [
    "Dapat kita lihat, bahwa sebelumnya saat EDA, komposisi dataset atas label 0 dan 1 pada Churn terlihat tidak seimbang , sehingga kita perlu untuk mengimbanginya , dengan memanfaatkan SMOTE, khususnya SMOTENC dengan konsep oversampling pada minor label."
   ]
  },
  {
   "cell_type": "code",
   "execution_count": 102,
   "metadata": {},
   "outputs": [],
   "source": [
    "from imblearn.over_sampling import SMOTENC\n",
    "sm = SMOTENC(random_state=42,categorical_features=[8,9])\n",
    "X_train_final_resampled ,y_train_final_resampled = sm.fit_resample(X_train_final,y_train)"
   ]
  },
  {
   "cell_type": "markdown",
   "metadata": {},
   "source": [
    "# 6. Model Definition"
   ]
  },
  {
   "cell_type": "markdown",
   "metadata": {},
   "source": [
    "Bagian ini berisi cell untuk mendefinisikan model. Jelaskan alasan menggunakan suatu algoritma/model, hyperparameter yang dipakai, jenis penggunaan metrics yang dipakai, dan hal lain yang terkait dengan model.\n",
    "\n"
   ]
  },
  {
   "cell_type": "markdown",
   "metadata": {},
   "source": [
    "Karena memanfaatkan klasifikasi , kita coba gunakan 4 algoritma , yaitu :\n",
    "\n",
    "1. Logistic Regression\n",
    "2. Support Vector Machines\n",
    "3. K-Neares Neighbors\n",
    "4. Random Forest Classifiers"
   ]
  },
  {
   "cell_type": "code",
   "execution_count": 103,
   "metadata": {},
   "outputs": [],
   "source": [
    "logreg = LogisticRegression()\n",
    "svm = SVC()\n",
    "knn = KNeighborsClassifier()\n",
    "rf = RandomForestClassifier()"
   ]
  },
  {
   "cell_type": "markdown",
   "metadata": {},
   "source": [
    "# 7. Model Training"
   ]
  },
  {
   "cell_type": "markdown",
   "metadata": {},
   "source": [
    "Kita lakukan pelatihan model dengan menggunakan data train"
   ]
  },
  {
   "cell_type": "code",
   "execution_count": 104,
   "metadata": {},
   "outputs": [
    {
     "data": {
      "text/plain": [
       "RandomForestClassifier()"
      ]
     },
     "execution_count": 104,
     "metadata": {},
     "output_type": "execute_result"
    }
   ],
   "source": [
    "logreg.fit(X_train_final_resampled,y_train_final_resampled)\n",
    "svm.fit(X_train_final_resampled,y_train_final_resampled)\n",
    "knn.fit(X_train_final_resampled,y_train_final_resampled)\n",
    "rf.fit(X_train_final_resampled,y_train_final_resampled)"
   ]
  },
  {
   "cell_type": "markdown",
   "metadata": {},
   "source": [
    "# 8. Model Evaluation"
   ]
  },
  {
   "cell_type": "markdown",
   "metadata": {},
   "source": [
    "Sekarang kita lihat , bagaimana hasil masing - masing model. Base model ini akan kita lihat performanya , mana yang lebih baik sehingga akan dilakukan hyperparameter tuning sehingga meningkatkan metrics model"
   ]
  },
  {
   "cell_type": "markdown",
   "metadata": {},
   "source": [
    " Target yang kita inginkan adalah , menghasilkan recall sebesar mungkin, karena rumus recall = TP / (TP + FN) ,yang berarti semakin sedikit False Negative (atau mendekati 0), maka nilai recall mendekati 1\n"
   ]
  },
  {
   "cell_type": "markdown",
   "metadata": {},
   "source": [
    "Kemudian , untuk cross validation score "
   ]
  },
  {
   "cell_type": "markdown",
   "metadata": {},
   "source": [
    "### Logistic Regression - Menggunakan Data Imbalance"
   ]
  },
  {
   "cell_type": "code",
   "execution_count": 105,
   "metadata": {},
   "outputs": [
    {
     "name": "stdout",
     "output_type": "stream",
     "text": [
      "All Cross val score : [0.77653631 0.78201635 0.77793103 0.78382148 0.78213802]\n",
      "Mean Cross val score : 0.78048863976903\n",
      "Std Cross val score : 0.0027685523446802163\n",
      "Range Cross val score : 0.7777200874243498 - 0.7832571921137103\n"
     ]
    }
   ],
   "source": [
    "cross_val_logreg = cross_val_score(logreg,X_train_final_resampled,y_train_final_resampled,scoring='f1',cv=5)\n",
    "print(\"All Cross val score :\",cross_val_logreg)\n",
    "print(\"Mean Cross val score :\",cross_val_logreg.mean())\n",
    "print(\"Std Cross val score :\",cross_val_logreg.std())\n",
    "print(\"Range Cross val score :\",cross_val_logreg.mean()-cross_val_logreg.std(),'-',cross_val_logreg.mean()+cross_val_logreg.std())"
   ]
  },
  {
   "cell_type": "markdown",
   "metadata": {},
   "source": [
    "Terlihat bahwa setelah dilakukan handling imbalance dataset, cross validation score pada f1 menunjukkan kenaikkan yang signifikan. Sehingga imbalance dataset cukup penting pada kondisi dataset yang seperti ini. Sehingga untuk model lain kita juga akan manfaatkan data train yang telah dihandle untuk training model"
   ]
  },
  {
   "cell_type": "markdown",
   "metadata": {},
   "source": [
    "Dari hasil cross val di atas , terlihat bahwa nilai crossval score cukup tinggi , didukung dengan kondisi standar deviasi yang mendekati 0 , yang artinya cross val score konsisten memiliki hasil yang berdekatan. Tetapi kita akan coba lihat dahulu , dari sisi classification report nya seperti apa"
   ]
  },
  {
   "cell_type": "code",
   "execution_count": 106,
   "metadata": {},
   "outputs": [
    {
     "name": "stdout",
     "output_type": "stream",
     "text": [
      "Classification Report Logistic Regression: \n",
      "              precision    recall  f1-score   support\n",
      "\n",
      "           0       0.93      0.76      0.84       450\n",
      "           1       0.32      0.65      0.43        77\n",
      "\n",
      "    accuracy                           0.75       527\n",
      "   macro avg       0.62      0.71      0.63       527\n",
      "weighted avg       0.84      0.75      0.78       527\n",
      "\n"
     ]
    }
   ],
   "source": [
    "y_pred_test = logreg.predict(X_test_final)\n",
    "\n",
    "print(\"Classification Report Logistic Regression: \")\n",
    "print(classification_report(y_test,y_pred_test))"
   ]
  },
  {
   "cell_type": "markdown",
   "metadata": {},
   "source": [
    "Dari churn 0 ,menunjukkan bahwa baik precision dan recall menunjukkan hasil yang baik. \n",
    "\n",
    "Akan tetapi pada churn 1 , precisionnya kecil , di kisaran 32% , yang artinya False Positive lebih banyak daripada True Positive.\n",
    "\n",
    "Untuk recall pada churn 1, recallnya di kisaran 65% , yang artinya True Positive masih lebih banyak dari False Negativenya\n",
    "\n",
    "Tujuan kita adalah dari yang benar - benar Churn , seberapa persen yang terprediksi bahwa benar - benar Churn , yang artinya, kita ingin menaikkan recall (True Positive > False Negative). Karena , kita mau agar kita bisa menemukan yang benar - benar Churn agar bisa langsung diberikan service / response khusus terhadap yang Churn tersebut. \n",
    "\n",
    "Akan tetapi kita juga ingin melihat hasil precision yang tinggi. Karena kita juga tidak mau bahwa yang False Positive (terprediksi positif padahal negatif) nya banyak, karena akan mengganggu / salah melakukan treatment pada orang yang tidak churn"
   ]
  },
  {
   "cell_type": "markdown",
   "metadata": {},
   "source": [
    "Selanjutnya kita lihat untuk SVM"
   ]
  },
  {
   "cell_type": "markdown",
   "metadata": {},
   "source": [
    "### Support Vector Machine"
   ]
  },
  {
   "cell_type": "code",
   "execution_count": 107,
   "metadata": {},
   "outputs": [
    {
     "name": "stdout",
     "output_type": "stream",
     "text": [
      "All Cross val score : [0.87359551 0.89473684 0.90014065 0.89367816 0.8861454 ]\n",
      "Mean Cross val score : 0.8896593120565589\n",
      "Std Cross val score : 0.009188952733958235\n",
      "Range Cross val score : 0.8804703593226006 - 0.8988482647905172\n"
     ]
    }
   ],
   "source": [
    "cross_val_svm = cross_val_score(svm,X_train_final_resampled,y_train_final_resampled,scoring='f1',cv=5)\n",
    "print(\"All Cross val score :\",cross_val_svm)\n",
    "print(\"Mean Cross val score :\",cross_val_svm.mean())\n",
    "print(\"Std Cross val score :\",cross_val_svm.std())\n",
    "print(\"Range Cross val score :\",cross_val_svm.mean()-cross_val_svm.std(),'-',cross_val_svm.mean()+cross_val_svm.std())"
   ]
  },
  {
   "cell_type": "markdown",
   "metadata": {},
   "source": [
    "Dari cross validation score, terlihat bahwa menunjukkan hasil yang cukup tinggi , dengan standar deviasi yang konsisten . Akan tetapi , kita perlu lihat dahulu hasil pada classification reportnya"
   ]
  },
  {
   "cell_type": "code",
   "execution_count": 108,
   "metadata": {},
   "outputs": [
    {
     "name": "stdout",
     "output_type": "stream",
     "text": [
      "Classification Report Support Vector Machine: \n",
      "              precision    recall  f1-score   support\n",
      "\n",
      "           0       0.94      0.90      0.92       450\n",
      "           1       0.54      0.66      0.60        77\n",
      "\n",
      "    accuracy                           0.87       527\n",
      "   macro avg       0.74      0.78      0.76       527\n",
      "weighted avg       0.88      0.87      0.87       527\n",
      "\n"
     ]
    }
   ],
   "source": [
    "y_pred_test = svm.predict(X_test_final)\n",
    "\n",
    "print(\"Classification Report Support Vector Machine: \")\n",
    "print(classification_report(y_test,y_pred_test))"
   ]
  },
  {
   "cell_type": "markdown",
   "metadata": {},
   "source": [
    "Pada hasil report di atas , terlihat bahwa secara precision dan recall baik pada label 0 dan 1 , memiliki hasil yang lebih baik daripada Logistic Regression , sehingga untuk model ini dapat dipertimbangkan untuk digunakan. Ditambah, kondisi accuracy f1-score nya berada di range pada cross validation scorenya"
   ]
  },
  {
   "cell_type": "markdown",
   "metadata": {},
   "source": [
    "### K-Nearest Neighbors"
   ]
  },
  {
   "cell_type": "code",
   "execution_count": 109,
   "metadata": {},
   "outputs": [
    {
     "name": "stdout",
     "output_type": "stream",
     "text": [
      "All Cross val score : [0.87926509 0.90649351 0.9079118  0.91050584 0.89144317]\n",
      "Mean Cross val score : 0.8991238810183144\n",
      "Std Cross val score : 0.011953683381921083\n",
      "Range Cross val score : 0.8871701976363934 - 0.9110775644002355\n"
     ]
    }
   ],
   "source": [
    "cross_val_knn = cross_val_score(knn,X_train_final_resampled,y_train_final_resampled,scoring='f1',cv=5)\n",
    "print(\"All Cross val score :\",cross_val_knn)\n",
    "print(\"Mean Cross val score :\",cross_val_knn.mean())\n",
    "print(\"Std Cross val score :\",cross_val_knn.std())\n",
    "print(\"Range Cross val score :\",cross_val_knn.mean()-cross_val_knn.std(),'-',cross_val_knn.mean()+cross_val_knn.std())"
   ]
  },
  {
   "cell_type": "markdown",
   "metadata": {},
   "source": [
    "Dari cross validation score, dapat dilihat bahwa nilai f1-scorenya lebih tinggi lagi dibandingkan support vector machine . Tetapi apakah diikuti juga dengan hasil classification report yang baik?"
   ]
  },
  {
   "cell_type": "code",
   "execution_count": 110,
   "metadata": {},
   "outputs": [
    {
     "name": "stdout",
     "output_type": "stream",
     "text": [
      "Classification Report K-Nearest Neighbors: \n",
      "              precision    recall  f1-score   support\n",
      "\n",
      "           0       0.93      0.85      0.89       450\n",
      "           1       0.42      0.64      0.51        77\n",
      "\n",
      "    accuracy                           0.82       527\n",
      "   macro avg       0.68      0.74      0.70       527\n",
      "weighted avg       0.86      0.82      0.83       527\n",
      "\n"
     ]
    }
   ],
   "source": [
    "y_pred_test = knn.predict(X_test_final)\n",
    "\n",
    "print(\"Classification Report K-Nearest Neighbors: \")\n",
    "print(classification_report(y_test,y_pred_test))"
   ]
  },
  {
   "cell_type": "markdown",
   "metadata": {},
   "source": [
    "Dari hasil classification report, ternyata accuracy f1-score nya berada di bawah cross validation scorenya ,  kemudian jika dilihat dari precisionnya, tidak sebaik dibandingkan dengan support vector machine. \n",
    "\n",
    "Kita lihat lagi untuk model selanjutnya, Random Forest Classifier"
   ]
  },
  {
   "cell_type": "markdown",
   "metadata": {},
   "source": [
    "### Random Forest Classifier"
   ]
  },
  {
   "cell_type": "code",
   "execution_count": 111,
   "metadata": {},
   "outputs": [
    {
     "name": "stdout",
     "output_type": "stream",
     "text": [
      "All Cross val score : [0.90469417 0.94360385 0.94545455 0.9248227  0.93793103]\n",
      "Mean Cross val score : 0.9313012588538239\n",
      "Std Cross val score : 0.0151362631561679\n",
      "Range Cross val score : 0.916164995697656 - 0.9464375220099918\n"
     ]
    }
   ],
   "source": [
    "cross_val_rf = cross_val_score(rf,X_train_final_resampled,y_train_final_resampled,scoring='f1',cv=5)\n",
    "print(\"All Cross val score :\",cross_val_rf)\n",
    "print(\"Mean Cross val score :\",cross_val_rf.mean())\n",
    "print(\"Std Cross val score :\",cross_val_rf.std())\n",
    "print(\"Range Cross val score :\",cross_val_rf.mean()-cross_val_rf.std(),'-',cross_val_rf.mean()+cross_val_rf.std())"
   ]
  },
  {
   "cell_type": "markdown",
   "metadata": {},
   "source": [
    "Menariknya , cross validation score ini menghasilkan range tertinggi , dibandingkan dengan tiga model sebelumnya. Tetapi , perlu kita ingat bahwa hasil classification report belum tentu sejajar dengan range cross validation scorenya. Sehingga, kita lihat dahulu bagaimana kondisi cross validation score nya"
   ]
  },
  {
   "cell_type": "code",
   "execution_count": 112,
   "metadata": {},
   "outputs": [
    {
     "name": "stdout",
     "output_type": "stream",
     "text": [
      "Classification Report Random Forest Classifier: \n",
      "              precision    recall  f1-score   support\n",
      "\n",
      "           0       0.95      0.95      0.95       450\n",
      "           1       0.71      0.73      0.72        77\n",
      "\n",
      "    accuracy                           0.92       527\n",
      "   macro avg       0.83      0.84      0.83       527\n",
      "weighted avg       0.92      0.92      0.92       527\n",
      "\n"
     ]
    }
   ],
   "source": [
    "y_pred_test = rf.predict(X_test_final)\n",
    "\n",
    "print(\"Classification Report Random Forest Classifier: \")\n",
    "print(classification_report(y_test,y_pred_test))"
   ]
  },
  {
   "cell_type": "markdown",
   "metadata": {},
   "source": [
    "Ternyata, pada kasus ini Random Forest Classifier memiliki hasil yang lebih menarik daripada ketiga model lainnya. Kondisi precision dan recall saat label nya = 1 cukup baik dibandingkan ketiga model lainnya. Kemudian untuk f1-score accuracy nya , juga lebih baik karena berada pada kondisi range cross validation score nya. Sehingga yang akan kita lakukan model improvement juga Random Forest Classifier saja"
   ]
  },
  {
   "cell_type": "markdown",
   "metadata": {},
   "source": [
    "### Model Improvement - Random Forest Classifier"
   ]
  },
  {
   "cell_type": "markdown",
   "metadata": {},
   "source": [
    "Kita lakukan Model Improvement , khususnya pada Random Forest Classifier . Kita akan manfaatkan Pipeline serta GridSearchCV , untuk melihat dari pilihan parameter yang ada , yang mana yang terbaik."
   ]
  },
  {
   "cell_type": "code",
   "execution_count": 113,
   "metadata": {},
   "outputs": [],
   "source": [
    "num_pipeline = make_pipeline(scaler)\n",
    "cat_pipeline = make_pipeline(ohe)\n",
    "\n",
    "data_pipeline = ColumnTransformer([\n",
    "        ('pipe_num',num_pipeline,num_columns_train_importance),\n",
    "        ('pipe_cat',cat_pipeline,cat_columns_train_importance)\n",
    "])\n",
    "\n",
    "final_pipeline = Pipeline([\n",
    "        ('data_pipe',data_pipeline),\n",
    "        ('smotenc',sm),\n",
    "        ('rf',rf)\n",
    "])"
   ]
  },
  {
   "cell_type": "markdown",
   "metadata": {},
   "source": [
    "Sekarang kita sudah berhasil membuat final pipeline yang berisi preprocessing data (kecuali handling outlier). Selanjutnya , kita coba manfaatkan pipeline tersebut ke dalam grid search cv (kombinasi pipeline dengan gridsearchcv)"
   ]
  },
  {
   "cell_type": "code",
   "execution_count": 114,
   "metadata": {},
   "outputs": [
    {
     "name": "stdout",
     "output_type": "stream",
     "text": [
      "Best parameters : {'rf__max_depth': 50, 'rf__min_samples_leaf': 2, 'rf__min_samples_split': 3, 'rf__n_estimators': 50}\n"
     ]
    }
   ],
   "source": [
    "parameters = {\n",
    "    'rf__n_estimators':(10,50,100,250,500),\n",
    "    'rf__max_depth': (50,150,250),\n",
    "    'rf__min_samples_split':(2,3),\n",
    "    'rf__min_samples_leaf':(1,2,3)\n",
    "}\n",
    "\n",
    "grid_pipe = GridSearchCV(final_pipeline,param_grid=parameters,cv=5)\n",
    "grid_pipe.fit(X_train,y_train)\n",
    "print(\"Best parameters : {}\".format(grid_pipe.best_params_))"
   ]
  },
  {
   "cell_type": "markdown",
   "metadata": {},
   "source": [
    "Setelah melakukan gridsearchcv dengan pipeline , kita lihat parameter terbaik diantara list parameter di atas"
   ]
  },
  {
   "cell_type": "code",
   "execution_count": 115,
   "metadata": {},
   "outputs": [
    {
     "data": {
      "text/plain": [
       "{'rf__max_depth': 50,\n",
       " 'rf__min_samples_leaf': 2,\n",
       " 'rf__min_samples_split': 3,\n",
       " 'rf__n_estimators': 50}"
      ]
     },
     "execution_count": 115,
     "metadata": {},
     "output_type": "execute_result"
    }
   ],
   "source": [
    "grid_pipe.best_params_"
   ]
  },
  {
   "cell_type": "markdown",
   "metadata": {},
   "source": [
    "Di atas merupakan hasil parameter terbaik yang dimiliki model , dengan asumsi diantara menggunakan gridsearch tersebut. Sekarang grid search terbaik akan kita manfaatkan"
   ]
  },
  {
   "cell_type": "code",
   "execution_count": 116,
   "metadata": {},
   "outputs": [],
   "source": [
    "grid_pipe_best = grid_pipe.best_estimator_"
   ]
  },
  {
   "cell_type": "markdown",
   "metadata": {},
   "source": [
    "Kita coba train model dengan pipeline serta parameter model yang sudah diambil berdasarkan yang terbaik"
   ]
  },
  {
   "cell_type": "code",
   "execution_count": 117,
   "metadata": {},
   "outputs": [
    {
     "data": {
      "text/plain": [
       "Pipeline(steps=[('data_pipe',\n",
       "                 ColumnTransformer(transformers=[('pipe_num',\n",
       "                                                  Pipeline(steps=[('standardscaler',\n",
       "                                                                   StandardScaler())]),\n",
       "                                                  ['Account length',\n",
       "                                                   'Total day minutes',\n",
       "                                                   'Total day calls',\n",
       "                                                   'Total eve minutes',\n",
       "                                                   'Total night minutes',\n",
       "                                                   'Total night calls',\n",
       "                                                   'Total intl minutes',\n",
       "                                                   'Total intl calls',\n",
       "                                                   'Customer service calls']),\n",
       "                                                 ('pipe_cat',\n",
       "                                                  Pipeline(steps=[('onehotencoder',\n",
       "                                                                   OneHotEncoder(sparse=False))]),\n",
       "                                                  ['International plan'])])),\n",
       "                ('smotenc',\n",
       "                 SMOTENC(categorical_features=[8, 9], random_state=42)),\n",
       "                ('rf',\n",
       "                 RandomForestClassifier(max_depth=50, min_samples_leaf=2,\n",
       "                                        min_samples_split=3,\n",
       "                                        n_estimators=50))])"
      ]
     },
     "execution_count": 117,
     "metadata": {},
     "output_type": "execute_result"
    }
   ],
   "source": [
    "grid_pipe_best.fit(X_train,y_train)"
   ]
  },
  {
   "cell_type": "markdown",
   "metadata": {},
   "source": [
    "Kita coba liat hasil y_test menurut model untuk dilihat classification report nya"
   ]
  },
  {
   "cell_type": "code",
   "execution_count": 118,
   "metadata": {},
   "outputs": [],
   "source": [
    "y_test_pred = grid_pipe_best.predict(X_test)"
   ]
  },
  {
   "cell_type": "markdown",
   "metadata": {},
   "source": [
    "Setelah mendapatkan hasil prediksi y_test_pred untuk dibandingkan dengan y_test nya , sekarang kita lihat hasilnya seperti apa"
   ]
  },
  {
   "cell_type": "code",
   "execution_count": 119,
   "metadata": {},
   "outputs": [
    {
     "name": "stdout",
     "output_type": "stream",
     "text": [
      "              precision    recall  f1-score   support\n",
      "\n",
      "           0       0.96      0.95      0.95       450\n",
      "           1       0.71      0.74      0.73        77\n",
      "\n",
      "    accuracy                           0.92       527\n",
      "   macro avg       0.83      0.84      0.84       527\n",
      "weighted avg       0.92      0.92      0.92       527\n",
      "\n"
     ]
    }
   ],
   "source": [
    "print(classification_report(y_test,y_test_pred))"
   ]
  },
  {
   "cell_type": "markdown",
   "metadata": {},
   "source": [
    "Dari hasil pemanfaatan grid search cv pipeline di atas :\n",
    "- Hasilnya menunjukkan bahwa dibandingkan tanpa menggunakan gridsearch cv , hasil tidak begitu berbeda"
   ]
  },
  {
   "cell_type": "markdown",
   "metadata": {},
   "source": [
    "Sekarang kita lihat bagaimana roc_auc_score nya"
   ]
  },
  {
   "cell_type": "code",
   "execution_count": 130,
   "metadata": {},
   "outputs": [
    {
     "name": "stdout",
     "output_type": "stream",
     "text": [
      "0.8445743145743145\n"
     ]
    }
   ],
   "source": [
    "print(roc_auc_score(y_test,y_test_pred))"
   ]
  },
  {
   "cell_type": "markdown",
   "metadata": {},
   "source": [
    "Dari segi roc_auc_score , bahkan model gridsearchcv pipeline ini memberikan nilai 84% , dimana yang berarti model ini cukup dapat diandalkan untuk melakukan prediksi pelanggan akan Churn atau tidak"
   ]
  },
  {
   "cell_type": "markdown",
   "metadata": {},
   "source": [
    "# 9. Model Saving"
   ]
  },
  {
   "cell_type": "markdown",
   "metadata": {},
   "source": [
    "Dengan melihat hasil evaluasi model, pilihlah model terbaik untuk disimpan. Model terbaik ini akan digunakan kembali dalam melakukan deployment di Heroku."
   ]
  },
  {
   "cell_type": "markdown",
   "metadata": {},
   "source": [
    "Kita sudah mengetahui :\n",
    "1. Memanfaatkan model ketika kondisi data sebelum dilakukan feature scaling dan encoding. Dalam arti lain , kondisi data yang diinput adalah kondisi data yang sudah dilakukan feature selection.\n",
    "2. Setelah menggunakan gridsearch cv untuk menemukan parameter yang baik pada model pipeline tadi , kita gunakan pipeline dengan best parameters\n",
    "3. Memanfaatkan pickle (import pickle) untuk dapat menyimpan grid_pipe_best tersebut"
   ]
  },
  {
   "cell_type": "code",
   "execution_count": 120,
   "metadata": {},
   "outputs": [],
   "source": [
    "# with open (\"model_gridpipeline.pkl\",\"wb\") as f :\n",
    "#     pickle.dump(grid_pipe_best,f)"
   ]
  },
  {
   "cell_type": "markdown",
   "metadata": {},
   "source": [
    "# 10. Model Inference"
   ]
  },
  {
   "cell_type": "markdown",
   "metadata": {},
   "source": [
    "Kita coba gunakan model kita ,apakah bisa memprediksi atau tidak."
   ]
  },
  {
   "cell_type": "code",
   "execution_count": 127,
   "metadata": {},
   "outputs": [
    {
     "data": {
      "text/plain": [
       "array([0, 0, 0, 0, 0, 0, 0, 0, 0, 0, 0, 1, 0, 0, 1], dtype=int64)"
      ]
     },
     "execution_count": 127,
     "metadata": {},
     "output_type": "execute_result"
    }
   ],
   "source": [
    "y_pred_inf = grid_pipe_best.predict(X_test[:15])\n",
    "y_pred_inf"
   ]
  },
  {
   "cell_type": "code",
   "execution_count": 128,
   "metadata": {},
   "outputs": [
    {
     "data": {
      "text/plain": [
       "1396    0\n",
       "542     0\n",
       "2275    0\n",
       "1302    0\n",
       "560     0\n",
       "778     0\n",
       "1730    0\n",
       "2191    0\n",
       "986     0\n",
       "459     0\n",
       "17      0\n",
       "1173    1\n",
       "1604    0\n",
       "2537    0\n",
       "302     1\n",
       "Name: Churn, dtype: int64"
      ]
     },
     "execution_count": 128,
     "metadata": {},
     "output_type": "execute_result"
    }
   ],
   "source": [
    "y_test[:15]"
   ]
  },
  {
   "cell_type": "markdown",
   "metadata": {},
   "source": [
    "Dengan memanfaatkan data inference dari X_test, dapat kita lihat bahwa dari 15 data tes awal , model bisa memprediksi cukup baik."
   ]
  },
  {
   "cell_type": "markdown",
   "metadata": {},
   "source": [
    "# 11. Pengambilan Kesimpulan"
   ]
  },
  {
   "cell_type": "markdown",
   "metadata": {},
   "source": [
    "Berdasarkan data yang diambil dari https://www.kaggle.com/datasets/mnassrib/telecom-churn-datasets dengan nama dataset churn-bigml-80.csv :\n",
    "\n",
    "1. Dataset berkomposisi feature apa saja yang mempengaruhi pelanggan (anggap saja pelanggan provider seluler) untuk berpindah provider (Churn) dimana jika Churn nya True artinya 1 ,dan False artinya 0 . Dengan artian lain bahwa Churn = 1 berarti orang berpotensi pindah , dengan diberikan feature spt di atas\n",
    "2. Akan tetapi , karena kondisi label yang imbalance antara Churn True dan False, nantinya perlu kita handling imbalance terlebih dahulu sehingga model dapat belajar untuk membaca dengan tepat mana yang seharusnya True atau False. \n",
    "3. Kemudian untuk data outlier ada tabel total minutes terendah yang saya hapus outliernya , mengapa ? karena jika data yang berada di lower limit memiliki hasil label yang homogen, itu artinya value dari kolom tersebut akan cukup mengganggu cara model bekerja\n",
    "4. Melakukan feature selection dengan feature importance dari RandomForestClassifier.featureimportance untuk memilih dengan baik, jika ada dataset dengan kasus seperti ini, kolom mana yang benar - benar lebih berpartisipasi penuh dalam keputusan hasil model\n",
    "5. Melakukan scaling dan encoding\n",
    "6. Melakukan uji model dengan 4 model , yaitu Logistic Regression , Support Vector Machine , KNN , dan RandomForestClassifier\n",
    "7. Dari keseluruhan model yang digunakan , saat menampilkan f1-score accuracy, yang memiliki f1-score accuracy berada di range cross validation score dengan scoring f1, adalah model yang dianggap konsisten / berada di jalurnya. Kemudian , yang memiliki precision dan recall cukup tinggi saat Churn = 1, juga menjadi pertimbangan lebih. Dan model yang sesuai dengan requirement tersebut adalah Random Forest Classifier\n",
    "8. Setelah memilih model Random Forest Classifier , kita coba uji dengan gridsearchcv , dan ternyata parameter terbaik yang terpilih juga tidak begitu menghasilkan perbedaan yang signifikan\n",
    "9. Model diuji dengan 15 data test awal , dan hasil nya cukup baik karena dapat memprediksi sesuai dengan kejadian aslinya pada y_test "
   ]
  }
 ],
 "metadata": {
  "interpreter": {
   "hash": "bfc475a2e745c4122d3276f58695a2ee5c947f5da1ca14d027b370257022f470"
  },
  "kernelspec": {
   "display_name": "Python 3.9.7 ('base')",
   "language": "python",
   "name": "python3"
  },
  "language_info": {
   "codemirror_mode": {
    "name": "ipython",
    "version": 3
   },
   "file_extension": ".py",
   "mimetype": "text/x-python",
   "name": "python",
   "nbconvert_exporter": "python",
   "pygments_lexer": "ipython3",
   "version": "3.9.7"
  },
  "orig_nbformat": 4
 },
 "nbformat": 4,
 "nbformat_minor": 2
}
