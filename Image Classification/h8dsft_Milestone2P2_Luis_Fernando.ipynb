{
  "cells": [
    {
      "cell_type": "markdown",
      "metadata": {
        "id": "Q8j070MV9EIf"
      },
      "source": [
        "# 1. Perkenalan\n",
        "\n",
        "Bab pengenalan harus diisi dengan identitas, gambaran besar dataset yang digunakan, dan objective yang ingin dicapai.\n",
        "\n",
        "Luis Fernando - FTDS 010 - Phase 2\n",
        "\n",
        "Dataset yang digunakan adalah dari sini : https://www.kaggle.com/datasets/msambare/fer2013\n",
        "\n",
        "Topik yang ingin dibahas : Face Emotion Classification (Deep Learning - Computer Vision)\n",
        "\n",
        "Objective yang diinginkan : Model dapat mengenali, ketika mencoba import gambar orang yang sedang berekspresi, apakah ekspresi yang disampaikan oleh gambar tersebut ?\n",
        "\n"
      ]
    },
    {
      "cell_type": "markdown",
      "metadata": {
        "id": "3byAyNH8I6UA"
      },
      "source": [
        "### Import Data ke Temporary Storage di Collab"
      ]
    },
    {
      "cell_type": "code",
      "execution_count": 3,
      "metadata": {
        "id": "ednQ1k0g4xcR"
      },
      "outputs": [],
      "source": [
        "# !mkdir -p ~/.kaggle #membuat folder bernama kaggle di dalam root pada ../root\n",
        "# !cp kaggle.json ~/.kaggle #copas kaggle json yang ada di sini, ke dalam folder yang sudah dibuat di atas\n",
        "\n",
        "# !mkdir ./kaggle #membuat folder bernama kaggle di folder ini\n",
        "# !mv ./kaggle.json ./kaggle #memindahkan kaggle.json disini ke folder kaggle yang baru dibuat disini"
      ]
    },
    {
      "cell_type": "code",
      "execution_count": 4,
      "metadata": {
        "colab": {
          "base_uri": "https://localhost:8080/"
        },
        "id": "eNsHAmkBMX9j",
        "outputId": "9b542163-536c-4082-b3e1-cbea87d88c16"
      },
      "outputs": [],
      "source": [
        "# !chmod 600 ~/.kaggle/kaggle.json \n",
        "# !ls ~/.kaggle "
      ]
    },
    {
      "cell_type": "code",
      "execution_count": 5,
      "metadata": {
        "colab": {
          "base_uri": "https://localhost:8080/"
        },
        "id": "KahlElHAM2oD",
        "outputId": "7be8c928-3cf0-437c-b85b-72a36476d099"
      },
      "outputs": [],
      "source": [
        "# !kaggle datasets download -d msambare/fer2013"
      ]
    },
    {
      "cell_type": "code",
      "execution_count": 6,
      "metadata": {
        "id": "_G3jEM8fOp3a"
      },
      "outputs": [],
      "source": [
        "# !unzip -q /content/fer2013.zip -d facedata #facedata adalah nama foldernya"
      ]
    },
    {
      "cell_type": "markdown",
      "metadata": {
        "id": "8bv718n9WXw1"
      },
      "source": [
        "# 2. Import Libraries\n",
        "\n",
        "Cell pertama pada notebook harus berisi dan hanya berisi semua library yang digunakan dalam project."
      ]
    },
    {
      "cell_type": "code",
      "execution_count": 2,
      "metadata": {
        "id": "G4kaI01pPchM"
      },
      "outputs": [],
      "source": [
        "import os\n",
        "import glob\n",
        "import warnings\n",
        "warnings.filterwarnings('ignore')\n",
        "import matplotlib.pyplot as plt\n",
        "import numpy as np\n",
        "import tensorflow as tf\n",
        "import pandas as pd\n",
        "\n",
        "from sklearn.model_selection import train_test_split\n",
        "\n",
        "from tensorflow.keras.preprocessing.image import ImageDataGenerator\n",
        "from tensorflow.keras.preprocessing import image\n",
        "from tensorflow.keras.callbacks import EarlyStopping,ModelCheckpoint,ReduceLROnPlateau\n",
        "from tensorflow.keras.layers import Conv2D,MaxPooling2D,Dense,Dropout,Flatten,BatchNormalization,Reshape,Conv3D\n",
        "from tensorflow.keras.models import Sequential\n",
        "from tensorflow.keras.applications import ResNet50,VGG19\n",
        "# from tensorflow.keras.applications.resnet_v2 import ResNet50V2\n",
        "# from tensorflow.data import Dataset\n",
        "from tensorflow.keras.optimizers import Adam,RMSprop\n",
        "from tensorflow.keras import regularizers,initializers\n",
        "from sklearn.metrics import roc_auc_score,classification_report"
      ]
    },
    {
      "cell_type": "code",
      "execution_count": 3,
      "metadata": {
        "id": "noHRkXu0iMGB"
      },
      "outputs": [],
      "source": [
        "np.random.seed(42)\n",
        "tf.random.set_seed(42)"
      ]
    },
    {
      "cell_type": "markdown",
      "metadata": {
        "id": "eq0xJinqWeGQ"
      },
      "source": [
        "# 3. Data Loading\n",
        "\n",
        "Bagian ini berisi proses penyiapan data sebelum dilakukan eksplorasi data lebih lanjut. Proses Data Loading dapat berupa memberi nama baru untuk setiap kolom, mengecek ukuran dataset, dll."
      ]
    },
    {
      "cell_type": "markdown",
      "metadata": {},
      "source": [
        "Kita lihat dahulu , pada folder imagedataset, ada folder seperti apa :"
      ]
    },
    {
      "cell_type": "code",
      "execution_count": 4,
      "metadata": {
        "colab": {
          "base_uri": "https://localhost:8080/"
        },
        "id": "JFrywYkBR7wK",
        "outputId": "6f208af3-70b7-485d-fa60-d289352acb25"
      },
      "outputs": [
        {
          "data": {
            "text/plain": [
              "['test', 'train']"
            ]
          },
          "execution_count": 4,
          "metadata": {},
          "output_type": "execute_result"
        }
      ],
      "source": [
        "os.listdir('imagedataset')"
      ]
    },
    {
      "cell_type": "markdown",
      "metadata": {},
      "source": [
        "Dari data di atas kita bisa lihat bahwa di dalam imagedataset terdapat 2 folder : yaitu test dan train\n",
        "\n",
        "Kita simpan imagedataset dengan variabel bernama main_path, untuk bisa melakukan proses selanjutnya"
      ]
    },
    {
      "cell_type": "code",
      "execution_count": 5,
      "metadata": {
        "id": "FrIXHsg5SIFg"
      },
      "outputs": [],
      "source": [
        "main_path = 'imagedataset'"
      ]
    },
    {
      "cell_type": "markdown",
      "metadata": {},
      "source": [
        "Selanjutnya, kita simpan folder train dan test ke masing - masing variabel , yaitu train_dir dan test_dir"
      ]
    },
    {
      "cell_type": "code",
      "execution_count": 6,
      "metadata": {
        "id": "eziAKQfPShaJ"
      },
      "outputs": [],
      "source": [
        "train_dir = os.path.join(main_path,'train')\n",
        "test_dir = os.path.join(main_path,'test')"
      ]
    },
    {
      "cell_type": "markdown",
      "metadata": {},
      "source": [
        "Sekarang kita simpan masing - masing emosi , ke dalam emotion_list"
      ]
    },
    {
      "cell_type": "code",
      "execution_count": 7,
      "metadata": {
        "id": "vt30p32rSqBg"
      },
      "outputs": [],
      "source": [
        "emotion_list = []\n",
        "for item in os.listdir(train_dir):\n",
        "  emotion_list.append(item)"
      ]
    },
    {
      "cell_type": "markdown",
      "metadata": {
        "id": "bkJvH5taWq1g"
      },
      "source": [
        "# 4 . Exploratory Data Analysis (EDA)"
      ]
    },
    {
      "cell_type": "markdown",
      "metadata": {},
      "source": [
        "Bagian ini berisi explorasi data pada dataset diatas dengan menggunakan query, grouping, visualisasi sederhana, word cloud, dan lain sebagainya."
      ]
    },
    {
      "cell_type": "markdown",
      "metadata": {},
      "source": [
        "Kita lihat terlebih dahulu , bagaimana jumlah masing - masing emosi untuk data train dan test"
      ]
    },
    {
      "cell_type": "code",
      "execution_count": 8,
      "metadata": {
        "colab": {
          "base_uri": "https://localhost:8080/"
        },
        "id": "hirN_merTNMS",
        "outputId": "6eff9877-677b-480d-96ec-cba3104b7935"
      },
      "outputs": [
        {
          "name": "stdout",
          "output_type": "stream",
          "text": [
            "Train set angry\n",
            "3995\n",
            "==================================================\n",
            "Train set disgust\n",
            "436\n",
            "==================================================\n",
            "Train set fear\n",
            "4097\n",
            "==================================================\n",
            "Train set happy\n",
            "7215\n",
            "==================================================\n",
            "Train set neutral\n",
            "4965\n",
            "==================================================\n",
            "Train set sad\n",
            "4830\n",
            "==================================================\n",
            "Train set surprise\n",
            "3171\n",
            "==================================================\n"
          ]
        }
      ],
      "source": [
        "for item in emotion_list :\n",
        "  print(f'Train set {item}')\n",
        "  print(len(os.listdir(os.path.join(train_dir,item))))\n",
        "  print('='*50)"
      ]
    },
    {
      "cell_type": "code",
      "execution_count": 9,
      "metadata": {
        "colab": {
          "base_uri": "https://localhost:8080/"
        },
        "id": "GWlxqrvGWSjG",
        "outputId": "afc876aa-88ea-4327-9c4c-25dffe1ad9f2"
      },
      "outputs": [
        {
          "name": "stdout",
          "output_type": "stream",
          "text": [
            "Train set angry\n",
            "958\n",
            "==================================================\n",
            "Train set disgust\n",
            "111\n",
            "==================================================\n",
            "Train set fear\n",
            "1024\n",
            "==================================================\n",
            "Train set happy\n",
            "1774\n",
            "==================================================\n",
            "Train set neutral\n",
            "1233\n",
            "==================================================\n",
            "Train set sad\n",
            "1247\n",
            "==================================================\n",
            "Train set surprise\n",
            "831\n",
            "==================================================\n"
          ]
        }
      ],
      "source": [
        "for item in emotion_list :\n",
        "  print(f'Train set {item}')\n",
        "  print(len(os.listdir(os.path.join(test_dir,item))))\n",
        "  print('='*50)"
      ]
    },
    {
      "cell_type": "markdown",
      "metadata": {
        "id": "I-1hhcMPWyJm"
      },
      "source": [
        "Dari data di atas kita dapat melihat ada jumlah masing - masing emotion untuk data train dan test. Terlihat juga bahwa untuk disgust, terlihat ada data yang imbalance dibandingkan data yang lainnya. Sehingga tidak kita gunakan saja\n",
        "\n",
        "Sekarang, dari masing - masing gambar, kita namakan dengan label emotion nya"
      ]
    },
    {
      "cell_type": "code",
      "execution_count": 10,
      "metadata": {
        "id": "Z-26ADUPYKPY"
      },
      "outputs": [],
      "source": [
        "train_angry = glob.glob(train_dir+\"/angry/*.jpg\")\n",
        "train_surprise = glob.glob(train_dir+\"/surprise/*.jpg\")\n",
        "train_fear = glob.glob(train_dir+\"/fear/*.jpg\")\n",
        "train_disgust = glob.glob(train_dir+\"/disgust/*.jpg\")\n",
        "train_happy = glob.glob(train_dir+\"/happy/*.jpg\")\n",
        "train_sad = glob.glob(train_dir+\"/sad/*.jpg\")\n",
        "train_neutral = glob.glob(train_dir+\"/neutral/*.jpg\")"
      ]
    },
    {
      "cell_type": "markdown",
      "metadata": {
        "id": "ubt2_89jwU4_"
      },
      "source": [
        "Dari sini kita akan coba tidak tambahkan disgust ke dalam seluruh data train dan test"
      ]
    },
    {
      "cell_type": "code",
      "execution_count": 11,
      "metadata": {
        "id": "348CtaQK4TOi"
      },
      "outputs": [],
      "source": [
        "all_train = train_angry+train_surprise+train_fear+train_happy+train_sad+train_neutral"
      ]
    },
    {
      "cell_type": "code",
      "execution_count": 12,
      "metadata": {
        "id": "JdJhFvLvZlK7"
      },
      "outputs": [],
      "source": [
        "test_angry = glob.glob(test_dir+\"/angry/*.jpg\")\n",
        "test_surprise = glob.glob(test_dir+\"/surprise/*.jpg\")\n",
        "test_fear = glob.glob(test_dir+\"/fear/*.jpg\")\n",
        "test_disgust = glob.glob(test_dir+\"/disgust/*.jpg\")\n",
        "test_happy = glob.glob(test_dir+\"/happy/*.jpg\")\n",
        "test_sad = glob.glob(test_dir+\"/sad/*.jpg\")\n",
        "test_neutral = glob.glob(test_dir+\"/neutral/*.jpg\")"
      ]
    },
    {
      "cell_type": "code",
      "execution_count": 13,
      "metadata": {
        "id": "-8hKjcEH5rLv"
      },
      "outputs": [],
      "source": [
        "all_test = test_angry+test_surprise+test_fear+test_happy+test_sad+test_neutral"
      ]
    },
    {
      "cell_type": "markdown",
      "metadata": {},
      "source": [
        "Kita lihat bentuk dalam train_angry (untuk melihat sampel saja) , seperti apa format nama gambarnya"
      ]
    },
    {
      "cell_type": "code",
      "execution_count": 15,
      "metadata": {
        "colab": {
          "base_uri": "https://localhost:8080/"
        },
        "id": "4vzd6IawbAA4",
        "outputId": "00828ed6-a15d-4e8b-dd20-e2ed77f48faa"
      },
      "outputs": [
        {
          "name": "stdout",
          "output_type": "stream",
          "text": [
            "imagedataset\\train/angry\\Training_10118481.jpg\n",
            "imagedataset\\train/angry\\Training_10120469.jpg\n",
            "imagedataset\\train/angry\\Training_10131352.jpg\n",
            "imagedataset\\train/angry\\Training_10161559.jpg\n",
            "imagedataset\\train/angry\\Training_1021836.jpg\n"
          ]
        }
      ],
      "source": [
        "for image in train_angry[:5]:\n",
        "  print(image)"
      ]
    },
    {
      "cell_type": "markdown",
      "metadata": {},
      "source": [
        "Berikut adalah cara untuk melihat nama emosi masing - masing folder train dan test, untuk bisa dibuatkan dataframe"
      ]
    },
    {
      "cell_type": "code",
      "execution_count": 20,
      "metadata": {
        "colab": {
          "base_uri": "https://localhost:8080/",
          "height": 35
        },
        "id": "kteqDNprbQ65",
        "outputId": "dabb7abf-c6db-49ed-8320-047af8da9e9b"
      },
      "outputs": [
        {
          "data": {
            "text/plain": [
              "'neutral'"
            ]
          },
          "execution_count": 20,
          "metadata": {},
          "output_type": "execute_result"
        }
      ],
      "source": [
        "a = 'imagedataset\\\\test/neutral\\\\PublicTest_99862107.jpg'\n",
        "a.split('\\\\')[1][5:]"
      ]
    },
    {
      "cell_type": "code",
      "execution_count": 21,
      "metadata": {},
      "outputs": [
        {
          "data": {
            "text/plain": [
              "'imagedataset\\\\train/neutral\\\\Training_99969020.jpg'"
            ]
          },
          "execution_count": 21,
          "metadata": {},
          "output_type": "execute_result"
        }
      ],
      "source": [
        "all_train[-1]"
      ]
    },
    {
      "cell_type": "code",
      "execution_count": 22,
      "metadata": {},
      "outputs": [
        {
          "data": {
            "text/plain": [
              "'imagedataset\\\\test/neutral\\\\PublicTest_99862107.jpg'"
            ]
          },
          "execution_count": 22,
          "metadata": {},
          "output_type": "execute_result"
        }
      ],
      "source": [
        "all_test[-1]"
      ]
    },
    {
      "cell_type": "markdown",
      "metadata": {},
      "source": [
        "Setelah menemukan mana data file yang train dan test, kemudian kita coba simpan antara nama gambar sebagai `images`, dan nama folder masing - masing emotion nya sebagai `label`"
      ]
    },
    {
      "cell_type": "code",
      "execution_count": 23,
      "metadata": {
        "id": "yZ7w7mG21WrP"
      },
      "outputs": [],
      "source": [
        "def create_dataframe_train(directory):\n",
        "  data = []\n",
        "  for item in directory:\n",
        "    data.append((item,item.split('\\\\')[1][6:]))\n",
        "  return pd.DataFrame(data,columns=['images','label'])"
      ]
    },
    {
      "cell_type": "code",
      "execution_count": 24,
      "metadata": {
        "id": "rOHcjI4z4Nh9"
      },
      "outputs": [],
      "source": [
        "train_df = create_dataframe_train(all_train)"
      ]
    },
    {
      "cell_type": "code",
      "execution_count": 25,
      "metadata": {},
      "outputs": [],
      "source": [
        "def create_dataframe_test(directory):\n",
        "  data = []\n",
        "  for item in directory:\n",
        "    data.append((item,item.split('\\\\')[1][5:]))\n",
        "  return pd.DataFrame(data,columns=['images','label'])"
      ]
    },
    {
      "cell_type": "code",
      "execution_count": 26,
      "metadata": {
        "id": "1uEcR_XA53uz"
      },
      "outputs": [],
      "source": [
        "test_df = create_dataframe_test(all_test)"
      ]
    },
    {
      "cell_type": "markdown",
      "metadata": {},
      "source": [
        "Setelah sudah kita bentuk ke dalam dataframe, sekarang kita split, antara data train, validation , dan test, untuk mempermudah proses training dan inference"
      ]
    },
    {
      "cell_type": "code",
      "execution_count": 27,
      "metadata": {
        "id": "E6Ig1NToyhuM"
      },
      "outputs": [],
      "source": [
        "val_df , test_df = train_test_split(test_df,test_size=0.05,random_state=42,stratify=test_df['label'])"
      ]
    },
    {
      "cell_type": "markdown",
      "metadata": {},
      "source": [
        "Kita coba lihat sampel data train yang pertama seperti apa"
      ]
    },
    {
      "cell_type": "code",
      "execution_count": 28,
      "metadata": {
        "colab": {
          "base_uri": "https://localhost:8080/",
          "height": 284
        },
        "id": "Qeo31lSJ6ujQ",
        "outputId": "8a38f570-fc20-4b7a-aeae-b87198943bee"
      },
      "outputs": [
        {
          "data": {
            "text/plain": [
              "<matplotlib.image.AxesImage at 0x22e92a578b0>"
            ]
          },
          "execution_count": 28,
          "metadata": {},
          "output_type": "execute_result"
        },
        {
          "data": {
            "image/png": "[encoded data removed]",
            "text/plain": [
              "<Figure size 432x288 with 1 Axes>"
            ]
          },
          "metadata": {
            "needs_background": "light"
          },
          "output_type": "display_data"
        }
      ],
      "source": [
        "im = plt.imread(train_df['images'][1])\n",
        "plt.imshow(im)"
      ]
    },
    {
      "cell_type": "markdown",
      "metadata": {},
      "source": [
        "Selanjutnya, kita lihat sampel data train yang telah kita kelompokkan berdasarkan masing - masing emotionnya"
      ]
    },
    {
      "cell_type": "code",
      "execution_count": 29,
      "metadata": {
        "id": "nSox5q2qjZVE"
      },
      "outputs": [],
      "source": [
        "angry_sample = train_df[train_df['label']=='angry']['images'][:5].tolist()\n",
        "surprise_sample = train_df[train_df['label']=='surprise']['images'][:5].tolist()\n",
        "fear_sample = train_df[train_df['label']=='fear']['images'][:5].tolist()\n",
        "happy_sample = train_df[train_df['label']=='happy']['images'][:5].tolist()\n",
        "sad_sample = train_df[train_df['label']=='sad']['images'][:5].tolist()\n",
        "neutral_sample = train_df[train_df['label']=='neutral']['images'][:5].tolist()"
      ]
    },
    {
      "cell_type": "code",
      "execution_count": 30,
      "metadata": {
        "id": "ftAttDvJihyo"
      },
      "outputs": [],
      "source": [
        "def show_images(nama_sample):\n",
        "  fig,axes = plt.subplots(nrows=1,ncols=4,figsize=(20,10))\n",
        "  i = 0\n",
        "  for item in nama_sample:\n",
        "    im = plt.imread(item)\n",
        "    axes[i].imshow(im,cmap='gray')\n",
        "    i +=1\n",
        "    if i > 3 :\n",
        "      break\n"
      ]
    },
    {
      "cell_type": "markdown",
      "metadata": {},
      "source": [
        "Kita lihat secara visual, seperti apa bentuk sampel untuk masing - masing sampel emosi pada data train"
      ]
    },
    {
      "cell_type": "markdown",
      "metadata": {},
      "source": [
        "Sampel marah"
      ]
    },
    {
      "cell_type": "code",
      "execution_count": 31,
      "metadata": {
        "colab": {
          "base_uri": "https://localhost:8080/",
          "height": 292
        },
        "id": "KAm8MtZUmVoA",
        "outputId": "154f06af-75e8-4df3-aaa0-1cd01393b313"
      },
      "outputs": [
        {
          "data": {
            "image/png": "[encoded data removed]",
            "text/plain": [
              "<Figure size 1440x720 with 4 Axes>"
            ]
          },
          "metadata": {
            "needs_background": "light"
          },
          "output_type": "display_data"
        }
      ],
      "source": [
        "show_images(angry_sample)"
      ]
    },
    {
      "cell_type": "markdown",
      "metadata": {},
      "source": [
        "Sampel kaget"
      ]
    },
    {
      "cell_type": "code",
      "execution_count": 32,
      "metadata": {
        "colab": {
          "base_uri": "https://localhost:8080/",
          "height": 292
        },
        "id": "nRMruvTqmrgf",
        "outputId": "276d1949-7998-410c-a644-472360a25bb0"
      },
      "outputs": [
        {
          "data": {
            "image/png": "[encoded data removed]",
            "text/plain": [
              "<Figure size 1440x720 with 4 Axes>"
            ]
          },
          "metadata": {
            "needs_background": "light"
          },
          "output_type": "display_data"
        }
      ],
      "source": [
        "show_images(surprise_sample)"
      ]
    },
    {
      "cell_type": "markdown",
      "metadata": {},
      "source": [
        "Sampel takut"
      ]
    },
    {
      "cell_type": "code",
      "execution_count": 33,
      "metadata": {
        "colab": {
          "base_uri": "https://localhost:8080/",
          "height": 292
        },
        "id": "1E4xocH3mudG",
        "outputId": "07ced6ce-36d9-465a-d876-86d30d860cdd"
      },
      "outputs": [
        {
          "data": {
            "image/png": "[encoded data removed]",
            "text/plain": [
              "<Figure size 1440x720 with 4 Axes>"
            ]
          },
          "metadata": {
            "needs_background": "light"
          },
          "output_type": "display_data"
        }
      ],
      "source": [
        "show_images(fear_sample)"
      ]
    },
    {
      "cell_type": "markdown",
      "metadata": {},
      "source": [
        "Sampel senang"
      ]
    },
    {
      "cell_type": "code",
      "execution_count": 34,
      "metadata": {
        "colab": {
          "base_uri": "https://localhost:8080/",
          "height": 292
        },
        "id": "fkdOxsj_m4zP",
        "outputId": "fc149478-7cf7-4d01-be72-d96cd4d7952f"
      },
      "outputs": [
        {
          "data": {
            "image/png": "[encoded data removed]",
            "text/plain": [
              "<Figure size 1440x720 with 4 Axes>"
            ]
          },
          "metadata": {
            "needs_background": "light"
          },
          "output_type": "display_data"
        }
      ],
      "source": [
        "show_images(happy_sample)"
      ]
    },
    {
      "cell_type": "markdown",
      "metadata": {},
      "source": [
        "Sampel sedih"
      ]
    },
    {
      "cell_type": "code",
      "execution_count": 35,
      "metadata": {
        "colab": {
          "base_uri": "https://localhost:8080/",
          "height": 292
        },
        "id": "57rZgYENnNV5",
        "outputId": "27a5b591-6569-40b2-aed0-881ee734a71e"
      },
      "outputs": [
        {
          "data": {
            "image/png": "[encoded data removed]",
            "text/plain": [
              "<Figure size 1440x720 with 4 Axes>"
            ]
          },
          "metadata": {
            "needs_background": "light"
          },
          "output_type": "display_data"
        }
      ],
      "source": [
        "show_images(sad_sample)"
      ]
    },
    {
      "cell_type": "markdown",
      "metadata": {},
      "source": [
        "Sampel neutral"
      ]
    },
    {
      "cell_type": "code",
      "execution_count": 36,
      "metadata": {
        "colab": {
          "base_uri": "https://localhost:8080/",
          "height": 292
        },
        "id": "JvgGbfhTnQMi",
        "outputId": "1238ec34-1f3f-40e2-c214-811d957cbb27"
      },
      "outputs": [
        {
          "data": {
            "image/png": "[encoded data removed]",
            "text/plain": [
              "<Figure size 1440x720 with 4 Axes>"
            ]
          },
          "metadata": {
            "needs_background": "light"
          },
          "output_type": "display_data"
        }
      ],
      "source": [
        "show_images(neutral_sample)"
      ]
    },
    {
      "cell_type": "markdown",
      "metadata": {
        "id": "fZvUd3nGpF21"
      },
      "source": [
        "# 5. Data Preprocessing"
      ]
    },
    {
      "cell_type": "markdown",
      "metadata": {
        "id": "tuRHiZhWrw0Q"
      },
      "source": [
        "## Augmentasi Data (Pipeline)"
      ]
    },
    {
      "cell_type": "markdown",
      "metadata": {},
      "source": [
        "Setelah kita mengelompokkan mana yang train, val dan test, kita lakukan preprocessing data , yaitu augmentasi data , dengan memanfaatkan ImageDataGenerator"
      ]
    },
    {
      "cell_type": "markdown",
      "metadata": {
        "id": "uNyx-NX4rWyD"
      },
      "source": [
        "Kita lakukan ImageDataGenerator, untuk menseragamkan bentuk data, hingga format data pada data train , sehingga model bisa dilatih dengan data yang formatnya sama. "
      ]
    },
    {
      "cell_type": "code",
      "execution_count": 37,
      "metadata": {
        "id": "vkLi25aEn90d"
      },
      "outputs": [],
      "source": [
        "train_datagen = ImageDataGenerator(\n",
        "    rescale = 1./255,\n",
        "    zoom_range = 0.2,\n",
        "    horizontal_flip = True,\n",
        "    fill_mode='nearest'\n",
        ")\n",
        "\n",
        "val_datagen = ImageDataGenerator(\n",
        "    rescale = 1./255\n",
        ")\n",
        "\n",
        "test_datagen = ImageDataGenerator(\n",
        "    rescale = 1./255\n",
        ")"
      ]
    },
    {
      "cell_type": "markdown",
      "metadata": {
        "id": "OxPyQXNysvg4"
      },
      "source": [
        "Sekarang, kita lakukan convert augmentasi data masing - masing dataset train val test, ke dalam `flow_from_dataframe`"
      ]
    },
    {
      "cell_type": "code",
      "execution_count": 38,
      "metadata": {
        "id": "PHQauxVQQ625"
      },
      "outputs": [],
      "source": [
        "width = 48 #inisiasi ukuran gambar\n",
        "length = 48 #inisiasi ukuran gambar"
      ]
    },
    {
      "cell_type": "markdown",
      "metadata": {},
      "source": [
        "Melakukan proses preprocessing data"
      ]
    },
    {
      "cell_type": "code",
      "execution_count": 39,
      "metadata": {
        "colab": {
          "base_uri": "https://localhost:8080/"
        },
        "id": "5GmEdIi9ssWm",
        "outputId": "c876b99c-7bf7-46b4-c444-56e328f5b575"
      },
      "outputs": [
        {
          "name": "stdout",
          "output_type": "stream",
          "text": [
            "Found 28273 validated image filenames belonging to 6 classes.\n",
            "Found 6713 validated image filenames belonging to 6 classes.\n",
            "Found 354 validated image filenames belonging to 6 classes.\n"
          ]
        }
      ],
      "source": [
        "ds_train = train_datagen.flow_from_dataframe(\n",
        "    dataframe = train_df,\n",
        "    x_col = 'images',\n",
        "    y_col = 'label',\n",
        "    target_size = (width,length),\n",
        "    class_mode = 'categorical',\n",
        "    shuffle = True,\n",
        "    seed = 48\n",
        ")\n",
        "\n",
        "ds_val = train_datagen.flow_from_dataframe(\n",
        "    dataframe = val_df,\n",
        "    x_col = 'images',\n",
        "    y_col = 'label',\n",
        "    target_size = (width,length),\n",
        "    class_mode = 'categorical',\n",
        "    shuffle = False,\n",
        "    seed = 48\n",
        ")\n",
        "\n",
        "ds_test = train_datagen.flow_from_dataframe(\n",
        "    dataframe = test_df,\n",
        "    x_col = 'images',\n",
        "    y_col = 'label',\n",
        "    target_size = (width,length),\n",
        "    class_mode = 'categorical',\n",
        "    shuffle = False,\n",
        "    seed = 48\n",
        ")"
      ]
    },
    {
      "cell_type": "markdown",
      "metadata": {},
      "source": [
        "Kita lihat, apa saja class yang terkandung pada `ds_train`"
      ]
    },
    {
      "cell_type": "code",
      "execution_count": 40,
      "metadata": {
        "colab": {
          "base_uri": "https://localhost:8080/"
        },
        "id": "jjjJMwlMu9dg",
        "outputId": "3d5b14a4-affd-4c1a-bb0a-24dd5e16ba18"
      },
      "outputs": [
        {
          "data": {
            "text/plain": [
              "{'angry': 0, 'fear': 1, 'happy': 2, 'neutral': 3, 'sad': 4, 'surprise': 5}"
            ]
          },
          "execution_count": 40,
          "metadata": {},
          "output_type": "execute_result"
        }
      ],
      "source": [
        "ds_train.class_indices"
      ]
    },
    {
      "cell_type": "markdown",
      "metadata": {},
      "source": [
        "Bagaimana dengan tipe data label nya ?"
      ]
    },
    {
      "cell_type": "code",
      "execution_count": 41,
      "metadata": {
        "colab": {
          "base_uri": "https://localhost:8080/",
          "height": 35
        },
        "id": "Yh1ydqmExmvZ",
        "outputId": "eb7d3508-2c32-4f02-dc6d-0ffd6ffe3e3a"
      },
      "outputs": [
        {
          "data": {
            "text/plain": [
              "'categorical'"
            ]
          },
          "execution_count": 41,
          "metadata": {},
          "output_type": "execute_result"
        }
      ],
      "source": [
        "ds_train.class_mode"
      ]
    },
    {
      "cell_type": "markdown",
      "metadata": {},
      "source": [
        "# 6. Model Definition"
      ]
    },
    {
      "cell_type": "markdown",
      "metadata": {},
      "source": [
        "Bagian ini berisi cell untuk mendefinisikan model. Jelaskan alasan menggunakan suatu algoritma/model/arsitektur, hyperparameter yang dipakai, jenis penggunaan metrics yang dipakai, dan hal lain yang terkait dengan model."
      ]
    },
    {
      "cell_type": "markdown",
      "metadata": {},
      "source": [
        "Setelah kita melakukan preprocessing data, baru bisa kita manfaatkan ke dalam model training, yang diawali dengan model definition terlebih dahulu"
      ]
    },
    {
      "cell_type": "code",
      "execution_count": 42,
      "metadata": {
        "id": "dH983HXrxp-o"
      },
      "outputs": [],
      "source": [
        "#callbacks\n",
        "\n",
        "callbacks_dict = [\n",
        "                  EarlyStopping(monitor='val_loss',mode='min',patience=3),\n",
        "                  ReduceLROnPlateau(monitor='val_loss',factor=0.2,patience=4,min_delta=0.001),\n",
        "                  ModelCheckpoint(filepath='checkpoint/',save_best_only=True,monitor='val_loss',mode='min')\n",
        "                  \n",
        "]"
      ]
    },
    {
      "cell_type": "code",
      "execution_count": 43,
      "metadata": {
        "id": "gw_YmhVV_2xN"
      },
      "outputs": [],
      "source": [
        "input = (48,48,3) #input_shape untuk sampel gambar yang dimiliki"
      ]
    },
    {
      "cell_type": "markdown",
      "metadata": {},
      "source": [
        "Sekarang, kita buat model nya, khususnya menggunakan Sequential API terlebih dahulu. \n",
        "\n",
        "Pada model ini, saya belum memanfaatkan transfer learning dari model lain , dan kita ingin lihat hasilnya seperti apa"
      ]
    },
    {
      "cell_type": "code",
      "execution_count": 44,
      "metadata": {},
      "outputs": [],
      "source": [
        "model_cnn = Sequential()\n",
        "\n",
        "\n",
        "model_cnn.add(Conv2D(filters=16,kernel_size=3,activation='relu',input_shape=input))\n",
        "model_cnn.add(Conv2D(filters=32,kernel_size=3,activation='relu',input_shape=input))\n",
        "model_cnn.add(MaxPooling2D(pool_size=3,strides=2))\n",
        "\n",
        "model_cnn.add(Conv2D(filters=48,kernel_size=3,activation='relu',input_shape=input))\n",
        "model_cnn.add(MaxPooling2D(pool_size=3,strides=2))\n",
        "\n",
        "\n",
        "model_cnn.add(Flatten())\n",
        "\n",
        "model_cnn.add(Dense(1024,activation='relu'))\n",
        "model_cnn.add(Dense(512,activation='relu'))\n",
        "model_cnn.add(Dense(256,activation='relu'))\n",
        "model_cnn.add(Dense(6,activation='softmax'))"
      ]
    },
    {
      "cell_type": "markdown",
      "metadata": {},
      "source": [
        "Berikut alur modelnya berjalan"
      ]
    },
    {
      "cell_type": "code",
      "execution_count": 45,
      "metadata": {
        "colab": {
          "base_uri": "https://localhost:8080/"
        },
        "id": "OOjMacq509gI",
        "outputId": "67c01796-2cb6-4d72-81d4-306409f82569"
      },
      "outputs": [
        {
          "name": "stdout",
          "output_type": "stream",
          "text": [
            "Model: \"sequential\"\n",
            "_________________________________________________________________\n",
            " Layer (type)                Output Shape              Param #   \n",
            "=================================================================\n",
            " conv2d (Conv2D)             (None, 46, 46, 16)        448       \n",
            "                                                                 \n",
            " conv2d_1 (Conv2D)           (None, 44, 44, 32)        4640      \n",
            "                                                                 \n",
            " max_pooling2d (MaxPooling2D  (None, 21, 21, 32)       0         \n",
            " )                                                               \n",
            "                                                                 \n",
            " conv2d_2 (Conv2D)           (None, 19, 19, 48)        13872     \n",
            "                                                                 \n",
            " max_pooling2d_1 (MaxPooling  (None, 9, 9, 48)         0         \n",
            " 2D)                                                             \n",
            "                                                                 \n",
            " flatten (Flatten)           (None, 3888)              0         \n",
            "                                                                 \n",
            " dense (Dense)               (None, 1024)              3982336   \n",
            "                                                                 \n",
            " dense_1 (Dense)             (None, 512)               524800    \n",
            "                                                                 \n",
            " dense_2 (Dense)             (None, 256)               131328    \n",
            "                                                                 \n",
            " dense_3 (Dense)             (None, 6)                 1542      \n",
            "                                                                 \n",
            "=================================================================\n",
            "Total params: 4,658,966\n",
            "Trainable params: 4,658,966\n",
            "Non-trainable params: 0\n",
            "_________________________________________________________________\n"
          ]
        }
      ],
      "source": [
        "model_cnn.summary()"
      ]
    },
    {
      "cell_type": "code",
      "execution_count": 46,
      "metadata": {
        "id": "hpAMdhJ90_xj"
      },
      "outputs": [],
      "source": [
        "model_cnn.compile(optimizer='adam',loss='categorical_crossentropy',metrics=['accuracy'])"
      ]
    },
    {
      "cell_type": "markdown",
      "metadata": {},
      "source": [
        "# 7. Model Training"
      ]
    },
    {
      "cell_type": "markdown",
      "metadata": {},
      "source": [
        "Cell pada bagian ini hanya berisi code untuk melatih model dan output yang dihasilkan. Lakukan beberapa kali proses training dengan hyperparameter yang berbeda untuk melihat hasil yang didapatkan. Analisis dan narasikan hasil ini pada bagian Model Evaluation."
      ]
    },
    {
      "cell_type": "markdown",
      "metadata": {},
      "source": [
        "Sekarang kita lakukan model training terhadap model arsitektur yang sudah dibuat sebelumnya"
      ]
    },
    {
      "cell_type": "code",
      "execution_count": 47,
      "metadata": {
        "colab": {
          "base_uri": "https://localhost:8080/"
        },
        "id": "iABLouq5GhhD",
        "outputId": "4c414828-4fd0-4789-d5e5-4d14fed32a9b"
      },
      "outputs": [
        {
          "name": "stdout",
          "output_type": "stream",
          "text": [
            "Epoch 1/20\n",
            "883/884 [============================>.] - ETA: 0s - loss: 1.6076 - accuracy: 0.3416"
          ]
        },
        {
          "name": "stderr",
          "output_type": "stream",
          "text": [
            "WARNING:absl:Found untraced functions such as _jit_compiled_convolution_op, _jit_compiled_convolution_op, _jit_compiled_convolution_op while saving (showing 3 of 3). These functions will not be directly callable after loading.\n"
          ]
        },
        {
          "name": "stdout",
          "output_type": "stream",
          "text": [
            "INFO:tensorflow:Assets written to: checkpoint\\assets\n"
          ]
        },
        {
          "name": "stderr",
          "output_type": "stream",
          "text": [
            "INFO:tensorflow:Assets written to: checkpoint\\assets\n"
          ]
        },
        {
          "name": "stdout",
          "output_type": "stream",
          "text": [
            "884/884 [==============================] - 40s 42ms/step - loss: 1.6074 - accuracy: 0.3416 - val_loss: 1.4186 - val_accuracy: 0.4356 - lr: 0.0010\n",
            "Epoch 2/20\n",
            "883/884 [============================>.] - ETA: 0s - loss: 1.3863 - accuracy: 0.4494"
          ]
        },
        {
          "name": "stderr",
          "output_type": "stream",
          "text": [
            "WARNING:absl:Found untraced functions such as _jit_compiled_convolution_op, _jit_compiled_convolution_op, _jit_compiled_convolution_op while saving (showing 3 of 3). These functions will not be directly callable after loading.\n"
          ]
        },
        {
          "name": "stdout",
          "output_type": "stream",
          "text": [
            "INFO:tensorflow:Assets written to: checkpoint\\assets\n"
          ]
        },
        {
          "name": "stderr",
          "output_type": "stream",
          "text": [
            "INFO:tensorflow:Assets written to: checkpoint\\assets\n"
          ]
        },
        {
          "name": "stdout",
          "output_type": "stream",
          "text": [
            "884/884 [==============================] - 32s 36ms/step - loss: 1.3862 - accuracy: 0.4495 - val_loss: 1.3123 - val_accuracy: 0.4867 - lr: 0.0010\n",
            "Epoch 3/20\n",
            "883/884 [============================>.] - ETA: 0s - loss: 1.2794 - accuracy: 0.4987"
          ]
        },
        {
          "name": "stderr",
          "output_type": "stream",
          "text": [
            "WARNING:absl:Found untraced functions such as _jit_compiled_convolution_op, _jit_compiled_convolution_op, _jit_compiled_convolution_op while saving (showing 3 of 3). These functions will not be directly callable after loading.\n"
          ]
        },
        {
          "name": "stdout",
          "output_type": "stream",
          "text": [
            "INFO:tensorflow:Assets written to: checkpoint\\assets\n"
          ]
        },
        {
          "name": "stderr",
          "output_type": "stream",
          "text": [
            "INFO:tensorflow:Assets written to: checkpoint\\assets\n"
          ]
        },
        {
          "name": "stdout",
          "output_type": "stream",
          "text": [
            "884/884 [==============================] - 33s 37ms/step - loss: 1.2795 - accuracy: 0.4987 - val_loss: 1.2644 - val_accuracy: 0.5048 - lr: 0.0010\n",
            "Epoch 4/20\n",
            "884/884 [==============================] - ETA: 0s - loss: 1.2141 - accuracy: 0.5252"
          ]
        },
        {
          "name": "stderr",
          "output_type": "stream",
          "text": [
            "WARNING:absl:Found untraced functions such as _jit_compiled_convolution_op, _jit_compiled_convolution_op, _jit_compiled_convolution_op while saving (showing 3 of 3). These functions will not be directly callable after loading.\n"
          ]
        },
        {
          "name": "stdout",
          "output_type": "stream",
          "text": [
            "INFO:tensorflow:Assets written to: checkpoint\\assets\n"
          ]
        },
        {
          "name": "stderr",
          "output_type": "stream",
          "text": [
            "INFO:tensorflow:Assets written to: checkpoint\\assets\n"
          ]
        },
        {
          "name": "stdout",
          "output_type": "stream",
          "text": [
            "884/884 [==============================] - 32s 36ms/step - loss: 1.2141 - accuracy: 0.5252 - val_loss: 1.2288 - val_accuracy: 0.5211 - lr: 0.0010\n",
            "Epoch 5/20\n",
            "883/884 [============================>.] - ETA: 0s - loss: 1.1666 - accuracy: 0.5457"
          ]
        },
        {
          "name": "stderr",
          "output_type": "stream",
          "text": [
            "WARNING:absl:Found untraced functions such as _jit_compiled_convolution_op, _jit_compiled_convolution_op, _jit_compiled_convolution_op while saving (showing 3 of 3). These functions will not be directly callable after loading.\n"
          ]
        },
        {
          "name": "stdout",
          "output_type": "stream",
          "text": [
            "INFO:tensorflow:Assets written to: checkpoint\\assets\n"
          ]
        },
        {
          "name": "stderr",
          "output_type": "stream",
          "text": [
            "INFO:tensorflow:Assets written to: checkpoint\\assets\n"
          ]
        },
        {
          "name": "stdout",
          "output_type": "stream",
          "text": [
            "884/884 [==============================] - 32s 36ms/step - loss: 1.1668 - accuracy: 0.5455 - val_loss: 1.2062 - val_accuracy: 0.5288 - lr: 0.0010\n",
            "Epoch 6/20\n",
            "883/884 [============================>.] - ETA: 0s - loss: 1.1309 - accuracy: 0.5603"
          ]
        },
        {
          "name": "stderr",
          "output_type": "stream",
          "text": [
            "WARNING:absl:Found untraced functions such as _jit_compiled_convolution_op, _jit_compiled_convolution_op, _jit_compiled_convolution_op while saving (showing 3 of 3). These functions will not be directly callable after loading.\n"
          ]
        },
        {
          "name": "stdout",
          "output_type": "stream",
          "text": [
            "INFO:tensorflow:Assets written to: checkpoint\\assets\n"
          ]
        },
        {
          "name": "stderr",
          "output_type": "stream",
          "text": [
            "INFO:tensorflow:Assets written to: checkpoint\\assets\n"
          ]
        },
        {
          "name": "stdout",
          "output_type": "stream",
          "text": [
            "884/884 [==============================] - 32s 37ms/step - loss: 1.1307 - accuracy: 0.5604 - val_loss: 1.2001 - val_accuracy: 0.5375 - lr: 0.0010\n",
            "Epoch 7/20\n",
            "883/884 [============================>.] - ETA: 0s - loss: 1.0980 - accuracy: 0.5757"
          ]
        },
        {
          "name": "stderr",
          "output_type": "stream",
          "text": [
            "WARNING:absl:Found untraced functions such as _jit_compiled_convolution_op, _jit_compiled_convolution_op, _jit_compiled_convolution_op while saving (showing 3 of 3). These functions will not be directly callable after loading.\n"
          ]
        },
        {
          "name": "stdout",
          "output_type": "stream",
          "text": [
            "INFO:tensorflow:Assets written to: checkpoint\\assets\n"
          ]
        },
        {
          "name": "stderr",
          "output_type": "stream",
          "text": [
            "INFO:tensorflow:Assets written to: checkpoint\\assets\n"
          ]
        },
        {
          "name": "stdout",
          "output_type": "stream",
          "text": [
            "884/884 [==============================] - 33s 37ms/step - loss: 1.0980 - accuracy: 0.5758 - val_loss: 1.1676 - val_accuracy: 0.5489 - lr: 0.0010\n",
            "Epoch 8/20\n",
            "884/884 [==============================] - ETA: 0s - loss: 1.0691 - accuracy: 0.5866"
          ]
        },
        {
          "name": "stderr",
          "output_type": "stream",
          "text": [
            "WARNING:absl:Found untraced functions such as _jit_compiled_convolution_op, _jit_compiled_convolution_op, _jit_compiled_convolution_op while saving (showing 3 of 3). These functions will not be directly callable after loading.\n"
          ]
        },
        {
          "name": "stdout",
          "output_type": "stream",
          "text": [
            "INFO:tensorflow:Assets written to: checkpoint\\assets\n"
          ]
        },
        {
          "name": "stderr",
          "output_type": "stream",
          "text": [
            "INFO:tensorflow:Assets written to: checkpoint\\assets\n"
          ]
        },
        {
          "name": "stdout",
          "output_type": "stream",
          "text": [
            "884/884 [==============================] - 32s 36ms/step - loss: 1.0691 - accuracy: 0.5866 - val_loss: 1.1474 - val_accuracy: 0.5595 - lr: 0.0010\n",
            "Epoch 9/20\n",
            "884/884 [==============================] - 30s 34ms/step - loss: 1.0458 - accuracy: 0.5951 - val_loss: 1.1529 - val_accuracy: 0.5613 - lr: 0.0010\n",
            "Epoch 10/20\n",
            "883/884 [============================>.] - ETA: 0s - loss: 1.0211 - accuracy: 0.6067"
          ]
        },
        {
          "name": "stderr",
          "output_type": "stream",
          "text": [
            "WARNING:absl:Found untraced functions such as _jit_compiled_convolution_op, _jit_compiled_convolution_op, _jit_compiled_convolution_op while saving (showing 3 of 3). These functions will not be directly callable after loading.\n"
          ]
        },
        {
          "name": "stdout",
          "output_type": "stream",
          "text": [
            "INFO:tensorflow:Assets written to: checkpoint\\assets\n"
          ]
        },
        {
          "name": "stderr",
          "output_type": "stream",
          "text": [
            "INFO:tensorflow:Assets written to: checkpoint\\assets\n"
          ]
        },
        {
          "name": "stdout",
          "output_type": "stream",
          "text": [
            "884/884 [==============================] - 32s 36ms/step - loss: 1.0210 - accuracy: 0.6068 - val_loss: 1.1451 - val_accuracy: 0.5588 - lr: 0.0010\n",
            "Epoch 11/20\n",
            "883/884 [============================>.] - ETA: 0s - loss: 0.9916 - accuracy: 0.6192"
          ]
        },
        {
          "name": "stderr",
          "output_type": "stream",
          "text": [
            "WARNING:absl:Found untraced functions such as _jit_compiled_convolution_op, _jit_compiled_convolution_op, _jit_compiled_convolution_op while saving (showing 3 of 3). These functions will not be directly callable after loading.\n"
          ]
        },
        {
          "name": "stdout",
          "output_type": "stream",
          "text": [
            "INFO:tensorflow:Assets written to: checkpoint\\assets\n"
          ]
        },
        {
          "name": "stderr",
          "output_type": "stream",
          "text": [
            "INFO:tensorflow:Assets written to: checkpoint\\assets\n"
          ]
        },
        {
          "name": "stdout",
          "output_type": "stream",
          "text": [
            "884/884 [==============================] - 31s 35ms/step - loss: 0.9915 - accuracy: 0.6192 - val_loss: 1.1327 - val_accuracy: 0.5684 - lr: 0.0010\n",
            "Epoch 12/20\n",
            "884/884 [==============================] - 29s 33ms/step - loss: 0.9763 - accuracy: 0.6284 - val_loss: 1.1780 - val_accuracy: 0.5577 - lr: 0.0010\n",
            "Epoch 13/20\n",
            "884/884 [==============================] - 30s 34ms/step - loss: 0.9479 - accuracy: 0.6347 - val_loss: 1.1342 - val_accuracy: 0.5682 - lr: 0.0010\n",
            "Epoch 14/20\n",
            "883/884 [============================>.] - ETA: 0s - loss: 0.9211 - accuracy: 0.6483"
          ]
        },
        {
          "name": "stderr",
          "output_type": "stream",
          "text": [
            "WARNING:absl:Found untraced functions such as _jit_compiled_convolution_op, _jit_compiled_convolution_op, _jit_compiled_convolution_op while saving (showing 3 of 3). These functions will not be directly callable after loading.\n"
          ]
        },
        {
          "name": "stdout",
          "output_type": "stream",
          "text": [
            "INFO:tensorflow:Assets written to: checkpoint\\assets\n"
          ]
        },
        {
          "name": "stderr",
          "output_type": "stream",
          "text": [
            "INFO:tensorflow:Assets written to: checkpoint\\assets\n"
          ]
        },
        {
          "name": "stdout",
          "output_type": "stream",
          "text": [
            "884/884 [==============================] - 33s 37ms/step - loss: 0.9212 - accuracy: 0.6483 - val_loss: 1.1302 - val_accuracy: 0.5731 - lr: 0.0010\n",
            "Epoch 15/20\n",
            "884/884 [==============================] - 30s 34ms/step - loss: 0.8995 - accuracy: 0.6554 - val_loss: 1.1806 - val_accuracy: 0.5692 - lr: 0.0010\n",
            "Epoch 16/20\n",
            "884/884 [==============================] - 285s 322ms/step - loss: 0.8837 - accuracy: 0.6616 - val_loss: 1.1723 - val_accuracy: 0.5664 - lr: 0.0010\n",
            "Epoch 17/20\n",
            "884/884 [==============================] - 127s 144ms/step - loss: 0.8545 - accuracy: 0.6748 - val_loss: 1.1836 - val_accuracy: 0.5734 - lr: 0.0010\n"
          ]
        }
      ],
      "source": [
        "history = model_cnn.fit(ds_train,batch_size=32,epochs=20,validation_data = ds_val,callbacks=callbacks_dict)"
      ]
    },
    {
      "cell_type": "markdown",
      "metadata": {},
      "source": [
        "Dan kita lihat hasilnya seperti apa "
      ]
    },
    {
      "cell_type": "code",
      "execution_count": 48,
      "metadata": {
        "id": "su1NmdvJ9usK"
      },
      "outputs": [
        {
          "data": {
            "text/plain": [
              "<AxesSubplot:>"
            ]
          },
          "execution_count": 48,
          "metadata": {},
          "output_type": "execute_result"
        },
        {
          "data": {
            "image/png": "[encoded data removed]",
            "text/plain": [
              "<Figure size 432x288 with 1 Axes>"
            ]
          },
          "metadata": {
            "needs_background": "light"
          },
          "output_type": "display_data"
        }
      ],
      "source": [
        "history_df = pd.DataFrame(history.history)\n",
        "\n",
        "history_df['loss'].plot()\n",
        "history_df['val_loss'].plot()"
      ]
    },
    {
      "cell_type": "code",
      "execution_count": 49,
      "metadata": {
        "id": "R93vtCh6-jtB"
      },
      "outputs": [
        {
          "data": {
            "text/plain": [
              "<AxesSubplot:>"
            ]
          },
          "execution_count": 49,
          "metadata": {},
          "output_type": "execute_result"
        },
        {
          "data": {
            "image/png": "[encoded data removed]",
            "text/plain": [
              "<Figure size 432x288 with 1 Axes>"
            ]
          },
          "metadata": {
            "needs_background": "light"
          },
          "output_type": "display_data"
        }
      ],
      "source": [
        "history_df['accuracy'].plot()\n",
        "history_df['val_accuracy'].plot()"
      ]
    },
    {
      "cell_type": "markdown",
      "metadata": {},
      "source": [
        "Dapat dilihat, bahwa untuk model yang pertama kali saya buat, terlihat tidak begitu bagus , cenderung overfit, sehingga akan saya lakukan model improvement"
      ]
    },
    {
      "cell_type": "markdown",
      "metadata": {},
      "source": [
        "# 8. Model Improvement"
      ]
    },
    {
      "cell_type": "markdown",
      "metadata": {},
      "source": [
        "Setelah melakukan model definition dan training dengan memanfaatkan layer yang belum kita ketahui kualitasnya, sekarang kita coba manfaatkan cara lain dengan mengubah / memodifikasi parameter , layer, pada neural network architecture nya, apakah dapat terjadi perubahan sehingga model lebih layak untuk digunakan"
      ]
    },
    {
      "cell_type": "code",
      "execution_count": 50,
      "metadata": {},
      "outputs": [],
      "source": [
        "#callbacks\n",
        "\n",
        "callbacks_improve_dict = [\n",
        "                  EarlyStopping(monitor='val_loss',mode='min',patience=3),\n",
        "                  ReduceLROnPlateau(monitor='val_loss',factor=0.2,patience=4,min_delta=0.001)\n",
        "                  \n",
        "]"
      ]
    },
    {
      "cell_type": "markdown",
      "metadata": {},
      "source": [
        "Sekarang kita buat arsitektur baru untuk model improvement nya"
      ]
    },
    {
      "cell_type": "code",
      "execution_count": 52,
      "metadata": {},
      "outputs": [],
      "source": [
        "model_cnn_improve = Sequential()\n",
        "\n",
        "\n",
        "model_cnn_improve.add(Conv2D(filters=32,kernel_size=3,padding='same',activation='relu',input_shape=input))\n",
        "model_cnn_improve.add(Conv2D(filters=64,kernel_size=3,padding='valid',activation='relu',input_shape=input,kernel_regularizer=regularizers.l2(0.01),kernel_initializer=initializers.he_uniform()))\n",
        "model_cnn_improve.add(BatchNormalization())\n",
        "model_cnn_improve.add(MaxPooling2D())\n",
        "model_cnn_improve.add(Dropout(0.35))\n",
        "\n",
        "\n",
        "model_cnn_improve.add(Conv2D(filters=128,kernel_size=3,padding='same',activation='relu',input_shape=input,kernel_regularizer=regularizers.l2(0.01),kernel_initializer=initializers.he_uniform()))\n",
        "model_cnn_improve.add(Conv2D(filters=256,kernel_size=3,padding='valid',activation='relu',input_shape=input))\n",
        "model_cnn_improve.add(BatchNormalization())\n",
        "model_cnn_improve.add(MaxPooling2D())\n",
        "model_cnn_improve.add(Dropout(0.35))\n",
        "\n",
        "model_cnn_improve.add(Conv2D(filters=512,kernel_size=3,padding='same',activation='relu',input_shape=input))\n",
        "model_cnn_improve.add(MaxPooling2D(pool_size=3))\n",
        "model_cnn_improve.add(Dropout(0.5))\n",
        "\n",
        "\n",
        "model_cnn_improve.add(Flatten())\n",
        "\n",
        "model_cnn_improve.add(Dense(1024,activation='relu'))\n",
        "model_cnn_improve.add(BatchNormalization())\n",
        "model_cnn_improve.add(Dropout(0.25))\n",
        "model_cnn_improve.add(Dense(6,activation='softmax'))"
      ]
    },
    {
      "cell_type": "markdown",
      "metadata": {},
      "source": [
        "Di bawah ini adalah kondisi summary arsitektur model improvement"
      ]
    },
    {
      "cell_type": "code",
      "execution_count": 53,
      "metadata": {},
      "outputs": [
        {
          "name": "stdout",
          "output_type": "stream",
          "text": [
            "Model: \"sequential_2\"\n",
            "_________________________________________________________________\n",
            " Layer (type)                Output Shape              Param #   \n",
            "=================================================================\n",
            " conv2d_3 (Conv2D)           (None, 48, 48, 32)        896       \n",
            "                                                                 \n",
            " conv2d_4 (Conv2D)           (None, 46, 46, 64)        18496     \n",
            "                                                                 \n",
            " batch_normalization (BatchN  (None, 46, 46, 64)       256       \n",
            " ormalization)                                                   \n",
            "                                                                 \n",
            " max_pooling2d_2 (MaxPooling  (None, 23, 23, 64)       0         \n",
            " 2D)                                                             \n",
            "                                                                 \n",
            " dropout (Dropout)           (None, 23, 23, 64)        0         \n",
            "                                                                 \n",
            " conv2d_5 (Conv2D)           (None, 23, 23, 128)       73856     \n",
            "                                                                 \n",
            " conv2d_6 (Conv2D)           (None, 21, 21, 256)       295168    \n",
            "                                                                 \n",
            " batch_normalization_1 (Batc  (None, 21, 21, 256)      1024      \n",
            " hNormalization)                                                 \n",
            "                                                                 \n",
            " max_pooling2d_3 (MaxPooling  (None, 10, 10, 256)      0         \n",
            " 2D)                                                             \n",
            "                                                                 \n",
            " dropout_1 (Dropout)         (None, 10, 10, 256)       0         \n",
            "                                                                 \n",
            " conv2d_7 (Conv2D)           (None, 10, 10, 512)       1180160   \n",
            "                                                                 \n",
            " max_pooling2d_4 (MaxPooling  (None, 3, 3, 512)        0         \n",
            " 2D)                                                             \n",
            "                                                                 \n",
            " dropout_2 (Dropout)         (None, 3, 3, 512)         0         \n",
            "                                                                 \n",
            " flatten_1 (Flatten)         (None, 4608)              0         \n",
            "                                                                 \n",
            " dense_4 (Dense)             (None, 1024)              4719616   \n",
            "                                                                 \n",
            " batch_normalization_2 (Batc  (None, 1024)             4096      \n",
            " hNormalization)                                                 \n",
            "                                                                 \n",
            " dropout_3 (Dropout)         (None, 1024)              0         \n",
            "                                                                 \n",
            " dense_5 (Dense)             (None, 6)                 6150      \n",
            "                                                                 \n",
            "=================================================================\n",
            "Total params: 6,299,718\n",
            "Trainable params: 6,297,030\n",
            "Non-trainable params: 2,688\n",
            "_________________________________________________________________\n"
          ]
        }
      ],
      "source": [
        "model_cnn_improve.summary()"
      ]
    },
    {
      "cell_type": "markdown",
      "metadata": {},
      "source": [
        "Kita coba training, dan liat hasilnya seperti apa"
      ]
    },
    {
      "cell_type": "code",
      "execution_count": 54,
      "metadata": {},
      "outputs": [
        {
          "name": "stdout",
          "output_type": "stream",
          "text": [
            "Epoch 1/40\n",
            "884/884 [==============================] - 33s 36ms/step - loss: 5.3611 - accuracy: 0.2301 - val_loss: 4.2923 - val_accuracy: 0.3320 - lr: 1.0000e-04\n",
            "Epoch 2/40\n",
            "884/884 [==============================] - 31s 35ms/step - loss: 4.1358 - accuracy: 0.2866 - val_loss: 3.5012 - val_accuracy: 0.3650 - lr: 1.0000e-04\n",
            "Epoch 3/40\n",
            "884/884 [==============================] - 30s 34ms/step - loss: 3.3720 - accuracy: 0.3320 - val_loss: 2.8568 - val_accuracy: 0.3992 - lr: 1.0000e-04\n",
            "Epoch 4/40\n",
            "884/884 [==============================] - 31s 35ms/step - loss: 2.7713 - accuracy: 0.3663 - val_loss: 2.3572 - val_accuracy: 0.4420 - lr: 1.0000e-04\n",
            "Epoch 5/40\n",
            "884/884 [==============================] - 31s 35ms/step - loss: 2.3413 - accuracy: 0.3957 - val_loss: 2.0290 - val_accuracy: 0.4698 - lr: 1.0000e-04\n",
            "Epoch 6/40\n",
            "884/884 [==============================] - 31s 35ms/step - loss: 2.0405 - accuracy: 0.4286 - val_loss: 1.7989 - val_accuracy: 0.4934 - lr: 1.0000e-04\n",
            "Epoch 7/40\n",
            "884/884 [==============================] - 31s 35ms/step - loss: 1.8313 - accuracy: 0.4571 - val_loss: 1.6530 - val_accuracy: 0.5031 - lr: 1.0000e-04\n",
            "Epoch 8/40\n",
            "884/884 [==============================] - 31s 35ms/step - loss: 1.6957 - accuracy: 0.4761 - val_loss: 1.5439 - val_accuracy: 0.5206 - lr: 1.0000e-04\n",
            "Epoch 9/40\n",
            "884/884 [==============================] - 31s 35ms/step - loss: 1.5950 - accuracy: 0.4932 - val_loss: 1.4757 - val_accuracy: 0.5275 - lr: 1.0000e-04\n",
            "Epoch 10/40\n",
            "884/884 [==============================] - 31s 35ms/step - loss: 1.5151 - accuracy: 0.5061 - val_loss: 1.4335 - val_accuracy: 0.5330 - lr: 1.0000e-04\n",
            "Epoch 11/40\n",
            "884/884 [==============================] - 31s 35ms/step - loss: 1.4552 - accuracy: 0.5187 - val_loss: 1.3585 - val_accuracy: 0.5467 - lr: 1.0000e-04\n",
            "Epoch 12/40\n",
            "884/884 [==============================] - 31s 35ms/step - loss: 1.4085 - accuracy: 0.5260 - val_loss: 1.3476 - val_accuracy: 0.5404 - lr: 1.0000e-04\n",
            "Epoch 13/40\n",
            "884/884 [==============================] - 31s 35ms/step - loss: 1.3635 - accuracy: 0.5393 - val_loss: 1.2827 - val_accuracy: 0.5649 - lr: 1.0000e-04\n",
            "Epoch 14/40\n",
            "884/884 [==============================] - 31s 35ms/step - loss: 1.3294 - accuracy: 0.5443 - val_loss: 1.2638 - val_accuracy: 0.5699 - lr: 1.0000e-04\n",
            "Epoch 15/40\n",
            "884/884 [==============================] - 31s 35ms/step - loss: 1.2896 - accuracy: 0.5483 - val_loss: 1.2272 - val_accuracy: 0.5720 - lr: 1.0000e-04\n",
            "Epoch 16/40\n",
            "884/884 [==============================] - 31s 35ms/step - loss: 1.2614 - accuracy: 0.5640 - val_loss: 1.2507 - val_accuracy: 0.5689 - lr: 1.0000e-04\n",
            "Epoch 17/40\n",
            "884/884 [==============================] - 31s 35ms/step - loss: 1.2329 - accuracy: 0.5718 - val_loss: 1.1719 - val_accuracy: 0.5893 - lr: 1.0000e-04\n",
            "Epoch 18/40\n",
            "884/884 [==============================] - 31s 35ms/step - loss: 1.2096 - accuracy: 0.5765 - val_loss: 1.1453 - val_accuracy: 0.5944 - lr: 1.0000e-04\n",
            "Epoch 19/40\n",
            "884/884 [==============================] - 31s 35ms/step - loss: 1.1909 - accuracy: 0.5831 - val_loss: 1.1633 - val_accuracy: 0.5933 - lr: 1.0000e-04\n",
            "Epoch 20/40\n",
            "884/884 [==============================] - 31s 35ms/step - loss: 1.1722 - accuracy: 0.5860 - val_loss: 1.1267 - val_accuracy: 0.5988 - lr: 1.0000e-04\n",
            "Epoch 21/40\n",
            "884/884 [==============================] - 31s 35ms/step - loss: 1.1521 - accuracy: 0.5912 - val_loss: 1.1217 - val_accuracy: 0.5979 - lr: 1.0000e-04\n",
            "Epoch 22/40\n",
            "884/884 [==============================] - 31s 35ms/step - loss: 1.1349 - accuracy: 0.5928 - val_loss: 1.1147 - val_accuracy: 0.6039 - lr: 1.0000e-04\n",
            "Epoch 23/40\n",
            "884/884 [==============================] - 31s 35ms/step - loss: 1.1170 - accuracy: 0.6013 - val_loss: 1.0768 - val_accuracy: 0.6265 - lr: 1.0000e-04\n",
            "Epoch 24/40\n",
            "884/884 [==============================] - 31s 35ms/step - loss: 1.1141 - accuracy: 0.6009 - val_loss: 1.1172 - val_accuracy: 0.5968 - lr: 1.0000e-04\n",
            "Epoch 25/40\n",
            "884/884 [==============================] - 31s 35ms/step - loss: 1.0896 - accuracy: 0.6109 - val_loss: 1.0953 - val_accuracy: 0.6096 - lr: 1.0000e-04\n",
            "Epoch 26/40\n",
            "884/884 [==============================] - 31s 35ms/step - loss: 1.0806 - accuracy: 0.6120 - val_loss: 1.0542 - val_accuracy: 0.6245 - lr: 1.0000e-04\n",
            "Epoch 27/40\n",
            "884/884 [==============================] - 31s 35ms/step - loss: 1.0754 - accuracy: 0.6126 - val_loss: 1.0689 - val_accuracy: 0.6182 - lr: 1.0000e-04\n",
            "Epoch 28/40\n",
            "884/884 [==============================] - 31s 35ms/step - loss: 1.0635 - accuracy: 0.6139 - val_loss: 1.0287 - val_accuracy: 0.6335 - lr: 1.0000e-04\n",
            "Epoch 29/40\n",
            "884/884 [==============================] - 31s 35ms/step - loss: 1.0524 - accuracy: 0.6185 - val_loss: 1.0236 - val_accuracy: 0.6270 - lr: 1.0000e-04\n",
            "Epoch 30/40\n",
            "884/884 [==============================] - 31s 35ms/step - loss: 1.0465 - accuracy: 0.6238 - val_loss: 1.0205 - val_accuracy: 0.6365 - lr: 1.0000e-04\n",
            "Epoch 31/40\n",
            "884/884 [==============================] - 31s 35ms/step - loss: 1.0285 - accuracy: 0.6288 - val_loss: 1.0486 - val_accuracy: 0.6204 - lr: 1.0000e-04\n",
            "Epoch 32/40\n",
            "884/884 [==============================] - 31s 35ms/step - loss: 1.0253 - accuracy: 0.6281 - val_loss: 1.0316 - val_accuracy: 0.6261 - lr: 1.0000e-04\n",
            "Epoch 33/40\n",
            "884/884 [==============================] - 31s 35ms/step - loss: 1.0219 - accuracy: 0.6315 - val_loss: 1.0255 - val_accuracy: 0.6277 - lr: 1.0000e-04\n"
          ]
        }
      ],
      "source": [
        "model_cnn_improve.compile(optimizer=Adam(learning_rate=0.0001),loss='categorical_crossentropy',metrics=['accuracy'])\n",
        "\n",
        "history_improve = model_cnn_improve.fit(ds_train,batch_size=64,epochs=40,validation_data = ds_val,callbacks=callbacks_improve_dict)"
      ]
    },
    {
      "cell_type": "markdown",
      "metadata": {},
      "source": [
        "Setelah di training, kita coba visualisasikan history metrics setelah dilakukan iterasi menggunakan epochs , bagaimana performanya"
      ]
    },
    {
      "cell_type": "code",
      "execution_count": 55,
      "metadata": {},
      "outputs": [
        {
          "data": {
            "text/plain": [
              "<AxesSubplot:>"
            ]
          },
          "execution_count": 55,
          "metadata": {},
          "output_type": "execute_result"
        },
        {
          "data": {
            "image/png": "[encoded data removed]",
            "text/plain": [
              "<Figure size 432x288 with 1 Axes>"
            ]
          },
          "metadata": {
            "needs_background": "light"
          },
          "output_type": "display_data"
        }
      ],
      "source": [
        "history_improve_df = pd.DataFrame(history_improve.history)\n",
        "\n",
        "history_improve_df['loss'].plot()\n",
        "history_improve_df['val_loss'].plot()"
      ]
    },
    {
      "cell_type": "code",
      "execution_count": 56,
      "metadata": {},
      "outputs": [
        {
          "data": {
            "text/plain": [
              "<AxesSubplot:>"
            ]
          },
          "execution_count": 56,
          "metadata": {},
          "output_type": "execute_result"
        },
        {
          "data": {
            "image/png": "[encoded data removed]",
            "text/plain": [
              "<Figure size 432x288 with 1 Axes>"
            ]
          },
          "metadata": {
            "needs_background": "light"
          },
          "output_type": "display_data"
        }
      ],
      "source": [
        "history_improve_df['accuracy'].plot()\n",
        "history_improve_df['val_accuracy'].plot()"
      ]
    },
    {
      "cell_type": "markdown",
      "metadata": {},
      "source": [
        "Terlihat, bahwa hasilnya lebih baik dibandingkan hasil sebelum dilakukan improvement, tidak ada overfitting atau underfitting. Sekarang, kita coba gunakan model ini, dan lihat performanya menggunakan classification report"
      ]
    },
    {
      "cell_type": "code",
      "execution_count": 57,
      "metadata": {},
      "outputs": [
        {
          "name": "stdout",
          "output_type": "stream",
          "text": [
            "12/12 [==============================] - 2s 145ms/step\n"
          ]
        }
      ],
      "source": [
        "y_pred = model_cnn_improve.predict(ds_test)"
      ]
    },
    {
      "cell_type": "markdown",
      "metadata": {},
      "source": [
        "Kita lihat label ASLI untuk ds_test seperti apa"
      ]
    },
    {
      "cell_type": "code",
      "execution_count": 58,
      "metadata": {},
      "outputs": [
        {
          "name": "stdout",
          "output_type": "stream",
          "text": [
            "[4 4 2 3 3 4 0 4 2 2 3 1 2 2 5 3 0 3 3 3 4 5 3 0 2 2 3 2 1 5 3 3 5 3 3 4 3\n",
            " 5 2 3 2 3 2 2 4 2 2 4 3 4 2 3 4 3 5 4 0 3 2 2 2 2 2 2 3 3 1 4 5 1 1 4 3 4\n",
            " 4 1 1 2 5 3 2 4 3 4 4 3 1 1 4 2 5 2 4 3 3 2 0 3 4 2 4 2 0 3 2 2 1 3 0 3 3\n",
            " 5 1 2 3 4 0 3 2 2 2 1 2 3 3 4 3 2 4 3 0 3 2 0 1 0 3 2 1 0 2 2 2 2 0 4 0 4\n",
            " 2 3 2 2 3 1 1 3 4 4 2 2 4 2 3 3 1 2 2 1 0 4 2 3 3 4 2 5 5 4 0 3 3 1 4 4 4\n",
            " 1 5 3 2 1 1 4 4 2 1 2 4 2 4 1 5 1 1 4 3 4 0 2 3 2 2 3 2 3 3 2 3 3 2 3 2 0\n",
            " 2 5 5 5 3 0 2 3 3 2 2 2 3 2 3 2 0 0 2 0 5 2 0 3 4 2 2 3 4 0 3 3 1 1 2 2 3\n",
            " 3 5 2 5 5 2 0 2 3 4 3 1 2 1 4 0 0 5 4 2 5 2 1 4 2 0 2 2 4 4 2 4 3 3 3 1 5\n",
            " 2 4 3 4 4 2 4 5 3 4 3 2 2 3 5 0 0 1 2 3 5 5 3 3 3 2 5 4 2 5 3 0 5 2 2 5 4\n",
            " 3 2 0 1 4 2 2 4 5 0 3 3 2 3 1 3 0 2 0 0 2]\n"
          ]
        }
      ],
      "source": [
        "print(np.argmax(y_pred,axis=1))"
      ]
    },
    {
      "cell_type": "markdown",
      "metadata": {},
      "source": [
        "Kita simpan hasil y_pred ke dalam bentuk kategoriknya"
      ]
    },
    {
      "cell_type": "code",
      "execution_count": 59,
      "metadata": {},
      "outputs": [],
      "source": [
        "y_pred_argmax = np.argmax(y_pred,axis=1)"
      ]
    },
    {
      "cell_type": "markdown",
      "metadata": {},
      "source": [
        "Sekarang kita lihat classification reportnya seperti apa"
      ]
    },
    {
      "cell_type": "code",
      "execution_count": 60,
      "metadata": {},
      "outputs": [
        {
          "name": "stdout",
          "output_type": "stream",
          "text": [
            "Classification report:\n",
            "                precision    recall  f1-score   support\n",
            "\n",
            "           0       0.72      0.54      0.62        48\n",
            "           1       0.54      0.37      0.44        51\n",
            "           2       0.73      0.83      0.78        89\n",
            "           3       0.53      0.76      0.62        62\n",
            "           4       0.55      0.53      0.54        62\n",
            "           5       0.64      0.50      0.56        42\n",
            "\n",
            "    accuracy                           0.62       354\n",
            "   macro avg       0.62      0.59      0.59       354\n",
            "weighted avg       0.62      0.62      0.61       354\n",
            "\n"
          ]
        }
      ],
      "source": [
        "print(\"Classification report:\\n \",classification_report(ds_test.classes,y_pred_argmax))"
      ]
    },
    {
      "cell_type": "code",
      "execution_count": 61,
      "metadata": {},
      "outputs": [
        {
          "data": {
            "text/plain": [
              "{'angry': 0, 'fear': 1, 'happy': 2, 'neutral': 3, 'sad': 4, 'surprise': 5}"
            ]
          },
          "execution_count": 61,
          "metadata": {},
          "output_type": "execute_result"
        }
      ],
      "source": [
        "ds_train.class_indices"
      ]
    },
    {
      "cell_type": "markdown",
      "metadata": {},
      "source": [
        "Dari hasil di atas, terlihat bahwa :\n",
        "\n",
        "1. Angry / marah yang terprediksi hanya ada 72% yang benar, sisanya salah\n",
        "2. Fear / takut yang terprediksi hanya ada 54% yang benar, sisanya salah\n",
        "3. Happy / senang yang terprediksi ada 77% yang benar, sisanya salah\n",
        "4. Neutral / netral yang terprediksi ada 53% yang benar, sisanya salah\n",
        "5. Sad / sedih yang terprediksi ada 55% yang benar, sisanya salah\n",
        "6. Surprise / kaget yang terprediksi ada 64% yang benar, sisanya salah"
      ]
    },
    {
      "cell_type": "markdown",
      "metadata": {},
      "source": [
        "Model yang dibuat belum begitu baik. Untuk menghasilkan model yang lebih baik lagi, akan bisa dilakukan model improvement lain seperti hyper parameter tuning , atau mengurangi / menambah learning rate sehingga model yang dibuat bisa lebih maksimal."
      ]
    },
    {
      "cell_type": "markdown",
      "metadata": {},
      "source": [
        "# 9. Model Saving"
      ]
    },
    {
      "cell_type": "markdown",
      "metadata": {},
      "source": [
        "Dengan melihat hasil evaluasi model, pilihlah model terbaik untuk disimpan. Model terbaik ini akan digunakan kembali dalam melakukan deployment di Heroku."
      ]
    },
    {
      "cell_type": "markdown",
      "metadata": {},
      "source": [
        "Sekarang kita simpan terlebih dahulu model yang telah dibuat menggunakan model improvement"
      ]
    },
    {
      "cell_type": "code",
      "execution_count": 62,
      "metadata": {},
      "outputs": [],
      "source": [
        "model_cnn_improve.save('resnetmodel_cnn_m2_new.h5')\n",
        "model_cnn.save('cnn_m2_new.h5')"
      ]
    },
    {
      "cell_type": "markdown",
      "metadata": {},
      "source": [
        "# 10. Model Inference"
      ]
    },
    {
      "cell_type": "markdown",
      "metadata": {},
      "source": [
        "Model yang sudah dilatih akan dicoba pada data yang bukan termasuk ke dalam train-set ataupun test-set. Data ini harus dalam format yang asli, bukan data yang sudah di-scaled."
      ]
    },
    {
      "cell_type": "code",
      "execution_count": 63,
      "metadata": {},
      "outputs": [],
      "source": [
        "from tensorflow.keras.models import load_model\n",
        "model_inf = load_model('resnetmodel_cnn_m2.h5')"
      ]
    },
    {
      "cell_type": "code",
      "execution_count": 64,
      "metadata": {},
      "outputs": [],
      "source": [
        "from tensorflow.keras.preprocessing import image"
      ]
    },
    {
      "cell_type": "code",
      "execution_count": 65,
      "metadata": {},
      "outputs": [
        {
          "data": {
            "text/plain": [
              "<matplotlib.image.AxesImage at 0x22ff62f8a30>"
            ]
          },
          "execution_count": 65,
          "metadata": {},
          "output_type": "execute_result"
        },
        {
          "data": {
            "image/png": "[encoded data removed]",
            "text/plain": [
              "<Figure size 432x288 with 1 Axes>"
            ]
          },
          "metadata": {
            "needs_background": "light"
          },
          "output_type": "display_data"
        }
      ],
      "source": [
        "im_inf = image.load_img('smilingpeople.jpg',target_size=(48,48))\n",
        "plt.imshow(im_inf)"
      ]
    },
    {
      "cell_type": "code",
      "execution_count": 66,
      "metadata": {},
      "outputs": [
        {
          "name": "stdout",
          "output_type": "stream",
          "text": [
            "1/1 [==============================] - 0s 230ms/step\n",
            "Fear\n"
          ]
        }
      ],
      "source": [
        "x_inf = image.img_to_array(im_inf)\n",
        "x_inf = np.expand_dims(x_inf,axis=0)\n",
        "\n",
        "images = np.vstack([x_inf])\n",
        "result = model_inf.predict(images)\n",
        "\n",
        "if result[0][0] == 1:\n",
        "    print(\"Angry\")\n",
        "elif result[0][1] == 1:\n",
        "    print(\"Fear\")\n",
        "elif result[0][2] == 1:\n",
        "    print(\"Happy\")\n",
        "elif result[0][3] == 1:\n",
        "    print(\"Neutral\")\n",
        "elif result[0][4] == 1:\n",
        "    print(\"Sad\")\n",
        "elif result[0][5] == 1:\n",
        "    print(\"Surprise\")"
      ]
    },
    {
      "cell_type": "markdown",
      "metadata": {},
      "source": [
        "Terlihat bahwa model menyebut angka 1 pada index ke 1, yang artinya wajah anak tersenyum ini terprediksi takut, yang padahal seharusnya terprediksi senang. Kita coba gunakan gambar lain\n"
      ]
    },
    {
      "cell_type": "code",
      "execution_count": 67,
      "metadata": {},
      "outputs": [
        {
          "data": {
            "text/plain": [
              "<matplotlib.image.AxesImage at 0x22fd61b3a00>"
            ]
          },
          "execution_count": 67,
          "metadata": {},
          "output_type": "execute_result"
        },
        {
          "data": {
            "image/png": "[encoded data removed]",
            "text/plain": [
              "<Figure size 432x288 with 1 Axes>"
            ]
          },
          "metadata": {
            "needs_background": "light"
          },
          "output_type": "display_data"
        }
      ],
      "source": [
        "im_inf = image.load_img('fearpeople.jpg',target_size=(48,48))\n",
        "plt.imshow(im_inf)"
      ]
    },
    {
      "cell_type": "code",
      "execution_count": 68,
      "metadata": {},
      "outputs": [
        {
          "name": "stdout",
          "output_type": "stream",
          "text": [
            "1/1 [==============================] - 0s 15ms/step\n",
            "Fear\n"
          ]
        }
      ],
      "source": [
        "x_inf = image.img_to_array(im_inf)\n",
        "x_inf = np.expand_dims(x_inf,axis=0)\n",
        "\n",
        "images = np.vstack([x_inf])\n",
        "result = model_inf.predict(images)\n",
        "\n",
        "if result[0][0] == 1:\n",
        "    print(\"Angry\")\n",
        "elif result[0][1] == 1:\n",
        "    print(\"Fear\")\n",
        "elif result[0][2] == 1:\n",
        "    print(\"Happy\")\n",
        "elif result[0][3] == 1:\n",
        "    print(\"Neutral\")\n",
        "elif result[0][4] == 1:\n",
        "    print(\"Sad\")\n",
        "elif result[0][5] == 1:\n",
        "    print(\"Surprise\")"
      ]
    },
    {
      "cell_type": "markdown",
      "metadata": {},
      "source": [
        "Terlihat bahwa model menyebut angka 1 pada index ke 1, yang artinya wajah orang ketakutan ini terprediksi takut, yang berarti benar. Kita coba gunakan gambar selain takut"
      ]
    },
    {
      "cell_type": "code",
      "execution_count": 69,
      "metadata": {},
      "outputs": [
        {
          "data": {
            "text/plain": [
              "<matplotlib.image.AxesImage at 0x22fdb160160>"
            ]
          },
          "execution_count": 69,
          "metadata": {},
          "output_type": "execute_result"
        },
        {
          "data": {
            "image/png": "[encoded data removed]",
            "text/plain": [
              "<Figure size 432x288 with 1 Axes>"
            ]
          },
          "metadata": {
            "needs_background": "light"
          },
          "output_type": "display_data"
        }
      ],
      "source": [
        "im_inf = image.load_img('sadkid.jpg',target_size=(48,48))\n",
        "plt.imshow(im_inf)"
      ]
    },
    {
      "cell_type": "code",
      "execution_count": 70,
      "metadata": {},
      "outputs": [
        {
          "name": "stdout",
          "output_type": "stream",
          "text": [
            "1/1 [==============================] - 0s 16ms/step\n",
            "Fear\n"
          ]
        }
      ],
      "source": [
        "x_inf = image.img_to_array(im_inf)\n",
        "x_inf = np.expand_dims(x_inf,axis=0)\n",
        "\n",
        "images = np.vstack([x_inf])\n",
        "result = model_inf.predict(images)\n",
        "\n",
        "if result[0][0] == 1:\n",
        "    print(\"Angry\")\n",
        "elif result[0][1] == 1:\n",
        "    print(\"Fear\")\n",
        "elif result[0][2] == 1:\n",
        "    print(\"Happy\")\n",
        "elif result[0][3] == 1:\n",
        "    print(\"Neutral\")\n",
        "elif result[0][4] == 1:\n",
        "    print(\"Sad\")\n",
        "elif result[0][5] == 1:\n",
        "    print(\"Surprise\")"
      ]
    },
    {
      "cell_type": "markdown",
      "metadata": {},
      "source": [
        "Ternyata masih terprediksi sebagai takut, padahal seharusnya sedih. Kita coba lagi untuk gambar lainnya"
      ]
    },
    {
      "cell_type": "code",
      "execution_count": 71,
      "metadata": {},
      "outputs": [
        {
          "data": {
            "text/plain": [
              "<matplotlib.image.AxesImage at 0x22ff62d9430>"
            ]
          },
          "execution_count": 71,
          "metadata": {},
          "output_type": "execute_result"
        },
        {
          "data": {
            "image/png": "[encoded data removed]",
            "text/plain": [
              "<Figure size 432x288 with 1 Axes>"
            ]
          },
          "metadata": {
            "needs_background": "light"
          },
          "output_type": "display_data"
        }
      ],
      "source": [
        "im_inf = image.load_img('surprisekid.jpg',target_size=(48,48))\n",
        "plt.imshow(im_inf)"
      ]
    },
    {
      "cell_type": "code",
      "execution_count": 72,
      "metadata": {},
      "outputs": [
        {
          "name": "stdout",
          "output_type": "stream",
          "text": [
            "1/1 [==============================] - 0s 16ms/step\n",
            "Fear\n"
          ]
        }
      ],
      "source": [
        "x_inf = image.img_to_array(im_inf)\n",
        "x_inf = np.expand_dims(x_inf,axis=0)\n",
        "\n",
        "images = np.vstack([x_inf])\n",
        "result = model_inf.predict(images)\n",
        "\n",
        "if result[0][0] == 1:\n",
        "    print(\"Angry\")\n",
        "elif result[0][1] == 1:\n",
        "    print(\"Fear\")\n",
        "elif result[0][2] == 1:\n",
        "    print(\"Happy\")\n",
        "elif result[0][3] == 1:\n",
        "    print(\"Neutral\")\n",
        "elif result[0][4] == 1:\n",
        "    print(\"Sad\")\n",
        "elif result[0][5] == 1:\n",
        "    print(\"Surprise\")"
      ]
    },
    {
      "cell_type": "markdown",
      "metadata": {},
      "source": [
        "Ternyata masih terprediksi takut, padahal seharusnya kaget. Kita coba untuk terakhir kali terkait model ini"
      ]
    },
    {
      "cell_type": "code",
      "execution_count": 73,
      "metadata": {},
      "outputs": [
        {
          "data": {
            "text/plain": [
              "<matplotlib.image.AxesImage at 0x23015b80790>"
            ]
          },
          "execution_count": 73,
          "metadata": {},
          "output_type": "execute_result"
        },
        {
          "data": {
            "image/png": "[encoded data removed]",
            "text/plain": [
              "<Figure size 432x288 with 1 Axes>"
            ]
          },
          "metadata": {
            "needs_background": "light"
          },
          "output_type": "display_data"
        }
      ],
      "source": [
        "im_inf = image.load_img('sadkid2.jpg',target_size=(48,48))\n",
        "plt.imshow(im_inf)"
      ]
    },
    {
      "cell_type": "code",
      "execution_count": 74,
      "metadata": {},
      "outputs": [
        {
          "name": "stdout",
          "output_type": "stream",
          "text": [
            "1/1 [==============================] - 0s 16ms/step\n",
            "Fear\n"
          ]
        }
      ],
      "source": [
        "x_inf = image.img_to_array(im_inf)\n",
        "x_inf = np.expand_dims(x_inf,axis=0)\n",
        "\n",
        "images = np.vstack([x_inf])\n",
        "result = model_inf.predict(images)\n",
        "\n",
        "if result[0][0] == 1:\n",
        "    print(\"Angry\")\n",
        "elif result[0][1] == 1:\n",
        "    print(\"Fear\")\n",
        "elif result[0][2] == 1:\n",
        "    print(\"Happy\")\n",
        "elif result[0][3] == 1:\n",
        "    print(\"Neutral\")\n",
        "elif result[0][4] == 1:\n",
        "    print(\"Sad\")\n",
        "elif result[0][5] == 1:\n",
        "    print(\"Surprise\")"
      ]
    },
    {
      "cell_type": "markdown",
      "metadata": {},
      "source": [
        "Gambar sedih pada anak tersebut juga diprediksi takut, kita coba dengan gambar terakhir untuk orang kaget, akan diprediksi seperti apa"
      ]
    },
    {
      "cell_type": "code",
      "execution_count": 75,
      "metadata": {},
      "outputs": [
        {
          "data": {
            "text/plain": [
              "<matplotlib.image.AxesImage at 0x230174eca60>"
            ]
          },
          "execution_count": 75,
          "metadata": {},
          "output_type": "execute_result"
        },
        {
          "data": {
            "image/png": "[encoded data removed]",
            "text/plain": [
              "<Figure size 432x288 with 1 Axes>"
            ]
          },
          "metadata": {
            "needs_background": "light"
          },
          "output_type": "display_data"
        }
      ],
      "source": [
        "im_inf = image.load_img('surpriseman.jpg',target_size=(48,48))\n",
        "plt.imshow(im_inf)"
      ]
    },
    {
      "cell_type": "code",
      "execution_count": 76,
      "metadata": {},
      "outputs": [
        {
          "name": "stdout",
          "output_type": "stream",
          "text": [
            "1/1 [==============================] - 0s 15ms/step\n",
            "Fear\n"
          ]
        }
      ],
      "source": [
        "x_inf = image.img_to_array(im_inf)\n",
        "x_inf = np.expand_dims(x_inf,axis=0)\n",
        "\n",
        "images = np.vstack([x_inf])\n",
        "result = model_inf.predict(images)\n",
        "\n",
        "if result[0][0] == 1:\n",
        "    print(\"Angry\")\n",
        "elif result[0][1] == 1:\n",
        "    print(\"Fear\")\n",
        "elif result[0][2] == 1:\n",
        "    print(\"Happy\")\n",
        "elif result[0][3] == 1:\n",
        "    print(\"Neutral\")\n",
        "elif result[0][4] == 1:\n",
        "    print(\"Sad\")\n",
        "elif result[0][5] == 1:\n",
        "    print(\"Surprise\")"
      ]
    },
    {
      "cell_type": "markdown",
      "metadata": {},
      "source": [
        "Hasilnya, juga terprediksi takut untuk orang yang sedang kaget"
      ]
    },
    {
      "cell_type": "markdown",
      "metadata": {},
      "source": [
        "# 11. Pengambilan Kesimpulan"
      ]
    },
    {
      "cell_type": "markdown",
      "metadata": {},
      "source": [
        "Pada bagian terakhir ini, harus berisi kesimpulan yang mencerminkan hasil yang didapat dengan objective yang sudah ditulis di bagian pengenalan."
      ]
    },
    {
      "cell_type": "markdown",
      "metadata": {},
      "source": [
        "Berdasarkan hasil pembuatan model :\n",
        "\n",
        "1. Model dibuat dengan dataset train dan test yang telah dipisah, dengan keseluruhan berukuran 48x48, kemudian dilakukan preprocessing, hingga training\n",
        "2. Training memanfaatkan base model (dengan uji coba pertama tanpa tahu hasilnya seperti apa) \n",
        "3. Hasil base model menunjukkan kecerendungan overfit. Lalu mencoba dengan memanfaatkan model improvement dengan menggunakan regularizers, padding same, dll\n",
        "4. Hasil model dengan model improvement menunjukkan grafik yang lebih baik (dari sisi overfitting, tentu tidak), meskipun loss masih berada di kisaran 1\n",
        "5. Model yang telah dibuat kemudian dilakukan pengukuran menggunakan classification report, dan menunjukkan hasil yang belum begitu maksimal. Pengukuran menggunakan metrics accuracy, karena penting kita dapat memprediksi dengan tepat apa yang telah diprediksi (mengurangi False Positive sebaik mungkin)\n",
        "6. Namun, saat model inference, hasilnya tidak begitu baik, karena yang terprediksi selalu Fear / Takut , padahal gambarnya tidak menunjukkan ke label tersebut"
      ]
    }
  ],
  "metadata": {
    "accelerator": "GPU",
    "colab": {
      "collapsed_sections": [],
      "name": "h8dsft_Milestone2P2_luis_fernando.ipynb",
      "provenance": []
    },
    "interpreter": {
      "hash": "09576cfb879c823e5ed6db670e9c97568a6f9becb134ea48c5461ae7a0e2aa5e"
    },
    "kernelspec": {
      "display_name": "Python 3.9.12 ('base')",
      "language": "python",
      "name": "python3"
    },
    "language_info": {
      "codemirror_mode": {
        "name": "ipython",
        "version": 3
      },
      "file_extension": ".py",
      "mimetype": "text/x-python",
      "name": "python",
      "nbconvert_exporter": "python",
      "pygments_lexer": "ipython3",
      "version": "3.9.12"
    }
  },
  "nbformat": 4,
  "nbformat_minor": 0
}
